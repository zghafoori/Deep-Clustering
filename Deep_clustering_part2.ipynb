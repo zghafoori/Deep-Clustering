{
  "nbformat": 4,
  "nbformat_minor": 0,
  "metadata": {
    "colab": {
      "name": "Deep clustering-part2",
      "provenance": [],
      "collapsed_sections": [],
      "include_colab_link": true
    },
    "kernelspec": {
      "name": "python3",
      "display_name": "Python 3"
    },
    "accelerator": "GPU"
  },
  "cells": [
    {
      "cell_type": "markdown",
      "metadata": {
        "id": "view-in-github",
        "colab_type": "text"
      },
      "source": [
        "<a href=\"https://colab.research.google.com/github/zghafoori/Deep-Clustering/blob/master/Deep_clustering_part2.ipynb\" target=\"_parent\"><img src=\"https://colab.research.google.com/assets/colab-badge.svg\" alt=\"Open In Colab\"/></a>"
      ]
    },
    {
      "cell_type": "markdown",
      "metadata": {
        "id": "cWQtqdqmla_6",
        "colab_type": "text"
      },
      "source": [
        "# Deep Clustering - Part 2: DEC with Simple Autoencoder\n",
        "\n",
        "\n",
        "Recap from part 1:\n",
        "Clustering refers to dividing data points into groups such that members of the same group are more similar to each other compared to those in other groups. Traditional methods of clustering typically use similarity measures to compare data points and assign them to clusters. Deep clustering refers to using deep neural networks to map a high dimentional data to a new lower-dimentinal *hidden space*. The aim is to improve the accuracy of clustering by increasing the inter-cluster dissimilarity as well as instra-cluster similarity in the hidden space. In addition, the neural network is used to generate abstract and useful features such that the effect of the curse of dimentionality on the similarity measure, which is used for clustering, is minimised. The final clustering is performed in the hidden space and the clustering loss in backpropagated through the network to tune the neural network weights and consequently the data representation in the hidden space.\n",
        "\n",
        "The quality of final clustering in deep clustering highly depends on the initialisation of the clusters in the hidden space. The typcal way of performing this step is to train an autoencoder and use the encoder part of it to initialise the data mapping to the hidden space. This is shown in Figure 1.\n",
        "\n",
        "<figure>\n",
        "<center>\n",
        "<img src='https://drive.google.com/uc?id=1xM4nBJd9ciyhbItW5V5b5BQVDRAe_U9a' width=\"600\"/>\n",
        "<figcaption>Figure 1. General steps in deep clustering. (Step 1) Training an autoencoder to initialise the data embedding in the hidden space. (Step 2) Fine tuning the network weights and the data embedding using a clustering based loss function. The aim is to increase the inter-cluster dissimilarity and intra-cluster similarities.</figcaption></center>\n",
        "</figure>\n",
        "\n",
        "In part 1 of this series, the quality of the clusters initialisation was investigated using simple and convolutional autoencoder. In this part, a choice of loss function for fine-tuning the data representation created by the autoencoder is explained. [DEC algorithm](https://arxiv.org/pdf/1511.06335.pdf) defines a soft cluster membership and an auxiliary target distribution on the cluster memberships, and optimises the encoder network by matching the former to the latter.\n",
        "\n",
        "Assuming $H = \\{h_i\\}_{i = 1..n}$ as the data representation in the feature space initialised by an encoder, the soft cluster membership is defined as:\n",
        "\n",
        "$q_{ij} = \\frac{(1 + \\|h_i-c_j\\|^2/\\alpha)^{-\\frac{\\alpha+1}{2}}}{\\sum_{j'}(1 + \\|h_i-c_{j'}\\|^2/\\alpha)^{-\\frac{\\alpha+1}{2}}},$\n",
        "\n",
        "where $c_j$ denotes the $j$th cluster center in $C=\\{c_1..c_k\\}$, and $k$ is the number of clusters.\n",
        "\n",
        "The auxiliary target distribution on the cluster memberships is defined as:\n",
        "$p_{ij} =\\frac{q_{ij}^2/f_j}{\\sum_{j'}q_{ij'}^2/f_j'},$\n",
        "\n",
        "where $f_j=\\sum_{i}q_{ij}$. Using these distributions, the clustering-based loss function that minimises the difference of the $P$ and $Q$ matrices can be defined using Kullback-liber divergence: \n",
        "\n",
        "$J = KL(P\\|Q) = \\sum_i\\sum_j p_{ij}\\log\\frac{p_{ij}}{q_{ij}}.$\n",
        "\n",
        "Let's use the DEC algorithms with a simple autoencoder to see how it improves the quality of the clusters initialised in the new feature space learnt by the autoencoder. The Google Colaboratory environment and the [DEC implementation](https://github.com/XifengGuo/DEC-keras/tree/6790d9e9a1aef629393cb7998b6087737fc78966) are used for this demo. We first clone the related files into the Google Colab environment and navigate to this directory.\n",
        "\n"
      ]
    },
    {
      "cell_type": "code",
      "metadata": {
        "id": "c3BEAKrmPyFr",
        "colab_type": "code",
        "outputId": "82d92008-d341-4927-b58a-ccce48f581f2",
        "colab": {
          "base_uri": "https://localhost:8080/",
          "height": 119
        }
      },
      "source": [
        "!git clone https://github.com/XifengGuo/DEC-keras.git"
      ],
      "execution_count": 11,
      "outputs": [
        {
          "output_type": "stream",
          "text": [
            "Cloning into 'DEC-keras'...\n",
            "remote: Enumerating objects: 3, done.\u001b[K\n",
            "remote: Counting objects:  33% (1/3)\u001b[K\rremote: Counting objects:  66% (2/3)\u001b[K\rremote: Counting objects: 100% (3/3)\u001b[K\rremote: Counting objects: 100% (3/3), done.\u001b[K\n",
            "remote: Compressing objects:  33% (1/3)\u001b[K\rremote: Compressing objects:  66% (2/3)\u001b[K\rremote: Compressing objects: 100% (3/3)\u001b[K\rremote: Compressing objects: 100% (3/3), done.\u001b[K\n",
            "Unpacking objects:   1% (1/57)   \rUnpacking objects:   3% (2/57)   \rUnpacking objects:   5% (3/57)   \rUnpacking objects:   7% (4/57)   \rUnpacking objects:   8% (5/57)   \rUnpacking objects:  10% (6/57)   \rUnpacking objects:  12% (7/57)   \rUnpacking objects:  14% (8/57)   \rUnpacking objects:  15% (9/57)   \rUnpacking objects:  17% (10/57)   \rUnpacking objects:  19% (11/57)   \rUnpacking objects:  21% (12/57)   \rUnpacking objects:  22% (13/57)   \rUnpacking objects:  24% (14/57)   \rUnpacking objects:  26% (15/57)   \rUnpacking objects:  28% (16/57)   \rUnpacking objects:  29% (17/57)   \rUnpacking objects:  31% (18/57)   \rUnpacking objects:  33% (19/57)   \rUnpacking objects:  35% (20/57)   \rUnpacking objects:  36% (21/57)   \rUnpacking objects:  38% (22/57)   \rUnpacking objects:  40% (23/57)   \rUnpacking objects:  42% (24/57)   \rUnpacking objects:  43% (25/57)   \rUnpacking objects:  45% (26/57)   \rUnpacking objects:  47% (27/57)   \rUnpacking objects:  49% (28/57)   \rUnpacking objects:  50% (29/57)   \rUnpacking objects:  52% (30/57)   \rUnpacking objects:  54% (31/57)   \rUnpacking objects:  56% (32/57)   \rUnpacking objects:  57% (33/57)   \rUnpacking objects:  59% (34/57)   \rUnpacking objects:  61% (35/57)   \rUnpacking objects:  63% (36/57)   \rUnpacking objects:  64% (37/57)   \rUnpacking objects:  66% (38/57)   \rUnpacking objects:  68% (39/57)   \rUnpacking objects:  70% (40/57)   \rUnpacking objects:  71% (41/57)   \rUnpacking objects:  73% (42/57)   \rUnpacking objects:  75% (43/57)   \rremote: Total 57 (delta 0), reused 1 (delta 0), pack-reused 54\u001b[K\n",
            "Unpacking objects:  77% (44/57)   \rUnpacking objects:  78% (45/57)   \rUnpacking objects:  80% (46/57)   \rUnpacking objects:  82% (47/57)   \rUnpacking objects:  84% (48/57)   \rUnpacking objects:  85% (49/57)   \rUnpacking objects:  87% (50/57)   \rUnpacking objects:  89% (51/57)   \rUnpacking objects:  91% (52/57)   \rUnpacking objects:  92% (53/57)   \rUnpacking objects:  94% (54/57)   \rUnpacking objects:  96% (55/57)   \rUnpacking objects:  98% (56/57)   \rUnpacking objects: 100% (57/57)   \rUnpacking objects: 100% (57/57), done.\n"
          ],
          "name": "stdout"
        }
      ]
    },
    {
      "cell_type": "code",
      "metadata": {
        "id": "P9UK9xnIRz3g",
        "colab_type": "code",
        "outputId": "b2c745f2-f777-4336-db82-6cc58a8bd76c",
        "colab": {
          "base_uri": "https://localhost:8080/",
          "height": 34
        }
      },
      "source": [
        "%cd DEC-keras/"
      ],
      "execution_count": 12,
      "outputs": [
        {
          "output_type": "stream",
          "text": [
            "/content/DEC-keras/DEC-keras\n"
          ],
          "name": "stdout"
        }
      ]
    },
    {
      "cell_type": "code",
      "metadata": {
        "id": "PGlSGqgicYs_",
        "colab_type": "code",
        "colab": {}
      },
      "source": [
        "# Importing the required libraries and packages\n",
        "import numpy as np\n",
        "import os\n",
        "import matplotlib.pyplot as plt\n",
        "from keras.initializers import VarianceScaling"
      ],
      "execution_count": 0,
      "outputs": []
    },
    {
      "cell_type": "markdown",
      "metadata": {
        "id": "0-SXWmw8Y4c3",
        "colab_type": "text"
      },
      "source": [
        "# Data Preprocessing\n",
        "\n",
        "The MNIST dataset is used for this demo. Similar to part 1 of these series, the data is scaled in the range $[0,1]$, then deskewd and normalise in the same range."
      ]
    },
    {
      "cell_type": "code",
      "metadata": {
        "colab_type": "code",
        "id": "ytw29kUmY84L",
        "colab": {}
      },
      "source": [
        "# The data preprocessing step for the image data using deskewing technique\n",
        "from scipy.ndimage import interpolation\n",
        "def moments(image):\n",
        "    c0,c1 = np.mgrid[:image.shape[0],:image.shape[1]] # A trick in numPy to create a mesh grid\n",
        "    totalImage = np.sum(image) #sum of pixels\n",
        "    m0 = np.sum(c0*image)/totalImage #mu_x\n",
        "    m1 = np.sum(c1*image)/totalImage #mu_y\n",
        "    m00 = np.sum((c0-m0)**2*image)/totalImage #var(x)\n",
        "    m11 = np.sum((c1-m1)**2*image)/totalImage #var(y)\n",
        "    m01 = np.sum((c0-m0)*(c1-m1)*image)/totalImage #covariance(x,y)\n",
        "    mu_vector = np.array([m0,m1]) # Notice that these are \\mu_x, \\mu_y respectively\n",
        "    covariance_matrix = np.array([[m00,m01],[m01,m11]]) # Do you see a similarity between the covariance matrix\n",
        "    return mu_vector, covariance_matrix\n",
        "\n",
        "def deskew(image):\n",
        "    c,v = moments(image)\n",
        "    alpha = v[0,1]/v[0,0]\n",
        "    affine = np.array([[1,0],[alpha,1]])\n",
        "    ocenter = np.array(image.shape)/2.0\n",
        "    offset = c-np.dot(affine,ocenter)\n",
        "    return interpolation.affine_transform(image,affine,offset=offset)"
      ],
      "execution_count": 0,
      "outputs": []
    },
    {
      "cell_type": "markdown",
      "metadata": {
        "id": "yDfPTlJZmY4Q",
        "colab_type": "text"
      },
      "source": [
        "Let's load and prepare the data for analysis. Here, the load_data utility from DEC is used to load the data. This utility scales data in the range $[0,1]$ by devision to 255. Thus, the data should be skewed and normalised."
      ]
    },
    {
      "cell_type": "code",
      "metadata": {
        "id": "Q755StgcmXc5",
        "colab_type": "code",
        "outputId": "86bb1cdb-7e39-484c-abcc-cef411fc27c5",
        "colab": {
          "base_uri": "https://localhost:8080/",
          "height": 34
        }
      },
      "source": [
        "from datasets import load_data\n",
        "dataset = 'mnist'\n",
        "# load dataset\n",
        "x, y = load_data(dataset)"
      ],
      "execution_count": 15,
      "outputs": [
        {
          "output_type": "stream",
          "text": [
            "MNIST samples (70000, 784)\n"
          ],
          "name": "stdout"
        }
      ]
    },
    {
      "cell_type": "code",
      "metadata": {
        "colab_type": "code",
        "id": "XDY7MwJvY84Y",
        "colab": {}
      },
      "source": [
        "# Deskewing MNIST data\n",
        "for i in range(len(x)):\n",
        "  x[i] = deskew(x[i].reshape(28,28)).reshape((1,-1))\n",
        "\n",
        "# Normalising the data in the range [0,1] using the MinMax scaler method:\n",
        "# per feature vector v: v = (v-min(v))/(max(v)-min(v))\n",
        "from sklearn.preprocessing import MinMaxScaler\n",
        "scaler = MinMaxScaler()\n",
        "scaler.fit(x)\n",
        "x = scaler.transform(x)"
      ],
      "execution_count": 0,
      "outputs": []
    },
    {
      "cell_type": "markdown",
      "metadata": {
        "id": "c7-AaQp7ZlAd",
        "colab_type": "text"
      },
      "source": [
        "# DEC with Simple Autoencoder"
      ]
    },
    {
      "cell_type": "markdown",
      "metadata": {
        "id": "qzld3lpnotDT",
        "colab_type": "text"
      },
      "source": [
        "For the autoencoder, the same setting as part 1 is used. Adam optimiser is used to minimise the autoencoder loss in $200$ epochs. If a pre-trained autoencoder is used, it can be reloaded by providing its storage location using the variable ae_weights."
      ]
    },
    {
      "cell_type": "code",
      "metadata": {
        "id": "FzL6Mt23cbQd",
        "colab_type": "code",
        "colab": {}
      },
      "source": [
        "# Setting parameters\n",
        "n_clusters = len(np.unique(y))\n",
        "batch_size = 256\n",
        "maxiter = 2e4\n",
        "tol = 0.001\n",
        "# Change the following to the file name if using a pre-trained model \n",
        "ae_weights = None # Set if exists, e.g., \"results/ae_weights.h5\"\n",
        "save_dir = 'results'\n",
        "update_interval = 140 # Interval to print the DEC loss\n",
        "pretrain_epochs = 200\n",
        "init = VarianceScaling(scale=1. / 3., mode='fan_in',\n",
        "                       distribution='uniform') #kernel-initialiser\n",
        "pretrain_optimizer = 'adam' # Optimiser for pretraining"
      ],
      "execution_count": 0,
      "outputs": []
    },
    {
      "cell_type": "code",
      "metadata": {
        "id": "fvuMO2tubCbd",
        "colab_type": "code",
        "colab": {}
      },
      "source": [
        "if not os.path.exists(save_dir):\n",
        "    os.makedirs(save_dir)"
      ],
      "execution_count": 0,
      "outputs": []
    },
    {
      "cell_type": "markdown",
      "metadata": {
        "id": "QKq0JK2wr5b8",
        "colab_type": "text"
      },
      "source": [
        "The clusters are initialised by means of an encoder, which is trained in an unsupervised manner using an autoencoder. The structure of the encoder is defined based on the related literature. "
      ]
    },
    {
      "cell_type": "code",
      "metadata": {
        "id": "jH2oWCvydgsn",
        "colab_type": "code",
        "outputId": "e4d4fd2d-82c9-4372-c29f-7cb406af0225",
        "colab": {
          "base_uri": "https://localhost:8080/",
          "height": 1000
        }
      },
      "source": [
        "# prepare the DEC model\n",
        "from DEC import *\n",
        "dec = DEC(dims=[x.shape[-1], 500, 500, 2000, 10], n_clusters=n_clusters, init=init)\n",
        "\n",
        "if ae_weights is None:\n",
        "    dec.pretrain(x=x, y=y, optimizer=pretrain_optimizer,\n",
        "                  epochs=pretrain_epochs, batch_size=batch_size,\n",
        "                  save_dir=save_dir)\n",
        "else:\n",
        "    dec.autoencoder.load_weights(ae_weights)\n",
        "\n",
        "dec.model.summary()"
      ],
      "execution_count": 19,
      "outputs": [
        {
          "output_type": "stream",
          "text": [
            "...Pretraining...\n",
            "Epoch 1/200\n",
            "70000/70000 [==============================] - 3s 39us/step - loss: 0.0330\n",
            "        |==>  acc: 0.3913,  nmi: 0.3496  <==|\n",
            "Epoch 2/200\n",
            " 4352/70000 [>.............................] - ETA: 2s - loss: 0.0225"
          ],
          "name": "stdout"
        },
        {
          "output_type": "stream",
          "text": [
            "/usr/local/lib/python3.6/dist-packages/sklearn/utils/linear_assignment_.py:128: FutureWarning: The linear_assignment function is deprecated in 0.21 and will be removed from 0.23. Use scipy.optimize.linear_sum_assignment instead.\n",
            "  FutureWarning)\n"
          ],
          "name": "stderr"
        },
        {
          "output_type": "stream",
          "text": [
            "70000/70000 [==============================] - 2s 32us/step - loss: 0.0192\n",
            "Epoch 3/200\n",
            "70000/70000 [==============================] - 2s 31us/step - loss: 0.0130\n",
            "Epoch 4/200\n",
            "70000/70000 [==============================] - 2s 32us/step - loss: 0.0102\n",
            "Epoch 5/200\n",
            "70000/70000 [==============================] - 2s 32us/step - loss: 0.0088\n",
            "Epoch 6/200\n",
            "70000/70000 [==============================] - 2s 34us/step - loss: 0.0080\n",
            "Epoch 7/200\n",
            "70000/70000 [==============================] - 2s 36us/step - loss: 0.0075\n",
            "Epoch 8/200\n",
            "70000/70000 [==============================] - 2s 32us/step - loss: 0.0071\n",
            "Epoch 9/200\n",
            "70000/70000 [==============================] - 2s 31us/step - loss: 0.0067\n",
            "Epoch 10/200\n",
            "70000/70000 [==============================] - 2s 32us/step - loss: 0.0065\n",
            "Epoch 11/200\n",
            "70000/70000 [==============================] - 2s 33us/step - loss: 0.0063\n",
            "Epoch 12/200\n",
            "70000/70000 [==============================] - 2s 32us/step - loss: 0.0061\n",
            "Epoch 13/200\n",
            "70000/70000 [==============================] - 2s 31us/step - loss: 0.0059\n",
            "Epoch 14/200\n",
            "70000/70000 [==============================] - 2s 31us/step - loss: 0.0058\n",
            "Epoch 15/200\n",
            "70000/70000 [==============================] - 2s 32us/step - loss: 0.0057\n",
            "Epoch 16/200\n",
            "70000/70000 [==============================] - 2s 32us/step - loss: 0.0055\n",
            "Epoch 17/200\n",
            "70000/70000 [==============================] - 2s 32us/step - loss: 0.0055\n",
            "Epoch 18/200\n",
            "70000/70000 [==============================] - 2s 31us/step - loss: 0.0054\n",
            "Epoch 19/200\n",
            "70000/70000 [==============================] - 2s 31us/step - loss: 0.0053\n",
            "Epoch 20/200\n",
            "70000/70000 [==============================] - 2s 32us/step - loss: 0.0052\n",
            "Epoch 21/200\n",
            "70000/70000 [==============================] - 2s 31us/step - loss: 0.0051\n",
            "        |==>  acc: 0.8765,  nmi: 0.7719  <==|\n",
            "Epoch 22/200\n",
            " 4096/70000 [>.............................] - ETA: 2s - loss: 0.0052"
          ],
          "name": "stdout"
        },
        {
          "output_type": "stream",
          "text": [
            "/usr/local/lib/python3.6/dist-packages/sklearn/utils/linear_assignment_.py:128: FutureWarning: The linear_assignment function is deprecated in 0.21 and will be removed from 0.23. Use scipy.optimize.linear_sum_assignment instead.\n",
            "  FutureWarning)\n"
          ],
          "name": "stderr"
        },
        {
          "output_type": "stream",
          "text": [
            "70000/70000 [==============================] - 2s 32us/step - loss: 0.0050\n",
            "Epoch 23/200\n",
            "70000/70000 [==============================] - 2s 31us/step - loss: 0.0050\n",
            "Epoch 24/200\n",
            "70000/70000 [==============================] - 2s 31us/step - loss: 0.0049\n",
            "Epoch 25/200\n",
            "70000/70000 [==============================] - 2s 31us/step - loss: 0.0049\n",
            "Epoch 26/200\n",
            "70000/70000 [==============================] - 2s 31us/step - loss: 0.0048\n",
            "Epoch 27/200\n",
            "70000/70000 [==============================] - 2s 31us/step - loss: 0.0048\n",
            "Epoch 28/200\n",
            "70000/70000 [==============================] - 2s 31us/step - loss: 0.0047\n",
            "Epoch 29/200\n",
            "70000/70000 [==============================] - 2s 31us/step - loss: 0.0047\n",
            "Epoch 30/200\n",
            "70000/70000 [==============================] - 2s 31us/step - loss: 0.0046\n",
            "Epoch 31/200\n",
            "70000/70000 [==============================] - 2s 33us/step - loss: 0.0046\n",
            "Epoch 32/200\n",
            "70000/70000 [==============================] - 2s 33us/step - loss: 0.0045\n",
            "Epoch 33/200\n",
            "70000/70000 [==============================] - 2s 33us/step - loss: 0.0045\n",
            "Epoch 34/200\n",
            "70000/70000 [==============================] - 2s 32us/step - loss: 0.0045\n",
            "Epoch 35/200\n",
            "70000/70000 [==============================] - 2s 33us/step - loss: 0.0044\n",
            "Epoch 36/200\n",
            "70000/70000 [==============================] - 2s 32us/step - loss: 0.0044\n",
            "Epoch 37/200\n",
            "70000/70000 [==============================] - 2s 32us/step - loss: 0.0044\n",
            "Epoch 38/200\n",
            "70000/70000 [==============================] - 2s 32us/step - loss: 0.0043\n",
            "Epoch 39/200\n",
            "70000/70000 [==============================] - 2s 32us/step - loss: 0.0043\n",
            "Epoch 40/200\n",
            "70000/70000 [==============================] - 2s 32us/step - loss: 0.0043\n",
            "Epoch 41/200\n",
            "70000/70000 [==============================] - 2s 33us/step - loss: 0.0043\n",
            "        |==>  acc: 0.8926,  nmi: 0.7965  <==|\n",
            "Epoch 42/200\n",
            " 4096/70000 [>.............................] - ETA: 2s - loss: 0.0042"
          ],
          "name": "stdout"
        },
        {
          "output_type": "stream",
          "text": [
            "/usr/local/lib/python3.6/dist-packages/sklearn/utils/linear_assignment_.py:128: FutureWarning: The linear_assignment function is deprecated in 0.21 and will be removed from 0.23. Use scipy.optimize.linear_sum_assignment instead.\n",
            "  FutureWarning)\n"
          ],
          "name": "stderr"
        },
        {
          "output_type": "stream",
          "text": [
            "70000/70000 [==============================] - 2s 33us/step - loss: 0.0042\n",
            "Epoch 43/200\n",
            "70000/70000 [==============================] - 2s 32us/step - loss: 0.0042\n",
            "Epoch 44/200\n",
            "70000/70000 [==============================] - 2s 32us/step - loss: 0.0042\n",
            "Epoch 45/200\n",
            "70000/70000 [==============================] - 2s 32us/step - loss: 0.0042\n",
            "Epoch 46/200\n",
            "70000/70000 [==============================] - 2s 32us/step - loss: 0.0041\n",
            "Epoch 47/200\n",
            "70000/70000 [==============================] - 2s 33us/step - loss: 0.0041\n",
            "Epoch 48/200\n",
            "70000/70000 [==============================] - 2s 33us/step - loss: 0.0041\n",
            "Epoch 49/200\n",
            "70000/70000 [==============================] - 2s 32us/step - loss: 0.0041\n",
            "Epoch 50/200\n",
            "70000/70000 [==============================] - 2s 32us/step - loss: 0.0041\n",
            "Epoch 51/200\n",
            "70000/70000 [==============================] - 2s 32us/step - loss: 0.0041\n",
            "Epoch 52/200\n",
            "70000/70000 [==============================] - 2s 32us/step - loss: 0.0040\n",
            "Epoch 53/200\n",
            "70000/70000 [==============================] - 2s 32us/step - loss: 0.0040\n",
            "Epoch 54/200\n",
            "70000/70000 [==============================] - 2s 32us/step - loss: 0.0040\n",
            "Epoch 55/200\n",
            "70000/70000 [==============================] - 2s 32us/step - loss: 0.0040\n",
            "Epoch 56/200\n",
            "70000/70000 [==============================] - 2s 32us/step - loss: 0.0040\n",
            "Epoch 57/200\n",
            "70000/70000 [==============================] - 2s 32us/step - loss: 0.0039\n",
            "Epoch 58/200\n",
            "70000/70000 [==============================] - 2s 32us/step - loss: 0.0039\n",
            "Epoch 59/200\n",
            "70000/70000 [==============================] - 2s 32us/step - loss: 0.0039\n",
            "Epoch 60/200\n",
            "70000/70000 [==============================] - 2s 32us/step - loss: 0.0039\n",
            "Epoch 61/200\n",
            "70000/70000 [==============================] - 2s 32us/step - loss: 0.0039\n",
            "        |==>  acc: 0.9022,  nmi: 0.8085  <==|\n",
            "Epoch 62/200\n",
            " 4096/70000 [>.............................] - ETA: 2s - loss: 0.0039"
          ],
          "name": "stdout"
        },
        {
          "output_type": "stream",
          "text": [
            "/usr/local/lib/python3.6/dist-packages/sklearn/utils/linear_assignment_.py:128: FutureWarning: The linear_assignment function is deprecated in 0.21 and will be removed from 0.23. Use scipy.optimize.linear_sum_assignment instead.\n",
            "  FutureWarning)\n"
          ],
          "name": "stderr"
        },
        {
          "output_type": "stream",
          "text": [
            "70000/70000 [==============================] - 2s 33us/step - loss: 0.0039\n",
            "Epoch 63/200\n",
            "70000/70000 [==============================] - 2s 32us/step - loss: 0.0039\n",
            "Epoch 64/200\n",
            "70000/70000 [==============================] - 2s 32us/step - loss: 0.0039\n",
            "Epoch 65/200\n",
            "70000/70000 [==============================] - 2s 33us/step - loss: 0.0038\n",
            "Epoch 66/200\n",
            "70000/70000 [==============================] - 2s 32us/step - loss: 0.0038\n",
            "Epoch 67/200\n",
            "70000/70000 [==============================] - 2s 32us/step - loss: 0.0038\n",
            "Epoch 68/200\n",
            "70000/70000 [==============================] - 2s 32us/step - loss: 0.0038\n",
            "Epoch 69/200\n",
            "70000/70000 [==============================] - 2s 32us/step - loss: 0.0038\n",
            "Epoch 70/200\n",
            "70000/70000 [==============================] - 2s 32us/step - loss: 0.0038\n",
            "Epoch 71/200\n",
            "70000/70000 [==============================] - 2s 31us/step - loss: 0.0038\n",
            "Epoch 72/200\n",
            "70000/70000 [==============================] - 2s 31us/step - loss: 0.0038\n",
            "Epoch 73/200\n",
            "70000/70000 [==============================] - 2s 31us/step - loss: 0.0038\n",
            "Epoch 74/200\n",
            "70000/70000 [==============================] - 2s 32us/step - loss: 0.0038\n",
            "Epoch 75/200\n",
            "70000/70000 [==============================] - 2s 31us/step - loss: 0.0037\n",
            "Epoch 76/200\n",
            "70000/70000 [==============================] - 2s 32us/step - loss: 0.0037\n",
            "Epoch 77/200\n",
            "70000/70000 [==============================] - 2s 31us/step - loss: 0.0037\n",
            "Epoch 78/200\n",
            "70000/70000 [==============================] - 2s 31us/step - loss: 0.0037\n",
            "Epoch 79/200\n",
            "70000/70000 [==============================] - 2s 32us/step - loss: 0.0037\n",
            "Epoch 80/200\n",
            "70000/70000 [==============================] - 2s 31us/step - loss: 0.0037\n",
            "Epoch 81/200\n",
            "70000/70000 [==============================] - 2s 31us/step - loss: 0.0037\n",
            "        |==>  acc: 0.9064,  nmi: 0.8150  <==|\n",
            "Epoch 82/200\n",
            " 4096/70000 [>.............................] - ETA: 2s - loss: 0.0037"
          ],
          "name": "stdout"
        },
        {
          "output_type": "stream",
          "text": [
            "/usr/local/lib/python3.6/dist-packages/sklearn/utils/linear_assignment_.py:128: FutureWarning: The linear_assignment function is deprecated in 0.21 and will be removed from 0.23. Use scipy.optimize.linear_sum_assignment instead.\n",
            "  FutureWarning)\n"
          ],
          "name": "stderr"
        },
        {
          "output_type": "stream",
          "text": [
            "70000/70000 [==============================] - 2s 33us/step - loss: 0.0037\n",
            "Epoch 83/200\n",
            "70000/70000 [==============================] - 2s 31us/step - loss: 0.0037\n",
            "Epoch 84/200\n",
            "70000/70000 [==============================] - 2s 32us/step - loss: 0.0037\n",
            "Epoch 85/200\n",
            "70000/70000 [==============================] - 2s 32us/step - loss: 0.0037\n",
            "Epoch 86/200\n",
            "70000/70000 [==============================] - 2s 31us/step - loss: 0.0037\n",
            "Epoch 87/200\n",
            "70000/70000 [==============================] - 2s 31us/step - loss: 0.0036\n",
            "Epoch 88/200\n",
            "70000/70000 [==============================] - 2s 32us/step - loss: 0.0036\n",
            "Epoch 89/200\n",
            "70000/70000 [==============================] - 2s 32us/step - loss: 0.0036\n",
            "Epoch 90/200\n",
            "70000/70000 [==============================] - 2s 32us/step - loss: 0.0036\n",
            "Epoch 91/200\n",
            "70000/70000 [==============================] - 2s 31us/step - loss: 0.0036\n",
            "Epoch 92/200\n",
            "70000/70000 [==============================] - 2s 31us/step - loss: 0.0036\n",
            "Epoch 93/200\n",
            "70000/70000 [==============================] - 2s 31us/step - loss: 0.0036\n",
            "Epoch 94/200\n",
            "70000/70000 [==============================] - 2s 31us/step - loss: 0.0036\n",
            "Epoch 95/200\n",
            "70000/70000 [==============================] - 2s 31us/step - loss: 0.0036\n",
            "Epoch 96/200\n",
            "70000/70000 [==============================] - 2s 31us/step - loss: 0.0036\n",
            "Epoch 97/200\n",
            "70000/70000 [==============================] - 2s 31us/step - loss: 0.0036\n",
            "Epoch 98/200\n",
            "70000/70000 [==============================] - 2s 31us/step - loss: 0.0036\n",
            "Epoch 99/200\n",
            "70000/70000 [==============================] - 2s 32us/step - loss: 0.0036\n",
            "Epoch 100/200\n",
            "70000/70000 [==============================] - 2s 31us/step - loss: 0.0036\n",
            "Epoch 101/200\n",
            "70000/70000 [==============================] - 2s 31us/step - loss: 0.0035\n",
            "        |==>  acc: 0.9125,  nmi: 0.8228  <==|\n",
            "Epoch 102/200\n",
            " 4352/70000 [>.............................] - ETA: 2s - loss: 0.0035"
          ],
          "name": "stdout"
        },
        {
          "output_type": "stream",
          "text": [
            "/usr/local/lib/python3.6/dist-packages/sklearn/utils/linear_assignment_.py:128: FutureWarning: The linear_assignment function is deprecated in 0.21 and will be removed from 0.23. Use scipy.optimize.linear_sum_assignment instead.\n",
            "  FutureWarning)\n"
          ],
          "name": "stderr"
        },
        {
          "output_type": "stream",
          "text": [
            "70000/70000 [==============================] - 2s 32us/step - loss: 0.0035\n",
            "Epoch 103/200\n",
            "70000/70000 [==============================] - 2s 31us/step - loss: 0.0035\n",
            "Epoch 104/200\n",
            "70000/70000 [==============================] - 2s 32us/step - loss: 0.0035\n",
            "Epoch 105/200\n",
            "70000/70000 [==============================] - 2s 32us/step - loss: 0.0035\n",
            "Epoch 106/200\n",
            "70000/70000 [==============================] - 2s 31us/step - loss: 0.0035\n",
            "Epoch 107/200\n",
            "70000/70000 [==============================] - 2s 31us/step - loss: 0.0035\n",
            "Epoch 108/200\n",
            "70000/70000 [==============================] - 2s 31us/step - loss: 0.0035\n",
            "Epoch 109/200\n",
            "70000/70000 [==============================] - 2s 32us/step - loss: 0.0035\n",
            "Epoch 110/200\n",
            "70000/70000 [==============================] - 2s 31us/step - loss: 0.0035\n",
            "Epoch 111/200\n",
            "70000/70000 [==============================] - 2s 31us/step - loss: 0.0035\n",
            "Epoch 112/200\n",
            "70000/70000 [==============================] - 2s 31us/step - loss: 0.0035\n",
            "Epoch 113/200\n",
            "70000/70000 [==============================] - 2s 31us/step - loss: 0.0035\n",
            "Epoch 114/200\n",
            "70000/70000 [==============================] - 2s 31us/step - loss: 0.0035\n",
            "Epoch 115/200\n",
            "70000/70000 [==============================] - 2s 30us/step - loss: 0.0035\n",
            "Epoch 116/200\n",
            "70000/70000 [==============================] - 2s 31us/step - loss: 0.0035\n",
            "Epoch 117/200\n",
            "70000/70000 [==============================] - 2s 31us/step - loss: 0.0035\n",
            "Epoch 118/200\n",
            "70000/70000 [==============================] - 2s 31us/step - loss: 0.0035\n",
            "Epoch 119/200\n",
            "70000/70000 [==============================] - 2s 31us/step - loss: 0.0035\n",
            "Epoch 120/200\n",
            "70000/70000 [==============================] - 2s 31us/step - loss: 0.0035\n",
            "Epoch 121/200\n",
            "70000/70000 [==============================] - 2s 31us/step - loss: 0.0034\n",
            "        |==>  acc: 0.9104,  nmi: 0.8196  <==|\n",
            "Epoch 122/200\n",
            " 4096/70000 [>.............................] - ETA: 2s - loss: 0.0034"
          ],
          "name": "stdout"
        },
        {
          "output_type": "stream",
          "text": [
            "/usr/local/lib/python3.6/dist-packages/sklearn/utils/linear_assignment_.py:128: FutureWarning: The linear_assignment function is deprecated in 0.21 and will be removed from 0.23. Use scipy.optimize.linear_sum_assignment instead.\n",
            "  FutureWarning)\n"
          ],
          "name": "stderr"
        },
        {
          "output_type": "stream",
          "text": [
            "70000/70000 [==============================] - 2s 32us/step - loss: 0.0034\n",
            "Epoch 123/200\n",
            "70000/70000 [==============================] - 2s 31us/step - loss: 0.0035\n",
            "Epoch 124/200\n",
            "70000/70000 [==============================] - 2s 31us/step - loss: 0.0034\n",
            "Epoch 125/200\n",
            "70000/70000 [==============================] - 2s 31us/step - loss: 0.0034\n",
            "Epoch 126/200\n",
            "70000/70000 [==============================] - 2s 31us/step - loss: 0.0034\n",
            "Epoch 127/200\n",
            "70000/70000 [==============================] - 2s 31us/step - loss: 0.0034\n",
            "Epoch 128/200\n",
            "70000/70000 [==============================] - 2s 31us/step - loss: 0.0034\n",
            "Epoch 129/200\n",
            "70000/70000 [==============================] - 2s 31us/step - loss: 0.0034\n",
            "Epoch 130/200\n",
            "70000/70000 [==============================] - 2s 31us/step - loss: 0.0034\n",
            "Epoch 131/200\n",
            "70000/70000 [==============================] - 2s 32us/step - loss: 0.0034\n",
            "Epoch 132/200\n",
            "70000/70000 [==============================] - 2s 32us/step - loss: 0.0034\n",
            "Epoch 133/200\n",
            "70000/70000 [==============================] - 2s 33us/step - loss: 0.0034\n",
            "Epoch 134/200\n",
            "70000/70000 [==============================] - 2s 33us/step - loss: 0.0034\n",
            "Epoch 135/200\n",
            "70000/70000 [==============================] - 2s 33us/step - loss: 0.0034\n",
            "Epoch 136/200\n",
            "70000/70000 [==============================] - 2s 31us/step - loss: 0.0034\n",
            "Epoch 137/200\n",
            "70000/70000 [==============================] - 2s 31us/step - loss: 0.0034\n",
            "Epoch 138/200\n",
            "70000/70000 [==============================] - 2s 31us/step - loss: 0.0034\n",
            "Epoch 139/200\n",
            "70000/70000 [==============================] - 2s 31us/step - loss: 0.0034\n",
            "Epoch 140/200\n",
            "70000/70000 [==============================] - 2s 31us/step - loss: 0.0034\n",
            "Epoch 141/200\n",
            "70000/70000 [==============================] - 2s 31us/step - loss: 0.0034\n",
            "        |==>  acc: 0.9124,  nmi: 0.8234  <==|\n",
            "Epoch 142/200\n",
            " 4096/70000 [>.............................] - ETA: 2s - loss: 0.0033"
          ],
          "name": "stdout"
        },
        {
          "output_type": "stream",
          "text": [
            "/usr/local/lib/python3.6/dist-packages/sklearn/utils/linear_assignment_.py:128: FutureWarning: The linear_assignment function is deprecated in 0.21 and will be removed from 0.23. Use scipy.optimize.linear_sum_assignment instead.\n",
            "  FutureWarning)\n"
          ],
          "name": "stderr"
        },
        {
          "output_type": "stream",
          "text": [
            "70000/70000 [==============================] - 2s 32us/step - loss: 0.0034\n",
            "Epoch 143/200\n",
            "70000/70000 [==============================] - 2s 31us/step - loss: 0.0034\n",
            "Epoch 144/200\n",
            "70000/70000 [==============================] - 2s 31us/step - loss: 0.0034\n",
            "Epoch 145/200\n",
            "70000/70000 [==============================] - 2s 31us/step - loss: 0.0034\n",
            "Epoch 146/200\n",
            "70000/70000 [==============================] - 2s 32us/step - loss: 0.0033\n",
            "Epoch 147/200\n",
            "70000/70000 [==============================] - 2s 31us/step - loss: 0.0033\n",
            "Epoch 148/200\n",
            "70000/70000 [==============================] - 2s 31us/step - loss: 0.0033\n",
            "Epoch 149/200\n",
            "70000/70000 [==============================] - 2s 31us/step - loss: 0.0033\n",
            "Epoch 150/200\n",
            "70000/70000 [==============================] - 2s 31us/step - loss: 0.0033\n",
            "Epoch 151/200\n",
            "70000/70000 [==============================] - 2s 30us/step - loss: 0.0033\n",
            "Epoch 152/200\n",
            "70000/70000 [==============================] - 2s 30us/step - loss: 0.0033\n",
            "Epoch 153/200\n",
            "70000/70000 [==============================] - 2s 30us/step - loss: 0.0033\n",
            "Epoch 154/200\n",
            "70000/70000 [==============================] - 2s 31us/step - loss: 0.0033\n",
            "Epoch 155/200\n",
            "70000/70000 [==============================] - 2s 31us/step - loss: 0.0033\n",
            "Epoch 156/200\n",
            "70000/70000 [==============================] - 2s 31us/step - loss: 0.0033\n",
            "Epoch 157/200\n",
            "70000/70000 [==============================] - 2s 31us/step - loss: 0.0033\n",
            "Epoch 158/200\n",
            "70000/70000 [==============================] - 2s 31us/step - loss: 0.0033\n",
            "Epoch 159/200\n",
            "70000/70000 [==============================] - 2s 30us/step - loss: 0.0033\n",
            "Epoch 160/200\n",
            "70000/70000 [==============================] - 2s 31us/step - loss: 0.0033\n",
            "Epoch 161/200\n",
            "70000/70000 [==============================] - 2s 32us/step - loss: 0.0033\n",
            "        |==>  acc: 0.9134,  nmi: 0.8240  <==|\n",
            "Epoch 162/200\n",
            " 4096/70000 [>.............................] - ETA: 2s - loss: 0.0032"
          ],
          "name": "stdout"
        },
        {
          "output_type": "stream",
          "text": [
            "/usr/local/lib/python3.6/dist-packages/sklearn/utils/linear_assignment_.py:128: FutureWarning: The linear_assignment function is deprecated in 0.21 and will be removed from 0.23. Use scipy.optimize.linear_sum_assignment instead.\n",
            "  FutureWarning)\n"
          ],
          "name": "stderr"
        },
        {
          "output_type": "stream",
          "text": [
            "70000/70000 [==============================] - 2s 32us/step - loss: 0.0033\n",
            "Epoch 163/200\n",
            "70000/70000 [==============================] - 2s 31us/step - loss: 0.0033\n",
            "Epoch 164/200\n",
            "70000/70000 [==============================] - 2s 31us/step - loss: 0.0033\n",
            "Epoch 165/200\n",
            "70000/70000 [==============================] - 2s 31us/step - loss: 0.0033\n",
            "Epoch 166/200\n",
            "70000/70000 [==============================] - 2s 31us/step - loss: 0.0033\n",
            "Epoch 167/200\n",
            "70000/70000 [==============================] - 2s 31us/step - loss: 0.0033\n",
            "Epoch 168/200\n",
            "70000/70000 [==============================] - 2s 31us/step - loss: 0.0033\n",
            "Epoch 169/200\n",
            "70000/70000 [==============================] - 2s 31us/step - loss: 0.0033\n",
            "Epoch 170/200\n",
            "70000/70000 [==============================] - 2s 31us/step - loss: 0.0033\n",
            "Epoch 171/200\n",
            "70000/70000 [==============================] - 2s 31us/step - loss: 0.0033\n",
            "Epoch 172/200\n",
            "70000/70000 [==============================] - 2s 31us/step - loss: 0.0033\n",
            "Epoch 173/200\n",
            "70000/70000 [==============================] - 2s 31us/step - loss: 0.0033\n",
            "Epoch 174/200\n",
            "70000/70000 [==============================] - 2s 31us/step - loss: 0.0033\n",
            "Epoch 175/200\n",
            "70000/70000 [==============================] - 2s 32us/step - loss: 0.0033\n",
            "Epoch 176/200\n",
            "70000/70000 [==============================] - 2s 31us/step - loss: 0.0033\n",
            "Epoch 177/200\n",
            "70000/70000 [==============================] - 2s 31us/step - loss: 0.0033\n",
            "Epoch 178/200\n",
            "70000/70000 [==============================] - 2s 31us/step - loss: 0.0033\n",
            "Epoch 179/200\n",
            "70000/70000 [==============================] - 2s 31us/step - loss: 0.0033\n",
            "Epoch 180/200\n",
            "70000/70000 [==============================] - 2s 31us/step - loss: 0.0033\n",
            "Epoch 181/200\n",
            "70000/70000 [==============================] - 2s 31us/step - loss: 0.0033\n",
            "        |==>  acc: 0.9122,  nmi: 0.8216  <==|\n",
            "Epoch 182/200\n",
            " 4096/70000 [>.............................] - ETA: 2s - loss: 0.0032"
          ],
          "name": "stdout"
        },
        {
          "output_type": "stream",
          "text": [
            "/usr/local/lib/python3.6/dist-packages/sklearn/utils/linear_assignment_.py:128: FutureWarning: The linear_assignment function is deprecated in 0.21 and will be removed from 0.23. Use scipy.optimize.linear_sum_assignment instead.\n",
            "  FutureWarning)\n"
          ],
          "name": "stderr"
        },
        {
          "output_type": "stream",
          "text": [
            "70000/70000 [==============================] - 2s 33us/step - loss: 0.0033\n",
            "Epoch 183/200\n",
            "70000/70000 [==============================] - 2s 32us/step - loss: 0.0033\n",
            "Epoch 184/200\n",
            "70000/70000 [==============================] - 2s 31us/step - loss: 0.0033\n",
            "Epoch 185/200\n",
            "70000/70000 [==============================] - 2s 31us/step - loss: 0.0032\n",
            "Epoch 186/200\n",
            "70000/70000 [==============================] - 2s 31us/step - loss: 0.0032\n",
            "Epoch 187/200\n",
            "70000/70000 [==============================] - 2s 31us/step - loss: 0.0032\n",
            "Epoch 188/200\n",
            "70000/70000 [==============================] - 2s 31us/step - loss: 0.0033\n",
            "Epoch 189/200\n",
            "70000/70000 [==============================] - 2s 31us/step - loss: 0.0032\n",
            "Epoch 190/200\n",
            "70000/70000 [==============================] - 2s 31us/step - loss: 0.0032\n",
            "Epoch 191/200\n",
            "70000/70000 [==============================] - 2s 31us/step - loss: 0.0032\n",
            "Epoch 192/200\n",
            "70000/70000 [==============================] - 2s 30us/step - loss: 0.0032\n",
            "Epoch 193/200\n",
            "70000/70000 [==============================] - 2s 31us/step - loss: 0.0032\n",
            "Epoch 194/200\n",
            "70000/70000 [==============================] - 2s 31us/step - loss: 0.0032\n",
            "Epoch 195/200\n",
            "70000/70000 [==============================] - 2s 31us/step - loss: 0.0032\n",
            "Epoch 196/200\n",
            "70000/70000 [==============================] - 2s 31us/step - loss: 0.0032\n",
            "Epoch 197/200\n",
            "70000/70000 [==============================] - 2s 31us/step - loss: 0.0032\n",
            "Epoch 198/200\n",
            "70000/70000 [==============================] - 2s 31us/step - loss: 0.0032\n",
            "Epoch 199/200\n",
            "70000/70000 [==============================] - 2s 31us/step - loss: 0.0032\n",
            "Epoch 200/200\n",
            "70000/70000 [==============================] - 2s 31us/step - loss: 0.0032\n",
            "Pretraining time: 507s\n",
            "Pretrained weights are saved to results/ae_weights.h5\n",
            "Model: \"model_12\"\n",
            "_________________________________________________________________\n",
            "Layer (type)                 Output Shape              Param #   \n",
            "=================================================================\n",
            "input (InputLayer)           (None, 784)               0         \n",
            "_________________________________________________________________\n",
            "encoder_0 (Dense)            (None, 500)               392500    \n",
            "_________________________________________________________________\n",
            "encoder_1 (Dense)            (None, 500)               250500    \n",
            "_________________________________________________________________\n",
            "encoder_2 (Dense)            (None, 2000)              1002000   \n",
            "_________________________________________________________________\n",
            "encoder_3 (Dense)            (None, 10)                20010     \n",
            "_________________________________________________________________\n",
            "clustering (ClusteringLayer) (None, 10)                100       \n",
            "=================================================================\n",
            "Total params: 1,665,110\n",
            "Trainable params: 1,665,110\n",
            "Non-trainable params: 0\n",
            "_________________________________________________________________\n"
          ],
          "name": "stdout"
        }
      ]
    },
    {
      "cell_type": "markdown",
      "metadata": {
        "id": "l6hd2OcmshuU",
        "colab_type": "text"
      },
      "source": [
        "The SGD optimiser with a learning rate of $0.1$ and momentum of $0.9$ is used to minimise the clustering-based loss function of DEC. The final model as well as some intermediary models are saved in the directory provided in the save_dir variable along with other results."
      ]
    },
    {
      "cell_type": "code",
      "metadata": {
        "id": "ARpmcYIJbcTB",
        "colab_type": "code",
        "outputId": "4eba1816-9b98-4251-c371-c5d74943ed8f",
        "colab": {
          "base_uri": "https://localhost:8080/",
          "height": 1000
        }
      },
      "source": [
        "from keras.optimizers import SGD\n",
        "dec.compile(optimizer=SGD(lr=0.1,momentum=0.9), loss='kld')\n",
        "y_pred = dec.fit(x, y=y, tol=tol, maxiter=maxiter, batch_size=batch_size,\n",
        "                  update_interval=update_interval, save_dir=save_dir)"
      ],
      "execution_count": 25,
      "outputs": [
        {
          "output_type": "stream",
          "text": [
            "WARNING:tensorflow:From /usr/local/lib/python3.6/dist-packages/keras/backend/tensorflow_backend.py:1702: The name tf.log is deprecated. Please use tf.math.log instead.\n",
            "\n",
            "Update interval 140\n",
            "Save interval 1365\n",
            "Initializing cluster centers with k-means.\n",
            "Iter 0: acc = 0.91387, nmi = 0.82485, ari = 0.81639  ; loss= 0\n",
            "WARNING:tensorflow:From /usr/local/lib/python3.6/dist-packages/tensorflow_core/python/ops/math_grad.py:1424: where (from tensorflow.python.ops.array_ops) is deprecated and will be removed in a future version.\n",
            "Instructions for updating:\n",
            "Use tf.where in 2.0, which has the same broadcast rule as np.where\n"
          ],
          "name": "stdout"
        },
        {
          "output_type": "stream",
          "text": [
            "/usr/local/lib/python3.6/dist-packages/sklearn/utils/linear_assignment_.py:128: FutureWarning: The linear_assignment function is deprecated in 0.21 and will be removed from 0.23. Use scipy.optimize.linear_sum_assignment instead.\n",
            "  FutureWarning)\n"
          ],
          "name": "stderr"
        },
        {
          "output_type": "stream",
          "text": [
            "saving model to: results/DEC_model_0.h5\n"
          ],
          "name": "stdout"
        },
        {
          "output_type": "stream",
          "text": [
            "/usr/local/lib/python3.6/dist-packages/sklearn/utils/linear_assignment_.py:128: FutureWarning: The linear_assignment function is deprecated in 0.21 and will be removed from 0.23. Use scipy.optimize.linear_sum_assignment instead.\n",
            "  FutureWarning)\n"
          ],
          "name": "stderr"
        },
        {
          "output_type": "stream",
          "text": [
            "Iter 140: acc = 0.92471, nmi = 0.83881, ari = 0.84041  ; loss= 0.00191\n"
          ],
          "name": "stdout"
        },
        {
          "output_type": "stream",
          "text": [
            "/usr/local/lib/python3.6/dist-packages/sklearn/utils/linear_assignment_.py:128: FutureWarning: The linear_assignment function is deprecated in 0.21 and will be removed from 0.23. Use scipy.optimize.linear_sum_assignment instead.\n",
            "  FutureWarning)\n"
          ],
          "name": "stderr"
        },
        {
          "output_type": "stream",
          "text": [
            "Iter 280: acc = 0.92203, nmi = 0.83594, ari = 0.83724  ; loss= 0.00747\n"
          ],
          "name": "stdout"
        },
        {
          "output_type": "stream",
          "text": [
            "/usr/local/lib/python3.6/dist-packages/sklearn/utils/linear_assignment_.py:128: FutureWarning: The linear_assignment function is deprecated in 0.21 and will be removed from 0.23. Use scipy.optimize.linear_sum_assignment instead.\n",
            "  FutureWarning)\n"
          ],
          "name": "stderr"
        },
        {
          "output_type": "stream",
          "text": [
            "Iter 420: acc = 0.92131, nmi = 0.83663, ari = 0.83760  ; loss= 0.04262\n"
          ],
          "name": "stdout"
        },
        {
          "output_type": "stream",
          "text": [
            "/usr/local/lib/python3.6/dist-packages/sklearn/utils/linear_assignment_.py:128: FutureWarning: The linear_assignment function is deprecated in 0.21 and will be removed from 0.23. Use scipy.optimize.linear_sum_assignment instead.\n",
            "  FutureWarning)\n"
          ],
          "name": "stderr"
        },
        {
          "output_type": "stream",
          "text": [
            "Iter 560: acc = 0.92517, nmi = 0.84351, ari = 0.84544  ; loss= 0.12173\n"
          ],
          "name": "stdout"
        },
        {
          "output_type": "stream",
          "text": [
            "/usr/local/lib/python3.6/dist-packages/sklearn/utils/linear_assignment_.py:128: FutureWarning: The linear_assignment function is deprecated in 0.21 and will be removed from 0.23. Use scipy.optimize.linear_sum_assignment instead.\n",
            "  FutureWarning)\n"
          ],
          "name": "stderr"
        },
        {
          "output_type": "stream",
          "text": [
            "Iter 700: acc = 0.93041, nmi = 0.85150, ari = 0.85535  ; loss= 0.14719\n"
          ],
          "name": "stdout"
        },
        {
          "output_type": "stream",
          "text": [
            "/usr/local/lib/python3.6/dist-packages/sklearn/utils/linear_assignment_.py:128: FutureWarning: The linear_assignment function is deprecated in 0.21 and will be removed from 0.23. Use scipy.optimize.linear_sum_assignment instead.\n",
            "  FutureWarning)\n"
          ],
          "name": "stderr"
        },
        {
          "output_type": "stream",
          "text": [
            "Iter 840: acc = 0.93261, nmi = 0.85470, ari = 0.85941  ; loss= 0.13273\n"
          ],
          "name": "stdout"
        },
        {
          "output_type": "stream",
          "text": [
            "/usr/local/lib/python3.6/dist-packages/sklearn/utils/linear_assignment_.py:128: FutureWarning: The linear_assignment function is deprecated in 0.21 and will be removed from 0.23. Use scipy.optimize.linear_sum_assignment instead.\n",
            "  FutureWarning)\n"
          ],
          "name": "stderr"
        },
        {
          "output_type": "stream",
          "text": [
            "Iter 980: acc = 0.93316, nmi = 0.85565, ari = 0.86041  ; loss= 0.13212\n"
          ],
          "name": "stdout"
        },
        {
          "output_type": "stream",
          "text": [
            "/usr/local/lib/python3.6/dist-packages/sklearn/utils/linear_assignment_.py:128: FutureWarning: The linear_assignment function is deprecated in 0.21 and will be removed from 0.23. Use scipy.optimize.linear_sum_assignment instead.\n",
            "  FutureWarning)\n"
          ],
          "name": "stderr"
        },
        {
          "output_type": "stream",
          "text": [
            "Iter 1120: acc = 0.93757, nmi = 0.86267, ari = 0.86906  ; loss= 0.11603\n"
          ],
          "name": "stdout"
        },
        {
          "output_type": "stream",
          "text": [
            "/usr/local/lib/python3.6/dist-packages/sklearn/utils/linear_assignment_.py:128: FutureWarning: The linear_assignment function is deprecated in 0.21 and will be removed from 0.23. Use scipy.optimize.linear_sum_assignment instead.\n",
            "  FutureWarning)\n"
          ],
          "name": "stderr"
        },
        {
          "output_type": "stream",
          "text": [
            "Iter 1260: acc = 0.93887, nmi = 0.86436, ari = 0.87152  ; loss= 0.10433\n",
            "saving model to: results/DEC_model_1365.h5\n"
          ],
          "name": "stdout"
        },
        {
          "output_type": "stream",
          "text": [
            "/usr/local/lib/python3.6/dist-packages/sklearn/utils/linear_assignment_.py:128: FutureWarning: The linear_assignment function is deprecated in 0.21 and will be removed from 0.23. Use scipy.optimize.linear_sum_assignment instead.\n",
            "  FutureWarning)\n"
          ],
          "name": "stderr"
        },
        {
          "output_type": "stream",
          "text": [
            "Iter 1400: acc = 0.94040, nmi = 0.86688, ari = 0.87464  ; loss= 0.11732\n"
          ],
          "name": "stdout"
        },
        {
          "output_type": "stream",
          "text": [
            "/usr/local/lib/python3.6/dist-packages/sklearn/utils/linear_assignment_.py:128: FutureWarning: The linear_assignment function is deprecated in 0.21 and will be removed from 0.23. Use scipy.optimize.linear_sum_assignment instead.\n",
            "  FutureWarning)\n"
          ],
          "name": "stderr"
        },
        {
          "output_type": "stream",
          "text": [
            "Iter 1540: acc = 0.93884, nmi = 0.86604, ari = 0.87229  ; loss= 0.11911\n"
          ],
          "name": "stdout"
        },
        {
          "output_type": "stream",
          "text": [
            "/usr/local/lib/python3.6/dist-packages/sklearn/utils/linear_assignment_.py:128: FutureWarning: The linear_assignment function is deprecated in 0.21 and will be removed from 0.23. Use scipy.optimize.linear_sum_assignment instead.\n",
            "  FutureWarning)\n"
          ],
          "name": "stderr"
        },
        {
          "output_type": "stream",
          "text": [
            "Iter 1680: acc = 0.93876, nmi = 0.86615, ari = 0.87213  ; loss= 0.09592\n"
          ],
          "name": "stdout"
        },
        {
          "output_type": "stream",
          "text": [
            "/usr/local/lib/python3.6/dist-packages/sklearn/utils/linear_assignment_.py:128: FutureWarning: The linear_assignment function is deprecated in 0.21 and will be removed from 0.23. Use scipy.optimize.linear_sum_assignment instead.\n",
            "  FutureWarning)\n"
          ],
          "name": "stderr"
        },
        {
          "output_type": "stream",
          "text": [
            "Iter 1820: acc = 0.93987, nmi = 0.86786, ari = 0.87438  ; loss= 0.10654\n"
          ],
          "name": "stdout"
        },
        {
          "output_type": "stream",
          "text": [
            "/usr/local/lib/python3.6/dist-packages/sklearn/utils/linear_assignment_.py:128: FutureWarning: The linear_assignment function is deprecated in 0.21 and will be removed from 0.23. Use scipy.optimize.linear_sum_assignment instead.\n",
            "  FutureWarning)\n"
          ],
          "name": "stderr"
        },
        {
          "output_type": "stream",
          "text": [
            "Iter 1960: acc = 0.93787, nmi = 0.86583, ari = 0.87068  ; loss= 0.09364\n"
          ],
          "name": "stdout"
        },
        {
          "output_type": "stream",
          "text": [
            "/usr/local/lib/python3.6/dist-packages/sklearn/utils/linear_assignment_.py:128: FutureWarning: The linear_assignment function is deprecated in 0.21 and will be removed from 0.23. Use scipy.optimize.linear_sum_assignment instead.\n",
            "  FutureWarning)\n"
          ],
          "name": "stderr"
        },
        {
          "output_type": "stream",
          "text": [
            "Iter 2100: acc = 0.93883, nmi = 0.86760, ari = 0.87253  ; loss= 0.07806\n"
          ],
          "name": "stdout"
        },
        {
          "output_type": "stream",
          "text": [
            "/usr/local/lib/python3.6/dist-packages/sklearn/utils/linear_assignment_.py:128: FutureWarning: The linear_assignment function is deprecated in 0.21 and will be removed from 0.23. Use scipy.optimize.linear_sum_assignment instead.\n",
            "  FutureWarning)\n"
          ],
          "name": "stderr"
        },
        {
          "output_type": "stream",
          "text": [
            "Iter 2240: acc = 0.93897, nmi = 0.86718, ari = 0.87260  ; loss= 0.10057\n"
          ],
          "name": "stdout"
        },
        {
          "output_type": "stream",
          "text": [
            "/usr/local/lib/python3.6/dist-packages/sklearn/utils/linear_assignment_.py:128: FutureWarning: The linear_assignment function is deprecated in 0.21 and will be removed from 0.23. Use scipy.optimize.linear_sum_assignment instead.\n",
            "  FutureWarning)\n"
          ],
          "name": "stderr"
        },
        {
          "output_type": "stream",
          "text": [
            "Iter 2380: acc = 0.93726, nmi = 0.86440, ari = 0.86917  ; loss= 0.07863\n"
          ],
          "name": "stdout"
        },
        {
          "output_type": "stream",
          "text": [
            "/usr/local/lib/python3.6/dist-packages/sklearn/utils/linear_assignment_.py:128: FutureWarning: The linear_assignment function is deprecated in 0.21 and will be removed from 0.23. Use scipy.optimize.linear_sum_assignment instead.\n",
            "  FutureWarning)\n"
          ],
          "name": "stderr"
        },
        {
          "output_type": "stream",
          "text": [
            "Iter 2520: acc = 0.93749, nmi = 0.86404, ari = 0.86959  ; loss= 0.07912\n"
          ],
          "name": "stdout"
        },
        {
          "output_type": "stream",
          "text": [
            "/usr/local/lib/python3.6/dist-packages/sklearn/utils/linear_assignment_.py:128: FutureWarning: The linear_assignment function is deprecated in 0.21 and will be removed from 0.23. Use scipy.optimize.linear_sum_assignment instead.\n",
            "  FutureWarning)\n"
          ],
          "name": "stderr"
        },
        {
          "output_type": "stream",
          "text": [
            "Iter 2660: acc = 0.93859, nmi = 0.86619, ari = 0.87190  ; loss= 0.09229\n",
            "saving model to: results/DEC_model_2730.h5\n"
          ],
          "name": "stdout"
        },
        {
          "output_type": "stream",
          "text": [
            "/usr/local/lib/python3.6/dist-packages/sklearn/utils/linear_assignment_.py:128: FutureWarning: The linear_assignment function is deprecated in 0.21 and will be removed from 0.23. Use scipy.optimize.linear_sum_assignment instead.\n",
            "  FutureWarning)\n"
          ],
          "name": "stderr"
        },
        {
          "output_type": "stream",
          "text": [
            "Iter 2800: acc = 0.93919, nmi = 0.86696, ari = 0.87285  ; loss= 0.07044\n"
          ],
          "name": "stdout"
        },
        {
          "output_type": "stream",
          "text": [
            "/usr/local/lib/python3.6/dist-packages/sklearn/utils/linear_assignment_.py:128: FutureWarning: The linear_assignment function is deprecated in 0.21 and will be removed from 0.23. Use scipy.optimize.linear_sum_assignment instead.\n",
            "  FutureWarning)\n"
          ],
          "name": "stderr"
        },
        {
          "output_type": "stream",
          "text": [
            "Iter 2940: acc = 0.93899, nmi = 0.86743, ari = 0.87281  ; loss= 0.07819\n"
          ],
          "name": "stdout"
        },
        {
          "output_type": "stream",
          "text": [
            "/usr/local/lib/python3.6/dist-packages/sklearn/utils/linear_assignment_.py:128: FutureWarning: The linear_assignment function is deprecated in 0.21 and will be removed from 0.23. Use scipy.optimize.linear_sum_assignment instead.\n",
            "  FutureWarning)\n"
          ],
          "name": "stderr"
        },
        {
          "output_type": "stream",
          "text": [
            "Iter 3080: acc = 0.94030, nmi = 0.86977, ari = 0.87534  ; loss= 0.09475\n"
          ],
          "name": "stdout"
        },
        {
          "output_type": "stream",
          "text": [
            "/usr/local/lib/python3.6/dist-packages/sklearn/utils/linear_assignment_.py:128: FutureWarning: The linear_assignment function is deprecated in 0.21 and will be removed from 0.23. Use scipy.optimize.linear_sum_assignment instead.\n",
            "  FutureWarning)\n"
          ],
          "name": "stderr"
        },
        {
          "output_type": "stream",
          "text": [
            "Iter 3220: acc = 0.94070, nmi = 0.87058, ari = 0.87612  ; loss= 0.07482\n"
          ],
          "name": "stdout"
        },
        {
          "output_type": "stream",
          "text": [
            "/usr/local/lib/python3.6/dist-packages/sklearn/utils/linear_assignment_.py:128: FutureWarning: The linear_assignment function is deprecated in 0.21 and will be removed from 0.23. Use scipy.optimize.linear_sum_assignment instead.\n",
            "  FutureWarning)\n"
          ],
          "name": "stderr"
        },
        {
          "output_type": "stream",
          "text": [
            "Iter 3360: acc = 0.94187, nmi = 0.87226, ari = 0.87815  ; loss= 0.06399\n"
          ],
          "name": "stdout"
        },
        {
          "output_type": "stream",
          "text": [
            "/usr/local/lib/python3.6/dist-packages/sklearn/utils/linear_assignment_.py:128: FutureWarning: The linear_assignment function is deprecated in 0.21 and will be removed from 0.23. Use scipy.optimize.linear_sum_assignment instead.\n",
            "  FutureWarning)\n"
          ],
          "name": "stderr"
        },
        {
          "output_type": "stream",
          "text": [
            "Iter 3500: acc = 0.94479, nmi = 0.87581, ari = 0.88372  ; loss= 0.07853\n"
          ],
          "name": "stdout"
        },
        {
          "output_type": "stream",
          "text": [
            "/usr/local/lib/python3.6/dist-packages/sklearn/utils/linear_assignment_.py:128: FutureWarning: The linear_assignment function is deprecated in 0.21 and will be removed from 0.23. Use scipy.optimize.linear_sum_assignment instead.\n",
            "  FutureWarning)\n"
          ],
          "name": "stderr"
        },
        {
          "output_type": "stream",
          "text": [
            "Iter 3640: acc = 0.94630, nmi = 0.87860, ari = 0.88664  ; loss= 0.0602\n"
          ],
          "name": "stdout"
        },
        {
          "output_type": "stream",
          "text": [
            "/usr/local/lib/python3.6/dist-packages/sklearn/utils/linear_assignment_.py:128: FutureWarning: The linear_assignment function is deprecated in 0.21 and will be removed from 0.23. Use scipy.optimize.linear_sum_assignment instead.\n",
            "  FutureWarning)\n"
          ],
          "name": "stderr"
        },
        {
          "output_type": "stream",
          "text": [
            "Iter 3780: acc = 0.94621, nmi = 0.87742, ari = 0.88636  ; loss= 0.07391\n"
          ],
          "name": "stdout"
        },
        {
          "output_type": "stream",
          "text": [
            "/usr/local/lib/python3.6/dist-packages/sklearn/utils/linear_assignment_.py:128: FutureWarning: The linear_assignment function is deprecated in 0.21 and will be removed from 0.23. Use scipy.optimize.linear_sum_assignment instead.\n",
            "  FutureWarning)\n"
          ],
          "name": "stderr"
        },
        {
          "output_type": "stream",
          "text": [
            "Iter 3920: acc = 0.94616, nmi = 0.87749, ari = 0.88621  ; loss= 0.06753\n"
          ],
          "name": "stdout"
        },
        {
          "output_type": "stream",
          "text": [
            "/usr/local/lib/python3.6/dist-packages/sklearn/utils/linear_assignment_.py:128: FutureWarning: The linear_assignment function is deprecated in 0.21 and will be removed from 0.23. Use scipy.optimize.linear_sum_assignment instead.\n",
            "  FutureWarning)\n"
          ],
          "name": "stderr"
        },
        {
          "output_type": "stream",
          "text": [
            "Iter 4060: acc = 0.94661, nmi = 0.87877, ari = 0.88720  ; loss= 0.06589\n",
            "saving model to: results/DEC_model_4095.h5\n"
          ],
          "name": "stdout"
        },
        {
          "output_type": "stream",
          "text": [
            "/usr/local/lib/python3.6/dist-packages/sklearn/utils/linear_assignment_.py:128: FutureWarning: The linear_assignment function is deprecated in 0.21 and will be removed from 0.23. Use scipy.optimize.linear_sum_assignment instead.\n",
            "  FutureWarning)\n"
          ],
          "name": "stderr"
        },
        {
          "output_type": "stream",
          "text": [
            "Iter 4200: acc = 0.94690, nmi = 0.87933, ari = 0.88789  ; loss= 0.0674\n"
          ],
          "name": "stdout"
        },
        {
          "output_type": "stream",
          "text": [
            "/usr/local/lib/python3.6/dist-packages/sklearn/utils/linear_assignment_.py:128: FutureWarning: The linear_assignment function is deprecated in 0.21 and will be removed from 0.23. Use scipy.optimize.linear_sum_assignment instead.\n",
            "  FutureWarning)\n"
          ],
          "name": "stderr"
        },
        {
          "output_type": "stream",
          "text": [
            "Iter 4340: acc = 0.94716, nmi = 0.87952, ari = 0.88833  ; loss= 0.05888\n"
          ],
          "name": "stdout"
        },
        {
          "output_type": "stream",
          "text": [
            "/usr/local/lib/python3.6/dist-packages/sklearn/utils/linear_assignment_.py:128: FutureWarning: The linear_assignment function is deprecated in 0.21 and will be removed from 0.23. Use scipy.optimize.linear_sum_assignment instead.\n",
            "  FutureWarning)\n"
          ],
          "name": "stderr"
        },
        {
          "output_type": "stream",
          "text": [
            "Iter 4480: acc = 0.94814, nmi = 0.88091, ari = 0.89038  ; loss= 0.05258\n"
          ],
          "name": "stdout"
        },
        {
          "output_type": "stream",
          "text": [
            "/usr/local/lib/python3.6/dist-packages/sklearn/utils/linear_assignment_.py:128: FutureWarning: The linear_assignment function is deprecated in 0.21 and will be removed from 0.23. Use scipy.optimize.linear_sum_assignment instead.\n",
            "  FutureWarning)\n"
          ],
          "name": "stderr"
        },
        {
          "output_type": "stream",
          "text": [
            "Iter 4620: acc = 0.94730, nmi = 0.87986, ari = 0.88877  ; loss= 0.06756\n"
          ],
          "name": "stdout"
        },
        {
          "output_type": "stream",
          "text": [
            "/usr/local/lib/python3.6/dist-packages/sklearn/utils/linear_assignment_.py:128: FutureWarning: The linear_assignment function is deprecated in 0.21 and will be removed from 0.23. Use scipy.optimize.linear_sum_assignment instead.\n",
            "  FutureWarning)\n"
          ],
          "name": "stderr"
        },
        {
          "output_type": "stream",
          "text": [
            "Iter 4760: acc = 0.94894, nmi = 0.88193, ari = 0.89188  ; loss= 0.05874\n"
          ],
          "name": "stdout"
        },
        {
          "output_type": "stream",
          "text": [
            "/usr/local/lib/python3.6/dist-packages/sklearn/utils/linear_assignment_.py:128: FutureWarning: The linear_assignment function is deprecated in 0.21 and will be removed from 0.23. Use scipy.optimize.linear_sum_assignment instead.\n",
            "  FutureWarning)\n"
          ],
          "name": "stderr"
        },
        {
          "output_type": "stream",
          "text": [
            "Iter 4900: acc = 0.94977, nmi = 0.88338, ari = 0.89357  ; loss= 0.07372\n"
          ],
          "name": "stdout"
        },
        {
          "output_type": "stream",
          "text": [
            "/usr/local/lib/python3.6/dist-packages/sklearn/utils/linear_assignment_.py:128: FutureWarning: The linear_assignment function is deprecated in 0.21 and will be removed from 0.23. Use scipy.optimize.linear_sum_assignment instead.\n",
            "  FutureWarning)\n"
          ],
          "name": "stderr"
        },
        {
          "output_type": "stream",
          "text": [
            "Iter 5040: acc = 0.95017, nmi = 0.88388, ari = 0.89428  ; loss= 0.07003\n"
          ],
          "name": "stdout"
        },
        {
          "output_type": "stream",
          "text": [
            "/usr/local/lib/python3.6/dist-packages/sklearn/utils/linear_assignment_.py:128: FutureWarning: The linear_assignment function is deprecated in 0.21 and will be removed from 0.23. Use scipy.optimize.linear_sum_assignment instead.\n",
            "  FutureWarning)\n"
          ],
          "name": "stderr"
        },
        {
          "output_type": "stream",
          "text": [
            "Iter 5180: acc = 0.94957, nmi = 0.88320, ari = 0.89308  ; loss= 0.05565\n"
          ],
          "name": "stdout"
        },
        {
          "output_type": "stream",
          "text": [
            "/usr/local/lib/python3.6/dist-packages/sklearn/utils/linear_assignment_.py:128: FutureWarning: The linear_assignment function is deprecated in 0.21 and will be removed from 0.23. Use scipy.optimize.linear_sum_assignment instead.\n",
            "  FutureWarning)\n"
          ],
          "name": "stderr"
        },
        {
          "output_type": "stream",
          "text": [
            "Iter 5320: acc = 0.95033, nmi = 0.88425, ari = 0.89462  ; loss= 0.0749\n"
          ],
          "name": "stdout"
        },
        {
          "output_type": "stream",
          "text": [
            "/usr/local/lib/python3.6/dist-packages/sklearn/utils/linear_assignment_.py:128: FutureWarning: The linear_assignment function is deprecated in 0.21 and will be removed from 0.23. Use scipy.optimize.linear_sum_assignment instead.\n",
            "  FutureWarning)\n"
          ],
          "name": "stderr"
        },
        {
          "output_type": "stream",
          "text": [
            "Iter 5460: acc = 0.95046, nmi = 0.88395, ari = 0.89487  ; loss= 0.06855\n",
            "saving model to: results/DEC_model_5460.h5\n"
          ],
          "name": "stdout"
        },
        {
          "output_type": "stream",
          "text": [
            "/usr/local/lib/python3.6/dist-packages/sklearn/utils/linear_assignment_.py:128: FutureWarning: The linear_assignment function is deprecated in 0.21 and will be removed from 0.23. Use scipy.optimize.linear_sum_assignment instead.\n",
            "  FutureWarning)\n"
          ],
          "name": "stderr"
        },
        {
          "output_type": "stream",
          "text": [
            "Iter 5600: acc = 0.95117, nmi = 0.88539, ari = 0.89637  ; loss= 0.04782\n"
          ],
          "name": "stdout"
        },
        {
          "output_type": "stream",
          "text": [
            "/usr/local/lib/python3.6/dist-packages/sklearn/utils/linear_assignment_.py:128: FutureWarning: The linear_assignment function is deprecated in 0.21 and will be removed from 0.23. Use scipy.optimize.linear_sum_assignment instead.\n",
            "  FutureWarning)\n"
          ],
          "name": "stderr"
        },
        {
          "output_type": "stream",
          "text": [
            "Iter 5740: acc = 0.95020, nmi = 0.88435, ari = 0.89441  ; loss= 0.04579\n"
          ],
          "name": "stdout"
        },
        {
          "output_type": "stream",
          "text": [
            "/usr/local/lib/python3.6/dist-packages/sklearn/utils/linear_assignment_.py:128: FutureWarning: The linear_assignment function is deprecated in 0.21 and will be removed from 0.23. Use scipy.optimize.linear_sum_assignment instead.\n",
            "  FutureWarning)\n"
          ],
          "name": "stderr"
        },
        {
          "output_type": "stream",
          "text": [
            "Iter 5880: acc = 0.94970, nmi = 0.88312, ari = 0.89328  ; loss= 0.04769\n"
          ],
          "name": "stdout"
        },
        {
          "output_type": "stream",
          "text": [
            "/usr/local/lib/python3.6/dist-packages/sklearn/utils/linear_assignment_.py:128: FutureWarning: The linear_assignment function is deprecated in 0.21 and will be removed from 0.23. Use scipy.optimize.linear_sum_assignment instead.\n",
            "  FutureWarning)\n"
          ],
          "name": "stderr"
        },
        {
          "output_type": "stream",
          "text": [
            "Iter 6020: acc = 0.94861, nmi = 0.88142, ari = 0.89114  ; loss= 0.06202\n"
          ],
          "name": "stdout"
        },
        {
          "output_type": "stream",
          "text": [
            "/usr/local/lib/python3.6/dist-packages/sklearn/utils/linear_assignment_.py:128: FutureWarning: The linear_assignment function is deprecated in 0.21 and will be removed from 0.23. Use scipy.optimize.linear_sum_assignment instead.\n",
            "  FutureWarning)\n"
          ],
          "name": "stderr"
        },
        {
          "output_type": "stream",
          "text": [
            "Iter 6160: acc = 0.94913, nmi = 0.88196, ari = 0.89213  ; loss= 0.04094\n"
          ],
          "name": "stdout"
        },
        {
          "output_type": "stream",
          "text": [
            "/usr/local/lib/python3.6/dist-packages/sklearn/utils/linear_assignment_.py:128: FutureWarning: The linear_assignment function is deprecated in 0.21 and will be removed from 0.23. Use scipy.optimize.linear_sum_assignment instead.\n",
            "  FutureWarning)\n"
          ],
          "name": "stderr"
        },
        {
          "output_type": "stream",
          "text": [
            "Iter 6300: acc = 0.94676, nmi = 0.87874, ari = 0.88736  ; loss= 0.03949\n"
          ],
          "name": "stdout"
        },
        {
          "output_type": "stream",
          "text": [
            "/usr/local/lib/python3.6/dist-packages/sklearn/utils/linear_assignment_.py:128: FutureWarning: The linear_assignment function is deprecated in 0.21 and will be removed from 0.23. Use scipy.optimize.linear_sum_assignment instead.\n",
            "  FutureWarning)\n"
          ],
          "name": "stderr"
        },
        {
          "output_type": "stream",
          "text": [
            "Iter 6440: acc = 0.94794, nmi = 0.88060, ari = 0.88976  ; loss= 0.045\n"
          ],
          "name": "stdout"
        },
        {
          "output_type": "stream",
          "text": [
            "/usr/local/lib/python3.6/dist-packages/sklearn/utils/linear_assignment_.py:128: FutureWarning: The linear_assignment function is deprecated in 0.21 and will be removed from 0.23. Use scipy.optimize.linear_sum_assignment instead.\n",
            "  FutureWarning)\n"
          ],
          "name": "stderr"
        },
        {
          "output_type": "stream",
          "text": [
            "Iter 6580: acc = 0.94814, nmi = 0.88132, ari = 0.89016  ; loss= 0.05225\n"
          ],
          "name": "stdout"
        },
        {
          "output_type": "stream",
          "text": [
            "/usr/local/lib/python3.6/dist-packages/sklearn/utils/linear_assignment_.py:128: FutureWarning: The linear_assignment function is deprecated in 0.21 and will be removed from 0.23. Use scipy.optimize.linear_sum_assignment instead.\n",
            "  FutureWarning)\n"
          ],
          "name": "stderr"
        },
        {
          "output_type": "stream",
          "text": [
            "Iter 6720: acc = 0.94817, nmi = 0.88131, ari = 0.89019  ; loss= 0.03874\n",
            "saving model to: results/DEC_model_6825.h5\n"
          ],
          "name": "stdout"
        },
        {
          "output_type": "stream",
          "text": [
            "/usr/local/lib/python3.6/dist-packages/sklearn/utils/linear_assignment_.py:128: FutureWarning: The linear_assignment function is deprecated in 0.21 and will be removed from 0.23. Use scipy.optimize.linear_sum_assignment instead.\n",
            "  FutureWarning)\n"
          ],
          "name": "stderr"
        },
        {
          "output_type": "stream",
          "text": [
            "Iter 6860: acc = 0.94937, nmi = 0.88250, ari = 0.89251  ; loss= 0.03614\n"
          ],
          "name": "stdout"
        },
        {
          "output_type": "stream",
          "text": [
            "/usr/local/lib/python3.6/dist-packages/sklearn/utils/linear_assignment_.py:128: FutureWarning: The linear_assignment function is deprecated in 0.21 and will be removed from 0.23. Use scipy.optimize.linear_sum_assignment instead.\n",
            "  FutureWarning)\n"
          ],
          "name": "stderr"
        },
        {
          "output_type": "stream",
          "text": [
            "Iter 7000: acc = 0.94847, nmi = 0.88168, ari = 0.89073  ; loss= 0.06233\n"
          ],
          "name": "stdout"
        },
        {
          "output_type": "stream",
          "text": [
            "/usr/local/lib/python3.6/dist-packages/sklearn/utils/linear_assignment_.py:128: FutureWarning: The linear_assignment function is deprecated in 0.21 and will be removed from 0.23. Use scipy.optimize.linear_sum_assignment instead.\n",
            "  FutureWarning)\n"
          ],
          "name": "stderr"
        },
        {
          "output_type": "stream",
          "text": [
            "Iter 7140: acc = 0.94859, nmi = 0.88175, ari = 0.89103  ; loss= 0.04864\n"
          ],
          "name": "stdout"
        },
        {
          "output_type": "stream",
          "text": [
            "/usr/local/lib/python3.6/dist-packages/sklearn/utils/linear_assignment_.py:128: FutureWarning: The linear_assignment function is deprecated in 0.21 and will be removed from 0.23. Use scipy.optimize.linear_sum_assignment instead.\n",
            "  FutureWarning)\n"
          ],
          "name": "stderr"
        },
        {
          "output_type": "stream",
          "text": [
            "Iter 7280: acc = 0.94941, nmi = 0.88326, ari = 0.89274  ; loss= 0.04571\n"
          ],
          "name": "stdout"
        },
        {
          "output_type": "stream",
          "text": [
            "/usr/local/lib/python3.6/dist-packages/sklearn/utils/linear_assignment_.py:128: FutureWarning: The linear_assignment function is deprecated in 0.21 and will be removed from 0.23. Use scipy.optimize.linear_sum_assignment instead.\n",
            "  FutureWarning)\n"
          ],
          "name": "stderr"
        },
        {
          "output_type": "stream",
          "text": [
            "Iter 7420: acc = 0.94891, nmi = 0.88221, ari = 0.89172  ; loss= 0.04604\n"
          ],
          "name": "stdout"
        },
        {
          "output_type": "stream",
          "text": [
            "/usr/local/lib/python3.6/dist-packages/sklearn/utils/linear_assignment_.py:128: FutureWarning: The linear_assignment function is deprecated in 0.21 and will be removed from 0.23. Use scipy.optimize.linear_sum_assignment instead.\n",
            "  FutureWarning)\n"
          ],
          "name": "stderr"
        },
        {
          "output_type": "stream",
          "text": [
            "Iter 7560: acc = 0.94996, nmi = 0.88363, ari = 0.89379  ; loss= 0.05117\n"
          ],
          "name": "stdout"
        },
        {
          "output_type": "stream",
          "text": [
            "/usr/local/lib/python3.6/dist-packages/sklearn/utils/linear_assignment_.py:128: FutureWarning: The linear_assignment function is deprecated in 0.21 and will be removed from 0.23. Use scipy.optimize.linear_sum_assignment instead.\n",
            "  FutureWarning)\n"
          ],
          "name": "stderr"
        },
        {
          "output_type": "stream",
          "text": [
            "Iter 7700: acc = 0.94911, nmi = 0.88263, ari = 0.89200  ; loss= 0.04928\n"
          ],
          "name": "stdout"
        },
        {
          "output_type": "stream",
          "text": [
            "/usr/local/lib/python3.6/dist-packages/sklearn/utils/linear_assignment_.py:128: FutureWarning: The linear_assignment function is deprecated in 0.21 and will be removed from 0.23. Use scipy.optimize.linear_sum_assignment instead.\n",
            "  FutureWarning)\n"
          ],
          "name": "stderr"
        },
        {
          "output_type": "stream",
          "text": [
            "Iter 7840: acc = 0.95044, nmi = 0.88452, ari = 0.89477  ; loss= 0.04275\n"
          ],
          "name": "stdout"
        },
        {
          "output_type": "stream",
          "text": [
            "/usr/local/lib/python3.6/dist-packages/sklearn/utils/linear_assignment_.py:128: FutureWarning: The linear_assignment function is deprecated in 0.21 and will be removed from 0.23. Use scipy.optimize.linear_sum_assignment instead.\n",
            "  FutureWarning)\n"
          ],
          "name": "stderr"
        },
        {
          "output_type": "stream",
          "text": [
            "Iter 7980: acc = 0.94994, nmi = 0.88425, ari = 0.89378  ; loss= 0.04173\n"
          ],
          "name": "stdout"
        },
        {
          "output_type": "stream",
          "text": [
            "/usr/local/lib/python3.6/dist-packages/sklearn/utils/linear_assignment_.py:128: FutureWarning: The linear_assignment function is deprecated in 0.21 and will be removed from 0.23. Use scipy.optimize.linear_sum_assignment instead.\n",
            "  FutureWarning)\n"
          ],
          "name": "stderr"
        },
        {
          "output_type": "stream",
          "text": [
            "Iter 8120: acc = 0.95033, nmi = 0.88445, ari = 0.89450  ; loss= 0.03681\n",
            "saving model to: results/DEC_model_8190.h5\n"
          ],
          "name": "stdout"
        },
        {
          "output_type": "stream",
          "text": [
            "/usr/local/lib/python3.6/dist-packages/sklearn/utils/linear_assignment_.py:128: FutureWarning: The linear_assignment function is deprecated in 0.21 and will be removed from 0.23. Use scipy.optimize.linear_sum_assignment instead.\n",
            "  FutureWarning)\n"
          ],
          "name": "stderr"
        },
        {
          "output_type": "stream",
          "text": [
            "Iter 8260: acc = 0.94877, nmi = 0.88193, ari = 0.89126  ; loss= 0.04161\n"
          ],
          "name": "stdout"
        },
        {
          "output_type": "stream",
          "text": [
            "/usr/local/lib/python3.6/dist-packages/sklearn/utils/linear_assignment_.py:128: FutureWarning: The linear_assignment function is deprecated in 0.21 and will be removed from 0.23. Use scipy.optimize.linear_sum_assignment instead.\n",
            "  FutureWarning)\n"
          ],
          "name": "stderr"
        },
        {
          "output_type": "stream",
          "text": [
            "Iter 8400: acc = 0.94881, nmi = 0.88229, ari = 0.89138  ; loss= 0.0571\n"
          ],
          "name": "stdout"
        },
        {
          "output_type": "stream",
          "text": [
            "/usr/local/lib/python3.6/dist-packages/sklearn/utils/linear_assignment_.py:128: FutureWarning: The linear_assignment function is deprecated in 0.21 and will be removed from 0.23. Use scipy.optimize.linear_sum_assignment instead.\n",
            "  FutureWarning)\n"
          ],
          "name": "stderr"
        },
        {
          "output_type": "stream",
          "text": [
            "Iter 8540: acc = 0.94881, nmi = 0.88205, ari = 0.89135  ; loss= 0.05011\n"
          ],
          "name": "stdout"
        },
        {
          "output_type": "stream",
          "text": [
            "/usr/local/lib/python3.6/dist-packages/sklearn/utils/linear_assignment_.py:128: FutureWarning: The linear_assignment function is deprecated in 0.21 and will be removed from 0.23. Use scipy.optimize.linear_sum_assignment instead.\n",
            "  FutureWarning)\n"
          ],
          "name": "stderr"
        },
        {
          "output_type": "stream",
          "text": [
            "Iter 8680: acc = 0.94773, nmi = 0.88050, ari = 0.88920  ; loss= 0.03855\n"
          ],
          "name": "stdout"
        },
        {
          "output_type": "stream",
          "text": [
            "/usr/local/lib/python3.6/dist-packages/sklearn/utils/linear_assignment_.py:128: FutureWarning: The linear_assignment function is deprecated in 0.21 and will be removed from 0.23. Use scipy.optimize.linear_sum_assignment instead.\n",
            "  FutureWarning)\n"
          ],
          "name": "stderr"
        },
        {
          "output_type": "stream",
          "text": [
            "Iter 8820: acc = 0.94954, nmi = 0.88373, ari = 0.89289  ; loss= 0.03947\n"
          ],
          "name": "stdout"
        },
        {
          "output_type": "stream",
          "text": [
            "/usr/local/lib/python3.6/dist-packages/sklearn/utils/linear_assignment_.py:128: FutureWarning: The linear_assignment function is deprecated in 0.21 and will be removed from 0.23. Use scipy.optimize.linear_sum_assignment instead.\n",
            "  FutureWarning)\n"
          ],
          "name": "stderr"
        },
        {
          "output_type": "stream",
          "text": [
            "Iter 8960: acc = 0.94929, nmi = 0.88377, ari = 0.89240  ; loss= 0.06572\n"
          ],
          "name": "stdout"
        },
        {
          "output_type": "stream",
          "text": [
            "/usr/local/lib/python3.6/dist-packages/sklearn/utils/linear_assignment_.py:128: FutureWarning: The linear_assignment function is deprecated in 0.21 and will be removed from 0.23. Use scipy.optimize.linear_sum_assignment instead.\n",
            "  FutureWarning)\n"
          ],
          "name": "stderr"
        },
        {
          "output_type": "stream",
          "text": [
            "Iter 9100: acc = 0.94867, nmi = 0.88250, ari = 0.89122  ; loss= 0.038\n"
          ],
          "name": "stdout"
        },
        {
          "output_type": "stream",
          "text": [
            "/usr/local/lib/python3.6/dist-packages/sklearn/utils/linear_assignment_.py:128: FutureWarning: The linear_assignment function is deprecated in 0.21 and will be removed from 0.23. Use scipy.optimize.linear_sum_assignment instead.\n",
            "  FutureWarning)\n"
          ],
          "name": "stderr"
        },
        {
          "output_type": "stream",
          "text": [
            "Iter 9240: acc = 0.94900, nmi = 0.88398, ari = 0.89192  ; loss= 0.0475\n"
          ],
          "name": "stdout"
        },
        {
          "output_type": "stream",
          "text": [
            "/usr/local/lib/python3.6/dist-packages/sklearn/utils/linear_assignment_.py:128: FutureWarning: The linear_assignment function is deprecated in 0.21 and will be removed from 0.23. Use scipy.optimize.linear_sum_assignment instead.\n",
            "  FutureWarning)\n"
          ],
          "name": "stderr"
        },
        {
          "output_type": "stream",
          "text": [
            "Iter 9380: acc = 0.94891, nmi = 0.88371, ari = 0.89178  ; loss= 0.04103\n"
          ],
          "name": "stdout"
        },
        {
          "output_type": "stream",
          "text": [
            "/usr/local/lib/python3.6/dist-packages/sklearn/utils/linear_assignment_.py:128: FutureWarning: The linear_assignment function is deprecated in 0.21 and will be removed from 0.23. Use scipy.optimize.linear_sum_assignment instead.\n",
            "  FutureWarning)\n"
          ],
          "name": "stderr"
        },
        {
          "output_type": "stream",
          "text": [
            "Iter 9520: acc = 0.94921, nmi = 0.88415, ari = 0.89241  ; loss= 0.04651\n",
            "saving model to: results/DEC_model_9555.h5\n"
          ],
          "name": "stdout"
        },
        {
          "output_type": "stream",
          "text": [
            "/usr/local/lib/python3.6/dist-packages/sklearn/utils/linear_assignment_.py:128: FutureWarning: The linear_assignment function is deprecated in 0.21 and will be removed from 0.23. Use scipy.optimize.linear_sum_assignment instead.\n",
            "  FutureWarning)\n"
          ],
          "name": "stderr"
        },
        {
          "output_type": "stream",
          "text": [
            "Iter 9660: acc = 0.94974, nmi = 0.88522, ari = 0.89342  ; loss= 0.04683\n"
          ],
          "name": "stdout"
        },
        {
          "output_type": "stream",
          "text": [
            "/usr/local/lib/python3.6/dist-packages/sklearn/utils/linear_assignment_.py:128: FutureWarning: The linear_assignment function is deprecated in 0.21 and will be removed from 0.23. Use scipy.optimize.linear_sum_assignment instead.\n",
            "  FutureWarning)\n"
          ],
          "name": "stderr"
        },
        {
          "output_type": "stream",
          "text": [
            "Iter 9800: acc = 0.95010, nmi = 0.88542, ari = 0.89415  ; loss= 0.03578\n"
          ],
          "name": "stdout"
        },
        {
          "output_type": "stream",
          "text": [
            "/usr/local/lib/python3.6/dist-packages/sklearn/utils/linear_assignment_.py:128: FutureWarning: The linear_assignment function is deprecated in 0.21 and will be removed from 0.23. Use scipy.optimize.linear_sum_assignment instead.\n",
            "  FutureWarning)\n"
          ],
          "name": "stderr"
        },
        {
          "output_type": "stream",
          "text": [
            "Iter 9940: acc = 0.95036, nmi = 0.88637, ari = 0.89471  ; loss= 0.04471\n"
          ],
          "name": "stdout"
        },
        {
          "output_type": "stream",
          "text": [
            "/usr/local/lib/python3.6/dist-packages/sklearn/utils/linear_assignment_.py:128: FutureWarning: The linear_assignment function is deprecated in 0.21 and will be removed from 0.23. Use scipy.optimize.linear_sum_assignment instead.\n",
            "  FutureWarning)\n"
          ],
          "name": "stderr"
        },
        {
          "output_type": "stream",
          "text": [
            "Iter 10080: acc = 0.95009, nmi = 0.88620, ari = 0.89422  ; loss= 0.03306\n"
          ],
          "name": "stdout"
        },
        {
          "output_type": "stream",
          "text": [
            "/usr/local/lib/python3.6/dist-packages/sklearn/utils/linear_assignment_.py:128: FutureWarning: The linear_assignment function is deprecated in 0.21 and will be removed from 0.23. Use scipy.optimize.linear_sum_assignment instead.\n",
            "  FutureWarning)\n"
          ],
          "name": "stderr"
        },
        {
          "output_type": "stream",
          "text": [
            "Iter 10220: acc = 0.94926, nmi = 0.88539, ari = 0.89255  ; loss= 0.04125\n"
          ],
          "name": "stdout"
        },
        {
          "output_type": "stream",
          "text": [
            "/usr/local/lib/python3.6/dist-packages/sklearn/utils/linear_assignment_.py:128: FutureWarning: The linear_assignment function is deprecated in 0.21 and will be removed from 0.23. Use scipy.optimize.linear_sum_assignment instead.\n",
            "  FutureWarning)\n"
          ],
          "name": "stderr"
        },
        {
          "output_type": "stream",
          "text": [
            "Iter 10360: acc = 0.94743, nmi = 0.88281, ari = 0.88888  ; loss= 0.03457\n"
          ],
          "name": "stdout"
        },
        {
          "output_type": "stream",
          "text": [
            "/usr/local/lib/python3.6/dist-packages/sklearn/utils/linear_assignment_.py:128: FutureWarning: The linear_assignment function is deprecated in 0.21 and will be removed from 0.23. Use scipy.optimize.linear_sum_assignment instead.\n",
            "  FutureWarning)\n"
          ],
          "name": "stderr"
        },
        {
          "output_type": "stream",
          "text": [
            "Iter 10500: acc = 0.94911, nmi = 0.88480, ari = 0.89221  ; loss= 0.0389\n"
          ],
          "name": "stdout"
        },
        {
          "output_type": "stream",
          "text": [
            "/usr/local/lib/python3.6/dist-packages/sklearn/utils/linear_assignment_.py:128: FutureWarning: The linear_assignment function is deprecated in 0.21 and will be removed from 0.23. Use scipy.optimize.linear_sum_assignment instead.\n",
            "  FutureWarning)\n"
          ],
          "name": "stderr"
        },
        {
          "output_type": "stream",
          "text": [
            "Iter 10640: acc = 0.94996, nmi = 0.88572, ari = 0.89389  ; loss= 0.03425\n"
          ],
          "name": "stdout"
        },
        {
          "output_type": "stream",
          "text": [
            "/usr/local/lib/python3.6/dist-packages/sklearn/utils/linear_assignment_.py:128: FutureWarning: The linear_assignment function is deprecated in 0.21 and will be removed from 0.23. Use scipy.optimize.linear_sum_assignment instead.\n",
            "  FutureWarning)\n"
          ],
          "name": "stderr"
        },
        {
          "output_type": "stream",
          "text": [
            "Iter 10780: acc = 0.95079, nmi = 0.88645, ari = 0.89558  ; loss= 0.02988\n"
          ],
          "name": "stdout"
        },
        {
          "output_type": "stream",
          "text": [
            "/usr/local/lib/python3.6/dist-packages/sklearn/utils/linear_assignment_.py:128: FutureWarning: The linear_assignment function is deprecated in 0.21 and will be removed from 0.23. Use scipy.optimize.linear_sum_assignment instead.\n",
            "  FutureWarning)\n"
          ],
          "name": "stderr"
        },
        {
          "output_type": "stream",
          "text": [
            "Iter 10920: acc = 0.95011, nmi = 0.88559, ari = 0.89427  ; loss= 0.0331\n",
            "saving model to: results/DEC_model_10920.h5\n"
          ],
          "name": "stdout"
        },
        {
          "output_type": "stream",
          "text": [
            "/usr/local/lib/python3.6/dist-packages/sklearn/utils/linear_assignment_.py:128: FutureWarning: The linear_assignment function is deprecated in 0.21 and will be removed from 0.23. Use scipy.optimize.linear_sum_assignment instead.\n",
            "  FutureWarning)\n"
          ],
          "name": "stderr"
        },
        {
          "output_type": "stream",
          "text": [
            "Iter 11060: acc = 0.94987, nmi = 0.88511, ari = 0.89379  ; loss= 0.03138\n"
          ],
          "name": "stdout"
        },
        {
          "output_type": "stream",
          "text": [
            "/usr/local/lib/python3.6/dist-packages/sklearn/utils/linear_assignment_.py:128: FutureWarning: The linear_assignment function is deprecated in 0.21 and will be removed from 0.23. Use scipy.optimize.linear_sum_assignment instead.\n",
            "  FutureWarning)\n"
          ],
          "name": "stderr"
        },
        {
          "output_type": "stream",
          "text": [
            "Iter 11200: acc = 0.95006, nmi = 0.88567, ari = 0.89417  ; loss= 0.03835\n"
          ],
          "name": "stdout"
        },
        {
          "output_type": "stream",
          "text": [
            "/usr/local/lib/python3.6/dist-packages/sklearn/utils/linear_assignment_.py:128: FutureWarning: The linear_assignment function is deprecated in 0.21 and will be removed from 0.23. Use scipy.optimize.linear_sum_assignment instead.\n",
            "  FutureWarning)\n"
          ],
          "name": "stderr"
        },
        {
          "output_type": "stream",
          "text": [
            "Iter 11340: acc = 0.95047, nmi = 0.88584, ari = 0.89493  ; loss= 0.02832\n"
          ],
          "name": "stdout"
        },
        {
          "output_type": "stream",
          "text": [
            "/usr/local/lib/python3.6/dist-packages/sklearn/utils/linear_assignment_.py:128: FutureWarning: The linear_assignment function is deprecated in 0.21 and will be removed from 0.23. Use scipy.optimize.linear_sum_assignment instead.\n",
            "  FutureWarning)\n"
          ],
          "name": "stderr"
        },
        {
          "output_type": "stream",
          "text": [
            "Iter 11480: acc = 0.95110, nmi = 0.88650, ari = 0.89623  ; loss= 0.03751\n"
          ],
          "name": "stdout"
        },
        {
          "output_type": "stream",
          "text": [
            "/usr/local/lib/python3.6/dist-packages/sklearn/utils/linear_assignment_.py:128: FutureWarning: The linear_assignment function is deprecated in 0.21 and will be removed from 0.23. Use scipy.optimize.linear_sum_assignment instead.\n",
            "  FutureWarning)\n"
          ],
          "name": "stderr"
        },
        {
          "output_type": "stream",
          "text": [
            "Iter 11620: acc = 0.95099, nmi = 0.88699, ari = 0.89594  ; loss= 0.0414\n"
          ],
          "name": "stdout"
        },
        {
          "output_type": "stream",
          "text": [
            "/usr/local/lib/python3.6/dist-packages/sklearn/utils/linear_assignment_.py:128: FutureWarning: The linear_assignment function is deprecated in 0.21 and will be removed from 0.23. Use scipy.optimize.linear_sum_assignment instead.\n",
            "  FutureWarning)\n"
          ],
          "name": "stderr"
        },
        {
          "output_type": "stream",
          "text": [
            "Iter 11760: acc = 0.95177, nmi = 0.88801, ari = 0.89752  ; loss= 0.04798\n"
          ],
          "name": "stdout"
        },
        {
          "output_type": "stream",
          "text": [
            "/usr/local/lib/python3.6/dist-packages/sklearn/utils/linear_assignment_.py:128: FutureWarning: The linear_assignment function is deprecated in 0.21 and will be removed from 0.23. Use scipy.optimize.linear_sum_assignment instead.\n",
            "  FutureWarning)\n"
          ],
          "name": "stderr"
        },
        {
          "output_type": "stream",
          "text": [
            "Iter 11900: acc = 0.95214, nmi = 0.88873, ari = 0.89827  ; loss= 0.03981\n"
          ],
          "name": "stdout"
        },
        {
          "output_type": "stream",
          "text": [
            "/usr/local/lib/python3.6/dist-packages/sklearn/utils/linear_assignment_.py:128: FutureWarning: The linear_assignment function is deprecated in 0.21 and will be removed from 0.23. Use scipy.optimize.linear_sum_assignment instead.\n",
            "  FutureWarning)\n"
          ],
          "name": "stderr"
        },
        {
          "output_type": "stream",
          "text": [
            "Iter 12040: acc = 0.95134, nmi = 0.88766, ari = 0.89669  ; loss= 0.02643\n"
          ],
          "name": "stdout"
        },
        {
          "output_type": "stream",
          "text": [
            "/usr/local/lib/python3.6/dist-packages/sklearn/utils/linear_assignment_.py:128: FutureWarning: The linear_assignment function is deprecated in 0.21 and will be removed from 0.23. Use scipy.optimize.linear_sum_assignment instead.\n",
            "  FutureWarning)\n"
          ],
          "name": "stderr"
        },
        {
          "output_type": "stream",
          "text": [
            "Iter 12180: acc = 0.95203, nmi = 0.88817, ari = 0.89802  ; loss= 0.04119\n",
            "saving model to: results/DEC_model_12285.h5\n"
          ],
          "name": "stdout"
        },
        {
          "output_type": "stream",
          "text": [
            "/usr/local/lib/python3.6/dist-packages/sklearn/utils/linear_assignment_.py:128: FutureWarning: The linear_assignment function is deprecated in 0.21 and will be removed from 0.23. Use scipy.optimize.linear_sum_assignment instead.\n",
            "  FutureWarning)\n"
          ],
          "name": "stderr"
        },
        {
          "output_type": "stream",
          "text": [
            "Iter 12320: acc = 0.95206, nmi = 0.88815, ari = 0.89806  ; loss= 0.02569\n"
          ],
          "name": "stdout"
        },
        {
          "output_type": "stream",
          "text": [
            "/usr/local/lib/python3.6/dist-packages/sklearn/utils/linear_assignment_.py:128: FutureWarning: The linear_assignment function is deprecated in 0.21 and will be removed from 0.23. Use scipy.optimize.linear_sum_assignment instead.\n",
            "  FutureWarning)\n"
          ],
          "name": "stderr"
        },
        {
          "output_type": "stream",
          "text": [
            "Iter 12460: acc = 0.95211, nmi = 0.88817, ari = 0.89815  ; loss= 0.03376\n"
          ],
          "name": "stdout"
        },
        {
          "output_type": "stream",
          "text": [
            "/usr/local/lib/python3.6/dist-packages/sklearn/utils/linear_assignment_.py:128: FutureWarning: The linear_assignment function is deprecated in 0.21 and will be removed from 0.23. Use scipy.optimize.linear_sum_assignment instead.\n",
            "  FutureWarning)\n"
          ],
          "name": "stderr"
        },
        {
          "output_type": "stream",
          "text": [
            "Iter 12600: acc = 0.95216, nmi = 0.88847, ari = 0.89826  ; loss= 0.02379\n"
          ],
          "name": "stdout"
        },
        {
          "output_type": "stream",
          "text": [
            "/usr/local/lib/python3.6/dist-packages/sklearn/utils/linear_assignment_.py:128: FutureWarning: The linear_assignment function is deprecated in 0.21 and will be removed from 0.23. Use scipy.optimize.linear_sum_assignment instead.\n",
            "  FutureWarning)\n"
          ],
          "name": "stderr"
        },
        {
          "output_type": "stream",
          "text": [
            "Iter 12740: acc = 0.95231, nmi = 0.88836, ari = 0.89855  ; loss= 0.04486\n"
          ],
          "name": "stdout"
        },
        {
          "output_type": "stream",
          "text": [
            "/usr/local/lib/python3.6/dist-packages/sklearn/utils/linear_assignment_.py:128: FutureWarning: The linear_assignment function is deprecated in 0.21 and will be removed from 0.23. Use scipy.optimize.linear_sum_assignment instead.\n",
            "  FutureWarning)\n"
          ],
          "name": "stderr"
        },
        {
          "output_type": "stream",
          "text": [
            "Iter 12880: acc = 0.95276, nmi = 0.88917, ari = 0.89947  ; loss= 0.03432\n"
          ],
          "name": "stdout"
        },
        {
          "output_type": "stream",
          "text": [
            "/usr/local/lib/python3.6/dist-packages/sklearn/utils/linear_assignment_.py:128: FutureWarning: The linear_assignment function is deprecated in 0.21 and will be removed from 0.23. Use scipy.optimize.linear_sum_assignment instead.\n",
            "  FutureWarning)\n"
          ],
          "name": "stderr"
        },
        {
          "output_type": "stream",
          "text": [
            "Iter 13020: acc = 0.95321, nmi = 0.88985, ari = 0.90042  ; loss= 0.04225\n"
          ],
          "name": "stdout"
        },
        {
          "output_type": "stream",
          "text": [
            "/usr/local/lib/python3.6/dist-packages/sklearn/utils/linear_assignment_.py:128: FutureWarning: The linear_assignment function is deprecated in 0.21 and will be removed from 0.23. Use scipy.optimize.linear_sum_assignment instead.\n",
            "  FutureWarning)\n"
          ],
          "name": "stderr"
        },
        {
          "output_type": "stream",
          "text": [
            "Iter 13160: acc = 0.95410, nmi = 0.89104, ari = 0.90221  ; loss= 0.02874\n"
          ],
          "name": "stdout"
        },
        {
          "output_type": "stream",
          "text": [
            "/usr/local/lib/python3.6/dist-packages/sklearn/utils/linear_assignment_.py:128: FutureWarning: The linear_assignment function is deprecated in 0.21 and will be removed from 0.23. Use scipy.optimize.linear_sum_assignment instead.\n",
            "  FutureWarning)\n"
          ],
          "name": "stderr"
        },
        {
          "output_type": "stream",
          "text": [
            "Iter 13300: acc = 0.95357, nmi = 0.89037, ari = 0.90115  ; loss= 0.02715\n"
          ],
          "name": "stdout"
        },
        {
          "output_type": "stream",
          "text": [
            "/usr/local/lib/python3.6/dist-packages/sklearn/utils/linear_assignment_.py:128: FutureWarning: The linear_assignment function is deprecated in 0.21 and will be removed from 0.23. Use scipy.optimize.linear_sum_assignment instead.\n",
            "  FutureWarning)\n"
          ],
          "name": "stderr"
        },
        {
          "output_type": "stream",
          "text": [
            "Iter 13440: acc = 0.95320, nmi = 0.88983, ari = 0.90041  ; loss= 0.03939\n"
          ],
          "name": "stdout"
        },
        {
          "output_type": "stream",
          "text": [
            "/usr/local/lib/python3.6/dist-packages/sklearn/utils/linear_assignment_.py:128: FutureWarning: The linear_assignment function is deprecated in 0.21 and will be removed from 0.23. Use scipy.optimize.linear_sum_assignment instead.\n",
            "  FutureWarning)\n"
          ],
          "name": "stderr"
        },
        {
          "output_type": "stream",
          "text": [
            "Iter 13580: acc = 0.95340, nmi = 0.89014, ari = 0.90081  ; loss= 0.0289\n",
            "saving model to: results/DEC_model_13650.h5\n"
          ],
          "name": "stdout"
        },
        {
          "output_type": "stream",
          "text": [
            "/usr/local/lib/python3.6/dist-packages/sklearn/utils/linear_assignment_.py:128: FutureWarning: The linear_assignment function is deprecated in 0.21 and will be removed from 0.23. Use scipy.optimize.linear_sum_assignment instead.\n",
            "  FutureWarning)\n"
          ],
          "name": "stderr"
        },
        {
          "output_type": "stream",
          "text": [
            "Iter 13720: acc = 0.95296, nmi = 0.88939, ari = 0.89990  ; loss= 0.02473\n"
          ],
          "name": "stdout"
        },
        {
          "output_type": "stream",
          "text": [
            "/usr/local/lib/python3.6/dist-packages/sklearn/utils/linear_assignment_.py:128: FutureWarning: The linear_assignment function is deprecated in 0.21 and will be removed from 0.23. Use scipy.optimize.linear_sum_assignment instead.\n",
            "  FutureWarning)\n"
          ],
          "name": "stderr"
        },
        {
          "output_type": "stream",
          "text": [
            "Iter 13860: acc = 0.95081, nmi = 0.88682, ari = 0.89555  ; loss= 0.04751\n"
          ],
          "name": "stdout"
        },
        {
          "output_type": "stream",
          "text": [
            "/usr/local/lib/python3.6/dist-packages/sklearn/utils/linear_assignment_.py:128: FutureWarning: The linear_assignment function is deprecated in 0.21 and will be removed from 0.23. Use scipy.optimize.linear_sum_assignment instead.\n",
            "  FutureWarning)\n"
          ],
          "name": "stderr"
        },
        {
          "output_type": "stream",
          "text": [
            "Iter 14000: acc = 0.95131, nmi = 0.88782, ari = 0.89664  ; loss= 0.02552\n"
          ],
          "name": "stdout"
        },
        {
          "output_type": "stream",
          "text": [
            "/usr/local/lib/python3.6/dist-packages/sklearn/utils/linear_assignment_.py:128: FutureWarning: The linear_assignment function is deprecated in 0.21 and will be removed from 0.23. Use scipy.optimize.linear_sum_assignment instead.\n",
            "  FutureWarning)\n"
          ],
          "name": "stderr"
        },
        {
          "output_type": "stream",
          "text": [
            "Iter 14140: acc = 0.95183, nmi = 0.88859, ari = 0.89765  ; loss= 0.03048\n"
          ],
          "name": "stdout"
        },
        {
          "output_type": "stream",
          "text": [
            "/usr/local/lib/python3.6/dist-packages/sklearn/utils/linear_assignment_.py:128: FutureWarning: The linear_assignment function is deprecated in 0.21 and will be removed from 0.23. Use scipy.optimize.linear_sum_assignment instead.\n",
            "  FutureWarning)\n"
          ],
          "name": "stderr"
        },
        {
          "output_type": "stream",
          "text": [
            "Iter 14280: acc = 0.95089, nmi = 0.88747, ari = 0.89579  ; loss= 0.04562\n"
          ],
          "name": "stdout"
        },
        {
          "output_type": "stream",
          "text": [
            "/usr/local/lib/python3.6/dist-packages/sklearn/utils/linear_assignment_.py:128: FutureWarning: The linear_assignment function is deprecated in 0.21 and will be removed from 0.23. Use scipy.optimize.linear_sum_assignment instead.\n",
            "  FutureWarning)\n"
          ],
          "name": "stderr"
        },
        {
          "output_type": "stream",
          "text": [
            "Iter 14420: acc = 0.95013, nmi = 0.88677, ari = 0.89429  ; loss= 0.03268\n"
          ],
          "name": "stdout"
        },
        {
          "output_type": "stream",
          "text": [
            "/usr/local/lib/python3.6/dist-packages/sklearn/utils/linear_assignment_.py:128: FutureWarning: The linear_assignment function is deprecated in 0.21 and will be removed from 0.23. Use scipy.optimize.linear_sum_assignment instead.\n",
            "  FutureWarning)\n"
          ],
          "name": "stderr"
        },
        {
          "output_type": "stream",
          "text": [
            "Iter 14560: acc = 0.95060, nmi = 0.88728, ari = 0.89520  ; loss= 0.02446\n"
          ],
          "name": "stdout"
        },
        {
          "output_type": "stream",
          "text": [
            "/usr/local/lib/python3.6/dist-packages/sklearn/utils/linear_assignment_.py:128: FutureWarning: The linear_assignment function is deprecated in 0.21 and will be removed from 0.23. Use scipy.optimize.linear_sum_assignment instead.\n",
            "  FutureWarning)\n"
          ],
          "name": "stderr"
        },
        {
          "output_type": "stream",
          "text": [
            "Iter 14700: acc = 0.95133, nmi = 0.88797, ari = 0.89661  ; loss= 0.02954\n"
          ],
          "name": "stdout"
        },
        {
          "output_type": "stream",
          "text": [
            "/usr/local/lib/python3.6/dist-packages/sklearn/utils/linear_assignment_.py:128: FutureWarning: The linear_assignment function is deprecated in 0.21 and will be removed from 0.23. Use scipy.optimize.linear_sum_assignment instead.\n",
            "  FutureWarning)\n"
          ],
          "name": "stderr"
        },
        {
          "output_type": "stream",
          "text": [
            "Iter 14840: acc = 0.94984, nmi = 0.88624, ari = 0.89371  ; loss= 0.0293\n"
          ],
          "name": "stdout"
        },
        {
          "output_type": "stream",
          "text": [
            "/usr/local/lib/python3.6/dist-packages/sklearn/utils/linear_assignment_.py:128: FutureWarning: The linear_assignment function is deprecated in 0.21 and will be removed from 0.23. Use scipy.optimize.linear_sum_assignment instead.\n",
            "  FutureWarning)\n"
          ],
          "name": "stderr"
        },
        {
          "output_type": "stream",
          "text": [
            "Iter 14980: acc = 0.94969, nmi = 0.88643, ari = 0.89345  ; loss= 0.03246\n",
            "saving model to: results/DEC_model_15015.h5\n"
          ],
          "name": "stdout"
        },
        {
          "output_type": "stream",
          "text": [
            "/usr/local/lib/python3.6/dist-packages/sklearn/utils/linear_assignment_.py:128: FutureWarning: The linear_assignment function is deprecated in 0.21 and will be removed from 0.23. Use scipy.optimize.linear_sum_assignment instead.\n",
            "  FutureWarning)\n"
          ],
          "name": "stderr"
        },
        {
          "output_type": "stream",
          "text": [
            "Iter 15120: acc = 0.95014, nmi = 0.88678, ari = 0.89432  ; loss= 0.03204\n"
          ],
          "name": "stdout"
        },
        {
          "output_type": "stream",
          "text": [
            "/usr/local/lib/python3.6/dist-packages/sklearn/utils/linear_assignment_.py:128: FutureWarning: The linear_assignment function is deprecated in 0.21 and will be removed from 0.23. Use scipy.optimize.linear_sum_assignment instead.\n",
            "  FutureWarning)\n"
          ],
          "name": "stderr"
        },
        {
          "output_type": "stream",
          "text": [
            "Iter 15260: acc = 0.95000, nmi = 0.88670, ari = 0.89411  ; loss= 0.02991\n"
          ],
          "name": "stdout"
        },
        {
          "output_type": "stream",
          "text": [
            "/usr/local/lib/python3.6/dist-packages/sklearn/utils/linear_assignment_.py:128: FutureWarning: The linear_assignment function is deprecated in 0.21 and will be removed from 0.23. Use scipy.optimize.linear_sum_assignment instead.\n",
            "  FutureWarning)\n"
          ],
          "name": "stderr"
        },
        {
          "output_type": "stream",
          "text": [
            "Iter 15400: acc = 0.95073, nmi = 0.88708, ari = 0.89550  ; loss= 0.03033\n"
          ],
          "name": "stdout"
        },
        {
          "output_type": "stream",
          "text": [
            "/usr/local/lib/python3.6/dist-packages/sklearn/utils/linear_assignment_.py:128: FutureWarning: The linear_assignment function is deprecated in 0.21 and will be removed from 0.23. Use scipy.optimize.linear_sum_assignment instead.\n",
            "  FutureWarning)\n"
          ],
          "name": "stderr"
        },
        {
          "output_type": "stream",
          "text": [
            "Iter 15540: acc = 0.95196, nmi = 0.88821, ari = 0.89788  ; loss= 0.0307\n"
          ],
          "name": "stdout"
        },
        {
          "output_type": "stream",
          "text": [
            "/usr/local/lib/python3.6/dist-packages/sklearn/utils/linear_assignment_.py:128: FutureWarning: The linear_assignment function is deprecated in 0.21 and will be removed from 0.23. Use scipy.optimize.linear_sum_assignment instead.\n",
            "  FutureWarning)\n"
          ],
          "name": "stderr"
        },
        {
          "output_type": "stream",
          "text": [
            "Iter 15680: acc = 0.95166, nmi = 0.88767, ari = 0.89724  ; loss= 0.04011\n"
          ],
          "name": "stdout"
        },
        {
          "output_type": "stream",
          "text": [
            "/usr/local/lib/python3.6/dist-packages/sklearn/utils/linear_assignment_.py:128: FutureWarning: The linear_assignment function is deprecated in 0.21 and will be removed from 0.23. Use scipy.optimize.linear_sum_assignment instead.\n",
            "  FutureWarning)\n"
          ],
          "name": "stderr"
        },
        {
          "output_type": "stream",
          "text": [
            "Iter 15820: acc = 0.95104, nmi = 0.88718, ari = 0.89613  ; loss= 0.02516\n"
          ],
          "name": "stdout"
        },
        {
          "output_type": "stream",
          "text": [
            "/usr/local/lib/python3.6/dist-packages/sklearn/utils/linear_assignment_.py:128: FutureWarning: The linear_assignment function is deprecated in 0.21 and will be removed from 0.23. Use scipy.optimize.linear_sum_assignment instead.\n",
            "  FutureWarning)\n"
          ],
          "name": "stderr"
        },
        {
          "output_type": "stream",
          "text": [
            "Iter 15960: acc = 0.95139, nmi = 0.88732, ari = 0.89674  ; loss= 0.02899\n"
          ],
          "name": "stdout"
        },
        {
          "output_type": "stream",
          "text": [
            "/usr/local/lib/python3.6/dist-packages/sklearn/utils/linear_assignment_.py:128: FutureWarning: The linear_assignment function is deprecated in 0.21 and will be removed from 0.23. Use scipy.optimize.linear_sum_assignment instead.\n",
            "  FutureWarning)\n"
          ],
          "name": "stderr"
        },
        {
          "output_type": "stream",
          "text": [
            "Iter 16100: acc = 0.95080, nmi = 0.88693, ari = 0.89562  ; loss= 0.02679\n"
          ],
          "name": "stdout"
        },
        {
          "output_type": "stream",
          "text": [
            "/usr/local/lib/python3.6/dist-packages/sklearn/utils/linear_assignment_.py:128: FutureWarning: The linear_assignment function is deprecated in 0.21 and will be removed from 0.23. Use scipy.optimize.linear_sum_assignment instead.\n",
            "  FutureWarning)\n"
          ],
          "name": "stderr"
        },
        {
          "output_type": "stream",
          "text": [
            "Iter 16240: acc = 0.95161, nmi = 0.88808, ari = 0.89725  ; loss= 0.04561\n"
          ],
          "name": "stdout"
        },
        {
          "output_type": "stream",
          "text": [
            "/usr/local/lib/python3.6/dist-packages/sklearn/utils/linear_assignment_.py:128: FutureWarning: The linear_assignment function is deprecated in 0.21 and will be removed from 0.23. Use scipy.optimize.linear_sum_assignment instead.\n",
            "  FutureWarning)\n"
          ],
          "name": "stderr"
        },
        {
          "output_type": "stream",
          "text": [
            "Iter 16380: acc = 0.95014, nmi = 0.88638, ari = 0.89426  ; loss= 0.02326\n",
            "saving model to: results/DEC_model_16380.h5\n"
          ],
          "name": "stdout"
        },
        {
          "output_type": "stream",
          "text": [
            "/usr/local/lib/python3.6/dist-packages/sklearn/utils/linear_assignment_.py:128: FutureWarning: The linear_assignment function is deprecated in 0.21 and will be removed from 0.23. Use scipy.optimize.linear_sum_assignment instead.\n",
            "  FutureWarning)\n"
          ],
          "name": "stderr"
        },
        {
          "output_type": "stream",
          "text": [
            "Iter 16520: acc = 0.95069, nmi = 0.88725, ari = 0.89535  ; loss= 0.0232\n"
          ],
          "name": "stdout"
        },
        {
          "output_type": "stream",
          "text": [
            "/usr/local/lib/python3.6/dist-packages/sklearn/utils/linear_assignment_.py:128: FutureWarning: The linear_assignment function is deprecated in 0.21 and will be removed from 0.23. Use scipy.optimize.linear_sum_assignment instead.\n",
            "  FutureWarning)\n"
          ],
          "name": "stderr"
        },
        {
          "output_type": "stream",
          "text": [
            "Iter 16660: acc = 0.95147, nmi = 0.88774, ari = 0.89695  ; loss= 0.0278\n"
          ],
          "name": "stdout"
        },
        {
          "output_type": "stream",
          "text": [
            "/usr/local/lib/python3.6/dist-packages/sklearn/utils/linear_assignment_.py:128: FutureWarning: The linear_assignment function is deprecated in 0.21 and will be removed from 0.23. Use scipy.optimize.linear_sum_assignment instead.\n",
            "  FutureWarning)\n"
          ],
          "name": "stderr"
        },
        {
          "output_type": "stream",
          "text": [
            "Iter 16800: acc = 0.95261, nmi = 0.88903, ari = 0.89924  ; loss= 0.02735\n"
          ],
          "name": "stdout"
        },
        {
          "output_type": "stream",
          "text": [
            "/usr/local/lib/python3.6/dist-packages/sklearn/utils/linear_assignment_.py:128: FutureWarning: The linear_assignment function is deprecated in 0.21 and will be removed from 0.23. Use scipy.optimize.linear_sum_assignment instead.\n",
            "  FutureWarning)\n"
          ],
          "name": "stderr"
        },
        {
          "output_type": "stream",
          "text": [
            "Iter 16940: acc = 0.95246, nmi = 0.88873, ari = 0.89887  ; loss= 0.02839\n"
          ],
          "name": "stdout"
        },
        {
          "output_type": "stream",
          "text": [
            "/usr/local/lib/python3.6/dist-packages/sklearn/utils/linear_assignment_.py:128: FutureWarning: The linear_assignment function is deprecated in 0.21 and will be removed from 0.23. Use scipy.optimize.linear_sum_assignment instead.\n",
            "  FutureWarning)\n"
          ],
          "name": "stderr"
        },
        {
          "output_type": "stream",
          "text": [
            "Iter 17080: acc = 0.95271, nmi = 0.88944, ari = 0.89943  ; loss= 0.03278\n"
          ],
          "name": "stdout"
        },
        {
          "output_type": "stream",
          "text": [
            "/usr/local/lib/python3.6/dist-packages/sklearn/utils/linear_assignment_.py:128: FutureWarning: The linear_assignment function is deprecated in 0.21 and will be removed from 0.23. Use scipy.optimize.linear_sum_assignment instead.\n",
            "  FutureWarning)\n"
          ],
          "name": "stderr"
        },
        {
          "output_type": "stream",
          "text": [
            "Iter 17220: acc = 0.94969, nmi = 0.88613, ari = 0.89332  ; loss= 0.05043\n"
          ],
          "name": "stdout"
        },
        {
          "output_type": "stream",
          "text": [
            "/usr/local/lib/python3.6/dist-packages/sklearn/utils/linear_assignment_.py:128: FutureWarning: The linear_assignment function is deprecated in 0.21 and will be removed from 0.23. Use scipy.optimize.linear_sum_assignment instead.\n",
            "  FutureWarning)\n"
          ],
          "name": "stderr"
        },
        {
          "output_type": "stream",
          "text": [
            "Iter 17360: acc = 0.94899, nmi = 0.88531, ari = 0.89196  ; loss= 0.02159\n"
          ],
          "name": "stdout"
        },
        {
          "output_type": "stream",
          "text": [
            "/usr/local/lib/python3.6/dist-packages/sklearn/utils/linear_assignment_.py:128: FutureWarning: The linear_assignment function is deprecated in 0.21 and will be removed from 0.23. Use scipy.optimize.linear_sum_assignment instead.\n",
            "  FutureWarning)\n"
          ],
          "name": "stderr"
        },
        {
          "output_type": "stream",
          "text": [
            "Iter 17500: acc = 0.95009, nmi = 0.88628, ari = 0.89411  ; loss= 0.02723\n"
          ],
          "name": "stdout"
        },
        {
          "output_type": "stream",
          "text": [
            "/usr/local/lib/python3.6/dist-packages/sklearn/utils/linear_assignment_.py:128: FutureWarning: The linear_assignment function is deprecated in 0.21 and will be removed from 0.23. Use scipy.optimize.linear_sum_assignment instead.\n",
            "  FutureWarning)\n"
          ],
          "name": "stderr"
        },
        {
          "output_type": "stream",
          "text": [
            "Iter 17640: acc = 0.95030, nmi = 0.88666, ari = 0.89455  ; loss= 0.02865\n",
            "saving model to: results/DEC_model_17745.h5\n"
          ],
          "name": "stdout"
        },
        {
          "output_type": "stream",
          "text": [
            "/usr/local/lib/python3.6/dist-packages/sklearn/utils/linear_assignment_.py:128: FutureWarning: The linear_assignment function is deprecated in 0.21 and will be removed from 0.23. Use scipy.optimize.linear_sum_assignment instead.\n",
            "  FutureWarning)\n"
          ],
          "name": "stderr"
        },
        {
          "output_type": "stream",
          "text": [
            "Iter 17780: acc = 0.94991, nmi = 0.88615, ari = 0.89378  ; loss= 0.03524\n"
          ],
          "name": "stdout"
        },
        {
          "output_type": "stream",
          "text": [
            "/usr/local/lib/python3.6/dist-packages/sklearn/utils/linear_assignment_.py:128: FutureWarning: The linear_assignment function is deprecated in 0.21 and will be removed from 0.23. Use scipy.optimize.linear_sum_assignment instead.\n",
            "  FutureWarning)\n"
          ],
          "name": "stderr"
        },
        {
          "output_type": "stream",
          "text": [
            "Iter 17920: acc = 0.95089, nmi = 0.88710, ari = 0.89569  ; loss= 0.02068\n"
          ],
          "name": "stdout"
        },
        {
          "output_type": "stream",
          "text": [
            "/usr/local/lib/python3.6/dist-packages/sklearn/utils/linear_assignment_.py:128: FutureWarning: The linear_assignment function is deprecated in 0.21 and will be removed from 0.23. Use scipy.optimize.linear_sum_assignment instead.\n",
            "  FutureWarning)\n"
          ],
          "name": "stderr"
        },
        {
          "output_type": "stream",
          "text": [
            "Iter 18060: acc = 0.95121, nmi = 0.88708, ari = 0.89631  ; loss= 0.03212\n"
          ],
          "name": "stdout"
        },
        {
          "output_type": "stream",
          "text": [
            "/usr/local/lib/python3.6/dist-packages/sklearn/utils/linear_assignment_.py:128: FutureWarning: The linear_assignment function is deprecated in 0.21 and will be removed from 0.23. Use scipy.optimize.linear_sum_assignment instead.\n",
            "  FutureWarning)\n"
          ],
          "name": "stderr"
        },
        {
          "output_type": "stream",
          "text": [
            "Iter 18200: acc = 0.95043, nmi = 0.88667, ari = 0.89473  ; loss= 0.02666\n"
          ],
          "name": "stdout"
        },
        {
          "output_type": "stream",
          "text": [
            "/usr/local/lib/python3.6/dist-packages/sklearn/utils/linear_assignment_.py:128: FutureWarning: The linear_assignment function is deprecated in 0.21 and will be removed from 0.23. Use scipy.optimize.linear_sum_assignment instead.\n",
            "  FutureWarning)\n"
          ],
          "name": "stderr"
        },
        {
          "output_type": "stream",
          "text": [
            "Iter 18340: acc = 0.95066, nmi = 0.88693, ari = 0.89522  ; loss= 0.01945\n"
          ],
          "name": "stdout"
        },
        {
          "output_type": "stream",
          "text": [
            "/usr/local/lib/python3.6/dist-packages/sklearn/utils/linear_assignment_.py:128: FutureWarning: The linear_assignment function is deprecated in 0.21 and will be removed from 0.23. Use scipy.optimize.linear_sum_assignment instead.\n",
            "  FutureWarning)\n"
          ],
          "name": "stderr"
        },
        {
          "output_type": "stream",
          "text": [
            "Iter 18480: acc = 0.94940, nmi = 0.88569, ari = 0.89285  ; loss= 0.04022\n"
          ],
          "name": "stdout"
        },
        {
          "output_type": "stream",
          "text": [
            "/usr/local/lib/python3.6/dist-packages/sklearn/utils/linear_assignment_.py:128: FutureWarning: The linear_assignment function is deprecated in 0.21 and will be removed from 0.23. Use scipy.optimize.linear_sum_assignment instead.\n",
            "  FutureWarning)\n"
          ],
          "name": "stderr"
        },
        {
          "output_type": "stream",
          "text": [
            "Iter 18620: acc = 0.95007, nmi = 0.88638, ari = 0.89413  ; loss= 0.02132\n"
          ],
          "name": "stdout"
        },
        {
          "output_type": "stream",
          "text": [
            "/usr/local/lib/python3.6/dist-packages/sklearn/utils/linear_assignment_.py:128: FutureWarning: The linear_assignment function is deprecated in 0.21 and will be removed from 0.23. Use scipy.optimize.linear_sum_assignment instead.\n",
            "  FutureWarning)\n"
          ],
          "name": "stderr"
        },
        {
          "output_type": "stream",
          "text": [
            "Iter 18760: acc = 0.94977, nmi = 0.88603, ari = 0.89337  ; loss= 0.03171\n"
          ],
          "name": "stdout"
        },
        {
          "output_type": "stream",
          "text": [
            "/usr/local/lib/python3.6/dist-packages/sklearn/utils/linear_assignment_.py:128: FutureWarning: The linear_assignment function is deprecated in 0.21 and will be removed from 0.23. Use scipy.optimize.linear_sum_assignment instead.\n",
            "  FutureWarning)\n"
          ],
          "name": "stderr"
        },
        {
          "output_type": "stream",
          "text": [
            "Iter 18900: acc = 0.95163, nmi = 0.88848, ari = 0.89709  ; loss= 0.0239\n"
          ],
          "name": "stdout"
        },
        {
          "output_type": "stream",
          "text": [
            "/usr/local/lib/python3.6/dist-packages/sklearn/utils/linear_assignment_.py:128: FutureWarning: The linear_assignment function is deprecated in 0.21 and will be removed from 0.23. Use scipy.optimize.linear_sum_assignment instead.\n",
            "  FutureWarning)\n"
          ],
          "name": "stderr"
        },
        {
          "output_type": "stream",
          "text": [
            "Iter 19040: acc = 0.95161, nmi = 0.88811, ari = 0.89699  ; loss= 0.02311\n",
            "saving model to: results/DEC_model_19110.h5\n"
          ],
          "name": "stdout"
        },
        {
          "output_type": "stream",
          "text": [
            "/usr/local/lib/python3.6/dist-packages/sklearn/utils/linear_assignment_.py:128: FutureWarning: The linear_assignment function is deprecated in 0.21 and will be removed from 0.23. Use scipy.optimize.linear_sum_assignment instead.\n",
            "  FutureWarning)\n"
          ],
          "name": "stderr"
        },
        {
          "output_type": "stream",
          "text": [
            "Iter 19180: acc = 0.95070, nmi = 0.88703, ari = 0.89520  ; loss= 0.03935\n"
          ],
          "name": "stdout"
        },
        {
          "output_type": "stream",
          "text": [
            "/usr/local/lib/python3.6/dist-packages/sklearn/utils/linear_assignment_.py:128: FutureWarning: The linear_assignment function is deprecated in 0.21 and will be removed from 0.23. Use scipy.optimize.linear_sum_assignment instead.\n",
            "  FutureWarning)\n"
          ],
          "name": "stderr"
        },
        {
          "output_type": "stream",
          "text": [
            "Iter 19320: acc = 0.95104, nmi = 0.88749, ari = 0.89587  ; loss= 0.02177\n"
          ],
          "name": "stdout"
        },
        {
          "output_type": "stream",
          "text": [
            "/usr/local/lib/python3.6/dist-packages/sklearn/utils/linear_assignment_.py:128: FutureWarning: The linear_assignment function is deprecated in 0.21 and will be removed from 0.23. Use scipy.optimize.linear_sum_assignment instead.\n",
            "  FutureWarning)\n"
          ],
          "name": "stderr"
        },
        {
          "output_type": "stream",
          "text": [
            "Iter 19460: acc = 0.94929, nmi = 0.88514, ari = 0.89255  ; loss= 0.02746\n"
          ],
          "name": "stdout"
        },
        {
          "output_type": "stream",
          "text": [
            "/usr/local/lib/python3.6/dist-packages/sklearn/utils/linear_assignment_.py:128: FutureWarning: The linear_assignment function is deprecated in 0.21 and will be removed from 0.23. Use scipy.optimize.linear_sum_assignment instead.\n",
            "  FutureWarning)\n"
          ],
          "name": "stderr"
        },
        {
          "output_type": "stream",
          "text": [
            "Iter 19600: acc = 0.94876, nmi = 0.88471, ari = 0.89153  ; loss= 0.02241\n"
          ],
          "name": "stdout"
        },
        {
          "output_type": "stream",
          "text": [
            "/usr/local/lib/python3.6/dist-packages/sklearn/utils/linear_assignment_.py:128: FutureWarning: The linear_assignment function is deprecated in 0.21 and will be removed from 0.23. Use scipy.optimize.linear_sum_assignment instead.\n",
            "  FutureWarning)\n"
          ],
          "name": "stderr"
        },
        {
          "output_type": "stream",
          "text": [
            "Iter 19740: acc = 0.94890, nmi = 0.88457, ari = 0.89198  ; loss= 0.03902\n"
          ],
          "name": "stdout"
        },
        {
          "output_type": "stream",
          "text": [
            "/usr/local/lib/python3.6/dist-packages/sklearn/utils/linear_assignment_.py:128: FutureWarning: The linear_assignment function is deprecated in 0.21 and will be removed from 0.23. Use scipy.optimize.linear_sum_assignment instead.\n",
            "  FutureWarning)\n"
          ],
          "name": "stderr"
        },
        {
          "output_type": "stream",
          "text": [
            "Iter 19880: acc = 0.94939, nmi = 0.88525, ari = 0.89290  ; loss= 0.03004\n",
            "saving model to: results/DEC_model_final.h5\n"
          ],
          "name": "stdout"
        }
      ]
    },
    {
      "cell_type": "markdown",
      "metadata": {
        "id": "ukc0DhGHtXPp",
        "colab_type": "text"
      },
      "source": [
        "To extract the features in the new feature space, the encoders for the DEC algorithm and the autoencoder should be defined."
      ]
    },
    {
      "cell_type": "code",
      "metadata": {
        "id": "zUlKarbSiKXK",
        "colab_type": "code",
        "colab": {}
      },
      "source": [
        "# Extract the encoder part of the DEC model\n",
        "dec_encoder = Model(dec.model.input, dec.model.get_layer(index=-2).output)\n",
        "\n",
        "# Reload the Autoencoder\n",
        "from keras.models import clone_model\n",
        "ae = clone_model(dec.autoencoder)\n",
        "ae.load_weights(\"results/ae_weights.h5\")\n",
        "# Extract the encoder part of the autoencoder model\n",
        "ae_encoder = Model(ae.input, ae.get_layer(index=int(len(ae.layers)/2)).output)"
      ],
      "execution_count": 0,
      "outputs": []
    },
    {
      "cell_type": "markdown",
      "metadata": {
        "id": "wzla6Qr_txrk",
        "colab_type": "text"
      },
      "source": [
        "Now, let's map the data once using the encoder trained by the DEC algorithm as well as the autoencoder."
      ]
    },
    {
      "cell_type": "code",
      "metadata": {
        "id": "hwsYAbwpjIdW",
        "colab_type": "code",
        "colab": {}
      },
      "source": [
        "# Embed the data using the DEC encoder\n",
        "dec_mapped_data = dec_encoder.predict(x)\n",
        "# Embed the data using the encoder trained by the autoencoder\n",
        "ae_mapped_data = ae_encoder.predict(x)"
      ],
      "execution_count": 0,
      "outputs": []
    },
    {
      "cell_type": "markdown",
      "metadata": {
        "id": "0N0s_NofuUzw",
        "colab_type": "text"
      },
      "source": [
        "The custer centers in the DEC model are the weights of the clustering layer, which is the last layer in the model. For the autoencoder, the cluster centers and memberships are computed using k-means. Then the clustering accuracy of the two methods are compared to evaluate the quality of the clusters."
      ]
    },
    {
      "cell_type": "code",
      "metadata": {
        "colab_type": "code",
        "id": "XwX7yH7tj839",
        "colab": {}
      },
      "source": [
        "from sklearn.cluster import KMeans\n",
        "# Extract the cluster centers in the DEC model\n",
        "dec_cluster_centers = dec.model.get_layer(index=-1).get_weights()\n",
        "dec_cluster_centers = np.array(dec_cluster_centers).reshape(10,10)\n",
        "# dec_idx stores the cluster membership of the data using DEC\n",
        "dec_idx = y_pred\n",
        "# K-means with 10 clusters\n",
        "ae_km = KMeans(n_clusters=10)\n",
        "ae_km.fit(ae_mapped_data)\n",
        "# ae_idx stores the cluster membership of the data using autoencoder\n",
        "ae_idx = ae_km.predict(ae_mapped_data)"
      ],
      "execution_count": 0,
      "outputs": []
    },
    {
      "cell_type": "code",
      "metadata": {
        "colab_type": "code",
        "id": "ReE5xyFij84A",
        "colab": {}
      },
      "source": [
        "# Matching the labels of the identified clusters\n",
        "from scipy.stats import mode\n",
        "dec_labels = np.zeros_like(dec_idx)\n",
        "ae_labels = np.zeros_like(ae_idx)\n",
        "for i in range(10):\n",
        "  mask = (dec_idx == i)\n",
        "  dec_labels[mask] = mode(y[mask])[0]\n",
        "  mask = (ae_idx == i)\n",
        "  ae_labels[mask] = mode(y[mask])[0]"
      ],
      "execution_count": 0,
      "outputs": []
    },
    {
      "cell_type": "markdown",
      "metadata": {
        "id": "OtoNKvQK5bAI",
        "colab_type": "text"
      },
      "source": [
        "The accuracy and purity of clustering, associated with the accuracy and NMI measures, are considerably increased after fine-tuning the encoder network using the DEC algorithm:"
      ]
    },
    {
      "cell_type": "code",
      "metadata": {
        "id": "g_9cAT-f26gO",
        "colab_type": "code",
        "outputId": "d9a37c03-ee1a-4da0-a35c-d12930ed063a",
        "colab": {
          "base_uri": "https://localhost:8080/",
          "height": 173
        }
      },
      "source": [
        "from tabulate import tabulate\n",
        "print(tabulate([['Autoencoder', np.round(metrics.acc(y, ae_labels),3),np.round(metrics.nmi(y, ae_labels),3)], \n",
        "              ['DEC', np.round(metrics.acc(y, dec_labels),3),np.round(metrics.acc(y, dec_labels),3)]], \n",
        "              headers=['Method', 'Accuracy', 'NMI']))"
      ],
      "execution_count": 42,
      "outputs": [
        {
          "output_type": "stream",
          "text": [
            "Method         Accuracy    NMI\n",
            "-----------  ----------  -----\n",
            "Autoencoder       0.914  0.825\n",
            "DEC               0.949  0.949\n"
          ],
          "name": "stdout"
        },
        {
          "output_type": "stream",
          "text": [
            "/usr/local/lib/python3.6/dist-packages/sklearn/utils/linear_assignment_.py:128: FutureWarning: The linear_assignment function is deprecated in 0.21 and will be removed from 0.23. Use scipy.optimize.linear_sum_assignment instead.\n",
            "  FutureWarning)\n",
            "/usr/local/lib/python3.6/dist-packages/sklearn/utils/linear_assignment_.py:128: FutureWarning: The linear_assignment function is deprecated in 0.21 and will be removed from 0.23. Use scipy.optimize.linear_sum_assignment instead.\n",
            "  FutureWarning)\n"
          ],
          "name": "stderr"
        }
      ]
    },
    {
      "cell_type": "markdown",
      "metadata": {
        "id": "plXZZ0CR3ETQ",
        "colab_type": "text"
      },
      "source": [
        "Let's visualise the clusters in both methods and compare them with the ground truth labels. tSNE is used for this purpose and a random subset of $1000$ samples are selected to show the visualisation. "
      ]
    },
    {
      "cell_type": "code",
      "metadata": {
        "colab_type": "code",
        "id": "jXlf-VMcjyBJ",
        "colab": {}
      },
      "source": [
        "from sklearn.manifold import TSNE\n",
        "# Choosing a sample of the data at random\n",
        "ix = np.random.permutation(range(len(y)))\n",
        "ix = ix[:1000]\n",
        "\n",
        "# Creating a dataset that includes the samples and the cluster centers \n",
        "data = np.append(dec_cluster_centers,dec_mapped_data[ix],axis=0)\n",
        "# Applying tSNE to project the data to a 2D data representation\n",
        "tsne = TSNE(n_components=2)\n",
        "dec_z = tsne.fit_transform(data)\n",
        "\n",
        "# Creating a dataset that includes the samples and the cluster centers \n",
        "data = np.append(ae_km.cluster_centers_,ae_mapped_data[ix],axis=0)\n",
        "# Applying tSNE to project the data to a 2D data representation\n",
        "tsne = TSNE(n_components=2)\n",
        "ae_z = tsne.fit_transform(data)"
      ],
      "execution_count": 0,
      "outputs": []
    },
    {
      "cell_type": "code",
      "metadata": {
        "colab_type": "code",
        "outputId": "0e404b02-dfe9-45a6-eb9e-d5979199eba6",
        "id": "mJuJ9um5jyBP",
        "colab": {
          "base_uri": "https://localhost:8080/",
          "height": 570
        }
      },
      "source": [
        "# Plot the ground truth data vs the predicted labels\n",
        "cn = n_clusters\n",
        "f = plt.figure(figsize=(10,9))\n",
        "\n",
        "ax = f.add_subplot(221)\n",
        "ax.title.set_text(\"Autoencoder: Ground truth labels\")\n",
        "ax.scatter(ae_z[cn:,0],ae_z[cn:,1],c=y[ix])\n",
        "ax.scatter(ae_z[:cn,0],ae_z[:cn,1],c='r',marker='+')\n",
        "# Predictions\n",
        "ax = f.add_subplot(222)\n",
        "ax.title.set_text(\"Predicted labels\")\n",
        "ax.scatter(ae_z[cn:,0],ae_z[cn:,1],c=ae_labels[ix])\n",
        "ax.scatter(ae_z[:cn,0],ae_z[:cn,1],c='r',marker='+')\n",
        "\n",
        "ax = f.add_subplot(223)\n",
        "ax.title.set_text(\"DEC: Ground truth labels\")\n",
        "ax.scatter(dec_z[cn:,0],dec_z[cn:,1],c=y[ix])\n",
        "ax.scatter(dec_z[:cn,0],dec_z[:cn,1],c='r',marker='+')\n",
        "# Predictions\n",
        "ax = f.add_subplot(224)\n",
        "ax.title.set_text(\"Predicted labels\")\n",
        "ax.scatter(dec_z[cn:,0],dec_z[cn:,1],c=dec_labels[ix])\n",
        "ax.scatter(dec_z[:cn,0],dec_z[:cn,1],c='r',marker='+')\n"
      ],
      "execution_count": 40,
      "outputs": [
        {
          "output_type": "execute_result",
          "data": {
            "text/plain": [
              "<matplotlib.collections.PathCollection at 0x7fcce60a4d68>"
            ]
          },
          "metadata": {
            "tags": []
          },
          "execution_count": 40
        },
        {
          "output_type": "display_data",
          "data": {
            "image/png": "[encoded data removed]",
            "text/plain": [
              "<Figure size 720x648 with 4 Axes>"
            ]
          },
          "metadata": {
            "tags": []
          }
        }
      ]
    },
    {
      "cell_type": "markdown",
      "metadata": {
        "id": "zfQQb5in5m-0",
        "colab_type": "text"
      },
      "source": [
        "It can be confirmed that DEC increases the intra-class similarity while decreasing the inter-class similarity which leads to a better quality for clustering.\n",
        "\n",
        "As a final remark for the second part of this series, let's evaluate the accuracy and NMI measures when the Kmeans algorithm is directly applied to the input data. It can be confirmed that this algorithm is negatively affected by the curse of data dimentionality if the input data is directly used. "
      ]
    },
    {
      "cell_type": "code",
      "metadata": {
        "id": "U8gY2_fM6XAs",
        "colab_type": "code",
        "colab": {
          "base_uri": "https://localhost:8080/",
          "height": 122
        },
        "outputId": "eddbf55f-2f89-47ab-ff91-4ba6f1ee463a"
      },
      "source": [
        "# K-means with 10 clusters\n",
        "km = KMeans(n_clusters=10)\n",
        "km.fit(x)\n",
        "# ae_idx stores the cluster membership of the data using autoencoder\n",
        "idx = km.predict(x)\n",
        "print(tabulate([['Kmeans', np.round(metrics.acc(y, idx),3),np.round(metrics.nmi(y, idx),3)]],  \n",
        "              headers=['Method', 'Accuracy', 'NMI']))"
      ],
      "execution_count": 44,
      "outputs": [
        {
          "output_type": "stream",
          "text": [
            "Method      Accuracy    NMI\n",
            "--------  ----------  -----\n",
            "Kmeans         0.675  0.633\n"
          ],
          "name": "stdout"
        },
        {
          "output_type": "stream",
          "text": [
            "/usr/local/lib/python3.6/dist-packages/sklearn/utils/linear_assignment_.py:128: FutureWarning: The linear_assignment function is deprecated in 0.21 and will be removed from 0.23. Use scipy.optimize.linear_sum_assignment instead.\n",
            "  FutureWarning)\n"
          ],
          "name": "stderr"
        }
      ]
    }
  ]
}
