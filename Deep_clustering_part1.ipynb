{
  "nbformat": 4,
  "nbformat_minor": 0,
  "metadata": {
    "colab": {
      "name": "Deep clustering-part1",
      "provenance": [],
      "collapsed_sections": [],
      "include_colab_link": true
    },
    "kernelspec": {
      "name": "python3",
      "display_name": "Python 3"
    },
    "accelerator": "GPU"
  },
  "cells": [
    {
      "cell_type": "markdown",
      "metadata": {
        "id": "view-in-github",
        "colab_type": "text"
      },
      "source": [
        "<a href=\"https://colab.research.google.com/github/zghafoori/Deep-Clustering/blob/master/Deep_clustering_part1.ipynb\" target=\"_parent\"><img src=\"https://colab.research.google.com/assets/colab-badge.svg\" alt=\"Open In Colab\"/></a>"
      ]
    },
    {
      "cell_type": "markdown",
      "metadata": {
        "id": "cWQtqdqmla_6",
        "colab_type": "text"
      },
      "source": [
        "# Deep Clustering - Part 1: Quality of the clusters initialisation\n",
        "\n",
        "Clustering refers to dividing data points into groups such that members of the same group are more similar to each other compared to those in other groups. Traditional methods of clustering typically use similarity measures to compare data points and assign them to clusters.\n",
        "\n",
        "\n",
        "Deep clustering refers to using deep neural networks to map a high dimentional data to a new lower-dimentinal *hidden space*. The aim is to improve the accuracy of clustering by increasing the inter-cluster dissimilarity as well as instra-cluster similarity in the hidden space. In addition, the neural network is used to generate abstract and useful features such that the effect of the curse of dimentionality on the similarity measure, which is used for clustering, is minimised. The final clustering is performed in the hidden space and the clustering loss in backpropagated through the network to tune the neural network weights and consequently the data representation in the hidden space.\n",
        "\n",
        "The quality of final clustering in deep clustering highly depends on the initialisation of the clusters in the hidden space. The typcal way of performing this step is to train an autoencoder and use the encoder part of it to initialise the data mapping to the hidden space. This is shown in Figure 1.\n",
        "\n",
        "<figure>\n",
        "<center>\n",
        "<img src='https://drive.google.com/uc?id=1xM4nBJd9ciyhbItW5V5b5BQVDRAe_U9a' width=\"600\"/>\n",
        "<figcaption>Figure 1. General steps in deep clustering. (Step 1) Training an autoencoder to initialise the data embedding in the hidden space. (Step 2) Fine tuning the network weights and the data embedding using a clustering based loss function. The aim is to increase the inter-cluster dissimilarity and intra-cluster similarities.</figcaption></center>\n",
        "</figure>\n",
        "\n",
        "In this serries, the quality of the clusters initialisation is investigated as it affects the final quality of clusters in deep clustering. MNIST dataset is used to show how the choice of the autoencoder will affect the quality of initial clustering in the hidden space. The following types of autoencoders with symetric architectures are used.\n",
        "\n",
        "1. Simple autoencoder\n",
        "2. Convolutional autoencoder\n",
        "3. Variational convolutional autoencoder\n"
      ]
    },
    {
      "cell_type": "markdown",
      "metadata": {
        "id": "sYOz8iztqvpu",
        "colab_type": "text"
      },
      "source": [
        "# Data Preparation\n",
        "\n",
        "Data preparation is one of the most important steps in data modelling. In this section, the MNIST data is downloaded and prepared for analyses. Preprocessing steps are applied on the images first to increase the performance of the applied methods.\n",
        "\n",
        "Now, let's load the python libraries and modules that are used in this document."
      ]
    },
    {
      "cell_type": "code",
      "metadata": {
        "id": "kC2MpKPG_OFq",
        "colab_type": "code",
        "outputId": "692646aa-d9f2-4f40-b0d0-1ab8ebd1fa84",
        "colab": {
          "base_uri": "https://localhost:8080/",
          "height": 81
        }
      },
      "source": [
        "# Importing the required libraries and modules\n",
        "import numpy as np\n",
        "import matplotlib.pyplot as plt\n",
        "from sklearn.decomposition import PCA\n",
        "from keras.datasets import mnist\n",
        "\n",
        "from keras.layers import Input, InputLayer, Activation\n",
        "from keras.layers import Dense, Conv2D, Conv2DTranspose\n",
        "from keras.layers import MaxPooling2D\n",
        "from keras.layers import Flatten, Reshape, Lambda\n",
        "from keras.models import Model, Sequential\n",
        "from keras.losses import mse, binary_crossentropy\n",
        "from keras import backend as K"
      ],
      "execution_count": 0,
      "outputs": [
        {
          "output_type": "stream",
          "text": [
            "Using TensorFlow backend.\n"
          ],
          "name": "stderr"
        },
        {
          "output_type": "display_data",
          "data": {
            "text/html": [
              "<p style=\"color: red;\">\n",
              "The default version of TensorFlow in Colab will soon switch to TensorFlow 2.x.<br>\n",
              "We recommend you <a href=\"https://www.tensorflow.org/guide/migrate\" target=\"_blank\">upgrade</a> now \n",
              "or ensure your notebook will continue to use TensorFlow 1.x via the <code>%tensorflow_version 1.x</code> magic:\n",
              "<a href=\"https://colab.research.google.com/notebooks/tensorflow_version.ipynb\" target=\"_blank\">more info</a>.</p>\n"
            ],
            "text/plain": [
              "<IPython.core.display.HTML object>"
            ]
          },
          "metadata": {
            "tags": []
          }
        }
      ]
    },
    {
      "cell_type": "markdown",
      "metadata": {
        "id": "9tB1hN6A3u8X",
        "colab_type": "text"
      },
      "source": [
        "Deskewing is the process of straightening an image that is slanting too far in one direction or is misaligned. The following functions are used for performing this process. We use this preprocessing step to align the digit images in the MNIST dataset."
      ]
    },
    {
      "cell_type": "code",
      "metadata": {
        "id": "qlwg1SMXFUli",
        "colab_type": "code",
        "colab": {}
      },
      "source": [
        "# The data preprocessing step for the image data using deskewing technique\n",
        "from scipy.ndimage import interpolation\n",
        "def moments(image):\n",
        "    c0,c1 = np.mgrid[:image.shape[0],:image.shape[1]] # A trick in numPy to create a mesh grid\n",
        "    totalImage = np.sum(image) #sum of pixels\n",
        "    m0 = np.sum(c0*image)/totalImage #mu_x\n",
        "    m1 = np.sum(c1*image)/totalImage #mu_y\n",
        "    m00 = np.sum((c0-m0)**2*image)/totalImage #var(x)\n",
        "    m11 = np.sum((c1-m1)**2*image)/totalImage #var(y)\n",
        "    m01 = np.sum((c0-m0)*(c1-m1)*image)/totalImage #covariance(x,y)\n",
        "    mu_vector = np.array([m0,m1]) # Notice that these are \\mu_x, \\mu_y respectively\n",
        "    covariance_matrix = np.array([[m00,m01],[m01,m11]]) # Do you see a similarity between the covariance matrix\n",
        "    return mu_vector, covariance_matrix\n",
        "\n",
        "def deskew(image):\n",
        "    c,v = moments(image)\n",
        "    alpha = v[0,1]/v[0,0]\n",
        "    affine = np.array([[1,0],[alpha,1]])\n",
        "    ocenter = np.array(image.shape)/2.0\n",
        "    offset = c-np.dot(affine,ocenter)\n",
        "    return interpolation.affine_transform(image,affine,offset=offset)"
      ],
      "execution_count": 0,
      "outputs": []
    },
    {
      "cell_type": "markdown",
      "metadata": {
        "id": "1wxvumTK31Ow",
        "colab_type": "text"
      },
      "source": [
        "The MNIST dataset is first downloaded and normalised in the range $[0, 1]$ by devision to 255."
      ]
    },
    {
      "cell_type": "code",
      "metadata": {
        "id": "Q0Wwajkp_Ubq",
        "colab_type": "code",
        "outputId": "d90ce7eb-76b7-4564-ebe0-4d140f83fd91",
        "colab": {
          "base_uri": "https://localhost:8080/",
          "height": 52
        }
      },
      "source": [
        "# Extracting the MNIST train and test sets \n",
        "(xTrain, yTrain), (xTest, yTest) = mnist.load_data()\n",
        "\n",
        "# Rescaling the data in the range [0,1]\n",
        "xTrain = xTrain/255.\n",
        "xTest = xTest/255."
      ],
      "execution_count": 0,
      "outputs": [
        {
          "output_type": "stream",
          "text": [
            "Downloading data from https://s3.amazonaws.com/img-datasets/mnist.npz\n",
            "11493376/11490434 [==============================] - 11s 1us/step\n"
          ],
          "name": "stdout"
        }
      ]
    },
    {
      "cell_type": "code",
      "metadata": {
        "id": "dS_JqUbepehm",
        "colab_type": "code",
        "outputId": "3ea48739-f940-4753-c9a1-25c4b3e4d725",
        "colab": {
          "base_uri": "https://localhost:8080/",
          "height": 226
        }
      },
      "source": [
        "# Display a sample image per digit before the data preprocessing step\n",
        "for i in np.unique(yTrain,return_index=True)[1]:\n",
        "  ax = plt.subplot(2,5,yTrain[i]+1)\n",
        "  ax.imshow(xTrain[i])"
      ],
      "execution_count": 0,
      "outputs": [
        {
          "output_type": "display_data",
          "data": {
            "image/png": "[encoded data removed]",
            "text/plain": [
              "<Figure size 432x288 with 10 Axes>"
            ]
          },
          "metadata": {
            "tags": []
          }
        }
      ]
    },
    {
      "cell_type": "markdown",
      "metadata": {
        "id": "OJMnb2eJtlMZ",
        "colab_type": "text"
      },
      "source": [
        "This deskewing method is applied on the images and the result is again normalised in the range $[0, 1]$ by means of min-max scaling method. This step can be skipped to see how the results will change without the application of deskewing."
      ]
    },
    {
      "cell_type": "code",
      "metadata": {
        "id": "EkeLXWmlFxgw",
        "colab_type": "code",
        "colab": {}
      },
      "source": [
        "# Deskewing MNIST train and test set\n",
        "for i in range(len(xTrain)):\n",
        "  xTrain[i] = deskew(xTrain[i])\n",
        "for i in range(len(xTest)):\n",
        "  xTest[i] = deskew(xTest[i])\n",
        "\n",
        "# Reshaping data instances to be in the shape 1-by-(28*28) \n",
        "imgSize = xTrain.shape[1:]\n",
        "xTrain = xTrain.reshape([-1, np.prod(imgSize)]).astype(np.float32)\n",
        "xTest = xTest.reshape([-1, np.prod(imgSize)]).astype(np.float32)\n",
        "\n",
        "# Normalising the data in the range [0,1] using the MinMax scaler method:\n",
        "# per feature vector v: v = (v-min(v))/(max(v)-min(v))\n",
        "from sklearn.preprocessing import MinMaxScaler\n",
        "scaler = MinMaxScaler()\n",
        "scaler.fit(xTrain)\n",
        "xTrain = scaler.transform(xTrain)\n",
        "xTest = scaler.transform(xTest)"
      ],
      "execution_count": 0,
      "outputs": []
    },
    {
      "cell_type": "markdown",
      "metadata": {
        "id": "SMs8W7_vr5ds",
        "colab_type": "text"
      },
      "source": [
        "We can see that in the sample images, digits $0$, $3$ and $8$ are evidently aligned. "
      ]
    },
    {
      "cell_type": "code",
      "metadata": {
        "id": "jmgdCTwbrmTx",
        "colab_type": "code",
        "outputId": "82120168-89c8-41fe-a9d8-c3fff48ada9d",
        "colab": {
          "base_uri": "https://localhost:8080/",
          "height": 226
        }
      },
      "source": [
        "# Display a sample image per digit after the data preprocessing step\n",
        "for i in np.unique(yTrain,return_index=True)[1]:\n",
        "  ax = plt.subplot(2,5,yTrain[i]+1)\n",
        "  ax.imshow(xTrain[i].reshape(28,28))"
      ],
      "execution_count": 0,
      "outputs": [
        {
          "output_type": "display_data",
          "data": {
            "image/png": "[encoded data removed]",
            "text/plain": [
              "<Figure size 432x288 with 10 Axes>"
            ]
          },
          "metadata": {
            "tags": []
          }
        }
      ]
    },
    {
      "cell_type": "markdown",
      "metadata": {
        "id": "fijaZ0BDtrC9",
        "colab_type": "text"
      },
      "source": [
        "# Symetric Autoencoder\n",
        "\n",
        "The idea is to use an autoencoder with a bottleneck-like structures that includes an encoder followed by a decoder. The aim is to project the data to a much lower number of dimentions then reconstruct the input from the hidden lower-dimentional data representation. As a by-product of this process, a new feature space is created in the last layer of the encoder, which extracts usfule and abstract features from the data. \n",
        "\n",
        "In this section, the option of using a simple symetric autoencoder for this goal is investigated. The structure of the autoencoder is chosen based on the typical network structure used in the related literature."
      ]
    },
    {
      "cell_type": "code",
      "metadata": {
        "id": "RLcMim9d1-yC",
        "colab_type": "code",
        "colab": {}
      },
      "source": [
        "# Reset the session to delete old models if required\n",
        "# Skip this step if it is not required\n",
        "K.clear_session()"
      ],
      "execution_count": 0,
      "outputs": []
    },
    {
      "cell_type": "code",
      "metadata": {
        "id": "PwfGV0OU1cpX",
        "colab_type": "code",
        "colab": {}
      },
      "source": [
        "# Setting parameters\n",
        "# Network structure for the encoder\n",
        "# By experimemt the choice of [xTrain.shape[1],1000,10] also works well\n",
        "units = [xTrain.shape[1],500,500,2000,10] \n",
        "optimizer = 'adam'\n",
        "loss = 'mse'\n",
        "activation = 'relu'\n",
        "batch_size = 256\n",
        "n_epochs = 200\n",
        "k = 10 # number of clusters"
      ],
      "execution_count": 0,
      "outputs": []
    },
    {
      "cell_type": "markdown",
      "metadata": {
        "id": "hvbYtdVPvi8m",
        "colab_type": "text"
      },
      "source": [
        "Building the encoder and displaying its properties."
      ]
    },
    {
      "cell_type": "code",
      "metadata": {
        "id": "vbGF4MDZfMvA",
        "colab_type": "code",
        "outputId": "01245f73-1d79-433d-9e91-e1e31c290261",
        "colab": {
          "base_uri": "https://localhost:8080/",
          "height": 336
        }
      },
      "source": [
        "# Encoder\n",
        "encoder = Sequential(name='encoder')\n",
        "encoder.add(Dense(units[1], input_dim=units[0], activation=activation))\n",
        "for i in range(2,len(units)-1):\n",
        "  encoder.add(Dense(units[i], activation=activation))\n",
        "encoder.add(Dense(units[-1]))\n",
        "encoder.summary()"
      ],
      "execution_count": 0,
      "outputs": [
        {
          "output_type": "stream",
          "text": [
            "WARNING:tensorflow:From /usr/local/lib/python3.6/dist-packages/keras/backend/tensorflow_backend.py:4432: The name tf.random_uniform is deprecated. Please use tf.random.uniform instead.\n",
            "\n",
            "Model: \"encoder\"\n",
            "_________________________________________________________________\n",
            "Layer (type)                 Output Shape              Param #   \n",
            "=================================================================\n",
            "dense_1 (Dense)              (None, 500)               392500    \n",
            "_________________________________________________________________\n",
            "dense_2 (Dense)              (None, 500)               250500    \n",
            "_________________________________________________________________\n",
            "dense_3 (Dense)              (None, 2000)              1002000   \n",
            "_________________________________________________________________\n",
            "dense_4 (Dense)              (None, 10)                20010     \n",
            "=================================================================\n",
            "Total params: 1,665,010\n",
            "Trainable params: 1,665,010\n",
            "Non-trainable params: 0\n",
            "_________________________________________________________________\n"
          ],
          "name": "stdout"
        }
      ]
    },
    {
      "cell_type": "markdown",
      "metadata": {
        "id": "zt42We5dv_ck",
        "colab_type": "text"
      },
      "source": [
        "Building the decoder and displaying its properties."
      ]
    },
    {
      "cell_type": "code",
      "metadata": {
        "id": "p0hSCAhTo8Ra",
        "colab_type": "code",
        "outputId": "0626eab6-b72a-41e3-dc83-6b2380eae441",
        "colab": {
          "base_uri": "https://localhost:8080/",
          "height": 301
        }
      },
      "source": [
        "# Decoder\n",
        "decoder = Sequential(name='decoder')\n",
        "decoder.add(Dense(units[-2], input_dim=units[-1], activation=activation))\n",
        "for i in range(-3,-len(units),-1):\n",
        "  decoder.add(Dense(units[i], activation=activation))\n",
        "decoder.add(Dense(units[0]))\n",
        "decoder.summary()"
      ],
      "execution_count": 0,
      "outputs": [
        {
          "output_type": "stream",
          "text": [
            "Model: \"decoder\"\n",
            "_________________________________________________________________\n",
            "Layer (type)                 Output Shape              Param #   \n",
            "=================================================================\n",
            "dense_5 (Dense)              (None, 2000)              22000     \n",
            "_________________________________________________________________\n",
            "dense_6 (Dense)              (None, 500)               1000500   \n",
            "_________________________________________________________________\n",
            "dense_7 (Dense)              (None, 500)               250500    \n",
            "_________________________________________________________________\n",
            "dense_8 (Dense)              (None, 784)               392784    \n",
            "=================================================================\n",
            "Total params: 1,665,784\n",
            "Trainable params: 1,665,784\n",
            "Non-trainable params: 0\n",
            "_________________________________________________________________\n"
          ],
          "name": "stdout"
        }
      ]
    },
    {
      "cell_type": "markdown",
      "metadata": {
        "id": "5TFgPdO2wDuh",
        "colab_type": "text"
      },
      "source": [
        "Building the autoencoder and displaying its properties."
      ]
    },
    {
      "cell_type": "code",
      "metadata": {
        "id": "OneC7qvYxQ2Y",
        "colab_type": "code",
        "outputId": "a6870a80-de46-46eb-d115-f0c740d29d66",
        "colab": {
          "base_uri": "https://localhost:8080/",
          "height": 301
        }
      },
      "source": [
        "#Simple autoencoder\n",
        "inputs = Input(shape=(xTrain.shape[1],))\n",
        "encoded = encoder(inputs)\n",
        "decoded = decoder(encoded)\n",
        "ae = Model(inputs,decoded)\n",
        "ae.compile(optimizer=optimizer, loss=loss)\n",
        "ae.summary()"
      ],
      "execution_count": 0,
      "outputs": [
        {
          "output_type": "stream",
          "text": [
            "WARNING:tensorflow:From /usr/local/lib/python3.6/dist-packages/keras/optimizers.py:793: The name tf.train.Optimizer is deprecated. Please use tf.compat.v1.train.Optimizer instead.\n",
            "\n",
            "Model: \"model_1\"\n",
            "_________________________________________________________________\n",
            "Layer (type)                 Output Shape              Param #   \n",
            "=================================================================\n",
            "input_1 (InputLayer)         (None, 784)               0         \n",
            "_________________________________________________________________\n",
            "encoder (Sequential)         (None, 10)                1665010   \n",
            "_________________________________________________________________\n",
            "decoder (Sequential)         (None, 784)               1665784   \n",
            "=================================================================\n",
            "Total params: 3,330,794\n",
            "Trainable params: 3,330,794\n",
            "Non-trainable params: 0\n",
            "_________________________________________________________________\n"
          ],
          "name": "stdout"
        }
      ]
    },
    {
      "cell_type": "markdown",
      "metadata": {
        "id": "CU22B6GGwKRd",
        "colab_type": "text"
      },
      "source": [
        "By calling the fit method, the training is begun and the network weights of the encoder and decoder are updated. The Mean-Squered_error of the reconstructions is used as the loss fuction and it is optimised using Adam optimizer. A $1$ to $4$ ration is used to divide the data to the validation and training sets. The training progress and history of the training loss are depicted. "
      ]
    },
    {
      "cell_type": "code",
      "metadata": {
        "id": "p234LrUC8fYU",
        "colab_type": "code",
        "outputId": "2a5fced2-ce1c-498e-a2d9-888582dd9fa8",
        "colab": {
          "base_uri": "https://localhost:8080/",
          "height": 1000
        }
      },
      "source": [
        "results = ae.fit(x=xTrain,y=xTrain,batch_size=batch_size,\n",
        "       epochs=n_epochs,verbose=1,validation_split=0.8)\n",
        "plt.plot(results.history['loss'])\n",
        "plt.xlabel('Epoch')\n",
        "plt.ylabel('Training Loss')"
      ],
      "execution_count": 0,
      "outputs": [
        {
          "output_type": "stream",
          "text": [
            "WARNING:tensorflow:From /usr/local/lib/python3.6/dist-packages/keras/backend/tensorflow_backend.py:1033: The name tf.assign_add is deprecated. Please use tf.compat.v1.assign_add instead.\n",
            "\n",
            "WARNING:tensorflow:From /usr/local/lib/python3.6/dist-packages/keras/backend/tensorflow_backend.py:1020: The name tf.assign is deprecated. Please use tf.compat.v1.assign instead.\n",
            "\n",
            "WARNING:tensorflow:From /usr/local/lib/python3.6/dist-packages/keras/backend/tensorflow_backend.py:3005: The name tf.Session is deprecated. Please use tf.compat.v1.Session instead.\n",
            "\n",
            "Train on 11999 samples, validate on 48001 samples\n",
            "Epoch 1/200\n",
            "WARNING:tensorflow:From /usr/local/lib/python3.6/dist-packages/keras/backend/tensorflow_backend.py:190: The name tf.get_default_session is deprecated. Please use tf.compat.v1.get_default_session instead.\n",
            "\n",
            "WARNING:tensorflow:From /usr/local/lib/python3.6/dist-packages/keras/backend/tensorflow_backend.py:197: The name tf.ConfigProto is deprecated. Please use tf.compat.v1.ConfigProto instead.\n",
            "\n",
            "WARNING:tensorflow:From /usr/local/lib/python3.6/dist-packages/keras/backend/tensorflow_backend.py:207: The name tf.global_variables is deprecated. Please use tf.compat.v1.global_variables instead.\n",
            "\n",
            "WARNING:tensorflow:From /usr/local/lib/python3.6/dist-packages/keras/backend/tensorflow_backend.py:216: The name tf.is_variable_initialized is deprecated. Please use tf.compat.v1.is_variable_initialized instead.\n",
            "\n",
            "WARNING:tensorflow:From /usr/local/lib/python3.6/dist-packages/keras/backend/tensorflow_backend.py:223: The name tf.variables_initializer is deprecated. Please use tf.compat.v1.variables_initializer instead.\n",
            "\n",
            "11999/11999 [==============================] - 10s 852us/step - loss: 0.0421 - val_loss: 0.0295\n",
            "Epoch 2/200\n",
            "11999/11999 [==============================] - 1s 60us/step - loss: 0.0292 - val_loss: 0.0290\n",
            "Epoch 3/200\n",
            "11999/11999 [==============================] - 1s 60us/step - loss: 0.0252 - val_loss: 0.0215\n",
            "Epoch 4/200\n",
            "11999/11999 [==============================] - 1s 60us/step - loss: 0.0196 - val_loss: 0.0177\n",
            "Epoch 5/200\n",
            "11999/11999 [==============================] - 1s 60us/step - loss: 0.0159 - val_loss: 0.0150\n",
            "Epoch 6/200\n",
            "11999/11999 [==============================] - 1s 60us/step - loss: 0.0138 - val_loss: 0.0134\n",
            "Epoch 7/200\n",
            "11999/11999 [==============================] - 1s 61us/step - loss: 0.0125 - val_loss: 0.0126\n",
            "Epoch 8/200\n",
            "11999/11999 [==============================] - 1s 60us/step - loss: 0.0117 - val_loss: 0.0118\n",
            "Epoch 9/200\n",
            "11999/11999 [==============================] - 1s 60us/step - loss: 0.0108 - val_loss: 0.0107\n",
            "Epoch 10/200\n",
            "11999/11999 [==============================] - 1s 61us/step - loss: 0.0101 - val_loss: 0.0103\n",
            "Epoch 11/200\n",
            "11999/11999 [==============================] - 1s 60us/step - loss: 0.0096 - val_loss: 0.0099\n",
            "Epoch 12/200\n",
            "11999/11999 [==============================] - 1s 60us/step - loss: 0.0092 - val_loss: 0.0095\n",
            "Epoch 13/200\n",
            "11999/11999 [==============================] - 1s 61us/step - loss: 0.0088 - val_loss: 0.0092\n",
            "Epoch 14/200\n",
            "11999/11999 [==============================] - 1s 60us/step - loss: 0.0085 - val_loss: 0.0088\n",
            "Epoch 15/200\n",
            "11999/11999 [==============================] - 1s 60us/step - loss: 0.0082 - val_loss: 0.0086\n",
            "Epoch 16/200\n",
            "11999/11999 [==============================] - 1s 59us/step - loss: 0.0080 - val_loss: 0.0084\n",
            "Epoch 17/200\n",
            "11999/11999 [==============================] - 1s 61us/step - loss: 0.0078 - val_loss: 0.0082\n",
            "Epoch 18/200\n",
            "11999/11999 [==============================] - 1s 60us/step - loss: 0.0076 - val_loss: 0.0082\n",
            "Epoch 19/200\n",
            "11999/11999 [==============================] - 1s 60us/step - loss: 0.0075 - val_loss: 0.0080\n",
            "Epoch 20/200\n",
            "11999/11999 [==============================] - 1s 61us/step - loss: 0.0074 - val_loss: 0.0079\n",
            "Epoch 21/200\n",
            "11999/11999 [==============================] - 1s 59us/step - loss: 0.0072 - val_loss: 0.0077\n",
            "Epoch 22/200\n",
            "11999/11999 [==============================] - 1s 60us/step - loss: 0.0071 - val_loss: 0.0078\n",
            "Epoch 23/200\n",
            "11999/11999 [==============================] - 1s 60us/step - loss: 0.0070 - val_loss: 0.0076\n",
            "Epoch 24/200\n",
            "11999/11999 [==============================] - 1s 62us/step - loss: 0.0069 - val_loss: 0.0076\n",
            "Epoch 25/200\n",
            "11999/11999 [==============================] - 1s 61us/step - loss: 0.0068 - val_loss: 0.0074\n",
            "Epoch 26/200\n",
            "11999/11999 [==============================] - 1s 60us/step - loss: 0.0067 - val_loss: 0.0074\n",
            "Epoch 27/200\n",
            "11999/11999 [==============================] - 1s 60us/step - loss: 0.0066 - val_loss: 0.0073\n",
            "Epoch 28/200\n",
            "11999/11999 [==============================] - 1s 61us/step - loss: 0.0065 - val_loss: 0.0073\n",
            "Epoch 29/200\n",
            "11999/11999 [==============================] - 1s 60us/step - loss: 0.0064 - val_loss: 0.0072\n",
            "Epoch 30/200\n",
            "11999/11999 [==============================] - 1s 62us/step - loss: 0.0064 - val_loss: 0.0072\n",
            "Epoch 31/200\n",
            "11999/11999 [==============================] - 1s 62us/step - loss: 0.0063 - val_loss: 0.0071\n",
            "Epoch 32/200\n",
            "11999/11999 [==============================] - 1s 61us/step - loss: 0.0062 - val_loss: 0.0070\n",
            "Epoch 33/200\n",
            "11999/11999 [==============================] - 1s 60us/step - loss: 0.0061 - val_loss: 0.0070\n",
            "Epoch 34/200\n",
            "11999/11999 [==============================] - 1s 60us/step - loss: 0.0061 - val_loss: 0.0070\n",
            "Epoch 35/200\n",
            "11999/11999 [==============================] - 1s 61us/step - loss: 0.0060 - val_loss: 0.0069\n",
            "Epoch 36/200\n",
            "11999/11999 [==============================] - 1s 59us/step - loss: 0.0060 - val_loss: 0.0068\n",
            "Epoch 37/200\n",
            "11999/11999 [==============================] - 1s 60us/step - loss: 0.0059 - val_loss: 0.0069\n",
            "Epoch 38/200\n",
            "11999/11999 [==============================] - 1s 58us/step - loss: 0.0059 - val_loss: 0.0068\n",
            "Epoch 39/200\n",
            "11999/11999 [==============================] - 1s 61us/step - loss: 0.0058 - val_loss: 0.0067\n",
            "Epoch 40/200\n",
            "11999/11999 [==============================] - 1s 60us/step - loss: 0.0058 - val_loss: 0.0067\n",
            "Epoch 41/200\n",
            "11999/11999 [==============================] - 1s 60us/step - loss: 0.0057 - val_loss: 0.0066\n",
            "Epoch 42/200\n",
            "11999/11999 [==============================] - 1s 59us/step - loss: 0.0056 - val_loss: 0.0066\n",
            "Epoch 43/200\n",
            "11999/11999 [==============================] - 1s 60us/step - loss: 0.0056 - val_loss: 0.0066\n",
            "Epoch 44/200\n",
            "11999/11999 [==============================] - 1s 61us/step - loss: 0.0056 - val_loss: 0.0066\n",
            "Epoch 45/200\n",
            "11999/11999 [==============================] - 1s 60us/step - loss: 0.0056 - val_loss: 0.0066\n",
            "Epoch 46/200\n",
            "11999/11999 [==============================] - 1s 60us/step - loss: 0.0055 - val_loss: 0.0065\n",
            "Epoch 47/200\n",
            "11999/11999 [==============================] - 1s 59us/step - loss: 0.0054 - val_loss: 0.0065\n",
            "Epoch 48/200\n",
            "11999/11999 [==============================] - 1s 60us/step - loss: 0.0054 - val_loss: 0.0065\n",
            "Epoch 49/200\n",
            "11999/11999 [==============================] - 1s 60us/step - loss: 0.0053 - val_loss: 0.0065\n",
            "Epoch 50/200\n",
            "11999/11999 [==============================] - 1s 60us/step - loss: 0.0053 - val_loss: 0.0065\n",
            "Epoch 51/200\n",
            "11999/11999 [==============================] - 1s 59us/step - loss: 0.0053 - val_loss: 0.0065\n",
            "Epoch 52/200\n",
            "11999/11999 [==============================] - 1s 59us/step - loss: 0.0053 - val_loss: 0.0065\n",
            "Epoch 53/200\n",
            "11999/11999 [==============================] - 1s 60us/step - loss: 0.0052 - val_loss: 0.0064\n",
            "Epoch 54/200\n",
            "11999/11999 [==============================] - 1s 61us/step - loss: 0.0052 - val_loss: 0.0065\n",
            "Epoch 55/200\n",
            "11999/11999 [==============================] - 1s 61us/step - loss: 0.0052 - val_loss: 0.0063\n",
            "Epoch 56/200\n",
            "11999/11999 [==============================] - 1s 60us/step - loss: 0.0051 - val_loss: 0.0064\n",
            "Epoch 57/200\n",
            "11999/11999 [==============================] - 1s 59us/step - loss: 0.0051 - val_loss: 0.0063\n",
            "Epoch 58/200\n",
            "11999/11999 [==============================] - 1s 60us/step - loss: 0.0050 - val_loss: 0.0063\n",
            "Epoch 59/200\n",
            "11999/11999 [==============================] - 1s 60us/step - loss: 0.0050 - val_loss: 0.0063\n",
            "Epoch 60/200\n",
            "11999/11999 [==============================] - 1s 60us/step - loss: 0.0050 - val_loss: 0.0063\n",
            "Epoch 61/200\n",
            "11999/11999 [==============================] - 1s 60us/step - loss: 0.0050 - val_loss: 0.0063\n",
            "Epoch 62/200\n",
            "11999/11999 [==============================] - 1s 61us/step - loss: 0.0049 - val_loss: 0.0063\n",
            "Epoch 63/200\n",
            "11999/11999 [==============================] - 1s 61us/step - loss: 0.0049 - val_loss: 0.0063\n",
            "Epoch 64/200\n",
            "11999/11999 [==============================] - 1s 60us/step - loss: 0.0049 - val_loss: 0.0063\n",
            "Epoch 65/200\n",
            "11999/11999 [==============================] - 1s 59us/step - loss: 0.0049 - val_loss: 0.0062\n",
            "Epoch 66/200\n",
            "11999/11999 [==============================] - 1s 60us/step - loss: 0.0048 - val_loss: 0.0062\n",
            "Epoch 67/200\n",
            "11999/11999 [==============================] - 1s 59us/step - loss: 0.0048 - val_loss: 0.0063\n",
            "Epoch 68/200\n",
            "11999/11999 [==============================] - 1s 60us/step - loss: 0.0048 - val_loss: 0.0062\n",
            "Epoch 69/200\n",
            "11999/11999 [==============================] - 1s 60us/step - loss: 0.0048 - val_loss: 0.0063\n",
            "Epoch 70/200\n",
            "11999/11999 [==============================] - 1s 58us/step - loss: 0.0047 - val_loss: 0.0062\n",
            "Epoch 71/200\n",
            "11999/11999 [==============================] - 1s 59us/step - loss: 0.0047 - val_loss: 0.0063\n",
            "Epoch 72/200\n",
            "11999/11999 [==============================] - 1s 59us/step - loss: 0.0047 - val_loss: 0.0061\n",
            "Epoch 73/200\n",
            "11999/11999 [==============================] - 1s 60us/step - loss: 0.0046 - val_loss: 0.0061\n",
            "Epoch 74/200\n",
            "11999/11999 [==============================] - 1s 59us/step - loss: 0.0046 - val_loss: 0.0061\n",
            "Epoch 75/200\n",
            "11999/11999 [==============================] - 1s 58us/step - loss: 0.0046 - val_loss: 0.0062\n",
            "Epoch 76/200\n",
            "11999/11999 [==============================] - 1s 60us/step - loss: 0.0046 - val_loss: 0.0062\n",
            "Epoch 77/200\n",
            "11999/11999 [==============================] - 1s 59us/step - loss: 0.0046 - val_loss: 0.0061\n",
            "Epoch 78/200\n",
            "11999/11999 [==============================] - 1s 59us/step - loss: 0.0046 - val_loss: 0.0061\n",
            "Epoch 79/200\n",
            "11999/11999 [==============================] - 1s 58us/step - loss: 0.0046 - val_loss: 0.0061\n",
            "Epoch 80/200\n",
            "11999/11999 [==============================] - 1s 58us/step - loss: 0.0045 - val_loss: 0.0061\n",
            "Epoch 81/200\n",
            "11999/11999 [==============================] - 1s 60us/step - loss: 0.0045 - val_loss: 0.0061\n",
            "Epoch 82/200\n",
            "11999/11999 [==============================] - 1s 60us/step - loss: 0.0045 - val_loss: 0.0061\n",
            "Epoch 83/200\n",
            "11999/11999 [==============================] - 1s 60us/step - loss: 0.0045 - val_loss: 0.0060\n",
            "Epoch 84/200\n",
            "11999/11999 [==============================] - 1s 59us/step - loss: 0.0044 - val_loss: 0.0061\n",
            "Epoch 85/200\n",
            "11999/11999 [==============================] - 1s 59us/step - loss: 0.0044 - val_loss: 0.0060\n",
            "Epoch 86/200\n",
            "11999/11999 [==============================] - 1s 60us/step - loss: 0.0044 - val_loss: 0.0061\n",
            "Epoch 87/200\n",
            "11999/11999 [==============================] - 1s 60us/step - loss: 0.0044 - val_loss: 0.0062\n",
            "Epoch 88/200\n",
            "11999/11999 [==============================] - 1s 61us/step - loss: 0.0044 - val_loss: 0.0061\n",
            "Epoch 89/200\n",
            "11999/11999 [==============================] - 1s 59us/step - loss: 0.0044 - val_loss: 0.0061\n",
            "Epoch 90/200\n",
            "11999/11999 [==============================] - 1s 60us/step - loss: 0.0043 - val_loss: 0.0060\n",
            "Epoch 91/200\n",
            "11999/11999 [==============================] - 1s 59us/step - loss: 0.0044 - val_loss: 0.0061\n",
            "Epoch 92/200\n",
            "11999/11999 [==============================] - 1s 60us/step - loss: 0.0043 - val_loss: 0.0060\n",
            "Epoch 93/200\n",
            "11999/11999 [==============================] - 1s 60us/step - loss: 0.0043 - val_loss: 0.0060\n",
            "Epoch 94/200\n",
            "11999/11999 [==============================] - 1s 59us/step - loss: 0.0043 - val_loss: 0.0060\n",
            "Epoch 95/200\n",
            "11999/11999 [==============================] - 1s 59us/step - loss: 0.0043 - val_loss: 0.0062\n",
            "Epoch 96/200\n",
            "11999/11999 [==============================] - 1s 60us/step - loss: 0.0043 - val_loss: 0.0060\n",
            "Epoch 97/200\n",
            "11999/11999 [==============================] - 1s 59us/step - loss: 0.0042 - val_loss: 0.0060\n",
            "Epoch 98/200\n",
            "11999/11999 [==============================] - 1s 59us/step - loss: 0.0042 - val_loss: 0.0061\n",
            "Epoch 99/200\n",
            "11999/11999 [==============================] - 1s 60us/step - loss: 0.0042 - val_loss: 0.0060\n",
            "Epoch 100/200\n",
            "11999/11999 [==============================] - 1s 58us/step - loss: 0.0042 - val_loss: 0.0060\n",
            "Epoch 101/200\n",
            "11999/11999 [==============================] - 1s 60us/step - loss: 0.0042 - val_loss: 0.0060\n",
            "Epoch 102/200\n",
            "11999/11999 [==============================] - 1s 59us/step - loss: 0.0042 - val_loss: 0.0060\n",
            "Epoch 103/200\n",
            "11999/11999 [==============================] - 1s 60us/step - loss: 0.0042 - val_loss: 0.0061\n",
            "Epoch 104/200\n",
            "11999/11999 [==============================] - 1s 58us/step - loss: 0.0041 - val_loss: 0.0060\n",
            "Epoch 105/200\n",
            "11999/11999 [==============================] - 1s 59us/step - loss: 0.0041 - val_loss: 0.0060\n",
            "Epoch 106/200\n",
            "11999/11999 [==============================] - 1s 59us/step - loss: 0.0041 - val_loss: 0.0060\n",
            "Epoch 107/200\n",
            "11999/11999 [==============================] - 1s 58us/step - loss: 0.0041 - val_loss: 0.0060\n",
            "Epoch 108/200\n",
            "11999/11999 [==============================] - 1s 59us/step - loss: 0.0041 - val_loss: 0.0060\n",
            "Epoch 109/200\n",
            "11999/11999 [==============================] - 1s 59us/step - loss: 0.0040 - val_loss: 0.0060\n",
            "Epoch 110/200\n",
            "11999/11999 [==============================] - 1s 57us/step - loss: 0.0041 - val_loss: 0.0060\n",
            "Epoch 111/200\n",
            "11999/11999 [==============================] - 1s 62us/step - loss: 0.0040 - val_loss: 0.0060\n",
            "Epoch 112/200\n",
            "11999/11999 [==============================] - 1s 61us/step - loss: 0.0040 - val_loss: 0.0060\n",
            "Epoch 113/200\n",
            "11999/11999 [==============================] - 1s 59us/step - loss: 0.0041 - val_loss: 0.0060\n",
            "Epoch 114/200\n",
            "11999/11999 [==============================] - 1s 60us/step - loss: 0.0041 - val_loss: 0.0060\n",
            "Epoch 115/200\n",
            "11999/11999 [==============================] - 1s 60us/step - loss: 0.0040 - val_loss: 0.0060\n",
            "Epoch 116/200\n",
            "11999/11999 [==============================] - 1s 60us/step - loss: 0.0040 - val_loss: 0.0060\n",
            "Epoch 117/200\n",
            "11999/11999 [==============================] - 1s 60us/step - loss: 0.0040 - val_loss: 0.0060\n",
            "Epoch 118/200\n",
            "11999/11999 [==============================] - 1s 59us/step - loss: 0.0040 - val_loss: 0.0060\n",
            "Epoch 119/200\n",
            "11999/11999 [==============================] - 1s 61us/step - loss: 0.0040 - val_loss: 0.0060\n",
            "Epoch 120/200\n",
            "11999/11999 [==============================] - 1s 60us/step - loss: 0.0039 - val_loss: 0.0060\n",
            "Epoch 121/200\n",
            "11999/11999 [==============================] - 1s 61us/step - loss: 0.0039 - val_loss: 0.0060\n",
            "Epoch 122/200\n",
            "11999/11999 [==============================] - 1s 62us/step - loss: 0.0039 - val_loss: 0.0060\n",
            "Epoch 123/200\n",
            "11999/11999 [==============================] - 1s 60us/step - loss: 0.0039 - val_loss: 0.0060\n",
            "Epoch 124/200\n",
            "11999/11999 [==============================] - 1s 60us/step - loss: 0.0038 - val_loss: 0.0060\n",
            "Epoch 125/200\n",
            "11999/11999 [==============================] - 1s 60us/step - loss: 0.0039 - val_loss: 0.0060\n",
            "Epoch 126/200\n",
            "11999/11999 [==============================] - 1s 60us/step - loss: 0.0038 - val_loss: 0.0060\n",
            "Epoch 127/200\n",
            "11999/11999 [==============================] - 1s 60us/step - loss: 0.0038 - val_loss: 0.0060\n",
            "Epoch 128/200\n",
            "11999/11999 [==============================] - 1s 60us/step - loss: 0.0038 - val_loss: 0.0060\n",
            "Epoch 129/200\n",
            "11999/11999 [==============================] - 1s 59us/step - loss: 0.0038 - val_loss: 0.0060\n",
            "Epoch 130/200\n",
            "11999/11999 [==============================] - 1s 59us/step - loss: 0.0038 - val_loss: 0.0060\n",
            "Epoch 131/200\n",
            "11999/11999 [==============================] - 1s 59us/step - loss: 0.0038 - val_loss: 0.0060\n",
            "Epoch 132/200\n",
            "11999/11999 [==============================] - 1s 60us/step - loss: 0.0038 - val_loss: 0.0060\n",
            "Epoch 133/200\n",
            "11999/11999 [==============================] - 1s 60us/step - loss: 0.0038 - val_loss: 0.0060\n",
            "Epoch 134/200\n",
            "11999/11999 [==============================] - 1s 58us/step - loss: 0.0038 - val_loss: 0.0060\n",
            "Epoch 135/200\n",
            "11999/11999 [==============================] - 1s 59us/step - loss: 0.0038 - val_loss: 0.0060\n",
            "Epoch 136/200\n",
            "11999/11999 [==============================] - 1s 61us/step - loss: 0.0038 - val_loss: 0.0060\n",
            "Epoch 137/200\n",
            "11999/11999 [==============================] - 1s 59us/step - loss: 0.0038 - val_loss: 0.0060\n",
            "Epoch 138/200\n",
            "11999/11999 [==============================] - 1s 60us/step - loss: 0.0037 - val_loss: 0.0060\n",
            "Epoch 139/200\n",
            "11999/11999 [==============================] - 1s 59us/step - loss: 0.0037 - val_loss: 0.0060\n",
            "Epoch 140/200\n",
            "11999/11999 [==============================] - 1s 58us/step - loss: 0.0038 - val_loss: 0.0061\n",
            "Epoch 141/200\n",
            "11999/11999 [==============================] - 1s 58us/step - loss: 0.0037 - val_loss: 0.0060\n",
            "Epoch 142/200\n",
            "11999/11999 [==============================] - 1s 59us/step - loss: 0.0037 - val_loss: 0.0060\n",
            "Epoch 143/200\n",
            "11999/11999 [==============================] - 1s 59us/step - loss: 0.0037 - val_loss: 0.0060\n",
            "Epoch 144/200\n",
            "11999/11999 [==============================] - 1s 59us/step - loss: 0.0037 - val_loss: 0.0060\n",
            "Epoch 145/200\n",
            "11999/11999 [==============================] - 1s 60us/step - loss: 0.0037 - val_loss: 0.0060\n",
            "Epoch 146/200\n",
            "11999/11999 [==============================] - 1s 62us/step - loss: 0.0038 - val_loss: 0.0061\n",
            "Epoch 147/200\n",
            "11999/11999 [==============================] - 1s 59us/step - loss: 0.0037 - val_loss: 0.0061\n",
            "Epoch 148/200\n",
            "11999/11999 [==============================] - 1s 59us/step - loss: 0.0037 - val_loss: 0.0059\n",
            "Epoch 149/200\n",
            "11999/11999 [==============================] - 1s 59us/step - loss: 0.0036 - val_loss: 0.0060\n",
            "Epoch 150/200\n",
            "11999/11999 [==============================] - 1s 59us/step - loss: 0.0036 - val_loss: 0.0060\n",
            "Epoch 151/200\n",
            "11999/11999 [==============================] - 1s 60us/step - loss: 0.0036 - val_loss: 0.0060\n",
            "Epoch 152/200\n",
            "11999/11999 [==============================] - 1s 60us/step - loss: 0.0036 - val_loss: 0.0060\n",
            "Epoch 153/200\n",
            "11999/11999 [==============================] - 1s 60us/step - loss: 0.0036 - val_loss: 0.0060\n",
            "Epoch 154/200\n",
            "11999/11999 [==============================] - 1s 59us/step - loss: 0.0036 - val_loss: 0.0060\n",
            "Epoch 155/200\n",
            "11999/11999 [==============================] - 1s 60us/step - loss: 0.0036 - val_loss: 0.0059\n",
            "Epoch 156/200\n",
            "11999/11999 [==============================] - 1s 60us/step - loss: 0.0036 - val_loss: 0.0060\n",
            "Epoch 157/200\n",
            "11999/11999 [==============================] - 1s 59us/step - loss: 0.0036 - val_loss: 0.0060\n",
            "Epoch 158/200\n",
            "11999/11999 [==============================] - 1s 60us/step - loss: 0.0036 - val_loss: 0.0060\n",
            "Epoch 159/200\n",
            "11999/11999 [==============================] - 1s 60us/step - loss: 0.0035 - val_loss: 0.0060\n",
            "Epoch 160/200\n",
            "11999/11999 [==============================] - 1s 60us/step - loss: 0.0036 - val_loss: 0.0060\n",
            "Epoch 161/200\n",
            "11999/11999 [==============================] - 1s 62us/step - loss: 0.0036 - val_loss: 0.0060\n",
            "Epoch 162/200\n",
            "11999/11999 [==============================] - 1s 60us/step - loss: 0.0035 - val_loss: 0.0060\n",
            "Epoch 163/200\n",
            "11999/11999 [==============================] - 1s 61us/step - loss: 0.0036 - val_loss: 0.0060\n",
            "Epoch 164/200\n",
            "11999/11999 [==============================] - 1s 59us/step - loss: 0.0036 - val_loss: 0.0060\n",
            "Epoch 165/200\n",
            "11999/11999 [==============================] - 1s 60us/step - loss: 0.0035 - val_loss: 0.0060\n",
            "Epoch 166/200\n",
            "11999/11999 [==============================] - 1s 60us/step - loss: 0.0035 - val_loss: 0.0060\n",
            "Epoch 167/200\n",
            "11999/11999 [==============================] - 1s 61us/step - loss: 0.0035 - val_loss: 0.0060\n",
            "Epoch 168/200\n",
            "11999/11999 [==============================] - 1s 59us/step - loss: 0.0035 - val_loss: 0.0060\n",
            "Epoch 169/200\n",
            "11999/11999 [==============================] - 1s 61us/step - loss: 0.0035 - val_loss: 0.0060\n",
            "Epoch 170/200\n",
            "11999/11999 [==============================] - 1s 60us/step - loss: 0.0035 - val_loss: 0.0060\n",
            "Epoch 171/200\n",
            "11999/11999 [==============================] - 1s 59us/step - loss: 0.0035 - val_loss: 0.0060\n",
            "Epoch 172/200\n",
            "11999/11999 [==============================] - 1s 59us/step - loss: 0.0035 - val_loss: 0.0060\n",
            "Epoch 173/200\n",
            "11999/11999 [==============================] - 1s 59us/step - loss: 0.0035 - val_loss: 0.0060\n",
            "Epoch 174/200\n",
            "11999/11999 [==============================] - 1s 59us/step - loss: 0.0035 - val_loss: 0.0060\n",
            "Epoch 175/200\n",
            "11999/11999 [==============================] - 1s 61us/step - loss: 0.0035 - val_loss: 0.0060\n",
            "Epoch 176/200\n",
            "11999/11999 [==============================] - 1s 60us/step - loss: 0.0035 - val_loss: 0.0060\n",
            "Epoch 177/200\n",
            "11999/11999 [==============================] - 1s 60us/step - loss: 0.0034 - val_loss: 0.0060\n",
            "Epoch 178/200\n",
            "11999/11999 [==============================] - 1s 59us/step - loss: 0.0035 - val_loss: 0.0060\n",
            "Epoch 179/200\n",
            "11999/11999 [==============================] - 1s 60us/step - loss: 0.0034 - val_loss: 0.0060\n",
            "Epoch 180/200\n",
            "11999/11999 [==============================] - 1s 62us/step - loss: 0.0034 - val_loss: 0.0060\n",
            "Epoch 181/200\n",
            "11999/11999 [==============================] - 1s 58us/step - loss: 0.0034 - val_loss: 0.0060\n",
            "Epoch 182/200\n",
            "11999/11999 [==============================] - 1s 60us/step - loss: 0.0034 - val_loss: 0.0060\n",
            "Epoch 183/200\n",
            "11999/11999 [==============================] - 1s 59us/step - loss: 0.0034 - val_loss: 0.0061\n",
            "Epoch 184/200\n",
            "11999/11999 [==============================] - 1s 60us/step - loss: 0.0034 - val_loss: 0.0060\n",
            "Epoch 185/200\n",
            "11999/11999 [==============================] - 1s 61us/step - loss: 0.0034 - val_loss: 0.0060\n",
            "Epoch 186/200\n",
            "11999/11999 [==============================] - 1s 61us/step - loss: 0.0034 - val_loss: 0.0060\n",
            "Epoch 187/200\n",
            "11999/11999 [==============================] - 1s 59us/step - loss: 0.0034 - val_loss: 0.0060\n",
            "Epoch 188/200\n",
            "11999/11999 [==============================] - 1s 59us/step - loss: 0.0034 - val_loss: 0.0060\n",
            "Epoch 189/200\n",
            "11999/11999 [==============================] - 1s 61us/step - loss: 0.0034 - val_loss: 0.0060\n",
            "Epoch 190/200\n",
            "11999/11999 [==============================] - 1s 60us/step - loss: 0.0033 - val_loss: 0.0060\n",
            "Epoch 191/200\n",
            "11999/11999 [==============================] - 1s 59us/step - loss: 0.0033 - val_loss: 0.0060\n",
            "Epoch 192/200\n",
            "11999/11999 [==============================] - 1s 60us/step - loss: 0.0033 - val_loss: 0.0060\n",
            "Epoch 193/200\n",
            "11999/11999 [==============================] - 1s 58us/step - loss: 0.0033 - val_loss: 0.0060\n",
            "Epoch 194/200\n",
            "11999/11999 [==============================] - 1s 60us/step - loss: 0.0033 - val_loss: 0.0061\n",
            "Epoch 195/200\n",
            "11999/11999 [==============================] - 1s 60us/step - loss: 0.0034 - val_loss: 0.0061\n",
            "Epoch 196/200\n",
            "11999/11999 [==============================] - 1s 60us/step - loss: 0.0034 - val_loss: 0.0061\n",
            "Epoch 197/200\n",
            "11999/11999 [==============================] - 1s 61us/step - loss: 0.0034 - val_loss: 0.0061\n",
            "Epoch 198/200\n",
            "11999/11999 [==============================] - 1s 60us/step - loss: 0.0033 - val_loss: 0.0060\n",
            "Epoch 199/200\n",
            "11999/11999 [==============================] - 1s 60us/step - loss: 0.0033 - val_loss: 0.0060\n",
            "Epoch 200/200\n",
            "11999/11999 [==============================] - 1s 60us/step - loss: 0.0033 - val_loss: 0.0060\n"
          ],
          "name": "stdout"
        },
        {
          "output_type": "execute_result",
          "data": {
            "text/plain": [
              "Text(0, 0.5, 'Training Loss')"
            ]
          },
          "metadata": {
            "tags": []
          },
          "execution_count": 23
        },
        {
          "output_type": "display_data",
          "data": {
            "image/png": "[encoded data removed]",
            "text/plain": [
              "<Figure size 432x288 with 1 Axes>"
            ]
          },
          "metadata": {
            "tags": []
          }
        }
      ]
    },
    {
      "cell_type": "markdown",
      "metadata": {
        "id": "I0W92jLNxjk0",
        "colab_type": "text"
      },
      "source": [
        "The models can be saved in the desired file directories. For this aim,\n",
        " the path variable should be modified accordingly."
      ]
    },
    {
      "cell_type": "code",
      "metadata": {
        "id": "oVgAvGGG4s2b",
        "colab_type": "code",
        "colab": {}
      },
      "source": [
        "# Saving the models\n",
        "path = \"sample_data\" # for me! change it if needed for you!\n",
        "decoder.save(path+\"/symSimple_dec.h5\")\n",
        "encoder.save(path+\"/symSimple_enc.h5\")\n",
        "ae.save(path+\"/symSimple_ae.h5\")"
      ],
      "execution_count": 0,
      "outputs": []
    },
    {
      "cell_type": "markdown",
      "metadata": {
        "id": "TIWj-kH03tRH",
        "colab_type": "text"
      },
      "source": [
        "Now let's find the clusters in the hidden space by applying K-means algorithm as it's typically used in deep clustering methods for initialisation of the clusters. Also, the evaluation of the quality of this initial clustering step on the output of the encoder can be done by means of the ground-truth labels. "
      ]
    },
    {
      "cell_type": "code",
      "metadata": {
        "id": "QRLHa1IJU8Vh",
        "colab_type": "code",
        "colab": {}
      },
      "source": [
        "from sklearn.metrics import accuracy_score\n",
        "from sklearn.cluster import KMeans\n",
        "# Map the data to the feature (i.e., hidden) space\n",
        "mapped_data = encoder.predict(xTrain)\n",
        "# K-means with 10 clusters\n",
        "km = KMeans(n_clusters=k) # k is 10 for MNIST\n",
        "km.fit(mapped_data)\n",
        "# Map the test data to the feature space\n",
        "mapped_data = encoder.predict(xTest)\n",
        "# idx stores the cluster membership of the test data\n",
        "idx = km.predict(mapped_data)"
      ],
      "execution_count": 0,
      "outputs": []
    },
    {
      "cell_type": "code",
      "metadata": {
        "id": "QtEFF_6t6OeU",
        "colab_type": "code",
        "outputId": "28f15932-343d-4c46-888a-200d5b8a302f",
        "colab": {
          "base_uri": "https://localhost:8080/",
          "height": 34
        }
      },
      "source": [
        "# Matching the labels of the identified clusters\n",
        "from scipy.stats import mode\n",
        "labels = np.zeros_like(idx)\n",
        "for i in range(k):\n",
        "  mask = (idx == i)\n",
        "  labels[mask] = mode(yTest[mask])[0]\n",
        "acc = accuracy_score(yTest, labels)\n",
        "print(\"The accuracy of clustering is \", acc)  "
      ],
      "execution_count": 0,
      "outputs": [
        {
          "output_type": "stream",
          "text": [
            "The accuracy of clustering is  0.8496\n"
          ],
          "name": "stdout"
        }
      ]
    },
    {
      "cell_type": "markdown",
      "metadata": {
        "id": "NuYGvcYk7R2z",
        "colab_type": "text"
      },
      "source": [
        "Different tools, such as PCA, can be used to visualise the clusters. Here, the aim is to preserve the structure of the clusters, thus tSNE can be used. We choose a subset of the data as performing this calculations on the whole dataset is expensive."
      ]
    },
    {
      "cell_type": "code",
      "metadata": {
        "id": "cZdHatRjYj3Y",
        "colab_type": "code",
        "colab": {}
      },
      "source": [
        "from sklearn.manifold import TSNE\n",
        "# Choosing a sample of the data at random\n",
        "ix = np.random.permutation(range(len(yTest)))\n",
        "ix = ix[:1000]\n",
        "# Creating a dataset that includes the samples and the cluster centers \n",
        "data = np.append(km.cluster_centers_,mapped_data[ix],axis=0)\n",
        "# Applying tSNE to project the data to a 2D data representation\n",
        "tsne = TSNE(n_components=2)\n",
        "z = tsne.fit_transform(data)"
      ],
      "execution_count": 0,
      "outputs": []
    },
    {
      "cell_type": "code",
      "metadata": {
        "id": "yrVm9owM9uEd",
        "colab_type": "code",
        "outputId": "53469636-5729-4f3a-98cd-5070fb1f3f62",
        "colab": {
          "base_uri": "https://localhost:8080/",
          "height": 244
        }
      },
      "source": [
        "# Plot the ground truth data vs the predicted labels\n",
        "cn = len(km.cluster_centers_)\n",
        "f = plt.figure(figsize=(10,3))\n",
        "ax1 = f.add_subplot(121)\n",
        "ax1.title.set_text(\"Ground truth labels\")\n",
        "ax1.scatter(z[cn:,0],z[cn:,1],c=yTest[ix])\n",
        "ax1.scatter(z[:cn,0],z[:cn,1],c='r',marker='+')\n",
        "# Predictions\n",
        "ax2 = f.add_subplot(122)\n",
        "ax2.title.set_text(\"Predicted labels\")\n",
        "ax2.scatter(z[cn:,0],z[cn:,1],c=labels[ix])\n",
        "ax2.scatter(z[:cn,0],z[:cn,1],c='r',marker='+')\n"
      ],
      "execution_count": 0,
      "outputs": [
        {
          "output_type": "execute_result",
          "data": {
            "text/plain": [
              "<matplotlib.collections.PathCollection at 0x7f59c988b5f8>"
            ]
          },
          "metadata": {
            "tags": []
          },
          "execution_count": 72
        },
        {
          "output_type": "display_data",
          "data": {
            "image/png": "[encoded data removed]",
            "text/plain": [
              "<Figure size 720x216 with 2 Axes>"
            ]
          },
          "metadata": {
            "tags": []
          }
        }
      ]
    },
    {
      "cell_type": "code",
      "metadata": {
        "id": "r-G_AyEPhMOT",
        "colab_type": "code",
        "colab": {}
      },
      "source": [
        "# Save the embedings of the test set\n",
        "path = \"sample_data\"\n",
        "np.savetxt(\"/mapped_data.csv\",mapped_data,fmt=\"%10.5f\")\n",
        "np.savetxt(\"/mapped_data_labels.csv\",yTest,fmt=\"%s\")"
      ],
      "execution_count": 0,
      "outputs": []
    },
    {
      "cell_type": "markdown",
      "metadata": {
        "id": "eiU0BlhJ_qLM",
        "colab_type": "text"
      },
      "source": [
        "# Convolutional Autoencoder\n",
        "\n",
        "Convolution is a specialised kind of a linear operation. The convolutional process involves progressively focusing on overlapping tile shape regions and sequentially shifting them. This process is shown in Figure 2. In practice, the tiles are defined using kernels. A kernel is a marix with a size smaller than the size of the input image, and is convolved with the input volume to obtain what is called the *activation maps*. Activation maps indicate regions where features specific to the kernel have been detected in the input.\n",
        "\n",
        "<figure>\n",
        "<center>\n",
        "<img src='http://deeplearning.net/software/theano/_images/no_padding_no_strides.gif' width=\"250\"/>\n",
        "<figcaption>Figure 2. An example of the convolution process.</figcaption></center>\n",
        "</figure>\n",
        "\n",
        "A convolutional neural networks consist of at least one convolutional layer and it might also include the traditional fully connected layers. Convolutional neural networks are usually used to process image and video data. They are also widely used in natural language processing. In this section, a convolutional autoencoder that consists of convolutional and fully connected layers is trained to model the encoder and initialise the clusters in the feature space.\n",
        "\n",
        "The MNIST dataset that was preprocessed so far should be reshaped to images of size 28-by-28. Also new parameters are introduced for the convolution operations inclusing the number of kernels and their sizes as well as if the original image should be padded or not."
      ]
    },
    {
      "cell_type": "code",
      "metadata": {
        "id": "aA0wKgMJ2Lpo",
        "colab_type": "code",
        "colab": {}
      },
      "source": [
        "# Reshape the data in image forma for the convolution layers\n",
        "x_train = xTrain.reshape((-1,imgSize[0],imgSize[1],1))\n",
        "y_train = yTrain\n",
        "x_test = xTest.reshape((-1,imgSize[0],imgSize[1],1))\n",
        "y_test = yTest"
      ],
      "execution_count": 0,
      "outputs": []
    },
    {
      "cell_type": "code",
      "metadata": {
        "id": "lcuOHQXT0zJW",
        "colab_type": "code",
        "colab": {}
      },
      "source": [
        "# Setting parameters\n",
        "n_kernels = [32,64,128]\n",
        "kernel_size = [5,5,3]\n",
        "dense_units = [10]\n",
        "padding = ['same','same','valid']\n",
        "# Uncomment or change the following lines if the parameters should be reinitialised\n",
        "#optimizer = 'adam'\n",
        "#loss= 'mse'\n",
        "#activation = 'relu'\n",
        "#batch_size = 256\n",
        "#n_epochs = 200\n",
        "#k = 10 # number of clusters"
      ],
      "execution_count": 0,
      "outputs": []
    },
    {
      "cell_type": "markdown",
      "metadata": {
        "id": "B-pxwDzQnLHV",
        "colab_type": "text"
      },
      "source": [
        "The following code snippets build and summarise the structure of the convolutional autoencoder and its corresponding encoder for data embedding. This structure is chosen based on the related literature and can be changed to see how it affects the results."
      ]
    },
    {
      "cell_type": "code",
      "metadata": {
        "id": "uFEEkM2w5bUw",
        "colab_type": "code",
        "colab": {}
      },
      "source": [
        "# Building the encoder part of the convolutional autoencoder\n",
        "cae = Sequential()\n",
        "cae.add(InputLayer(input_shape=x_train.shape[1:]))\n",
        "for i in range(len(n_kernels)):\n",
        "  cae.add(Conv2D(n_kernels[i], kernel_size[i],\n",
        "                   strides=2, padding=padding[i],\n",
        "                   activation=activation, name='conv'+str(i+1)))\n",
        "l_shape = cae.get_output_shape_at(-1)[1:]\n",
        "cae.add(Flatten())\n",
        "for i in range(len(dense_units)):\n",
        "  actv = activation if i+1 < len(dense_units) else None\n",
        "  name = 'dense'+str(i+1) if i+1 < len(dense_units) else 'dense'+str(i+1)+'-embedding'\n",
        "  cae.add(Dense(units=dense_units[i], activation=actv, name=name))\n",
        "conv_encoder = Model(inputs=cae.input, outputs=cae.get_layer(name).output)"
      ],
      "execution_count": 0,
      "outputs": []
    },
    {
      "cell_type": "code",
      "metadata": {
        "id": "u_B3fZzOnSmM",
        "colab_type": "code",
        "outputId": "d9d8300b-adbc-4664-ed2e-5c28926db0e0",
        "colab": {
          "base_uri": "https://localhost:8080/",
          "height": 372
        }
      },
      "source": [
        "conv_encoder.summary()"
      ],
      "execution_count": 0,
      "outputs": [
        {
          "output_type": "stream",
          "text": [
            "Model: \"model_1\"\n",
            "_________________________________________________________________\n",
            "Layer (type)                 Output Shape              Param #   \n",
            "=================================================================\n",
            "input_2 (InputLayer)         (None, 28, 28, 1)         0         \n",
            "_________________________________________________________________\n",
            "conv1 (Conv2D)               (None, 14, 14, 32)        832       \n",
            "_________________________________________________________________\n",
            "conv2 (Conv2D)               (None, 7, 7, 64)          51264     \n",
            "_________________________________________________________________\n",
            "conv3 (Conv2D)               (None, 3, 3, 128)         73856     \n",
            "_________________________________________________________________\n",
            "flatten_1 (Flatten)          (None, 1152)              0         \n",
            "_________________________________________________________________\n",
            "dense1-embedding (Dense)     (None, 10)                11530     \n",
            "=================================================================\n",
            "Total params: 137,482\n",
            "Trainable params: 137,482\n",
            "Non-trainable params: 0\n",
            "_________________________________________________________________\n"
          ],
          "name": "stdout"
        }
      ]
    },
    {
      "cell_type": "code",
      "metadata": {
        "id": "Uc5g2KCk_d2F",
        "colab_type": "code",
        "colab": {}
      },
      "source": [
        "# Building the decoder part of the convolutional autoencoder\n",
        "cae.add(Dense(units=np.prod(l_shape), \n",
        "              activation=activation, name='dense'+str(len(dense_units)+1)))\n",
        "for i in range(-2,-(len(dense_units)+1),-1):\n",
        "  cae.add(Dense(units=dense_units[i],\n",
        "                activation=activation, name='dense'+str(len(dense_units)-i)))\n",
        "cae.add(Reshape(l_shape))\n",
        "for i in range(-2,-(len(n_kernels)+1),-1):\n",
        "  cae.add(Conv2DTranspose(n_kernels[i], kernel_size[i+1],\n",
        "                   strides=2, padding=padding[i+1],\n",
        "                   activation=activation, name='deconv'+str(-i-1)))\n",
        "cae.add(Conv2DTranspose(x_train.shape[-1], kernel_size[0],\n",
        "                   strides=2, padding=padding[0], name='deconv'+str(len(n_kernels))))"
      ],
      "execution_count": 0,
      "outputs": []
    },
    {
      "cell_type": "code",
      "metadata": {
        "id": "McFlP6lCJEbp",
        "colab_type": "code",
        "outputId": "a6e6a3b8-26d6-4ce8-8ab7-1f01cdd8bd3b",
        "colab": {
          "base_uri": "https://localhost:8080/",
          "height": 514
        }
      },
      "source": [
        "cae.compile(optimizer=optimizer, loss=loss)\n",
        "cae.summary()"
      ],
      "execution_count": 0,
      "outputs": [
        {
          "output_type": "stream",
          "text": [
            "Model: \"sequential_2\"\n",
            "_________________________________________________________________\n",
            "Layer (type)                 Output Shape              Param #   \n",
            "=================================================================\n",
            "conv1 (Conv2D)               (None, 14, 14, 32)        832       \n",
            "_________________________________________________________________\n",
            "conv2 (Conv2D)               (None, 7, 7, 64)          51264     \n",
            "_________________________________________________________________\n",
            "conv3 (Conv2D)               (None, 3, 3, 128)         73856     \n",
            "_________________________________________________________________\n",
            "flatten_1 (Flatten)          (None, 1152)              0         \n",
            "_________________________________________________________________\n",
            "dense1-embedding (Dense)     (None, 10)                11530     \n",
            "_________________________________________________________________\n",
            "dense2 (Dense)               (None, 1152)              12672     \n",
            "_________________________________________________________________\n",
            "reshape_1 (Reshape)          (None, 3, 3, 128)         0         \n",
            "_________________________________________________________________\n",
            "deconv1 (Conv2DTranspose)    (None, 7, 7, 64)          73792     \n",
            "_________________________________________________________________\n",
            "deconv2 (Conv2DTranspose)    (None, 14, 14, 32)        51232     \n",
            "_________________________________________________________________\n",
            "deconv3 (Conv2DTranspose)    (None, 28, 28, 1)         801       \n",
            "=================================================================\n",
            "Total params: 275,979\n",
            "Trainable params: 275,979\n",
            "Non-trainable params: 0\n",
            "_________________________________________________________________\n"
          ],
          "name": "stdout"
        }
      ]
    },
    {
      "cell_type": "markdown",
      "metadata": {
        "id": "w17xO3gsrCBw",
        "colab_type": "text"
      },
      "source": [
        "By calling the fit method, the training is begun and the network weights of the encoder and decoder are updated. The Mean-Squered_error of the reconstructions is used as the loss fuction and it is optimised using Adam optimizer. A $1$ to $4$ ration is used to divide the data to the validation and training sets. The training progress and history of the training loss are depicted. "
      ]
    },
    {
      "cell_type": "code",
      "metadata": {
        "colab_type": "code",
        "id": "BD1N_C8N0nQZ",
        "outputId": "40ea3d67-9501-46a7-b3f0-f27656bc9aec",
        "colab": {
          "base_uri": "https://localhost:8080/",
          "height": 1000
        }
      },
      "source": [
        "# Training the cae using the training data and the predefined parameters\n",
        "results = cae.fit(x=x_train,y=x_train,batch_size=batch_size,\n",
        "       epochs=n_epochs,verbose=1,validation_split=0.8)\n",
        "plt.plot(results.history['loss'])\n",
        "plt.xlabel('Epoch')\n",
        "plt.ylabel('Training Loss')"
      ],
      "execution_count": 0,
      "outputs": [
        {
          "output_type": "stream",
          "text": [
            "Train on 11999 samples, validate on 48001 samples\n",
            "Epoch 1/200\n",
            "11999/11999 [==============================] - 6s 530us/step - loss: 0.0637 - val_loss: 0.0342\n",
            "Epoch 2/200\n",
            "11999/11999 [==============================] - 1s 99us/step - loss: 0.0307 - val_loss: 0.0294\n",
            "Epoch 3/200\n",
            "11999/11999 [==============================] - 1s 99us/step - loss: 0.0292 - val_loss: 0.0289\n",
            "Epoch 4/200\n",
            "11999/11999 [==============================] - 1s 100us/step - loss: 0.0258 - val_loss: 0.0221\n",
            "Epoch 5/200\n",
            "11999/11999 [==============================] - 1s 100us/step - loss: 0.0181 - val_loss: 0.0157\n",
            "Epoch 6/200\n",
            "11999/11999 [==============================] - 1s 99us/step - loss: 0.0138 - val_loss: 0.0128\n",
            "Epoch 7/200\n",
            "11999/11999 [==============================] - 1s 99us/step - loss: 0.0117 - val_loss: 0.0113\n",
            "Epoch 8/200\n",
            "11999/11999 [==============================] - 1s 99us/step - loss: 0.0104 - val_loss: 0.0104\n",
            "Epoch 9/200\n",
            "11999/11999 [==============================] - 1s 100us/step - loss: 0.0096 - val_loss: 0.0096\n",
            "Epoch 10/200\n",
            "11999/11999 [==============================] - 1s 99us/step - loss: 0.0091 - val_loss: 0.0091\n",
            "Epoch 11/200\n",
            "11999/11999 [==============================] - 1s 100us/step - loss: 0.0086 - val_loss: 0.0089\n",
            "Epoch 12/200\n",
            "11999/11999 [==============================] - 1s 99us/step - loss: 0.0083 - val_loss: 0.0087\n",
            "Epoch 13/200\n",
            "11999/11999 [==============================] - 1s 100us/step - loss: 0.0080 - val_loss: 0.0082\n",
            "Epoch 14/200\n",
            "11999/11999 [==============================] - 1s 100us/step - loss: 0.0077 - val_loss: 0.0081\n",
            "Epoch 15/200\n",
            "11999/11999 [==============================] - 1s 99us/step - loss: 0.0075 - val_loss: 0.0078\n",
            "Epoch 16/200\n",
            "11999/11999 [==============================] - 1s 100us/step - loss: 0.0073 - val_loss: 0.0077\n",
            "Epoch 17/200\n",
            "11999/11999 [==============================] - 1s 98us/step - loss: 0.0072 - val_loss: 0.0075\n",
            "Epoch 18/200\n",
            "11999/11999 [==============================] - 1s 101us/step - loss: 0.0070 - val_loss: 0.0074\n",
            "Epoch 19/200\n",
            "11999/11999 [==============================] - 1s 100us/step - loss: 0.0068 - val_loss: 0.0073\n",
            "Epoch 20/200\n",
            "11999/11999 [==============================] - 1s 99us/step - loss: 0.0068 - val_loss: 0.0072\n",
            "Epoch 21/200\n",
            "11999/11999 [==============================] - 1s 101us/step - loss: 0.0066 - val_loss: 0.0071\n",
            "Epoch 22/200\n",
            "11999/11999 [==============================] - 1s 99us/step - loss: 0.0065 - val_loss: 0.0070\n",
            "Epoch 23/200\n",
            "11999/11999 [==============================] - 1s 98us/step - loss: 0.0064 - val_loss: 0.0070\n",
            "Epoch 24/200\n",
            "11999/11999 [==============================] - 1s 98us/step - loss: 0.0064 - val_loss: 0.0069\n",
            "Epoch 25/200\n",
            "11999/11999 [==============================] - 1s 99us/step - loss: 0.0063 - val_loss: 0.0070\n",
            "Epoch 26/200\n",
            "11999/11999 [==============================] - 1s 100us/step - loss: 0.0062 - val_loss: 0.0067\n",
            "Epoch 27/200\n",
            "11999/11999 [==============================] - 1s 100us/step - loss: 0.0061 - val_loss: 0.0067\n",
            "Epoch 28/200\n",
            "11999/11999 [==============================] - 1s 101us/step - loss: 0.0060 - val_loss: 0.0067\n",
            "Epoch 29/200\n",
            "11999/11999 [==============================] - 1s 101us/step - loss: 0.0060 - val_loss: 0.0066\n",
            "Epoch 30/200\n",
            "11999/11999 [==============================] - 1s 100us/step - loss: 0.0059 - val_loss: 0.0065\n",
            "Epoch 31/200\n",
            "11999/11999 [==============================] - 1s 100us/step - loss: 0.0058 - val_loss: 0.0065\n",
            "Epoch 32/200\n",
            "11999/11999 [==============================] - 1s 100us/step - loss: 0.0058 - val_loss: 0.0065\n",
            "Epoch 33/200\n",
            "11999/11999 [==============================] - 1s 99us/step - loss: 0.0058 - val_loss: 0.0064\n",
            "Epoch 34/200\n",
            "11999/11999 [==============================] - 1s 98us/step - loss: 0.0057 - val_loss: 0.0064\n",
            "Epoch 35/200\n",
            "11999/11999 [==============================] - 1s 99us/step - loss: 0.0057 - val_loss: 0.0063\n",
            "Epoch 36/200\n",
            "11999/11999 [==============================] - 1s 100us/step - loss: 0.0056 - val_loss: 0.0063\n",
            "Epoch 37/200\n",
            "11999/11999 [==============================] - 1s 100us/step - loss: 0.0056 - val_loss: 0.0062\n",
            "Epoch 38/200\n",
            "11999/11999 [==============================] - 1s 99us/step - loss: 0.0055 - val_loss: 0.0062\n",
            "Epoch 39/200\n",
            "11999/11999 [==============================] - 1s 101us/step - loss: 0.0055 - val_loss: 0.0062\n",
            "Epoch 40/200\n",
            "11999/11999 [==============================] - 1s 100us/step - loss: 0.0054 - val_loss: 0.0061\n",
            "Epoch 41/200\n",
            "11999/11999 [==============================] - 1s 99us/step - loss: 0.0054 - val_loss: 0.0061\n",
            "Epoch 42/200\n",
            "11999/11999 [==============================] - 1s 101us/step - loss: 0.0054 - val_loss: 0.0060\n",
            "Epoch 43/200\n",
            "11999/11999 [==============================] - 1s 98us/step - loss: 0.0053 - val_loss: 0.0062\n",
            "Epoch 44/200\n",
            "11999/11999 [==============================] - 1s 100us/step - loss: 0.0053 - val_loss: 0.0060\n",
            "Epoch 45/200\n",
            "11999/11999 [==============================] - 1s 101us/step - loss: 0.0053 - val_loss: 0.0060\n",
            "Epoch 46/200\n",
            "11999/11999 [==============================] - 1s 100us/step - loss: 0.0052 - val_loss: 0.0059\n",
            "Epoch 47/200\n",
            "11999/11999 [==============================] - 1s 100us/step - loss: 0.0052 - val_loss: 0.0059\n",
            "Epoch 48/200\n",
            "11999/11999 [==============================] - 1s 100us/step - loss: 0.0051 - val_loss: 0.0058\n",
            "Epoch 49/200\n",
            "11999/11999 [==============================] - 1s 100us/step - loss: 0.0051 - val_loss: 0.0059\n",
            "Epoch 50/200\n",
            "11999/11999 [==============================] - 1s 99us/step - loss: 0.0051 - val_loss: 0.0058\n",
            "Epoch 51/200\n",
            "11999/11999 [==============================] - 1s 98us/step - loss: 0.0051 - val_loss: 0.0059\n",
            "Epoch 52/200\n",
            "11999/11999 [==============================] - 1s 98us/step - loss: 0.0051 - val_loss: 0.0058\n",
            "Epoch 53/200\n",
            "11999/11999 [==============================] - 1s 99us/step - loss: 0.0050 - val_loss: 0.0058\n",
            "Epoch 54/200\n",
            "11999/11999 [==============================] - 1s 98us/step - loss: 0.0050 - val_loss: 0.0058\n",
            "Epoch 55/200\n",
            "11999/11999 [==============================] - 1s 98us/step - loss: 0.0049 - val_loss: 0.0058\n",
            "Epoch 56/200\n",
            "11999/11999 [==============================] - 1s 99us/step - loss: 0.0049 - val_loss: 0.0058\n",
            "Epoch 57/200\n",
            "11999/11999 [==============================] - 1s 101us/step - loss: 0.0049 - val_loss: 0.0057\n",
            "Epoch 58/200\n",
            "11999/11999 [==============================] - 1s 99us/step - loss: 0.0049 - val_loss: 0.0057\n",
            "Epoch 59/200\n",
            "11999/11999 [==============================] - 1s 100us/step - loss: 0.0049 - val_loss: 0.0057\n",
            "Epoch 60/200\n",
            "11999/11999 [==============================] - 1s 100us/step - loss: 0.0048 - val_loss: 0.0057\n",
            "Epoch 61/200\n",
            "11999/11999 [==============================] - 1s 99us/step - loss: 0.0048 - val_loss: 0.0056\n",
            "Epoch 62/200\n",
            "11999/11999 [==============================] - 1s 98us/step - loss: 0.0048 - val_loss: 0.0056\n",
            "Epoch 63/200\n",
            "11999/11999 [==============================] - 1s 99us/step - loss: 0.0048 - val_loss: 0.0056\n",
            "Epoch 64/200\n",
            "11999/11999 [==============================] - 1s 98us/step - loss: 0.0047 - val_loss: 0.0056\n",
            "Epoch 65/200\n",
            "11999/11999 [==============================] - 1s 100us/step - loss: 0.0047 - val_loss: 0.0056\n",
            "Epoch 66/200\n",
            "11999/11999 [==============================] - 1s 98us/step - loss: 0.0047 - val_loss: 0.0055\n",
            "Epoch 67/200\n",
            "11999/11999 [==============================] - 1s 98us/step - loss: 0.0047 - val_loss: 0.0055\n",
            "Epoch 68/200\n",
            "11999/11999 [==============================] - 1s 98us/step - loss: 0.0047 - val_loss: 0.0056\n",
            "Epoch 69/200\n",
            "11999/11999 [==============================] - 1s 99us/step - loss: 0.0047 - val_loss: 0.0055\n",
            "Epoch 70/200\n",
            "11999/11999 [==============================] - 1s 97us/step - loss: 0.0047 - val_loss: 0.0056\n",
            "Epoch 71/200\n",
            "11999/11999 [==============================] - 1s 100us/step - loss: 0.0046 - val_loss: 0.0055\n",
            "Epoch 72/200\n",
            "11999/11999 [==============================] - 1s 100us/step - loss: 0.0046 - val_loss: 0.0055\n",
            "Epoch 73/200\n",
            "11999/11999 [==============================] - 1s 100us/step - loss: 0.0046 - val_loss: 0.0055\n",
            "Epoch 74/200\n",
            "11999/11999 [==============================] - 1s 98us/step - loss: 0.0046 - val_loss: 0.0055\n",
            "Epoch 75/200\n",
            "11999/11999 [==============================] - 1s 98us/step - loss: 0.0045 - val_loss: 0.0055\n",
            "Epoch 76/200\n",
            "11999/11999 [==============================] - 1s 99us/step - loss: 0.0045 - val_loss: 0.0054\n",
            "Epoch 77/200\n",
            "11999/11999 [==============================] - 1s 97us/step - loss: 0.0045 - val_loss: 0.0055\n",
            "Epoch 78/200\n",
            "11999/11999 [==============================] - 1s 100us/step - loss: 0.0045 - val_loss: 0.0054\n",
            "Epoch 79/200\n",
            "11999/11999 [==============================] - 1s 101us/step - loss: 0.0045 - val_loss: 0.0055\n",
            "Epoch 80/200\n",
            "11999/11999 [==============================] - 1s 100us/step - loss: 0.0045 - val_loss: 0.0054\n",
            "Epoch 81/200\n",
            "11999/11999 [==============================] - 1s 98us/step - loss: 0.0045 - val_loss: 0.0054\n",
            "Epoch 82/200\n",
            "11999/11999 [==============================] - 1s 99us/step - loss: 0.0044 - val_loss: 0.0054\n",
            "Epoch 83/200\n",
            "11999/11999 [==============================] - 1s 100us/step - loss: 0.0044 - val_loss: 0.0054\n",
            "Epoch 84/200\n",
            "11999/11999 [==============================] - 1s 101us/step - loss: 0.0044 - val_loss: 0.0054\n",
            "Epoch 85/200\n",
            "11999/11999 [==============================] - 1s 100us/step - loss: 0.0044 - val_loss: 0.0054\n",
            "Epoch 86/200\n",
            "11999/11999 [==============================] - 1s 98us/step - loss: 0.0044 - val_loss: 0.0053\n",
            "Epoch 87/200\n",
            "11999/11999 [==============================] - 1s 99us/step - loss: 0.0044 - val_loss: 0.0054\n",
            "Epoch 88/200\n",
            "11999/11999 [==============================] - 1s 100us/step - loss: 0.0043 - val_loss: 0.0054\n",
            "Epoch 89/200\n",
            "11999/11999 [==============================] - 1s 102us/step - loss: 0.0044 - val_loss: 0.0053\n",
            "Epoch 90/200\n",
            "11999/11999 [==============================] - 1s 100us/step - loss: 0.0043 - val_loss: 0.0054\n",
            "Epoch 91/200\n",
            "11999/11999 [==============================] - 1s 98us/step - loss: 0.0043 - val_loss: 0.0053\n",
            "Epoch 92/200\n",
            "11999/11999 [==============================] - 1s 100us/step - loss: 0.0043 - val_loss: 0.0053\n",
            "Epoch 93/200\n",
            "11999/11999 [==============================] - 1s 99us/step - loss: 0.0043 - val_loss: 0.0053\n",
            "Epoch 94/200\n",
            "11999/11999 [==============================] - 1s 98us/step - loss: 0.0043 - val_loss: 0.0053\n",
            "Epoch 95/200\n",
            "11999/11999 [==============================] - 1s 99us/step - loss: 0.0043 - val_loss: 0.0053\n",
            "Epoch 96/200\n",
            "11999/11999 [==============================] - 1s 98us/step - loss: 0.0042 - val_loss: 0.0053\n",
            "Epoch 97/200\n",
            "11999/11999 [==============================] - 1s 99us/step - loss: 0.0042 - val_loss: 0.0053\n",
            "Epoch 98/200\n",
            "11999/11999 [==============================] - 1s 101us/step - loss: 0.0042 - val_loss: 0.0053\n",
            "Epoch 99/200\n",
            "11999/11999 [==============================] - 1s 101us/step - loss: 0.0042 - val_loss: 0.0053\n",
            "Epoch 100/200\n",
            "11999/11999 [==============================] - 1s 105us/step - loss: 0.0042 - val_loss: 0.0054\n",
            "Epoch 101/200\n",
            "11999/11999 [==============================] - 1s 102us/step - loss: 0.0042 - val_loss: 0.0052\n",
            "Epoch 102/200\n",
            "11999/11999 [==============================] - 1s 101us/step - loss: 0.0042 - val_loss: 0.0053\n",
            "Epoch 103/200\n",
            "11999/11999 [==============================] - 1s 100us/step - loss: 0.0042 - val_loss: 0.0052\n",
            "Epoch 104/200\n",
            "11999/11999 [==============================] - 1s 100us/step - loss: 0.0042 - val_loss: 0.0052\n",
            "Epoch 105/200\n",
            "11999/11999 [==============================] - 1s 100us/step - loss: 0.0041 - val_loss: 0.0053\n",
            "Epoch 106/200\n",
            "11999/11999 [==============================] - 1s 99us/step - loss: 0.0041 - val_loss: 0.0052\n",
            "Epoch 107/200\n",
            "11999/11999 [==============================] - 1s 102us/step - loss: 0.0041 - val_loss: 0.0053\n",
            "Epoch 108/200\n",
            "11999/11999 [==============================] - 1s 101us/step - loss: 0.0041 - val_loss: 0.0052\n",
            "Epoch 109/200\n",
            "11999/11999 [==============================] - 1s 100us/step - loss: 0.0041 - val_loss: 0.0052\n",
            "Epoch 110/200\n",
            "11999/11999 [==============================] - 1s 99us/step - loss: 0.0041 - val_loss: 0.0052\n",
            "Epoch 111/200\n",
            "11999/11999 [==============================] - 1s 99us/step - loss: 0.0041 - val_loss: 0.0052\n",
            "Epoch 112/200\n",
            "11999/11999 [==============================] - 1s 98us/step - loss: 0.0041 - val_loss: 0.0052\n",
            "Epoch 113/200\n",
            "11999/11999 [==============================] - 1s 100us/step - loss: 0.0041 - val_loss: 0.0052\n",
            "Epoch 114/200\n",
            "11999/11999 [==============================] - 1s 101us/step - loss: 0.0040 - val_loss: 0.0052\n",
            "Epoch 115/200\n",
            "11999/11999 [==============================] - 1s 102us/step - loss: 0.0040 - val_loss: 0.0052\n",
            "Epoch 116/200\n",
            "11999/11999 [==============================] - 1s 99us/step - loss: 0.0040 - val_loss: 0.0052\n",
            "Epoch 117/200\n",
            "11999/11999 [==============================] - 1s 99us/step - loss: 0.0040 - val_loss: 0.0052\n",
            "Epoch 118/200\n",
            "11999/11999 [==============================] - 1s 100us/step - loss: 0.0040 - val_loss: 0.0052\n",
            "Epoch 119/200\n",
            "11999/11999 [==============================] - 1s 101us/step - loss: 0.0040 - val_loss: 0.0052\n",
            "Epoch 120/200\n",
            "11999/11999 [==============================] - 1s 101us/step - loss: 0.0040 - val_loss: 0.0051\n",
            "Epoch 121/200\n",
            "11999/11999 [==============================] - 1s 101us/step - loss: 0.0040 - val_loss: 0.0051\n",
            "Epoch 122/200\n",
            "11999/11999 [==============================] - 1s 102us/step - loss: 0.0040 - val_loss: 0.0052\n",
            "Epoch 123/200\n",
            "11999/11999 [==============================] - 1s 100us/step - loss: 0.0040 - val_loss: 0.0051\n",
            "Epoch 124/200\n",
            "11999/11999 [==============================] - 1s 102us/step - loss: 0.0039 - val_loss: 0.0052\n",
            "Epoch 125/200\n",
            "11999/11999 [==============================] - 1s 100us/step - loss: 0.0040 - val_loss: 0.0052\n",
            "Epoch 126/200\n",
            "11999/11999 [==============================] - 1s 101us/step - loss: 0.0039 - val_loss: 0.0052\n",
            "Epoch 127/200\n",
            "11999/11999 [==============================] - 1s 101us/step - loss: 0.0039 - val_loss: 0.0051\n",
            "Epoch 128/200\n",
            "11999/11999 [==============================] - 1s 100us/step - loss: 0.0039 - val_loss: 0.0051\n",
            "Epoch 129/200\n",
            "11999/11999 [==============================] - 1s 100us/step - loss: 0.0039 - val_loss: 0.0051\n",
            "Epoch 130/200\n",
            "11999/11999 [==============================] - 1s 101us/step - loss: 0.0039 - val_loss: 0.0051\n",
            "Epoch 131/200\n",
            "11999/11999 [==============================] - 1s 99us/step - loss: 0.0039 - val_loss: 0.0051\n",
            "Epoch 132/200\n",
            "11999/11999 [==============================] - 1s 99us/step - loss: 0.0039 - val_loss: 0.0051\n",
            "Epoch 133/200\n",
            "11999/11999 [==============================] - 1s 101us/step - loss: 0.0039 - val_loss: 0.0051\n",
            "Epoch 134/200\n",
            "11999/11999 [==============================] - 1s 99us/step - loss: 0.0039 - val_loss: 0.0051\n",
            "Epoch 135/200\n",
            "11999/11999 [==============================] - 1s 102us/step - loss: 0.0039 - val_loss: 0.0051\n",
            "Epoch 136/200\n",
            "11999/11999 [==============================] - 1s 101us/step - loss: 0.0039 - val_loss: 0.0051\n",
            "Epoch 137/200\n",
            "11999/11999 [==============================] - 1s 99us/step - loss: 0.0038 - val_loss: 0.0051\n",
            "Epoch 138/200\n",
            "11999/11999 [==============================] - 1s 101us/step - loss: 0.0039 - val_loss: 0.0051\n",
            "Epoch 139/200\n",
            "11999/11999 [==============================] - 1s 101us/step - loss: 0.0039 - val_loss: 0.0051\n",
            "Epoch 140/200\n",
            "11999/11999 [==============================] - 1s 101us/step - loss: 0.0038 - val_loss: 0.0051\n",
            "Epoch 141/200\n",
            "11999/11999 [==============================] - 1s 101us/step - loss: 0.0038 - val_loss: 0.0051\n",
            "Epoch 142/200\n",
            "11999/11999 [==============================] - 1s 99us/step - loss: 0.0038 - val_loss: 0.0052\n",
            "Epoch 143/200\n",
            "11999/11999 [==============================] - 1s 101us/step - loss: 0.0038 - val_loss: 0.0051\n",
            "Epoch 144/200\n",
            "11999/11999 [==============================] - 1s 102us/step - loss: 0.0038 - val_loss: 0.0051\n",
            "Epoch 145/200\n",
            "11999/11999 [==============================] - 1s 101us/step - loss: 0.0038 - val_loss: 0.0050\n",
            "Epoch 146/200\n",
            "11999/11999 [==============================] - 1s 100us/step - loss: 0.0038 - val_loss: 0.0051\n",
            "Epoch 147/200\n",
            "11999/11999 [==============================] - 1s 101us/step - loss: 0.0038 - val_loss: 0.0050\n",
            "Epoch 148/200\n",
            "11999/11999 [==============================] - 1s 100us/step - loss: 0.0038 - val_loss: 0.0051\n",
            "Epoch 149/200\n",
            "11999/11999 [==============================] - 1s 100us/step - loss: 0.0038 - val_loss: 0.0051\n",
            "Epoch 150/200\n",
            "11999/11999 [==============================] - 1s 98us/step - loss: 0.0038 - val_loss: 0.0051\n",
            "Epoch 151/200\n",
            "11999/11999 [==============================] - 1s 101us/step - loss: 0.0038 - val_loss: 0.0051\n",
            "Epoch 152/200\n",
            "11999/11999 [==============================] - 1s 101us/step - loss: 0.0038 - val_loss: 0.0051\n",
            "Epoch 153/200\n",
            "11999/11999 [==============================] - 1s 101us/step - loss: 0.0037 - val_loss: 0.0051\n",
            "Epoch 154/200\n",
            "11999/11999 [==============================] - 1s 99us/step - loss: 0.0037 - val_loss: 0.0050\n",
            "Epoch 155/200\n",
            "11999/11999 [==============================] - 1s 100us/step - loss: 0.0037 - val_loss: 0.0051\n",
            "Epoch 156/200\n",
            "11999/11999 [==============================] - 1s 99us/step - loss: 0.0037 - val_loss: 0.0050\n",
            "Epoch 157/200\n",
            "11999/11999 [==============================] - 1s 99us/step - loss: 0.0037 - val_loss: 0.0050\n",
            "Epoch 158/200\n",
            "11999/11999 [==============================] - 1s 100us/step - loss: 0.0037 - val_loss: 0.0051\n",
            "Epoch 159/200\n",
            "11999/11999 [==============================] - 1s 99us/step - loss: 0.0037 - val_loss: 0.0050\n",
            "Epoch 160/200\n",
            "11999/11999 [==============================] - 1s 99us/step - loss: 0.0037 - val_loss: 0.0051\n",
            "Epoch 161/200\n",
            "11999/11999 [==============================] - 1s 100us/step - loss: 0.0037 - val_loss: 0.0050\n",
            "Epoch 162/200\n",
            "11999/11999 [==============================] - 1s 99us/step - loss: 0.0037 - val_loss: 0.0051\n",
            "Epoch 163/200\n",
            "11999/11999 [==============================] - 1s 100us/step - loss: 0.0037 - val_loss: 0.0050\n",
            "Epoch 164/200\n",
            "11999/11999 [==============================] - 1s 101us/step - loss: 0.0037 - val_loss: 0.0050\n",
            "Epoch 165/200\n",
            "11999/11999 [==============================] - 1s 100us/step - loss: 0.0037 - val_loss: 0.0050\n",
            "Epoch 166/200\n",
            "11999/11999 [==============================] - 1s 99us/step - loss: 0.0037 - val_loss: 0.0051\n",
            "Epoch 167/200\n",
            "11999/11999 [==============================] - 1s 100us/step - loss: 0.0037 - val_loss: 0.0050\n",
            "Epoch 168/200\n",
            "11999/11999 [==============================] - 1s 99us/step - loss: 0.0037 - val_loss: 0.0050\n",
            "Epoch 169/200\n",
            "11999/11999 [==============================] - 1s 101us/step - loss: 0.0037 - val_loss: 0.0051\n",
            "Epoch 170/200\n",
            "11999/11999 [==============================] - 1s 101us/step - loss: 0.0037 - val_loss: 0.0050\n",
            "Epoch 171/200\n",
            "11999/11999 [==============================] - 1s 100us/step - loss: 0.0036 - val_loss: 0.0050\n",
            "Epoch 172/200\n",
            "11999/11999 [==============================] - 1s 101us/step - loss: 0.0036 - val_loss: 0.0050\n",
            "Epoch 173/200\n",
            "11999/11999 [==============================] - 1s 99us/step - loss: 0.0036 - val_loss: 0.0051\n",
            "Epoch 174/200\n",
            "11999/11999 [==============================] - 1s 99us/step - loss: 0.0036 - val_loss: 0.0050\n",
            "Epoch 175/200\n",
            "11999/11999 [==============================] - 1s 99us/step - loss: 0.0036 - val_loss: 0.0050\n",
            "Epoch 176/200\n",
            "11999/11999 [==============================] - 1s 99us/step - loss: 0.0036 - val_loss: 0.0050\n",
            "Epoch 177/200\n",
            "11999/11999 [==============================] - 1s 99us/step - loss: 0.0036 - val_loss: 0.0050\n",
            "Epoch 178/200\n",
            "11999/11999 [==============================] - 1s 99us/step - loss: 0.0036 - val_loss: 0.0050\n",
            "Epoch 179/200\n",
            "11999/11999 [==============================] - 1s 101us/step - loss: 0.0036 - val_loss: 0.0052\n",
            "Epoch 180/200\n",
            "11999/11999 [==============================] - 1s 99us/step - loss: 0.0036 - val_loss: 0.0050\n",
            "Epoch 181/200\n",
            "11999/11999 [==============================] - 1s 99us/step - loss: 0.0036 - val_loss: 0.0050\n",
            "Epoch 182/200\n",
            "11999/11999 [==============================] - 1s 99us/step - loss: 0.0036 - val_loss: 0.0050\n",
            "Epoch 183/200\n",
            "11999/11999 [==============================] - 1s 100us/step - loss: 0.0036 - val_loss: 0.0050\n",
            "Epoch 184/200\n",
            "11999/11999 [==============================] - 1s 100us/step - loss: 0.0036 - val_loss: 0.0050\n",
            "Epoch 185/200\n",
            "11999/11999 [==============================] - 1s 102us/step - loss: 0.0036 - val_loss: 0.0050\n",
            "Epoch 186/200\n",
            "11999/11999 [==============================] - 1s 102us/step - loss: 0.0036 - val_loss: 0.0050\n",
            "Epoch 187/200\n",
            "11999/11999 [==============================] - 1s 103us/step - loss: 0.0036 - val_loss: 0.0050\n",
            "Epoch 188/200\n",
            "11999/11999 [==============================] - 1s 103us/step - loss: 0.0035 - val_loss: 0.0050\n",
            "Epoch 189/200\n",
            "11999/11999 [==============================] - 1s 102us/step - loss: 0.0036 - val_loss: 0.0050\n",
            "Epoch 190/200\n",
            "11999/11999 [==============================] - 1s 102us/step - loss: 0.0035 - val_loss: 0.0050\n",
            "Epoch 191/200\n",
            "11999/11999 [==============================] - 1s 101us/step - loss: 0.0036 - val_loss: 0.0050\n",
            "Epoch 192/200\n",
            "11999/11999 [==============================] - 1s 101us/step - loss: 0.0036 - val_loss: 0.0051\n",
            "Epoch 193/200\n",
            "11999/11999 [==============================] - 1s 100us/step - loss: 0.0035 - val_loss: 0.0050\n",
            "Epoch 194/200\n",
            "11999/11999 [==============================] - 1s 99us/step - loss: 0.0035 - val_loss: 0.0050\n",
            "Epoch 195/200\n",
            "11999/11999 [==============================] - 1s 98us/step - loss: 0.0035 - val_loss: 0.0050\n",
            "Epoch 196/200\n",
            "11999/11999 [==============================] - 1s 100us/step - loss: 0.0035 - val_loss: 0.0050\n",
            "Epoch 197/200\n",
            "11999/11999 [==============================] - 1s 100us/step - loss: 0.0035 - val_loss: 0.0050\n",
            "Epoch 198/200\n",
            "11999/11999 [==============================] - 1s 100us/step - loss: 0.0035 - val_loss: 0.0050\n",
            "Epoch 199/200\n",
            "11999/11999 [==============================] - 1s 99us/step - loss: 0.0035 - val_loss: 0.0050\n",
            "Epoch 200/200\n",
            "11999/11999 [==============================] - 1s 98us/step - loss: 0.0035 - val_loss: 0.0050\n"
          ],
          "name": "stdout"
        },
        {
          "output_type": "execute_result",
          "data": {
            "text/plain": [
              "Text(0, 0.5, 'Training Loss')"
            ]
          },
          "metadata": {
            "tags": []
          },
          "execution_count": 48
        },
        {
          "output_type": "display_data",
          "data": {
            "image/png": "[encoded data removed]",
            "text/plain": [
              "<Figure size 432x288 with 1 Axes>"
            ]
          },
          "metadata": {
            "tags": []
          }
        }
      ]
    },
    {
      "cell_type": "markdown",
      "metadata": {
        "id": "lTUHyYXarGZn",
        "colab_type": "text"
      },
      "source": [
        "The models can be saved in the desired file directories. For this aim,\n",
        " the path variable should be modified accordingly."
      ]
    },
    {
      "cell_type": "code",
      "metadata": {
        "colab_type": "code",
        "id": "A76sZsMVV0qk",
        "colab": {}
      },
      "source": [
        "# Saving the models\n",
        "path = \"sample_data\" # change this path to save models in a target directory!\n",
        "conv_encoder.save(path+\"/conv_enc.h5\")\n",
        "cae.save(path+\"/conv_ae.h5\")"
      ],
      "execution_count": 0,
      "outputs": []
    },
    {
      "cell_type": "markdown",
      "metadata": {
        "id": "FOMQWVSCrK-g",
        "colab_type": "text"
      },
      "source": [
        "Similar to what was done for the simple autoencoder scenario, the encoder is used to map the data to the feature space, perform the clustering and evaluate the quality of it using the ground truth. "
      ]
    },
    {
      "cell_type": "code",
      "metadata": {
        "colab_type": "code",
        "id": "VygZMrGJV0qr",
        "colab": {}
      },
      "source": [
        "# Map data to the feature space\n",
        "mapped_data = conv_encoder.predict(x_train)\n",
        "# K-means with 10 clusters\n",
        "km = KMeans(n_clusters=k) # k is 10 for MNIST\n",
        "km.fit(mapped_data)\n",
        "# Map the test data to the feature space\n",
        "mapped_data = conv_encoder.predict(x_test)\n",
        "# idx stores the cluster membership of the test data\n",
        "idx = km.predict(mapped_data)"
      ],
      "execution_count": 0,
      "outputs": []
    },
    {
      "cell_type": "code",
      "metadata": {
        "colab_type": "code",
        "outputId": "abafeff5-c72b-4f32-8aa2-9281192db8aa",
        "id": "Od6w9WbYV0qt",
        "colab": {
          "base_uri": "https://localhost:8080/",
          "height": 34
        }
      },
      "source": [
        "# Match the clustering membership to the predicted labels\n",
        "labels = np.zeros_like(idx)\n",
        "for i in range(k):\n",
        "  mask = (idx == i)\n",
        "  labels[mask] = mode(y_test[mask])[0]\n",
        "acc = accuracy_score(y_test, labels)\n",
        "print(\"The accuracy of clustering is \", acc)  "
      ],
      "execution_count": 0,
      "outputs": [
        {
          "output_type": "stream",
          "text": [
            "The accuracy of clustering is  0.8914\n"
          ],
          "name": "stdout"
        }
      ]
    },
    {
      "cell_type": "markdown",
      "metadata": {
        "id": "FSrZYi8Xskl4",
        "colab_type": "text"
      },
      "source": [
        "It can be observed that the accuracy is significantly increased when the convolutional autoencoder is used instead of the simple one. This is because the convolution operations make it possible to create more expressive features, which results in a better quality of the clustering. Note that the result will be different though if the initial preprocessing on the images is not performed.\n",
        "\n",
        "To comapre the results visually, again tSNE is used embed the data in a 2D representation."
      ]
    },
    {
      "cell_type": "code",
      "metadata": {
        "colab_type": "code",
        "id": "crwyHNPIV0qy",
        "colab": {}
      },
      "source": [
        "# Map the sample data using the convolutional encoder\n",
        "data = np.append(km.cluster_centers_,mapped_data[ix],axis=0)\n",
        "tsne = TSNE(n_components=2)\n",
        "conv_z = tsne.fit_transform(data)"
      ],
      "execution_count": 0,
      "outputs": []
    },
    {
      "cell_type": "code",
      "metadata": {
        "colab_type": "code",
        "outputId": "09f48f2e-a5da-4c84-c0cf-f6f0913d1752",
        "id": "wndvr9NxV0q2",
        "colab": {
          "base_uri": "https://localhost:8080/",
          "height": 462
        }
      },
      "source": [
        "# Plot the ground truth data vs the predicted clusters\n",
        "cn = len(km.cluster_centers_)\n",
        "f = plt.figure(figsize=(10,7))\n",
        "\n",
        "# Plotting old results for comparison\n",
        "ax1 = f.add_subplot(221)\n",
        "ax1.title.set_text(\"Simple: Ground truth labels\")\n",
        "ax1.scatter(z[cn:,0],z[cn:,1],c=y_test[ix])\n",
        "ax1.scatter(z[:cn,0],z[:cn,1],c='r',marker='+')\n",
        "# Predictions\n",
        "ax2 = f.add_subplot(222)\n",
        "ax2.title.set_text(\"Predicted labels\")\n",
        "ax2.scatter(z[cn:,0],z[cn:,1],c=labels[ix])\n",
        "ax2.scatter(z[:cn,0],z[:cn,1],c='r',marker='+')\n",
        "\n",
        "# Plotting new results\n",
        "ax1 = f.add_subplot(223)\n",
        "ax1.title.set_text(\"Convolutional: Ground truth labels\")\n",
        "ax1.scatter(conv_z[cn:,0],conv_z[cn:,1],c=y_test[ix])\n",
        "ax1.scatter(conv_z[:cn,0],conv_z[:cn,1],c='r',marker='+')\n",
        "# Predictions\n",
        "ax2 = f.add_subplot(224)\n",
        "ax2.title.set_text(\"Predicted labels\")\n",
        "ax2.scatter(conv_z[cn:,0],conv_z[cn:,1],c=labels[ix])\n",
        "ax2.scatter(conv_z[:cn,0],conv_z[:cn,1],c='r',marker='+')\n"
      ],
      "execution_count": 0,
      "outputs": [
        {
          "output_type": "execute_result",
          "data": {
            "text/plain": [
              "<matplotlib.collections.PathCollection at 0x7f59c958b470>"
            ]
          },
          "metadata": {
            "tags": []
          },
          "execution_count": 80
        },
        {
          "output_type": "display_data",
          "data": {
            "image/png": "[encoded data removed]",
            "text/plain": [
              "<Figure size 720x504 with 4 Axes>"
            ]
          },
          "metadata": {
            "tags": []
          }
        }
      ]
    },
    {
      "cell_type": "markdown",
      "metadata": {
        "id": "mRF3xr8Ntm7r",
        "colab_type": "text"
      },
      "source": [
        "It can be observed that the data embedding generated using the convolutional neural network (two bottom figures) separates the clusters better compared to the simple autoencoder scenario (two top figures). The embedding is also less noisy and craetes more compact clusters.\n",
        "\n",
        "This summary concludes the case study. One can also investigate the application of variational autoencoders as well as variational convolutional autoencoders to see how the initial embedding of the clusters will change."
      ]
    }
  ]
}