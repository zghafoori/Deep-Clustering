
{
  "nbformat": 4,
  "nbformat_minor": 0,
  "metadata": {
    "colab": {
      "name": "Deep clustering-part1",
      "provenance": [],
      "collapsed_sections": [],
      "include_colab_link": true
    },
    "kernelspec": {
      "name": "python3",
      "display_name": "Python 3"
    },
    "accelerator": "GPU"
  },
  "cells": [
    {
      "cell_type": "markdown",
      "metadata": {
        "id": "view-in-github",
        "colab_type": "text"
      },
      "source": [
        "<a href=\"https://colab.research.google.com/github/zghafoori/Deep-Clustering/blob/master/Deep_clustering_part1.ipynb\" target=\"_parent\"><img src=\"https://colab.research.google.com/assets/colab-badge.svg\" alt=\"Open In Colab\"/></a>"
      ]
    },
    {
      "cell_type": "markdown",
      "metadata": {
        "id": "cWQtqdqmla_6",
        "colab_type": "text"
      },
      "source": [
        "# Deep Clustering - Part 1: Quality of the clusters initialisation\n",
        "\n",
        "Clustering refers to dividing data points into groups such that members of the same group are more similar to each other compared to those in other groups. Traditional methods of clustering typically use similarity measures to compare data points and assign them to clusters.\n",
        "\n",
        "\n",
        "Deep clustering refers to using deep neural networks to map a high dimentional data to a new lower-dimentinal *hidden space*. The aim is to improve the accuracy of clustering by increasing the inter-cluster dissimilarity as well as instra-cluster similarity in the hidden space. In addition, the neural network is used to generate abstract and useful features such that the effect of the curse of dimentionality on the similarity measure, which is used for clustering, is minimised. The final clustering is performed in the hidden space and the clustering loss in backpropagated through the network to tune the neural network weights and consequently the data representation in the hidden space.\n",
        "\n",
        "The quality of final clustering in deep clustering highly depends on the initialisation of the clusters in the hidden space. The typcal way of performing this step is to train an autoencoder and use the encoder part of it to initialise the data mapping to the hidden space. This is shown in Figure 1.\n",
        "\n",
        "<figure>\n",
        "<center>\n",
        "<img src=\"fig1.png\" width=\"600\"/>\n",
        "<figcaption>Figure 1. General steps in deep clustering. (Step 1) Training an autoencoder to initialise the data embedding in the hidden space. (Step 2) Fine tuning the network weights and the data embedding using a clustering based loss function. The aim is to increase the inter-cluster dissimilarity and intra-cluster similarities.</figcaption></center>\n",
        "</figure>\n",
        "\n",
        "In this serries, the quality of the clusters initialisation is investigated as it affects the final quality of clusters in deep clustering. MNIST dataset is used to show how the choice of the autoencoder will affect the quality of initial clustering in the hidden space. The following types of autoencoders with symetric architectures are used.\n",
        "\n",
        "1. Simple autoencoder\n",
        "2. Convolutional autoencoder\n"
      ]
    },
    {
      "cell_type": "markdown",
      "metadata": {
        "id": "sYOz8iztqvpu",
        "colab_type": "text"
      },
      "source": [
        "# Data Preparation\n",
        "\n",
        "Data preparation is one of the most important steps in data modelling. In this section, the MNIST data is downloaded and prepared for analyses. Preprocessing steps are applied on the images first to increase the performance of the applied methods.\n",
        "\n",
        "Now, let's load the python libraries and modules that are used in this document."
      ]
    },
    {
      "cell_type": "code",
      "metadata": {
        "id": "kC2MpKPG_OFq",
        "colab_type": "code",
        "colab": {}
      },
      "source": [
        "# Importing the required libraries and modules\n",
        "import numpy as np\n",
        "import matplotlib.pyplot as plt\n",
        "from sklearn.decomposition import PCA\n",
        "from keras.datasets import mnist\n",
        "\n",
        "from keras.layers import Input, InputLayer, Activation\n",
        "from keras.layers import Dense, Conv2D, Conv2DTranspose\n",
        "from keras.layers import MaxPooling2D\n",
        "from keras.layers import Flatten, Reshape, Lambda\n",
        "from keras.models import Model, Sequential\n",
        "from keras.losses import mse, binary_crossentropy\n",
        "from keras import backend as K"
      ],
      "execution_count": 0,
      "outputs": []
    },
    {
      "cell_type": "markdown",
      "metadata": {
        "id": "9tB1hN6A3u8X",
        "colab_type": "text"
      },
      "source": [
        "Deskewing is the process of straightening an image that is slanting too far in one direction or is misaligned. The following functions are used for performing this process. We use this preprocessing step to align the digit images in the MNIST dataset."
      ]
    },
    {
      "cell_type": "code",
      "metadata": {
        "id": "qlwg1SMXFUli",
        "colab_type": "code",
        "colab": {}
      },
      "source": [
        "# The data preprocessing step for the image data using deskewing technique\n",
        "from scipy.ndimage import interpolation\n",
        "def moments(image):\n",
        "    c0,c1 = np.mgrid[:image.shape[0],:image.shape[1]] # A trick in numPy to create a mesh grid\n",
        "    totalImage = np.sum(image) #sum of pixels\n",
        "    m0 = np.sum(c0*image)/totalImage #mu_x\n",
        "    m1 = np.sum(c1*image)/totalImage #mu_y\n",
        "    m00 = np.sum((c0-m0)**2*image)/totalImage #var(x)\n",
        "    m11 = np.sum((c1-m1)**2*image)/totalImage #var(y)\n",
        "    m01 = np.sum((c0-m0)*(c1-m1)*image)/totalImage #covariance(x,y)\n",
        "    mu_vector = np.array([m0,m1]) # Notice that these are \\mu_x, \\mu_y respectively\n",
        "    covariance_matrix = np.array([[m00,m01],[m01,m11]]) # Do you see a similarity between the covariance matrix\n",
        "    return mu_vector, covariance_matrix\n",
        "\n",
        "def deskew(image):\n",
        "    c,v = moments(image)\n",
        "    alpha = v[0,1]/v[0,0]\n",
        "    affine = np.array([[1,0],[alpha,1]])\n",
        "    ocenter = np.array(image.shape)/2.0\n",
        "    offset = c-np.dot(affine,ocenter)\n",
        "    return interpolation.affine_transform(image,affine,offset=offset)"
      ],
      "execution_count": 0,
      "outputs": []
    },
    {
      "cell_type": "markdown",
      "metadata": {
        "id": "1wxvumTK31Ow",
        "colab_type": "text"
      },
      "source": [
        "The MNIST dataset is first downloaded and normalised in the range $[0, 1]$ by devision to 255."
      ]
    },
    {
      "cell_type": "code",
      "metadata": {
        "id": "Q0Wwajkp_Ubq",
        "colab_type": "code",
        "colab": {}
      },
      "source": [
        "# Extracting the MNIST train and test sets \n",
        "(xTrain, yTrain), (xTest, yTest) = mnist.load_data()\n",
        "\n",
        "# Rescaling the data in the range [0,1]\n",
        "xTrain = xTrain/255.\n",
        "xTest = xTest/255."
      ],
      "execution_count": 0,
      "outputs": []
    },
    {
      "cell_type": "code",
      "metadata": {
        "id": "dS_JqUbepehm",
        "colab_type": "code",
        "outputId": "2e4e8ea8-1296-49c5-af55-d9abd9cf7ebe",
        "colab": {
          "base_uri": "https://localhost:8080/",
          "height": 232
        }
      },
      "source": [
        "# Display a sample image per digit before the data preprocessing step\n",
        "for i in np.unique(yTrain,return_index=True)[1]:\n",
        "  ax = plt.subplot(2,5,yTrain[i]+1)\n",
        "  ax.imshow(xTrain[i].reshape(28,28))\n",
        "plt.tight_layout()"
      ],
      "execution_count": 106,
      "outputs": [
        {
          "output_type": "display_data",
          "data": {
            "image/png": "iVBORw0KGgoAAAANSUhEUgAAAakAAADXCAYAAACgc65eAAAABHNCSVQICAgIfAhkiAAAAAlwSFlz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\n/x+QyOVcyHO0YAAAAABJRU5ErkJggg==\n",
            "text/plain": [
              "<Figure size 432x288 with 10 Axes>"
            ]
          },
          "metadata": {
            "tags": []
          }
        }
      ]
    },
    {
      "cell_type": "markdown",
      "metadata": {
        "id": "OJMnb2eJtlMZ",
        "colab_type": "text"
      },
      "source": [
        "This deskewing method is applied on the images and the result is again normalised in the range $[0, 1]$ by means of min-max scaling method. This step can be skipped to see how the results will change without the application of deskewing."
      ]
    },
    {
      "cell_type": "code",
      "metadata": {
        "id": "EkeLXWmlFxgw",
        "colab_type": "code",
        "colab": {}
      },
      "source": [
        "# Deskewing MNIST train and test set\n",
        "for i in range(len(xTrain)):\n",
        "  xTrain[i] = deskew(xTrain[i])\n",
        "for i in range(len(xTest)):\n",
        "  xTest[i] = deskew(xTest[i])\n",
        "\n",
        "# Reshaping data instances to be in the shape 1-by-(28*28) \n",
        "imgSize = xTrain.shape[1:]\n",
        "xTrain = xTrain.reshape([-1, np.prod(imgSize)]).astype(np.float32)\n",
        "xTest = xTest.reshape([-1, np.prod(imgSize)]).astype(np.float32)\n",
        "\n",
        "# Normalising the data in the range [0,1] using the MinMax scaler method:\n",
        "# per feature vector v: v = (v-min(v))/(max(v)-min(v))\n",
        "from sklearn.preprocessing import MinMaxScaler\n",
        "scaler = MinMaxScaler()\n",
        "scaler.fit(xTrain)\n",
        "xTrain = scaler.transform(xTrain)\n",
        "xTest = scaler.transform(xTest)"
      ],
      "execution_count": 0,
      "outputs": []
    },
    {
      "cell_type": "markdown",
      "metadata": {
        "id": "SMs8W7_vr5ds",
        "colab_type": "text"
      },
      "source": [
        "We can see that in the sample images, digits $0$, $3$ and $8$ are evidently aligned. "
      ]
    },
    {
      "cell_type": "code",
      "metadata": {
        "id": "jmgdCTwbrmTx",
        "colab_type": "code",
        "outputId": "0cd6aef6-87a7-4f22-8286-c848faf6ba4c",
        "colab": {
          "base_uri": "https://localhost:8080/",
          "height": 232
        }
      },
      "source": [
        "# Display a sample image per digit after the data preprocessing step\n",
        "for i in np.unique(yTrain,return_index=True)[1]:\n",
        "  fig = plt.subplot(2,5,yTrain[i]+1)\n",
        "  fig.imshow(xTrain[i].reshape(28,28))\n",
        "plt.tight_layout()"
      ],
      "execution_count": 108,
      "outputs": [
        {
          "output_type": "display_data",
          "data": {
            "image/png": "iVBORw0KGgoAAAANSUhEUgAAAakAAADXCAYAAACgc65eAAAABHNCSVQICAgIfAhkiAAAAAlwSFlz\nAAALEgAACxIB0t1+/AAAADh0RVh0U29mdHdhcmUAbWF0cGxvdGxpYiB2ZXJzaW9uMy4xLjIsIGh0\ndHA6Ly9tYXRwbG90bGliLm9yZy8li6FKAAAgAElEQVR4nOx9d5hkVZn+e26Fzrl7OkyODMMQhpxz\nVkQWJOgiqCvqiqLuqujuz3WDcdXd1XVxUVEwIUtWkAyShGESDJOHybm7p3NXV7j3/P54v3Mr9Ex3\ndXdNV/Vw3ueZp6eqbp1771vn3PPlT2mtYWFhYWFhUYhw8n0BFhYWFhYWB4PdpCwsLCwsChZ2k7Kw\nsLCwKFjYTcrCwsLComBhNykLCwsLi4KF3aQsLCwsLAoWY9qklFKXKqXWKaU2KqVuz9VFvVth+cw9\nLKe5heUzt7B8Dg812jwppVQAwHoAFwHYAeANADdorVfn7vLePbB85h6W09zC8plbWD6zw1g0qZMB\nbNRab9JaxwDcC+DK3FzWuxKWz9zDcppbWD5zC8tnFgiO4buTAWxPeb0DwClDfSFcXaJLmyqgtQIA\nxLrDfL/LBQC4xQG4RTw2UBEHAP9Yx6HGVxWMAAB65cCyQAwA0NFWwRvq95Aoydh7RVkM10UBABVB\n/o3rAM8r5yhyEgCAto5KAECoT8OJ8L14dYjHhmWsbo2BSAfisT411D2PAHnls09urDxIPttbycF4\n8gkAvd0727TWDUPd9wgwIk4Pt/kJ5JdP4PDj9HBa8znh0xM+MQSfA7y2WDW3Gy8kY/VoDPQPz+dY\nNqmsoJS6BcAtAFDSWI6zf3otYnJj256cAQCY+kQnAKB7XiU6Z5OcunN3AwAGErzEsjCJvLSJmvDr\nHfzu8dX8jR+483wAQP3KCNoWlgAAnASZVeQILTduBgCcW7ceALA3TiJ7EsUAgJklrQCAnz18MQCg\n+dUEylbvBQDsvGIKAKB3ugcAmPKsi+Uv/3CUrIweh4rPpV3TAACnVpOje+68FADQ8Ob48QkALz3+\n5a2jImaUOJznJzD+fAKHN6eH05rPBZ+7Y1UAgD7Z8A7EZ+nG/QCA7Vc2AgAikzjmlOcTWfE5Fp/U\naQC+rrW+RF5/BQC01t862HeqQpP0afUfQOe5swAA7UdzA73ssjcAAAF4eGb7EQCA/nXVAIDKd/jd\nhje6AQBOL6UAXUQJwunq5etSTjrVPwBdzM/UQCz9szh3ee3wvPEmEuwV8QcPiAS157QyAMCUX2+E\nu3cfvxvkD/3EtiW85jmn47XIY+hy23IiVRUcnyWcdKp/IPn/Q8wnADzVd89SrfWJQ7OVHUbK6SHh\ns6ePr1PnZ5ii5OHOJ3D4cVowa/484XNhFnxu4ncbFguffQMA4HM2Jj6beQ4vzI0xk8+pv3kHiT3c\n9EfL51h8Um8AmKuUmqmUCgO4HsCjYxjv3Q7LZ+5hOc0tLJ+5heUzC4za3Ke1TiilbgXwJIAAgLu0\n1quG/JKjoMJhVK3jjh6I0wb6+moKeiVtCVTLjty8M33XNzs4PC/9dZASEVzqo7q0OPmZ7PZqgPZT\nI4mpfo4Z3tmReVMAgCmP9/N1bRWCimP0njgdAHDmWzSL9d3chPh9zw15uyNB3vmM0X6NUNBcEP9U\nlALjxCcA4Mf3DHnLI8GIOT0U81Pu13AEx4FKuP75gMOYT2BknO4WTntGwan5THDYr/m1wmdsDHya\nNe/weBWJ+q+HnaNybHgHTXnmNzFjGz51bRWCAT6je06k+XSkfI7JJ6W1fhzA42MZwyIJy2fuYTnN\nLSyfuYXlc3gc8sCJVHjFIUSObEJvC+2d9a+38QOXu2+8uRIlG+h40wHZ3aOy28trs+ubHdtHJ6UG\nr6cXTjntoair4RgiQago7asQe6vRvvwxRaoy54zMqUf36fUAgGgdJYVJQY4V2J5AIJbfXlw55dP4\nJs3fji6eo6sHymhXLXR8Khk/13zmG4eETyNhqsFmd10svj6RaA83PoEccSqSeCanxi+S+h5KAmlj\nvGvWvMfrijdVDObTt4Rk8Jn5DD3AXD3oHDXPhEw+zVDC58CMOkSP5HO4axbPWx/gdyqz5NOWRbKw\nsLCwKFiMqybl9ERQ9OLbKGmhvVxLVAnqGSES2tkJr0xCHzuoGRkJSMvObWylxjZqpK3e4zjmzrMd\nBCXsvuUVShAl77Tzu26GBObImEbSyJDYird2ongTz5eYxNDV1n7aVbsudhFbnqt0idFhVHwKj370\njonWMbZmsT0njpgKANh5TikijZS46t7k/Ta8JnyayB9fi1BpY46UTwB5dRvnhE8zP42vNFM6DQag\nzf8D6Xb8XM9PAHl3w4+I084efmY4DWXcf4a2r0TG1oGkD8WPVjZagpM8hq/HNkcLZc0XT2nmGxKN\niwZqK0PO0cxnqNGGMuaqdhyoDA3J8Op/N5PPxIE1qlBPDMFePidKd/OzfQOTAQDdWfI5rpsUwiGo\nKc3wRIUcmMccw9K1DFGE6/kPPl+dFBg10ydWSOo5shYA0Hcz8wSumboOp5VvBAA8ctEiAMDLLywE\nAMz9D8a26gZ+xzyQfWLND2POGYv7P1xoN8evX8HXTS8OoKMt/fhxx2j4NE5n4zQ1E7NIEu0qOcH7\nWjhm3Tm78W9zH+Jn7yVPX/nHWwAAta/v4RiZJthR8gkA457Uk4rR8GmczoZPgQnZdSsks9LsR0UB\n7DmFn/XN4ndm3VsKACjeLKabgIw90fkERsapmYvy0Iy1MFzcLeL9b30v3//RZXcDAFbLw67XLYar\necyUMB35O2Jc4/c9fiYAYO7/bOPY8gCHeagajs1DeIKseWOGG5hD0+QB+RTB0/DpbyQCXSKfF0ko\neheDHZROJD+TTdwRnnTmnMx8LZt/opmb5rQfbcIzy44CACz4xk4AQL2E/zc/358Vn9bcZ2FhYWFR\nsBhfTcr1gK5eOOJUC1UWZVxNIGkWMSHlkkhqdnRjIlH91IJ2n8HX/zjveQBAbaAXW2OU1s6rXgMA\n+Jtr/wwA+OornwQAlK/YdcCxfWnYmAwSbjIx2IRc7qJ05e1tBYwTMV8YA59JqVU0AeHT2U+TS7iO\n0n5JOIpdcUpFDUGaD7qupomhYgsl3WCnhO9K+RXf9DVSPvON0fDpa1RGIxXztBy34wIG8dSfxez/\n66YuwdQQzaVxze8+tPB4AMDanx8JAGh8ZgfHEG1MZ2prE4VPIDtOBbEp1H62vIf3vehMVjVoKua8\nu1KqGXS65LQqwCTfllCnP4Ype2Q0qn+5+l4AwFcnXwUAmPtjXkeAcUGDNOAJv+ZDQX9udh/HQKeO\neeRk8nNc204/v+v0SlJvJF2TdWvK/OHMsf7zoswk9YoGZFJVDGfCz65zGBq/dessTPpL8jcGgKKt\n/G2y5dNqUhYWFhYWBYvx1aQASpwiPYW2tyffMzB204BxeIpNtFekdQld3XUlE8IuPnsZAKBYccfv\ndEv9elL/uYq1qI6dRsn0km9Qo/rVAxcAACaL3b5oC68j09+l+geSwQFxkShEYnAqyoFoAezx2fIp\nx/hao/jjVEJ4Fhu3CVQpaic32zpqsKa2BQDQHioHAMRi5Kl7NqWq2tcpofnBFyKd+sEDxiY+HJ8A\n0DvC+881Rsqnr0nxT+sJnHuha1ha5+uz/wgAGDBVNQF8b9MlAID6Et7sJ1teAADceTPH6n2LTnEV\nkbBfdwLzCaRzulOSP72kBK73UEPacw19TO+76DUAwNwS+lmKHdEapIBcAHwGFCvee5kTxboBclYf\n5FysDfLGDe93nflLAMBHez4OAJh/h/BmfComqKAvMrHWvOHTwHV9/9DO8+S9Kq7l4L1UH8069URT\nN3NXufxNnJgLFTPlj+T5EJJCsuV8TgT3daeN5a/5Ks676Ank/5jm3ejazCCs0fJZAIxbWFhYWFgc\nGOObzFsWRt9JM1Cyk2GogS4JR/WTzZBmowYAR8qZuHW0ce64iJJq+dmUVM+o3MDjFCWiABzMK2HU\n2RGTKYlteHQuAODaj7Ow4fduvAsAcFvlzQCAef+bEUacUnTX9+EUZYQYux6Q37y+7PjMKHM0KBkv\nM9FZsP+oOgBAbdkenFdO396rfeSxZDmj0epeYvXk+BQeG+yUQqClJgEwXRpTGIbPPGM089OIeWs/\nw/l5w4mvAADml9DvafwnlQ65ebD1eOAO+kx7WzmXX/zxfADA5yc/BQD42zNvBQC0PE0p2URaGT/A\nROETGIJTT+ZdPAFVTR4mP0dJ/+FjjwUA3HP6zwEAyyIzAQAvdczh69c5D91K3qsacIAKjnfpUawq\ndHblurTrMK0kTl7E58XeKSzQWrJNtItsOS3UNW98Q9096D2TPN109ksAgN89cg6PyZgT/ppX6b5k\nrRQQzogwFRgflVtXLq9jad/ddgX9ir8+5b8AAB/939swfYNEVVczpN8vsaR1VnxaTcrCwsLComAx\nrpqUDijEyx2UxTJKtogU4FWU+74nX5oR23WggxJD6VncuX9y5G8AAO0epfqdEoH2o43n4zNzWLTw\nN3PuBwCcXvb3AIB/uv96AMDnr2KGY9NR1MYSoqUFW2lnVcZeHgoO0jDM9RQCRsWnkab8hFITNSm2\nZ5EoYxX8/PrJb6Lbo+36iGJGqIV6Ob7JhXCimYVA06/D6RMNa4LzqcvLkkU4Bb2zqQWcdCRz886u\noATf7lLSnBTgnGpP8PWqx47AtM0scpqoJK8PbqTm8MVTFwMAuo8kgS3Pm6i+9GTWicInkMUcLS/1\n56iRyud9m5rLP0z/hBzLP8ZnMqddHG1mDic8eMV8lK0rYU5O8Lsc4xzRqHo85ke908G8oppumaTC\nlxOVSLcC53QQnxmtllQohPajyIXx4ZXtyBjEWAPMEMWiQZlI34Tn+6C8kORQDYhVJGTyo4S3VkY+\n7ryGmukXb+Iz95Mr/xoAULPeTSYCx9I5z5ZXq0lZWFhYWBQsxlWTUq5GqM9LloUpSvcBqYEo3Bpq\nNY7JmhbpfPcljN5ZUEP/yNpYU9rYX1/8PgBA3QtF+OfzrgAA/Hu5tDreyvHrllGC/U7tewAAv7vk\nDgDAR8//DABg5j0S5We0Dq0HlQ+CFm2hvBTozO8ePyI+JQ/KL9ppotSMPTpkWp5Ii+ktvN8iJ5lH\nsjHKvIu4aFmBLpHoRRvTYsdWA0Zikix1c06lBpVmSeMTAPaNiIKcYhCf5lqNtBqNwa2lRhRopS/D\niYtGIDliW2KU1Ltc3s/ybkY2LX2ZjehmP90Nt1R8TCJJRrdzzL0nkYsTjmT30/bGGQCAEtG8fI1u\ngvAJjG6OKvBeStdLdGXG72E00ECPzOmgA0f8dQOTuHbf2s9Iwcur3wIAxCR/qqGMWlifKcu0TYqx\nmkoUBb7m4WkEIx60KamV0eDVnVyPIy9jftk7/fR9lu9Kb7vhzyPh0y3jGIFe4VMpePI8MLwaKKPV\nmvcluq93Gj84vpiVPfpX0DfV9PY+oFIiTTPbqWTJp9WkLCwsLCwKFuOqScUqFHadFcCc7bI3mtp5\nKbkKpomckZq8cu7UnUfymM83MwJqj8tIkQ1RalShrZSgGl7eh2CEEkQwyu9WrErPvp/7K57XvYSS\nxWc/9AgA4MfxKwEA037LimduQzWcnv607/paluOk58/kAaPh0zR/M9KiZyLxJEvd8N09lcdviDTi\nuGLy0eNSgg31GElM8nWMVOWRD6+Cxznd1LSMlO9VlUGZ6xGk8ZlnDOYzo75bKOjfkxZNpXw1VZXe\nz3Mefv8DjDxrWE6OSvdSwp3dw/wdlfCAsEiponEWtXOsFVHmo101aTkA4D8nz5XPpWDoBOMTyNEc\nldwcM89Mqxi3ivMs2BlBrI4c7T6D3J5dyTqIRoMKSPRvV5TfqXqHvhST12N8jV5VGZS0qzcopDUf\nL1fYfUYAc7aaeo5itRB/z9YrqvCJWkaY3vPOKQCAps0SwWj4LBFNMUo+nbjwKTw70USygorxU8nz\nwf8N5DeLTWVk7+XnMXK6X/LSGhdLRGRxCCqS7uMz1Smy5bMwZrKFhYWFhcUBML4VJ4IabmPU34WN\nRGSiPFTCTdr82xgVtftilsmff/QWAMnaXLev/Cu+Xsnoqgop9+xVlaJ6jZSoT4hPxC9VL1naW6lZ\n3bGHFSk+0sh8grM+wOoV65YwQqh4c5tv/zc2a79l9UD/oKrU445MPjOiZlTC9etw+RqAkWKMNFrJ\n16E2ibCSsvqeHHZ82Rb0eZSwIi6lpJJ240+QLPNiI5nR5uz0SR5EOFllAWCUmp9zciA+843R8Gkq\nSEuL7hl/kMiqDuOvE+3ScISkT8mPmBJ34Ks91JxuFkm44yiet36x2PLNPJbLVdF4YfMJjG2OyjGu\nSP4h4Thg1rVoi7vPrcPcGxjFd10dfdZNQWpKexL0PVUHGB28oIa5k9tLmXvlSFUP37cXjfvPpQmx\n5k2lh0pyWH5iG2aEqUW6z1HLQVwqpEtUX0Iq84eiUvVcIgUdqT7jRJOV4FXCROym3/fAdGkoezuf\npedXkfe/X/8BAEDlO+JHTWlF74n1wUSnZsun1aQsLCwsLAoW46pJFbVpzP6ZRv887vBlbzIr32/t\nrLUfXWbqlEVr+PrbMx8EANzdfjoAIPgMJaSpz9An4FaZPjHJDGltbK+x9Bh/HaWkv/jPrDr9Dzc8\nDgCYU8KxXjiDValnvNUL3UT/lr/7C9oumonEHzMqEI8zhuUTKRJQRuWJeDN9esGu9LwfE3U1UMe/\n70Qb4Yks89g71DAb+9PrnRn4voOoqW9nWnQnq1v4kVMm30jO13YRJVvcncWNHyKMic8mybXrHEh7\nX4m9v2cB5+ues1JyQ7RoDBKFWhOkZPtaZFbadTnS2M5t5BiOiTZ0vYLmExglpyJ5D8ygtN62kDxF\nTuTHlRWi9Yuf6eLJr+Lksk0Akr6n/ZKnNjnEqh23vX4DAKD2Kak3qcip73NBdnO0UNZ87wJGkZa/\nzPy8yHxG3p4/eQnu3XcyAGDSUnlmif8vPolzNLRfNCgvXSP1SuU3CShfe3VL+Bzun0R+9p7J75x1\n7FoAwG1NzwAAvrGdEdPqzgY5p0RmImWODqQ/a7Llc3xD0BMeQvv7EYgIGaZIZ0pnyEBHerHSaAvV\n2bUx/gi7B2jea3pZEiLrqOYaM4LyvGRYtWmKapIgTdJpDceY9hRJ67qORE0Jk9iSk6kuq58GBzt6\nZeyibtdPLswXsuHTL8cfSi9zEtonDz4T5CAcJar5OryQztbTyjZiX4KTu75SEqq3iIkhkG4S8Hkv\nSRE6ADidknzpOMnkw4wkxKLuPJtRMEY+93DeGmHJreXf1mPI56T3sYTUT6Y/gU5JQK8LpFd/NSWU\nXu1hWZupT0uHWEma9ue4MT8VOJ/AKDkVtB7LZ8CnP8LAph5JKl9QzOZ5e+LctMucKAa0mAQlQ7Up\nyPlrAqucbfxuwwvMbI23METa8cTE1d3vX89QnOZ9zbsawY7IILNp52xydVr5Rjy/6zIAQGk5+QxU\ncL4FxLTZuZC8xUu5XruNTDSzX4YM4vSZLGV0XQMTzA3XP93MJpLbeshfdQvdA8tXUyiav0kChFLD\nzTP5HOEz1Jr7LCwsLCwKFuOqSUVrgth8TR1q1lL6rGnnrptaJh++6kntZt5MFostc6jRbOigOllZ\nT+mgaLs0JBONwCsK+iq8EzMhxPyjpQ11opGmrvDblG6/vf1yAMDtU2n2O6uFpoMVixah7O3dadfo\nawdRDZXnGp5Z8WkcoHFj8kw3qRjt0je5iGQTdDhmU6DbL845rYLa6/Z58wAA5SI1eWXpmpPRsJxe\nSm5x0QSC+/uSZjBTIsUxztr8l54ZCZ++w9eEeksobbSB87DoC5w3X5v6IgD4jSNf6DkSD0kZpLOn\n01RzcTWLohpT1fHljAJ68haao6t/S9NV5UppljhB+ATGNkdr1vP1OwOTAAAXVK4GwHY8APzmkR4c\nhBSPDUhYiSnlNauIQQPfuppl1P5tJ8v1TFpCLdaYpuNN1BSG4zTva746gC1X16JykxQoWE+uolRs\n8ErPXHx05qsAgHe+Qd5MovnOAd7j9XVPAwBaglzPbw6w7VFUwsdfbZ+Fl1ZxjS/bsBAA0LCCGlPt\nJppPO35ITViUMUx6VdIqpOBtbDLnaGhfj3/tPp/ye2fLp9WkLCwsLCwKFuNbYDakMdCcQKfH01Yv\nT5GmkGKnBqCL+P8NOygNNM1iWHk0Ic23ikyzPu7+JqzSibpJDcpIvaYSkLRaDu3n+eJHsHTKmo0S\nNjyN3/vD6qMBALN6E36Iscoocx/qTyTtwnnCcHzCcZKak5uemGraaRit0yTyGadqKMh7WxVr8ZvM\nXVq3EgBwV4Q+E1NOxZTvN7+ZHzghGlWwTaQprQ+aZBrqTxzw/fHEqPgUqTsyjX7OPTfRv/LivN8D\nAG5cfx0AYMczlFbrVyYwcy3Ddl+6fhEA4JgP0k8yOUTJ1oT8/89xlP5/0XIWAGDNjxi4Urt8f/Ia\nCphPYGxztGwL583yvyNPD72Hyakle3nPRR3GDw1fIjdlqjoWcO594D0vAwBuqKZvpXMheWlYns5b\ntnO0UNa8Ej7rajnvZvyUWvnj3mmIzKPVyQmRFM8VTdXhtS/bzrSe8HJq6NUbyXv5tmRI+nz0yfkk\n1F0sLes/wefxN2f/DgDwjb1sIFu9lpqpV0FfbGivpAFpnSxibZ7Hgmz5tJqUhYWFhUXBYvzbxwOY\ncR9Dvf0oJdMOO57wo/pMkl3ZSu72S0+eAQC4ZBpDH1dtpjSfqGVElElG9crDSZtyRtRZsFsKWEoh\ny/bTaKM9/yhqCNsTNOyGN1IaCG/bnkxINVKASHnhbfuhYoURQXUwPuG6yWiqYhMeTtuyn4grGlWw\nlZJk13ESQgra+12tEBL/1P17KMnGKjlmyU6RPo1PoV9KppgoykCGDBQIJKMkjbSawmehIBs+4bfg\n5t8tVJhw94m/4t+uYwAAm/cx9Hr2n8R3WhxE5wmMVP2ra5hEPjdMv+uSfoZZ/fKPTDIPz6c0euNc\nagGXfO1tAMC/r7+IJ/tDE4KikBiJtO5FamXh7R2jvPtDg7HMUYkix9x7uMZNgVkT7u+Vh5M+VZlX\ndX/h3Hyoj1roF/+WHM6byxD4RDF/g2BbhsaZGjF5gDlasGu+jH66Gb/Y5If3J0O/pSyRKUxg2sYr\nPgcT1enpO25Z2H92mtJd8TqOf/ypbBq5X1rPPPfwCQCAmfs470zCrs9h6po3z1D5LFs+rSZlYWFh\nYVGwGN9k3naNuXdH0bOA0mXlEuY7DJJckIwSqdnIHJ0NEUo+EVdKwx/B6JHy9SKhGt9R3PXLH+mA\nROL5PhOOv/9k2lVxOUW086X9xxee/BAAYPpr0hK5vDSZ0JcRzaVLivJebDIrPlNaIgDw7cMmsS8o\n7TbcakpAlY9Rqyz6NCWleeG92CYaZucAJa6SVpMnJRqwaXZoCkka7dPkSqRIUL5v70B85hnD8qlU\nUmuURn1br+Gx/3gak81Nq46fPE1tZ/pjhity0Tu1BPpm+qSOKWVbg2d76Gv6w/1MVJ/9COeliYb6\nw9HUrPacSq7ee/4bAIAFn3/Zj3rdOMD18Uw/NYfKNzI73eUHI5qjptmgaFZxyYEM9qQngQZ7jWZg\nogKTvjmjUXmVnM/S9w9/jvD8VzWzeO9PZ7O1T+O2DCkfGHqOFuqad1PKYxkfkIm2lTyp2CSuaZPA\nb9ZtoC+WdrwTSST9y7Kme6bweXtVLduA/HobrSrT/0iN3WhQmRGR0Dr5W4+Sz2E1KaXUVKXU80qp\n1UqpVUqp2+T9WqXU00qpDfK3ZtizWVg+cwzLZ+5hOc0tLJ9jQzaaVALA32mtlymlKgAsVUo9DeBm\nAM9qrb+tlLodwO0AvjzUQNFaBxs/WIz6pRJRJmVeAiZ3ImEycpIo3UGJ9f4VtH3ecTZt/s8ew9cV\ny0UTqOVOHuyNQSW4mzt7KZF6TZQ6dp1D7WHSJZQyr22ijf/f3mKe1MyHpNGf5E+hqgJadnojkfmS\ndFdvshX7yJAfPv0qHFIhQaL4TE5TQIp3ukfRL7LmRUpdzl97qHZ47BWT2UDuDxWM6AnvT4/MMf5E\no7V5VVJQUgqpIp4Yms/R4dDx2cRnhil2DK2hunmd/ccwQqrqFPoG5hbRr/SZt1h+Z/KfyXOkgVrl\nlqu41K4//S+4tpqa0O2bWSS59V5G/k17g1USTDkpDX638i1qXpVrOMbbj9Hf9dhlJ6H+GJ6/8y/U\npGaZskNjw/jNUc+DiqeXQlPSHqf3OK7b4g4pbLyVVpNEtWkvY4qfetCh9Ny89pOo0c57D30opn28\nKb7aNU98eG+LRaFDKk54emKt+Yw5qqJxIJChsRgfUKtE7BkNVHIiXYmM9ov+xr0kB5JP2TODr00E\n6s6t/G2OkGeD0ycxAZlrPuEOiuobKZ/DalJa691a62Xy/x4AawBMBnAlkpXB7gbw/mHPZmH5zDEs\nn7mH5TS3sHyODSPySSmlZgBYBOB1AI1aaynHgD0AGoc9WT/QsNhBuE8iR/rTbaEIOIN2XWNjrlxJ\nKX3f6ZR8PnEdq0P8ejfrVNWvkIKRSqFvFo/ZfzmljEgzxzj1BPqerp1ESfalbmZVB5by+OJVrFdl\nNC+nuz8ZmRJIiUYC4NVVAu3JvK7RYFz4NDD2adPkMJHuR9Jl0pJbfFSxekqeexJV6Je8nVppd9C+\ngNOmfJWElokGBeNTkLwX03rBj96MxdOjfoB0PgFgDK6UnPPZl1G3MRDwpdNQNyX2v5n9PIBkjbiP\nzP0LAOC1L1IjXVRJrXxRyRYAQKdXivu7WCl1x5PTAQBTlokUbHx7saTmyZOlVwkJS93Fef+9D4jz\nOmqD6VFzXi3nNLYPd9dD45DN0dQoz4zcvW1XNwMALruOXD6+eQEAYPrtvH/TNt4vkBoO+u1LTL7a\nvvN4nn9teQEA0CpNUosV+WpaSA0UD8m8M1pELD6x1nxfehFcBAODnqEHXfPyvpPh49Oh5BhGu41M\nI2/GqhLolQoTZq4KV6ZljXn2DMlnfVVWfGYd3aeUKgfwAIDPaa27Uz/T1CcPmJWllLpFKbVEKbUk\nMdCX7ekOe1g+cwvLZ+5hOYAFyFEAACAASURBVM0tLJ+jQ1aalFIqBJL7G631g/L2XqVUs9Z6t1Kq\nGcC+A31Xa30ngDsBoKRpqu5vUkh0cW+sMLW6UvKk/CgVkzMhzb0qt/L9B/fSF/XRFuaYXPppZpT/\naTvrnHVsrkG4ibv9+TNpj760mr6U6gDfv3sfK/kufpC2/eZXxT9TR3u5yc9Ig5HajFSbaWcdAcaV\nT/M9kzMRy4i4y7g/E21T8xbHaD230o8g2xxlDlXFdslkrylP+67fQiKjRlfKjSclvonEZ0pDPBOF\nGNpMH9Q/Lb0CAPClRU8BSNaOO7eGTfji0qbkH9ZeBQDoWlmHxsW89yk7xC/jt6cRH0LQ5AoKJ5l8\nGjt+KJjUlo3km/F6tBg3TuMJX4sxNTbnv5cRZCeVs4bmjCPpR/r+bfQdB/rFH1Mk2o8LX9w+8jjW\nPfxK45sAkr4oM4e/sIpN+bxnJDpuH39HBA8g0U+kOZq65s1cGG7Nm6hKo9mYZ24sAcf4q+qkbmQD\ntfd9LjX08P70HDL/7+AbT/4/k88skU10nwLwcwBrtNY/SPnoUQA3yf9vAvDIiM78LoXlM7ewfOYe\nltPcwvI5NmSzpZ0B4EYAK5VSK+S9rwL4NoD7lFIfA7AVwLXDDaQdwC0C6t6WGlEmB8lIf66X8n+p\nXiBSY8UaRuqtfWE2AKDsr9lsy+SaLJxHZ8aeWVWolT49xxXzvSd7mYfyv2+eDQCoe0J6/Ozk+UMb\nGBGlSiXz+gB5MZnSlIrEkhLgyJAfPo2/w7QbNzZjI5WbjH25v7rV1GC/s+IS/PdJvwUATCtiFYq+\nJn639o/kXk9v4XeNxB9I8UEBvi8FWg/N5+gwfnxqzegpALqCOTxHfJlS/m8XsunbnlMpvcaryGvD\nEn61fiUj9+rdjpRmkKY/lJwnnF5N3uctk0+k1w0EkNafidc+aj6B8eDUXG/C9bVTtY3rcNkmVpO5\ntpG+Y6MFfe3ChwAArha/oFQ+3++Wo9Th/RarmP8eAPR7zPH7/TZaYMp+QWtJxdvUoJLzP0XbmIhr\n3vDp6aTqcZA1n2zIad43vqJk7prxNfU3M1pvknRA2BGjBmr6mKpuiRisIt9+BQwzd4FBmp3/dpZ8\nDrtJaa1fBgZFhhtcMOwZLNJg+cwtLJ+5h+U0t7B8jg3jWnEi1KfRtDjm14nT3dLFUTrlIhjwd2Al\n9eJ8iV8k2JkPckf/fPcnAACVF1Ei+u8jWJW3JdThV+2+bQMLqu1cSkm/cSnfr3qBFYNVGTUnLZWE\ntTm3kQLiibQ21wDgVfI7XjgAvSO/VaXGxKdIkLpYIvNEkjT3HtpJvlvuqcejc44HAFxTS8n2Izc/\nAQB46vnTAACBDpGmTNUIkfh9O7nhM+EOyScAYN1IWcgdRsSnkU6l0knpBmpUszaZSvDpkZa+FBkK\nAqZKvJHijRQcy/CFGkk+0+8wQfgEsuA0FPTXtumYfcR/UBr/t7dYAWbBX7Fe5181LAWQ7GBsxPkK\nZwC7pXPs6h5GBm7tYWTv/lcZdTnleUaahtrTaxr668FopRN9zQccf175azxDg8qsCONE0+edV1rs\n5y1G6qmJLqhkrt7GCKv1lG9PiSZMGdufo0ZDisUHWQhMLlW2fI5vgVkNqITGmi8w0W7+l3jjRsTQ\noSCUk2HuyyhO6PRwsk15nAS7r1DNvOmUzwMAYlXJ05XuISmzlpNwZ7MkOtZxAvsTVFRUt57hqIH9\nklgacODWcEEE9tFcYyiNzK+HDua3REou+DTFJ71yKTqZYSYqW70Ha77MxmefOpsmk2gNx6hfyDEa\nnpMkVFOaSh627qSMxM1h+Mw7csCnMV94VbxP3+zml46KDg5yEPgbnxEczIYoD5ORzs+CQFacppch\ncjo4X6Y+wPvsfI4bz1c/xETpv7/8Dzxe8W6/9+aFCK/gc6D5FT4fKru5pqv6MwIjxshpoa35I8Xc\nnGqizORT6QyTmpmj0lYDmXN0IOqbuIv3c4xtfXxm7u5h4ETVjvSNzQgabi1/B5/PYCD5Xqvw2UVT\nZbZ82gKzFhYWFhYFi3HVpFRPP4LPL8M//pj5aw9MOwcA4AWTxSG9opQkMKSYNjJCl41EFNzHdIPJ\nv5YsUE9Dx6TUvwmpLKV6qaslcS+juZpBYAelPD8UPRL1tYDIEcyz23cix6ze4PqlQ/KFXPJpJP7M\nz3VxEYqkjcas/6WU6nWb0Gk5tlHae3gpAScAAtsZUZstn/lGTvmU1AnfMW/4LAoneTPaV0qqAJDU\nbjNDdUc6PwsBueA0IJrVPJl/j/789LRzzA7FoAb2pp/XcJoRhJLpvJ/wa37qCPg0yAjY8eeoCREv\nCvsJW2XSoNO7jmM0KbGalPC7me1VAjup2RkXShqfc2kqHCmfVpOysLCwsChYjKsmFZ9djD0/mI8f\n3UGH+1W/fQEA0JGgpvPqD0/yk8g8sVVWbaZEGt7K8Ge/JP9Ahh21vCz5eYZNX/tJa+lamC9licRq\nwor9JmCVxQhuoIZWsorna3IZhBFq7UdgIL/S6iHhU6drQ6q3P1n2yBSQbWlM+64fdCHtK/ymayPk\nM9/IKZ/GGT0Un/FY2meZjTX9FusTlE/g0K55A+V5QHFR+meGy0wf4hjn6OGw5nUwI6XBzfBT90WS\nwQ5GuxKejIZlNFV/jppnqLTs8PmsKkZQUnxK1lD7a/ToYwy39WXFp9WkLCwsLCwKFuOqSXmug57O\nUkgtU9y94lQAQMUyvlF+wx7EErykulKGNb+zmG0M5v5cLtWUU+nnDq59m3PSrq8iptgmjzXtAdZ9\njNLANNamRdsx/HzSMkoUkTpKGNM+xXJK1016A1987RoeU0/fV0s5K3bOLm/Dmx8cGA0NOcMh4dNI\nVaZUv1JABp9ePaWldR/j3+l/5G/Qeiylr0w+p3ySIf83NC4ekk8AeGrR6LjIBfLFp9tI+/3hxidw\niNe8QCkFmKaeh5jTQlnzpu7AgfiMu7yn2hJqjT6fd6WkQQCAaJWD+HQcICIajlnzDcLnR3niTD4b\nlpPPgdp0Pq9tfAO3v3Y1gFQ+WQQgWz6tJmVhYWFhUbBQmbvoIT2ZUq0A+gC0jdtJc4t6pF/7dK11\nQ74u5jDkE8gjp5bP3EMp1YO8pxSPGoXI5+E2R4flc1w3KQBQSi3RWp84rifNEQrx2gvxmrJFIV57\nIV5TtijEay/Ea8oWhXrthXpd2WA0127NfRYWFhYWBQu7SVlYWFhYFCzysUndmYdz5gqFeO2FeE3Z\nohCvvRCvKVsU4rUX4jVli0K99kK9rmww4msfd5+UhYWFhYVFtrDmPgsLCwuLgsW4bVJKqUuVUuuU\nUhuVUreP13lHA6XUVKXU80qp1UqpVUqp2+T9ryuldiqlVsi/y/N8nROCU8tn7jEROLV85vwa3518\naq0P+T8AAQDvAJgFIAzgTQALxuPco7zeZgDHy/8rAKwHsADA1wH8fb6vb6Jxavl893Fq+bR85orP\n8dKkTgawUWu9SWsdA3AvgCvH6dwjhtZ6t9Z6mfy/B8AaAJPze1WDMGE4tXzmHhOAU8tnbvGu5XO8\nNqnJALanvN6BwpoAB4VSagaARQBel7duVUq9pZS6SylVk7cLm6CcWj5zjwLl1PKZW7xr+bSBE0NA\nKVUO4AEAn9NadwO4A8BsAMcB2A3g+3m8vAkHy2fuYTnNLSyfuUUu+ByvTWongKkpr6fIewULpVQI\nJPc3WusHAUBrvVdr7WqtPQA/BVXwfGFCcWr5zD0KnFPLZ27xruVzvDapNwDMVUrNVEqFAVwP4NFx\nOveIoZRSAH4OYI3W+gcp7zenHHYVgLfH+9pSMGE4tXzmHhOAU8tnbvGu5XNc+klprRNKqVsBPAlG\nqdyltV41HuceJc4AcCOAlUqpFfLeVwHcoJQ6DmxQuQXAJ/JzeROOU8tn7lHQnFo+c4t3M5+24oSF\nhYWFRcHCBk5YWFhYWBQs7CZlYWFhYVGwsJuUhYWFhUXBwm5SFhYWFhYFC7tJWVhYWFgULOwmZWFh\nYWFRsLCblIWFhYVFwcJuUhYWFhYWBQu7SVlYWFhYFCzsJmVhYWFhUbCwm5SFhYWFRcHCblIWFhYW\nFgULu0lZWFhYWBQs7CZlYWFhYVGwsJuUhYWFhUXBwm5SFhYWFhYFC7tJWVhYWFgULOwmZWFhYWFR\nsLCblIWFhYVFwcJuUhYWFhYWBQu7SVlYWFhYFCzsJmVhYWFhUbCwm5SFhYWFRcHCblIWFhYWFgUL\nu0lZWFhYWBQs7CZlYWFhYVGwsJuUhYWFhUXBwm5SFhYWFhYFC7tJWVhYWFgULOwmZWFhYWFRsLCb\nlIWFhYVFwcJuUhYWFhYWBQu7SVlYWFhYFCzsJmVhYWFhUbCwm5SFhYWFRcHCblIWFhYWFgULu0lZ\nWFhYWBQs7CZlYWFhYVGwsJuUhYWFhUXBwm5SFhYWFhYFC7tJWVhYWFgULOwmZWFhYWFRsLCblIWF\nhYVFwcJuUhYWFhYWBQu7SVlYWFhYFCzsJmVhYWFhUbCwm5SFhYWFRcHCblIWFhYWFgULu0lZWFhY\nWBQs7CZlYWFhYVGwsJuUhYWFhUXBwm5SFhYWFhYFC7tJWVhYWFgULOwmZWFhYWFRsLCblIWFhYVF\nwcJuUhYWFhYWBYsxbVJKqUuVUuuUUhuVUrfn6qLerbB85h6W09zC8plbWD6Hh9Jaj+6LSgUArAdw\nEYAdAN4AcIPWenXuLu/dA8tn7mE5zS0sn7mF5TM7jEWTOhnARq31Jq11DMC9AK7MzWW9K2H5zD0s\np7mF5TO3sHxmgeAYvjsZwPaU1zsAnDLUF8LVJbq0qQJaKwBArDvM97tcAIBbHIBbxGMDFXEA8I91\nHGp8VcEIAKBXDiwLxAAAHW0VvKF+D4mSjL1XlMVwXRQAUBHk37gO8LxyjiInAQBo66gEAIT6NJwI\n34tXh3hsWMbq1hiIdCAe61ND3fMIMCo+S5oqYZTheBZ8eoZPJXyGBgAAfXJjpcJnZ6vwGTk4n6Fa\nHlshY8Q9wyePL3Z4zrZO4bNXwxk4OJ8A0Nu9s01r3TDUfY8AI+L0cJufQH75BA4/Tgthzb/b+BzL\nJpUVlFK3ALgFAEoay3H2T69FTB5m256cAQCY+kQnAKB7XiU6Z5OcunN3AwAGErzEsjCJvLSJmvDr\nHfzu8dX8jR+483wAQP3KCNoWlgAAnASZVfz90HLjZgDAuXXrAQB74ySyJ1EMAJhZ0goA+NnDFwMA\nml9NoGz1XgDAziumAAB6p3sAgCnPulj+8g9HycrokcpncWMFzrjzOiQ8crbjyekAgKlPdAAQPueQ\n65pz9gAAInHDJyfwpc3kc7HwuUj4fPjOcwEA9W9F0Ha08OkKn5xzmPTXWwEA5zWsAwDsiVbxvAke\nP6d0HwDgrocvBCB8riGfu95LPnumc8ypz3LQF//05a2j4WW0OJznJwC89Pj48gkc3pzme82/G/kc\ni0/qNABf11pfIq+/AgBa628d7DtVoUn6tPoPoPPcWQCA9qO5gV522RsAgAA8PLP9CABA/7pqAEDl\nO/xuwxvdAACnl1KALuJ27PT08XUpSVL9A9Bh7thqIJb+WZwPQu3wvPEmPlS9Iv7gAdnx95xWBgCY\n8uuNcPfyQauC/KGf2LaE1zzndLwWeQxdbltOpKqc8LmQl3LRpcsAAEHHxXPb5wIAImuFz038biaf\nMJz19gMAdDGlLBWN+VzrXXvTzu/UckwdIjeD+OzP4PM3g/l8bOtiAMB7554JAHiq756lWusTD3bP\nI8FIOT3c5ieQXz6Bw4/Tglvz7wI+x+KTegPAXKXUTKVUGMD1AB4dw3jvdlg+cw/LaW5h+cwtLJ9Z\nYNTmPq11Qil1K4AnAQQA3KW1XjXklxwFFQ6jah139ECcNtDXV1PQK2lLoDrMfbN5p+z6ffR3mB0c\nnpf+WnETVv0Dcg4HKuH65wMANUD7qZEcVISvwzs70sYwY095nNoEaqsQlM96T6Qp7cy3pgEA+m5u\nQvy+54a83ZFgTHyu7QIABGJUvZeuXgQAKGmNo7ZI/EO7huYT5rWBKxwmXKCTKnz71QsBAG2LqH1P\n/xOPKVlC9SwkX1WuZ24KADDlT4P57DuBPJ69kn8jNzXymP8Z8o5HhBFzOl7z03x2sPkpx/rzM3lD\nALKfnwCAH99z0NsdKQp6zZvPAhxLRUUDMBpBjjgtmDV/mMzRbPgck09Ka/04gMfHMoZFEpbP3MNy\nmltYPnMLy+fwOOSBE6nwikOIHNmE3hZKN/Wvt/EDkbzjzZUoWU/7pQ7SxqmicblSvoYjFkrjSzNa\nkBps1vR3/Vhcxoqlj2U0rkD6mOackTn16D69HgAQreP4k4KUMALbEwjERufPyxW8ohAiRzSidzLv\ns/41ajzmPuLNlSjZyPcG8Wnu2fAp0pWRPNFGCcmb3oxtN1ICmnT+TgDAz+b+HgBwfesXAADTX6SN\nW1VXpo3lS2hi147MbUDPaeRzQPisD/A3CG53R0dCDpHV/NwgfPoS+9B8+vPSSbGsy/+NL2/Q/DS/\ngdFmndHNz0LAuHNqxhBJ37eq5IjTvK/5fM1RmZu5nqPZ8GnLIllYWFhYFCzGVZNyeiIoevFtlLTQ\nXq4lqgT1jEIJ7eyEV17KYztoTzU7tr+jm+gSee3v4M5gaUAH5D2jRZhIFfPdEkkoyLTNyuvirZ0o\n3kRJITGJWkJrP8Mouy52EVueq3SJ0cHpjaDo5VUH5TO8vWMwn3Lvvq1eJE3/tdx7fAG1pw0fCuPD\nZ/wZAHBVJaMGP7v+egDApOWUlpxJlJR0pjabIV0dmM/JAMgnAOAPI2Uhd8hqfpZJaG6WfPpau3Cj\nHQfKSJ/mPTM/ZRrqQPqcTvpbZKwh+UzOTwB5d8OPilOz5jOldbNuDT8H4lTmXKKG0WXGP+r0GH/L\n2DjN+5ofrzmaoWVpiFXKPH9zNEez4XNcNymEQ1BTmuFJePPAPOYYlq6V0GbX8zcSnziBT46875Xz\nh4g1yA8SI6mhjgi2XFnD8Zv5nYZpNF2Ff0Hn/L4TSPBn3kdT8PQw1eMvvHEtAGDOf5DUwO790MX8\ncUK7mYdQv4KkNr04gI62PJuosuDT6ezh/80CNxuxmJj8SVjKMfqmcsPZfTp5/sI5j6MtUQ4A+NCy\njwIAEms42eYsZcCErmUYKsyYZnNy0/lRsbh/Pp9PmeRNL/EhMu5JPakYyfzMEJJUxr3rEgnbD/M4\np1tMonAHfaaiwlc8Yz75zusR8JkyP4E88wmMjlNB0pEvc1Qevl4JH66GU8f14FZxU3Ji5Gz9J3i+\nO875FQDgS//zMQDA1Ad3cEzzMB0hpxNhzQ/i82Br3szDIuGzkxue43rQIsAbQV9F5b6NmyVzThoB\n9RDwac19FhYWFhYFi/HVpFwP6OqFI061UGVR+uehoO/Mc2sYWjnQTHNVfwMvtfU07rxOOcc4ew6r\nHVxVt5TH65A/3IDH/++OU7N6+GPHAADmlfSnnfaR9uMBAIHNlNSQEDVZ66TEINJJeBelAW9vK2Cc\niPnCcHwGA0kJx2iiooGmqvYA4HT2AgDC1UzaO+eCZCTseeVrAAD3vXkOAGD6M5S4vMZaDhVLN5f6\nZgUjuRnpK+H6mqmfBpDKZ74xEj5FYkyaneXeQ5TQnZ5I+ueGm+KQ//9AK1MHdJ9oWcb8YrSxSmoH\nWswzE45PYHScSuKoDpIHt5zfCXTzHg0/PQupRfS2BBAYICelIpmrfo5Z6vA7/SdI0vqD/GM0BSXc\n+9cwHKcTac0bPo1bQ2XM0W5J3O9P5zXeVAUdMhYCCVcvFU4SYj7tT7d46bAETAhnWc/RLPi0mpSF\nhYWFRcFifDUpgBKn7L6h7e3J9wBqUbID77yQfo7/9/HfAAB6XGoAFQFKPkZLMmhNVPqfrx9oBgAs\nKt0CAHi+80gAQORP9EntivMcdydmAABK2igdTGujDdwvFRQK+ru/josUK1KBU1EORAtgjz8QnwYB\nZ1CYvRZbvGPs/SJledX0O22/gFLseSUMbb2qYhX+auVHAAAV28hboI/Sj1tGLoKSLAgJ+UeG/9AP\nXOkfSAavHIhPAOgd0d3nHkPNT2Awn8WmfIyEkUt9Q6MN+ImTPZRad146yRcN+5s5x085k5pqZYj+\nw2WtdCzXfj5dg9IZgQMTgk8ge06D6U73RBXX/MYPkeMjj6B26EmtyrNq3wQAnFy+CcWK9/+FFR/g\neVwesyk2icfM2AIA2HoySwZVL2EtSz94IFtOC3XND8GnWfMmIdcETpgACyV8d89n8MXOiz0cOY/p\nJh9qeR0AcFLxNgDAFa99CgBQ/Bf6rnsWce2Xv8n5PuXJ9rRrUAPRMfNZAIxbWFhYWFgcGOObzFsW\nRt9JM1Cykz6NQJeET/rhi8q3i05+gVLlsx9YAAA4uYLVdzcOMPSyJZxejqNMbM//vv4SJESKmnLE\nfgBAcxFt/3uf5S7vVoiNu0e0pKCxv4oGkJIE7NtzizLCN10PyG9eH7yyMPpPnI7iXZTSB/Gp9aAo\nSaNBeaZg5B5Kp+5cSu/Np+0CABxRzArKF/zlb1H1OH0jfrKwjGlK8Lu15TK2SEolhj8TriqSHFJ8\nAUYrSOUzz8hqfppwXpFcnXbxXyZ4jNcndv45LP3ScTQ1/O4ZPL7hjN14/2RqAMYaMCXMeTkjTO31\n0mr6YZ/5zVEAgFfvYMmbxicpzXr11MBUb2To+VkAGJZTB8kotIxEULdE5pn4nz879VkAwNooLSW1\nAaqJ33vnYuzcQf/ozSe9CgCYU8xotxkhztmXAvN4/qgkrRve5JzGN5s6Rwt1zY+cz4xoP7kfR4pJ\nt53NNJBjPv0WAOCGim2ocGhNumMz/dDfi3JNf/bo5wEAU4/nnDUxAPfNOgkAsP/tGQCA4s189kIp\n39owWj6tJmVhYWFhUbAYV01KBxTi5Q7KTDSY/4FIM2Ulfm6Eidlf+f1jAQBPXUKpsmw9d/RLPvAa\nAOCK6hX8vJvFT0t+Wo3yjdScfjmNTS63foDjT5vFPbl0c0r0HgCVkZ/i9CUjs1Rm9ImXZ1EqBdpR\niJUHUHowPsvL/OglXzoUGClq4NgZAIBNN1DS/0zzSgDAndvPBgA0/aoYZVKqKlEnGpM0LvSKJQdI\nIn78hMqM1Ies+NT5l/xHMj/NnOldRCm0/xOMWFKKmlNNMefgKVXsu3NsGXv2NAS7fT/JR6oZkbpV\n+m9tS1AbiGvyenk1JdtnLqMfRT/I30yJLwGh4OCIvwKan8DwnHoV5f5cNHlQpl3MzrMoed9yLJPJ\nHXCO/GjZeTy+g8+CGY8mcORusbzMYcuXDV8m79c0sC3E6VUbAQCbBubz/IY30S4mzJofCZ9mzXsZ\nc0P8cL1H0K903K18hn64/hUAwL9vvwybHp0NAGhcQl4qd/OZ+b0vXQIA+PLpfwIAzC+ixWXp+hkA\ngHmd4vcyftRwKDlHDUbIp9WkLCwsLCwKFuOqSSlXI9TnJcvnGBulkQKjMbjVxr/BHbl6OW3KVeso\nFThdfP18F7ssL/gsfSiPbj4aANDY4/pRZ8USrTf/v8Q3YjL8/WKq8ro/PbZfp5Rd8csxmYgZkfhV\neSnQmd89Xnkaof4UPs21pvIp+WaOnwuRXj6q/Sjy+vsL/gsAsHJgKgBgw9v0Uc3b04v4JBkj5qaN\nb3x6Thd9A7qCvhQ/90q0juz4pN8LeUzvyWp+iv+tbzr/Bj/FKLGPT2HTOeMbNdFmM0L0MwXE+H7T\nf34eJe2851/WXA4AfrvvKz70MgDguDLWidiToO9pcg21MjRQ0/LzXwJOsizNgeYnAOwbBRE5xHCc\nqoFoco6aSgkyf1pe4bq97zi2njntqA0AgECQ9zjnJ/RLa8dBrIHzp+0Yzq/jizgnqx1qFT/YdhEA\nwK2kn6vU+EVM7tBEWfMj4TNzzcv97DuV+WXvv43+pbPL1wIAvrXtPQCArh9OQ8s2ak4mL2rvudT+\nP3zSiwCS/tM3IjMBAE3PkrPgXvoC/ajJlP/7pZNGyKfVpCwsLCwsChbjqknFKhR2nRXAnO2mioPs\n9KaYYSg4uJ25yeeReHqTf1K5jbvyr3dQo/rOMQ8AAD57xc2Y93P6s/woPmNiFqnAj+GXt70KjmmK\nUPp5BFVlUCYHSODbeZ2kFJsvxMoVdp2ZyqdIflnw6dZL1Nlcfme/S82g3xPOorw3rygIJTbkQK/8\nXiLF7V/ESh5egH+dBI+re5aRmKamn8k186rKoMz1CNL4zDMGzU/jmzASdUkRnG1UTVrfx3v73GT6\nPKaFGO20L0Ep1kiat7z91wCA3rfqAACTV0UR7uK4Jmt/54X8zBWZ0eQEGmx/hVrtLFGLzO/hVZYM\nPT8LAFmteXMPGbX7SjYxQixxF30n/3rrFQCA7534fwCAH/3oAn7+3UbEy6khVZ1OSf78ytUAgGWR\nGQCA1lcYEThzFX8X32JjGgJKNGTBr/kRPENNbT4Tgbr55hkAgE9/iFWcjy6mn/TWt24AAFT+SnJN\nN3YhUcM5GN5ObTV6Ke/75DL2ojdRfT975GIAwPTN4gczzxnDZ2XpmPksjJlsYWFhYWFxAIxvxYmg\nhtsY9XdWlRF1ohIuXCmxbyocm7pPflOvSZSASjfTTh/7JqXQX/3b6QCAj13wPB5cdT4AoO6t9HR7\nU+/KrxIQpTZmJNpUOyrAPB8/pt9EHhnNbqB/UMXfcUdIw22M+dqJ37b9QHx2pUf8OL0SRVlHCbRd\nNKkFxawSHeyT+nJdA4DkkbWeQq6Lunme9ss5xgnTmb9TJirrc+czguqI/+Z1BSIm4ifhX+MB+cw3\nMudnRq6RGojBnc6qJUqmroluWhVllN/cMH1Ut2+6GgAQ/i39SDM3ci46/TEkqkRzF+nXVDxpi/I3\nOLuCkYJL+mZxjK709t6mpp+Kxoeen4WAsax5QelO3kvHPdQo7/8k88b+debDAIAP3nALtOZa/sW8\nhwAkfYLf2n4ZAGDSvlCy7QAAGJRJREFUcn5uol2dDD+uiTcbltN8r/mDzVHDZzzhW0kCu6mJbvvQ\nDADAdde+AACYIV0fvruN3FT/gtp/+cbOQafbewE10NMmM9LU+FZvW8zKHrP+yN8m2EptzXRTgKnA\nkoNnqNWkLCwsLCwKFuOqSRW1acz+mUb/PErkZW8yMg8pGoyfs5SRNR1vpnQQ7IqmjRnaT8mo9WuM\nMtn6rQiu+9xTAIBfbzwZAND3Dv0HMx/iDh5qlyre4otSkvdjNAZIngriiaSNNaO6b9tFM5H4Y0YF\n4nEG+XTRP482+7K3hM8U7nw+/QZylLz65lLCb6mjVNXpMhrMVEFQKWkYJpKoU1JMmo+jb+QWka7O\nKmVOSrtHifirFz4BALii6pMAgMafMpqoZHPHwfm8kL8f7hkZB7nEsPPT83x/XO2p1Jj2uZRCG4KU\nJH/Xdirff5RRki0rKc1qySnTSsERDT5RQ86jVZx3R1dQi+10yeO2CH+jUK/4oOq4BlSKb3Wo+QkA\nuHtUVOQMY1rzYjUxa77+Dfr9XjmOVWiufA/ze759+v2odLi2uz2u6S0u18SenfSXzurjOdwG8ZNm\nrHnfMzIh1vwQfGqd9L0Ln+Gz6Ic7R6L4/nMHIx0j/9ICACjfQV5jLdIXTgG7b+W9f/fY3wFI5u79\nZOe5AICW+3i+QJ9oUGVSqzJDQ80Fn+Mbgp7wENrfj0AkvSOkTukMacxQfjFNMYmE9tFc4pogB7lR\nU8Y/1Mnvrf3Xo/H2p/mjfHMhVf/Jx9I0+NG5HwYAFP+WP3DlBiYA6pKUHxjJthVwnGSSpPkrKOp2\n/WKi+YJKeAh1RBDwF5zwmdIewuezKD0MNBjhog0GqZY3BcnR0r4ZAADHdN+IJ7D/eC70ygWczLfO\nfA5AsqjvJ95icEBsBY+rkwf4XcfzCXnTmbcCAOZscIfkM98Ydn4GQr4JJfIIyx7dewMFoaOr+LB4\n4yGmQkx5hYvXFdNe8kEc8M3L+04mf8d9mAnUpsyPERgW38/WMk2rxQxmGih2SUj6MPOzEDCmNb+H\n6zNRy007KCHVDcyBxk+PPQsA8NUZj2FtlA9cE8CypIebdPlamg7D+6RMj5FDJ/KaPxCfKRu8H4gi\nG0Y4yLkwXQSpDU8yUbclznm18aMML596IovKfnDyYr+Qd7s0PD1O3ABvv0Fe527tTrsuMzcPBZ/W\n3GdhYWFhUbAYV00qWhPE5mvqULOWklJNe3prc9UX8Xd/v128kRDETOWIQ04qpCDYyR3fk528eG8E\n3jeotn7xXLY7v/BKJlr+aCFV16e+Qmn3vgdZPHHKCxwj1EYnYLyZGkFwf1+ydFJGe3AnqqHyXMkn\nWhPE5qvrULMuCz4laMQUlm09lhrouVUM2d0Uo0nu939mAMrsl2gS7Z9dg47L+f9/mvds2vm/v4Rm\ng6n38XxuESW2ojOlhXeMQQaJcpGWXNdPIfCdp1J8NhDNf+mZrOan/L/pGfLWu4IS/Mul1Kxa+qUF\nt6QzOBEj6fKvVxxErJomwo7jyNN19YsBAA0Bnu/nbSxJVdxOToIdErYvImWiiS0VAh39Q87PQsCY\n1rxJGu8TM5FoDRXb+TrqSiPURCWagnT6xzSPeXoTS0nNfkzae5QXp12XaYvu9JK3CbXmD8SnaYfT\n258MAItwDnb0cG2/JOH43/rILwEATR+nRr5agn5M2anFPbP98y0qZ2L5Lkksr1ltgnj4G7ii5ZrA\nDVN0Opd8Wk3KwsLCwqJgMb4FZkMaA80JdHo8bfXyFGkKABwnRXNKT0w1iWm+RFrE40wDvkSVhFZH\nXQQi3LGnPsldfc0LLD774atPAAD84n0/AQDMvoHS8DePYijm7NspHQRNo7p4Imk7z0CoP5EMp80T\nfD718Hz6UoxIkD1zyM3XGl8AAPx72xkAgFn3S7KvOPq3Xefia8cxEKI6QC3hs3+4GQDQsIxjBSOS\nnHobfYHfms3E6o8s43FTn0rxjxjOjINVpKxgX0bBzDxgNPMztJfSaND4BiS9IVFPW75JgI7VSnLk\n/ggSpTzmO+fdByAZ/r8hyjY0z/2JZYCmbhBfVJFIyeIQD7SLvV/rgybthvrzzyeQmzXvSetyR9b1\ntgupFf3zNJboqQ70YXucfmbj13v/PAb1PHEJLQOTH6OfNDGJfkC/rYysh2CbaCTDcFowa/5gfAYC\n/vWbkO8Z3yGf3/0HFof90oInAQBPddKi9PgqPh+rFvMZ2rC8DxtuJufvvYDBKV9fz0TqUJ/cv5nv\npmVN1DQDzT2fVpOysLCwsChYjH/7eAAz7pPyLsYvYbQV103u0MXSHE9K05jEW7MrB7rFJlop0X3i\nT/LKwyktOMSmHecY837B87150XQAwFRpNveZhS8AAO666L0AgMbnpEhiKJgsN2KkAXkd3rYfKlYY\nEVQzfs/rHYpPv1W0+PQC/byfJ/vpS1nVxaS9YDfH6J9GifNvFv0ZIcX7/OKKawAA8/+TUUBaiphu\n+AeOvXrBgwCAY16lL7D2/2ivLl22icdXVyal5Uw+d+wf9f3nGiOZn37ppIxW3YEu0UhlfobbqIXq\ncBD7TkwPuzVFaU8V+/9de1noM7RfEnIz26sbBAJDzs9CwljWvCP31jeDvjw9l1xOlUi+V/vn+ukm\nvb3Usn5x+i8AAE+fT9+UelR82qJB+RFwGS3rh+O0YNb8CPg0/tHpf0c+7w3RF2/ua16NWEL6qP30\nzqvGCQu4ZhfIM7J1P7mf3p7eGsZYslQkfR3kkk+rSVlYWFhYFCzGN5m3XWPu3VH0LJA8pSWUyP1d\nNyWmXpnCiWKvjouN30j6Zns10STGFqriru/vGGihhL/rLLHfHt2Wdj0mcTUuEUGmPE1q+RkVFykg\nQwPQJUV5LzZZ1K4x954oeoXPiqWS2JfKp/GviU/KRFB5RZIwKfe+u4eSUm2VaFxiK17SOQ2nTGbD\nuIHd1Iw2fIrHxhspPX1sIZulzfvDpwAATS+So+rXReOqrvSv2bdBZ/KZUQonHxjV/BTNKV4nuTwZ\n8zMgkrvJU3M6++AFyMfmKPNTTill0c5/3sXWHUWd8puZwrwV8psYaTXFn+eXxTnQ/CwAjIjTaHqr\njngT55mxkgzUkOvL57J4bLFknP9kxdmY9itpwVHLtX7/fLYzP6GR+T3rj2LT1PIVXCNeDZ8nPqdG\nyh+O00JY86Oco7FpTA4P9Ir2Y3KUjA9QEpudmMaAy/k6OUBrSdlyzsGiNkZRDmpzZCIK4+kWr1zw\nOawmpZSaqpR6Xim1Wim1Sil1m7xfq5R6Wim1Qf7WDHs2C8tnjmH5zD0sp7mF5XNsyEaTSgD4O631\nMqVUBYClSqmnAdwM4Fmt9beVUrcDuB3Al4caKFrrYOMHi1G/lHuj2yj5HibWP+Emy5OYZmRijzf2\neZPfYCKdvGKTOS5jFgex81zu+vMupIT6mea/8DwSlG9yKUz5md0xXkfXTCn3/3p6Y8A0mJyOrl4/\nd2uEyC2fNxSjfhmvs/RAfJpGjuaXltfNDIzC44sY4fMvRz4KAPh/R30EAFC9iRpAX7zILyp5+amM\n9DG5E/OLKJV+bvX1AIDZ91KKKlrH9xNTmZ/ht/hIuH40kMowRavuvqFudSjkd37KnDrY/HTL01sX\nuDVliNbx/6eVsYlfj5TyeXndXADAvPVStssvyGlanVCqdUyFkXhiMJ+p83P0yC+n8jLUKjxIdYju\nmfz8o3VsDvlfey4EALQ8EEa4g/x3zeKx51etAQBsiDJX79WFxwIAyqQChfHNeuXk2IllyWkhrPnR\nzlHRSE2ZM7/5axm1breC3JUt345d3cyLCig5jxg6TGFbr1LmptGgRAse8RzNgs9hNSmt9W6t9TL5\nfw+ANQAmA7gSycpgdwN4/7Bns7B85hiWz9zDcppbWD7HhhH5pJRSMwAsAvA6gEat9W75aA+AxmFP\n1g80LHYQ7jORNmIP9iNBUvZMowFI6XdT+0yZthqlJi+KO3b3Edz591wRxWeOfxwAMDXECCejQZmM\n6k6XPoHvvUlJrPE+SgXTlrIJmN8KoS+SHqUC+HZVr64SaD9wDlW2GDOffcCkxQqh/gw+TTRNwElK\nLSlN3YBk3cKlWxjd952pjwAApt3AqJ5VOxntd1FlG7bFacu+qpYN/kwbhFVRtk7oe53FPCdtpX3c\nqxPpbr9I86m5WkPxCQA7hrvrg6Mg5qfk8vgN54xPSvLONtxUig+eQR+eaTT5d6+z7cH030nOiamw\nYOz7wp9pZeFXFzjEfAJ54lS4M1VlAnvYeC/UxzX+px6pj1jC99erZCWaeAU5fGw/NaePT3oBAPA/\n09kg0decRCPwo/zkOoblNN9rfixzVLR74/szPJtqNEGZd12nT0dLJdvvtLkSlRpIH1OZvCjjRxzt\nHM2Cz6yj+5RS5QAeAPA5rXVadUGttUZSS8/83i1KqSVKqSWJgVGbdA475ITPqOXTwM7P3MNymltY\nPkeHrDQppVQIJPc3WusH5e29SqlmrfVupVQzIL2tM6C1vhPAnQBQ0jRV9zcpJLq4N1aYWl1m140n\ns+T98u6mVp+REGTHHmimFNo9nced9QnW5zurYr3f2thErpmM/v/bxYoTrQ+zjcKcp+SSXamGXhQ2\nF21uPPl/Y79NqTA+WuSSz74mB+FuXmNFRu0zFU8kpSnDZyy9EkHDE5S4b6xnhfjPz3oGAHD1XK6h\nNrcPLw9QwPsvKfG/tYP+3d5NlGynrDAl002dwNjBbrzg+Rzx/Iyl37sP0QKM3d+0Tyhr6cGFFasA\nAMZ7ULKS0n3pBvry3FrT2ly4ih/kHIeIT349j5yanEiTcyN/Jy2lpP/r0xi5942FbHr4qwvOxOx2\nchg5lpL8jQ3UVn+wi1UWSrZLhZp91L5Mjp8fcWaeL++mOWquTeamNlGVpQ5Kg1zDcaM5GX+SjGmq\nyCvD3yGco9lE9ykAPwewRmv9g5SPHgVwk/z/JgCPZHXGdzksn7mF5TP3sJzmFpbPsSEbTeoMADcC\nWKmUWiHvfRXAtwHcp5T6GICtAK4dbiDtAG4RUPc2o0z8JlhGinG9pG3YtBxO6TsDAGs+S3/HhYso\njZ5VtQ4AUBmgbXlfohKVDqWph9tYA231g+zW1/wKfSQtHSKwZNhKfQ0gta6ciZDJ2P1VJJasQzcy\n5IdPP1fBSE28j7qX6EeK7mQk3j8fz95QX6nLkKAA1Kzle/V7qN22tFPbcjpEEzVVGIz0ZSoluCl2\n86H4HB3ywqeff2bmaSbPRsKVGpOdC6ixat3jR5d+8W1W8Gh5WaKujF1f/Fp+pYlAin0/9f1DwyeQ\nb05lXWmR0o1GULyR63ZgHX2hA0fx/brpHfD+H9f/N6f9GQD8/lJvP8q1P+NB1u4zVfgNkusiyzk6\ngdb8sHM0Q2M1NSJrVnfjnQ7mYVXNoHUpaFpUDUh1CvOMHOsczYLPYTcprfXLAA6ml10w7Bks0mD5\nzC0sn7mH5TS3sHyODeNacSLUp9G0OIZgq0je3fyraqRtcSgISJZ0Yio1pi1X0j6/6FxqTF+pfQkA\nEJZsc08slvukS2zUC+E769mPp/xu8Zm8JQE0JrrE+AlSWhwDKb4cIwUk3LQ210AyP8ALB6B35Leq\nVKhPo+mNIfgMBpISjcnyNtKUkVbFNl+0hTW6piyXjHLhRBUX+dKOKuW9Q3x3RhvzNSgjwRk+MyW3\nYfgEAKwbEQU5xbDzM4VP5YhGmnGPfuUMkSidXnKx51x+7+bZy7ElTq11YBXneLA1wxVhNPqMLH7f\n75Dl/ASQVz6BMXJq5qiJ9hMeZj3M4IHbm6iJfvO0B9HncQ5ujTHS9L4t9D+X7TIWAYluNf3MTITb\nCDktiDWfqzlq1rjU33OEQ7R1omvtHADAi0ey6kff5Az+Bg5caeJQ8Dm+BWY1oBIaa77AiTT/S2xI\nZkQMHQ756qJXwkurWcRj3l+/HADQ7fEGTYvtn61ji4noBm5SpbsVptzPZFNdKqqn2XxEVfV/JPNj\nCsFuPcfwQ6cDDtwahmwH9rElg6E0Mr8eOpjfEik+n58XPr+cwWcwAGXUct+UYjz6pnmZJOeZ0jvC\njX9nKeq42ZSS6jonqimq6k/6UfKZdww3P0NBKJPgLaaoQXzKHDN8aik9E+jiHCwNRPHAruMBAOXb\nZFwTrt4l4b6mpNEY52dBIBecmvJQlVzzgf3kaf53Oe++c+4NmHk9E6PXt7HUlPsmH9qzXmEwig6m\nm6Mm/JrPxRzNaATpz7fiIkx7ksd8//iLAQB/e+lTAIBf7r4UADD5GQagmETzQ8mnLTBrYWFhYVGw\nGFdNSvX0I/j8Mvzjj2l+e2AaS8Z7UthQxV14NdyJQ7vplK/7FHf0X7lsXuYHO4hkNB2SbuBxl9Yl\nRUlNKaN1un8dRqMKpd9+YAelEi3JqCoS9cuNRI5gGLZps1C9IVniJ18wfH75v2kuenTamQAAL6XY\nrlecIUGmOjRT/voSUappDuRTZaryGaVMzNgH5bOWUq0aiA3m8wThc2P+WyBkNT+LUpI+cQA+BY4E\nlfQfJS1QplOyjHtBbNhJaX/ucr7nF+nMkHTHOj8LATnh1FgBJBjE/1yOb35mL6KP0KQ0HR1yYpqt\n/aRSiRHIbGI6Udd8TvnMKACrK0pRspaBJlueZVujTVfxGXP29UsBAIvbaA1oeEGyxU2LmkPAp9Wk\nLCwsLCwKFuOqScVnF2PPD+bjR3ecBgC46rcvAAA6ErQ1v/rDk+CIDd8TW2XlFkqZRVvp2PedgCZ5\nzD2Aj8V35qVLqMj0z5iWyyZBrYK200S1BAhUFiO4gZJCySpKHU0uQ1tDrf0IDORXWo3PLsbuH8zH\nT4TP9/6GQSXdCdqaX//hiX45fsNn1Rb6oMLCpwmo8LXN1ERmpPPph5eOlk9dMiSf+cZo5mfV5gw+\nM7gpXU2JNLCc5aeOOG43qhbz9wnubT3gd3I1PwsBOeHUzNGBjBJAZo72RXw/3kHbkRv/TEZQykRc\n84ecz65en88Zd28BALy2l5rTd756JwDgsVNYdqpBfFeQoKpDwafVpCwsLCwsChbjqkl5roOezlKU\nSVDJ3StOBQBULOMb5TfsQSzBS6orZQTPO4spgc79udiSjZ2+VxIgjSZlysErlSx1EuSxbiN9Ius+\nRmlj+h8pObQeS2lq0jJqCJE6nmPKJ9nk74bGxfjiawxznVRPH0NLOYvQzi5vw5sfHBgtFTmB5zro\n+f/t3c+LVXUcxvH3QyQkk1BM1GiSJW5chEq06R8IN+FGdOFmCmoh1MKFuPIfyG2QP1oVbWpRtGg2\nbhXFxkpFMRVKRAqCZCLE+rj4ntErZp65feecz5n7vODC3MOF7zPPnMP3nHPPnPP7app7ZvLZfHmE\n9pozZS/oqd03uX2n/E7Tq0tfV081t4Q62vS42OdCs+e9uCfaps/Zps9vmj5fbfr8rvT517Nl7Jn3\nyiNTdj5/mgMndpQ80+U89QtT5eqrTVPlnPfctnGaqOP/rZ8P9qk/y1FQNHupGz4pHRz5ejtrF5oH\n1S0+vmOm3MD34mz5Q9ZaPwHmto5ZRiXL0um/bPP3jjrvraPlO5EVuc330Of02bK9vjP3NnB/m782\nuxFY3j59JGVmZmkp4hHncJdjMOlXYAH47XGfTWqaB7O/FBHP9RVmBfYJPXbqPuuTdIve/6V4bBn7\nXGnr6GP77HSSApB0OiJe63TQSjJmz5iprYzZM2ZqK2P2jJnaypo9a642xsnu031mZpaWJykzM0ur\nj0nq4x7GrCVj9oyZ2sqYPWOmtjJmz5iprazZs+ZqY8nZO/9OyszMrC2f7jMzs7Q6m6QkvSnpoqTL\nkvZ3Ne44JK2XdFzSeUnnJL3fLD8o6bqk+ea1veecg+jUfdY3hE7dZ/WMk9lnRCz7C3gC+Al4BVgF\nnAU2dzH2mHlngG3Nz08Dl4DNwEFgX9/5htap+5y8Tt2n+6zVZ1dHUq8DlyPiSkTcBj4H3upo7CWL\niBsRcab5+RZwAVjXb6qHDKZT91nfADp1n3VNbJ9dTVLrgJ9H3v9CrhXgkSRtALYCJ5tFeyV9L+mY\npGd6CzbQTt1nfUk7dZ91TWyfvnDiP0iaAr4APoiIP4CPgI3AFuAG8GGP8QbHfdbnTutyn3XV6LOr\nSeo6sH7k/YvNsrQkPUkp99OI+BIgIm5GxN8R8Q9wmHII3pdBdeo+60veqfusa2L77GqSOgVskvSy\npFXALuCrjsZeMkkCjgIXIuLQyPKZkY/tAH7sOtuIwXTqPusbQKfus66J7bOT50lFxB1Je4FvKVep\nHIuIc12MPaY3gD3AD5Lmm2UHgN2StgABXAPe7Sfe4Dp1n/Wl7tR91jXJffqOE2ZmlpYvnDAzs7Q8\nSZmZWVqepMzMLC1PUmZmlpYnKTMzS8uTlJmZpeVJyszM0vIkZWZmad0FEoS3acdPlJAAAAAASUVO\nRK5CYII=\n",
            "text/plain": [
              "<Figure size 432x288 with 10 Axes>"
            ]
          },
          "metadata": {
            "tags": []
          }
        }
      ]
    },
    {
      "cell_type": "markdown",
      "metadata": {
        "id": "fijaZ0BDtrC9",
        "colab_type": "text"
      },
      "source": [
        "# Symetric Autoencoder\n",
        "\n",
        "The idea is to use an autoencoder with a bottleneck-like structures that includes an encoder followed by a decoder. The aim is to project the data to a much lower number of dimentions then reconstruct the input from the hidden lower-dimentional data representation. As a by-product of this process, a new feature space is created in the last layer of the encoder, which extracts usfule and abstract features from the data. \n",
        "\n",
        "In this section, the option of using a simple symetric autoencoder for this goal is investigated. The structure of the autoencoder is chosen based on the typical network structure used in the related literature."
      ]
    },
    {
      "cell_type": "code",
      "metadata": {
        "id": "RLcMim9d1-yC",
        "colab_type": "code",
        "colab": {}
      },
      "source": [
        "# Reset the session to delete old models if required\n",
        "# Skip this step if it is not required\n",
        "K.clear_session()"
      ],
      "execution_count": 0,
      "outputs": []
    },
    {
      "cell_type": "code",
      "metadata": {
        "id": "PwfGV0OU1cpX",
        "colab_type": "code",
        "colab": {}
      },
      "source": [
        "# Setting parameters\n",
        "# Network structure for the encoder\n",
        "# By experimemt the choice of [xTrain.shape[1],1000,10] also works well\n",
        "units = [xTrain.shape[1],500,500,2000,10] \n",
        "optimizer = 'adam'\n",
        "loss = 'mse'\n",
        "activation = 'relu'\n",
        "batch_size = 256\n",
        "n_epochs = 200\n",
        "k = 10 # number of clusters"
      ],
      "execution_count": 0,
      "outputs": []
    },
    {
      "cell_type": "markdown",
      "metadata": {
        "id": "hvbYtdVPvi8m",
        "colab_type": "text"
      },
      "source": [
        "Building the encoder and displaying its properties."
      ]
    },
    {
      "cell_type": "code",
      "metadata": {
        "id": "vbGF4MDZfMvA",
        "colab_type": "code",
        "outputId": "5f62e382-edcc-4a7e-f861-ee69c0c18c90",
        "colab": {
          "base_uri": "https://localhost:8080/",
          "height": 301
        }
      },
      "source": [
        "# Encoder\n",
        "encoder = Sequential(name='encoder')\n",
        "encoder.add(Dense(units[1], input_dim=units[0], activation=activation))\n",
        "for i in range(2,len(units)-1):\n",
        "  encoder.add(Dense(units[i], activation=activation))\n",
        "encoder.add(Dense(units[-1]))\n",
        "encoder.summary()"
      ],
      "execution_count": 110,
      "outputs": [
        {
          "output_type": "stream",
          "text": [
            "Model: \"encoder\"\n",
            "_________________________________________________________________\n",
            "Layer (type)                 Output Shape              Param #   \n",
            "=================================================================\n",
            "dense_1 (Dense)              (None, 500)               392500    \n",
            "_________________________________________________________________\n",
            "dense_2 (Dense)              (None, 500)               250500    \n",
            "_________________________________________________________________\n",
            "dense_3 (Dense)              (None, 2000)              1002000   \n",
            "_________________________________________________________________\n",
            "dense_4 (Dense)              (None, 10)                20010     \n",
            "=================================================================\n",
            "Total params: 1,665,010\n",
            "Trainable params: 1,665,010\n",
            "Non-trainable params: 0\n",
            "_________________________________________________________________\n"
          ],
          "name": "stdout"
        }
      ]
    },
    {
      "cell_type": "markdown",
      "metadata": {
        "id": "zt42We5dv_ck",
        "colab_type": "text"
      },
      "source": [
        "Building the decoder and displaying its properties."
      ]
    },
    {
      "cell_type": "code",
      "metadata": {
        "id": "p0hSCAhTo8Ra",
        "colab_type": "code",
        "outputId": "82437602-0763-4b77-f197-8795e9b6ab21",
        "colab": {
          "base_uri": "https://localhost:8080/",
          "height": 301
        }
      },
      "source": [
        "# Decoder\n",
        "decoder = Sequential(name='decoder')\n",
        "decoder.add(Dense(units[-2], input_dim=units[-1], activation=activation))\n",
        "for i in range(-3,-len(units),-1):\n",
        "  decoder.add(Dense(units[i], activation=activation))\n",
        "decoder.add(Dense(units[0]))\n",
        "decoder.summary()"
      ],
      "execution_count": 111,
      "outputs": [
        {
          "output_type": "stream",
          "text": [
            "Model: \"decoder\"\n",
            "_________________________________________________________________\n",
            "Layer (type)                 Output Shape              Param #   \n",
            "=================================================================\n",
            "dense_5 (Dense)              (None, 2000)              22000     \n",
            "_________________________________________________________________\n",
            "dense_6 (Dense)              (None, 500)               1000500   \n",
            "_________________________________________________________________\n",
            "dense_7 (Dense)              (None, 500)               250500    \n",
            "_________________________________________________________________\n",
            "dense_8 (Dense)              (None, 784)               392784    \n",
            "=================================================================\n",
            "Total params: 1,665,784\n",
            "Trainable params: 1,665,784\n",
            "Non-trainable params: 0\n",
            "_________________________________________________________________\n"
          ],
          "name": "stdout"
        }
      ]
    },
    {
      "cell_type": "markdown",
      "metadata": {
        "id": "5TFgPdO2wDuh",
        "colab_type": "text"
      },
      "source": [
        "Building the autoencoder and displaying its properties."
      ]
    },
    {
      "cell_type": "code",
      "metadata": {
        "id": "OneC7qvYxQ2Y",
        "colab_type": "code",
        "outputId": "95e973a7-d7fb-4b9a-ab75-ddb281a91535",
        "colab": {
          "base_uri": "https://localhost:8080/",
          "height": 265
        }
      },
      "source": [
        "#Simple autoencoder\n",
        "inputs = Input(shape=(xTrain.shape[1],))\n",
        "encoded = encoder(inputs)\n",
        "decoded = decoder(encoded)\n",
        "ae = Model(inputs,decoded)\n",
        "ae.compile(optimizer=optimizer, loss=loss)\n",
        "ae.summary()"
      ],
      "execution_count": 112,
      "outputs": [
        {
          "output_type": "stream",
          "text": [
            "Model: \"model_1\"\n",
            "_________________________________________________________________\n",
            "Layer (type)                 Output Shape              Param #   \n",
            "=================================================================\n",
            "input_1 (InputLayer)         (None, 784)               0         \n",
            "_________________________________________________________________\n",
            "encoder (Sequential)         (None, 10)                1665010   \n",
            "_________________________________________________________________\n",
            "decoder (Sequential)         (None, 784)               1665784   \n",
            "=================================================================\n",
            "Total params: 3,330,794\n",
            "Trainable params: 3,330,794\n",
            "Non-trainable params: 0\n",
            "_________________________________________________________________\n"
          ],
          "name": "stdout"
        }
      ]
    },
    {
      "cell_type": "markdown",
      "metadata": {
        "id": "CU22B6GGwKRd",
        "colab_type": "text"
      },
      "source": [
        "By calling the fit method, the training is begun and the network weights of the encoder and decoder are updated. The Mean-Squered_error of the reconstructions is used as the loss fuction and it is optimised using Adam optimizer. A $1$ to $4$ ration is used to divide the data to the validation and training sets. The training progress and history of the training loss are depicted. "
      ]
    },
    {
      "cell_type": "code",
      "metadata": {
        "id": "p234LrUC8fYU",
        "colab_type": "code",
        "outputId": "1a952305-82a4-4318-e6e8-00449ef7ad1d",
        "colab": {
          "base_uri": "https://localhost:8080/",
          "height": 1000
        }
      },
      "source": [
        "results = ae.fit(x=xTrain,y=xTrain,batch_size=batch_size,\n",
        "       epochs=n_epochs,verbose=1,validation_split=0.8)"
      ],
      "execution_count": 113,
      "outputs": [
        {
          "output_type": "stream",
          "text": [
            "Train on 11999 samples, validate on 48001 samples\n",
            "Epoch 1/200\n",
            "11999/11999 [==============================] - 1s 101us/step - loss: 0.0454 - val_loss: 0.0294\n",
            "Epoch 2/200\n",
            "11999/11999 [==============================] - 1s 63us/step - loss: 0.0292 - val_loss: 0.0286\n",
            "Epoch 3/200\n",
            "11999/11999 [==============================] - 1s 61us/step - loss: 0.0248 - val_loss: 0.0214\n",
            "Epoch 4/200\n",
            "11999/11999 [==============================] - 1s 60us/step - loss: 0.0195 - val_loss: 0.0180\n",
            "Epoch 5/200\n",
            "11999/11999 [==============================] - 1s 60us/step - loss: 0.0162 - val_loss: 0.0152\n",
            "Epoch 6/200\n",
            "11999/11999 [==============================] - 1s 61us/step - loss: 0.0141 - val_loss: 0.0138\n",
            "Epoch 7/200\n",
            "11999/11999 [==============================] - 1s 60us/step - loss: 0.0129 - val_loss: 0.0127\n",
            "Epoch 8/200\n",
            "11999/11999 [==============================] - 1s 60us/step - loss: 0.0118 - val_loss: 0.0117\n",
            "Epoch 9/200\n",
            "11999/11999 [==============================] - 1s 61us/step - loss: 0.0109 - val_loss: 0.0110\n",
            "Epoch 10/200\n",
            "11999/11999 [==============================] - 1s 61us/step - loss: 0.0102 - val_loss: 0.0104\n",
            "Epoch 11/200\n",
            "11999/11999 [==============================] - 1s 60us/step - loss: 0.0097 - val_loss: 0.0100\n",
            "Epoch 12/200\n",
            "11999/11999 [==============================] - 1s 60us/step - loss: 0.0093 - val_loss: 0.0095\n",
            "Epoch 13/200\n",
            "11999/11999 [==============================] - 1s 61us/step - loss: 0.0089 - val_loss: 0.0092\n",
            "Epoch 14/200\n",
            "11999/11999 [==============================] - 1s 62us/step - loss: 0.0086 - val_loss: 0.0090\n",
            "Epoch 15/200\n",
            "11999/11999 [==============================] - 1s 61us/step - loss: 0.0084 - val_loss: 0.0087\n",
            "Epoch 16/200\n",
            "11999/11999 [==============================] - 1s 61us/step - loss: 0.0082 - val_loss: 0.0086\n",
            "Epoch 17/200\n",
            "11999/11999 [==============================] - 1s 60us/step - loss: 0.0080 - val_loss: 0.0083\n",
            "Epoch 18/200\n",
            "11999/11999 [==============================] - 1s 61us/step - loss: 0.0078 - val_loss: 0.0082\n",
            "Epoch 19/200\n",
            "11999/11999 [==============================] - 1s 61us/step - loss: 0.0075 - val_loss: 0.0081\n",
            "Epoch 20/200\n",
            "11999/11999 [==============================] - 1s 60us/step - loss: 0.0074 - val_loss: 0.0079\n",
            "Epoch 21/200\n",
            "11999/11999 [==============================] - 1s 61us/step - loss: 0.0073 - val_loss: 0.0078\n",
            "Epoch 22/200\n",
            "11999/11999 [==============================] - 1s 61us/step - loss: 0.0072 - val_loss: 0.0079\n",
            "Epoch 23/200\n",
            "11999/11999 [==============================] - 1s 61us/step - loss: 0.0070 - val_loss: 0.0077\n",
            "Epoch 24/200\n",
            "11999/11999 [==============================] - 1s 61us/step - loss: 0.0070 - val_loss: 0.0076\n",
            "Epoch 25/200\n",
            "11999/11999 [==============================] - 1s 62us/step - loss: 0.0068 - val_loss: 0.0075\n",
            "Epoch 26/200\n",
            "11999/11999 [==============================] - 1s 60us/step - loss: 0.0067 - val_loss: 0.0075\n",
            "Epoch 27/200\n",
            "11999/11999 [==============================] - 1s 61us/step - loss: 0.0066 - val_loss: 0.0073\n",
            "Epoch 28/200\n",
            "11999/11999 [==============================] - 1s 60us/step - loss: 0.0066 - val_loss: 0.0073\n",
            "Epoch 29/200\n",
            "11999/11999 [==============================] - 1s 61us/step - loss: 0.0064 - val_loss: 0.0072\n",
            "Epoch 30/200\n",
            "11999/11999 [==============================] - 1s 62us/step - loss: 0.0064 - val_loss: 0.0071\n",
            "Epoch 31/200\n",
            "11999/11999 [==============================] - 1s 60us/step - loss: 0.0063 - val_loss: 0.0071\n",
            "Epoch 32/200\n",
            "11999/11999 [==============================] - 1s 61us/step - loss: 0.0062 - val_loss: 0.0070\n",
            "Epoch 33/200\n",
            "11999/11999 [==============================] - 1s 60us/step - loss: 0.0061 - val_loss: 0.0070\n",
            "Epoch 34/200\n",
            "11999/11999 [==============================] - 1s 61us/step - loss: 0.0061 - val_loss: 0.0069\n",
            "Epoch 35/200\n",
            "11999/11999 [==============================] - 1s 61us/step - loss: 0.0060 - val_loss: 0.0069\n",
            "Epoch 36/200\n",
            "11999/11999 [==============================] - 1s 61us/step - loss: 0.0060 - val_loss: 0.0069\n",
            "Epoch 37/200\n",
            "11999/11999 [==============================] - 1s 61us/step - loss: 0.0059 - val_loss: 0.0068\n",
            "Epoch 38/200\n",
            "11999/11999 [==============================] - 1s 63us/step - loss: 0.0059 - val_loss: 0.0068\n",
            "Epoch 39/200\n",
            "11999/11999 [==============================] - 1s 61us/step - loss: 0.0058 - val_loss: 0.0068\n",
            "Epoch 40/200\n",
            "11999/11999 [==============================] - 1s 60us/step - loss: 0.0057 - val_loss: 0.0067\n",
            "Epoch 41/200\n",
            "11999/11999 [==============================] - 1s 61us/step - loss: 0.0057 - val_loss: 0.0068\n",
            "Epoch 42/200\n",
            "11999/11999 [==============================] - 1s 60us/step - loss: 0.0057 - val_loss: 0.0066\n",
            "Epoch 43/200\n",
            "11999/11999 [==============================] - 1s 62us/step - loss: 0.0056 - val_loss: 0.0066\n",
            "Epoch 44/200\n",
            "11999/11999 [==============================] - 1s 61us/step - loss: 0.0055 - val_loss: 0.0066\n",
            "Epoch 45/200\n",
            "11999/11999 [==============================] - 1s 62us/step - loss: 0.0055 - val_loss: 0.0066\n",
            "Epoch 46/200\n",
            "11999/11999 [==============================] - 1s 60us/step - loss: 0.0054 - val_loss: 0.0065\n",
            "Epoch 47/200\n",
            "11999/11999 [==============================] - 1s 60us/step - loss: 0.0054 - val_loss: 0.0065\n",
            "Epoch 48/200\n",
            "11999/11999 [==============================] - 1s 61us/step - loss: 0.0054 - val_loss: 0.0066\n",
            "Epoch 49/200\n",
            "11999/11999 [==============================] - 1s 60us/step - loss: 0.0054 - val_loss: 0.0065\n",
            "Epoch 50/200\n",
            "11999/11999 [==============================] - 1s 61us/step - loss: 0.0053 - val_loss: 0.0065\n",
            "Epoch 51/200\n",
            "11999/11999 [==============================] - 1s 62us/step - loss: 0.0053 - val_loss: 0.0065\n",
            "Epoch 52/200\n",
            "11999/11999 [==============================] - 1s 61us/step - loss: 0.0053 - val_loss: 0.0065\n",
            "Epoch 53/200\n",
            "11999/11999 [==============================] - 1s 60us/step - loss: 0.0052 - val_loss: 0.0064\n",
            "Epoch 54/200\n",
            "11999/11999 [==============================] - 1s 61us/step - loss: 0.0052 - val_loss: 0.0064\n",
            "Epoch 55/200\n",
            "11999/11999 [==============================] - 1s 60us/step - loss: 0.0051 - val_loss: 0.0063\n",
            "Epoch 56/200\n",
            "11999/11999 [==============================] - 1s 60us/step - loss: 0.0051 - val_loss: 0.0063\n",
            "Epoch 57/200\n",
            "11999/11999 [==============================] - 1s 62us/step - loss: 0.0052 - val_loss: 0.0063\n",
            "Epoch 58/200\n",
            "11999/11999 [==============================] - 1s 63us/step - loss: 0.0050 - val_loss: 0.0063\n",
            "Epoch 59/200\n",
            "11999/11999 [==============================] - 1s 63us/step - loss: 0.0050 - val_loss: 0.0063\n",
            "Epoch 60/200\n",
            "11999/11999 [==============================] - 1s 62us/step - loss: 0.0050 - val_loss: 0.0062\n",
            "Epoch 61/200\n",
            "11999/11999 [==============================] - 1s 63us/step - loss: 0.0050 - val_loss: 0.0063\n",
            "Epoch 62/200\n",
            "11999/11999 [==============================] - 1s 63us/step - loss: 0.0049 - val_loss: 0.0063\n",
            "Epoch 63/200\n",
            "11999/11999 [==============================] - 1s 61us/step - loss: 0.0049 - val_loss: 0.0063\n",
            "Epoch 64/200\n",
            "11999/11999 [==============================] - 1s 60us/step - loss: 0.0049 - val_loss: 0.0063\n",
            "Epoch 65/200\n",
            "11999/11999 [==============================] - 1s 61us/step - loss: 0.0048 - val_loss: 0.0062\n",
            "Epoch 66/200\n",
            "11999/11999 [==============================] - 1s 63us/step - loss: 0.0048 - val_loss: 0.0063\n",
            "Epoch 67/200\n",
            "11999/11999 [==============================] - 1s 59us/step - loss: 0.0048 - val_loss: 0.0063\n",
            "Epoch 68/200\n",
            "11999/11999 [==============================] - 1s 62us/step - loss: 0.0047 - val_loss: 0.0062\n",
            "Epoch 69/200\n",
            "11999/11999 [==============================] - 1s 61us/step - loss: 0.0047 - val_loss: 0.0062\n",
            "Epoch 70/200\n",
            "11999/11999 [==============================] - 1s 61us/step - loss: 0.0047 - val_loss: 0.0062\n",
            "Epoch 71/200\n",
            "11999/11999 [==============================] - 1s 61us/step - loss: 0.0047 - val_loss: 0.0061\n",
            "Epoch 72/200\n",
            "11999/11999 [==============================] - 1s 61us/step - loss: 0.0047 - val_loss: 0.0062\n",
            "Epoch 73/200\n",
            "11999/11999 [==============================] - 1s 61us/step - loss: 0.0046 - val_loss: 0.0061\n",
            "Epoch 74/200\n",
            "11999/11999 [==============================] - 1s 61us/step - loss: 0.0046 - val_loss: 0.0061\n",
            "Epoch 75/200\n",
            "11999/11999 [==============================] - 1s 61us/step - loss: 0.0046 - val_loss: 0.0061\n",
            "Epoch 76/200\n",
            "11999/11999 [==============================] - 1s 61us/step - loss: 0.0046 - val_loss: 0.0062\n",
            "Epoch 77/200\n",
            "11999/11999 [==============================] - 1s 61us/step - loss: 0.0045 - val_loss: 0.0062\n",
            "Epoch 78/200\n",
            "11999/11999 [==============================] - 1s 61us/step - loss: 0.0045 - val_loss: 0.0060\n",
            "Epoch 79/200\n",
            "11999/11999 [==============================] - 1s 61us/step - loss: 0.0045 - val_loss: 0.0061\n",
            "Epoch 80/200\n",
            "11999/11999 [==============================] - 1s 62us/step - loss: 0.0045 - val_loss: 0.0061\n",
            "Epoch 81/200\n",
            "11999/11999 [==============================] - 1s 61us/step - loss: 0.0045 - val_loss: 0.0062\n",
            "Epoch 82/200\n",
            "11999/11999 [==============================] - 1s 60us/step - loss: 0.0045 - val_loss: 0.0061\n",
            "Epoch 83/200\n",
            "11999/11999 [==============================] - 1s 60us/step - loss: 0.0044 - val_loss: 0.0062\n",
            "Epoch 84/200\n",
            "11999/11999 [==============================] - 1s 61us/step - loss: 0.0044 - val_loss: 0.0061\n",
            "Epoch 85/200\n",
            "11999/11999 [==============================] - 1s 61us/step - loss: 0.0044 - val_loss: 0.0061\n",
            "Epoch 86/200\n",
            "11999/11999 [==============================] - 1s 63us/step - loss: 0.0043 - val_loss: 0.0060\n",
            "Epoch 87/200\n",
            "11999/11999 [==============================] - 1s 61us/step - loss: 0.0043 - val_loss: 0.0061\n",
            "Epoch 88/200\n",
            "11999/11999 [==============================] - 1s 61us/step - loss: 0.0043 - val_loss: 0.0060\n",
            "Epoch 89/200\n",
            "11999/11999 [==============================] - 1s 60us/step - loss: 0.0043 - val_loss: 0.0060\n",
            "Epoch 90/200\n",
            "11999/11999 [==============================] - 1s 59us/step - loss: 0.0043 - val_loss: 0.0060\n",
            "Epoch 91/200\n",
            "11999/11999 [==============================] - 1s 61us/step - loss: 0.0043 - val_loss: 0.0061\n",
            "Epoch 92/200\n",
            "11999/11999 [==============================] - 1s 60us/step - loss: 0.0043 - val_loss: 0.0061\n",
            "Epoch 93/200\n",
            "11999/11999 [==============================] - 1s 60us/step - loss: 0.0043 - val_loss: 0.0061\n",
            "Epoch 94/200\n",
            "11999/11999 [==============================] - 1s 60us/step - loss: 0.0042 - val_loss: 0.0060\n",
            "Epoch 95/200\n",
            "11999/11999 [==============================] - 1s 62us/step - loss: 0.0042 - val_loss: 0.0060\n",
            "Epoch 96/200\n",
            "11999/11999 [==============================] - 1s 60us/step - loss: 0.0042 - val_loss: 0.0061\n",
            "Epoch 97/200\n",
            "11999/11999 [==============================] - 1s 61us/step - loss: 0.0042 - val_loss: 0.0060\n",
            "Epoch 98/200\n",
            "11999/11999 [==============================] - 1s 61us/step - loss: 0.0042 - val_loss: 0.0060\n",
            "Epoch 99/200\n",
            "11999/11999 [==============================] - 1s 60us/step - loss: 0.0041 - val_loss: 0.0060\n",
            "Epoch 100/200\n",
            "11999/11999 [==============================] - 1s 62us/step - loss: 0.0041 - val_loss: 0.0060\n",
            "Epoch 101/200\n",
            "11999/11999 [==============================] - 1s 60us/step - loss: 0.0041 - val_loss: 0.0060\n",
            "Epoch 102/200\n",
            "11999/11999 [==============================] - 1s 60us/step - loss: 0.0041 - val_loss: 0.0060\n",
            "Epoch 103/200\n",
            "11999/11999 [==============================] - 1s 61us/step - loss: 0.0041 - val_loss: 0.0060\n",
            "Epoch 104/200\n",
            "11999/11999 [==============================] - 1s 61us/step - loss: 0.0041 - val_loss: 0.0060\n",
            "Epoch 105/200\n",
            "11999/11999 [==============================] - 1s 61us/step - loss: 0.0040 - val_loss: 0.0060\n",
            "Epoch 106/200\n",
            "11999/11999 [==============================] - 1s 61us/step - loss: 0.0041 - val_loss: 0.0060\n",
            "Epoch 107/200\n",
            "11999/11999 [==============================] - 1s 62us/step - loss: 0.0040 - val_loss: 0.0060\n",
            "Epoch 108/200\n",
            "11999/11999 [==============================] - 1s 61us/step - loss: 0.0040 - val_loss: 0.0060\n",
            "Epoch 109/200\n",
            "11999/11999 [==============================] - 1s 60us/step - loss: 0.0040 - val_loss: 0.0060\n",
            "Epoch 110/200\n",
            "11999/11999 [==============================] - 1s 61us/step - loss: 0.0040 - val_loss: 0.0060\n",
            "Epoch 111/200\n",
            "11999/11999 [==============================] - 1s 60us/step - loss: 0.0039 - val_loss: 0.0060\n",
            "Epoch 112/200\n",
            "11999/11999 [==============================] - 1s 59us/step - loss: 0.0040 - val_loss: 0.0059\n",
            "Epoch 113/200\n",
            "11999/11999 [==============================] - 1s 60us/step - loss: 0.0039 - val_loss: 0.0060\n",
            "Epoch 114/200\n",
            "11999/11999 [==============================] - 1s 61us/step - loss: 0.0040 - val_loss: 0.0060\n",
            "Epoch 115/200\n",
            "11999/11999 [==============================] - 1s 61us/step - loss: 0.0040 - val_loss: 0.0059\n",
            "Epoch 116/200\n",
            "11999/11999 [==============================] - 1s 59us/step - loss: 0.0039 - val_loss: 0.0060\n",
            "Epoch 117/200\n",
            "11999/11999 [==============================] - 1s 60us/step - loss: 0.0040 - val_loss: 0.0060\n",
            "Epoch 118/200\n",
            "11999/11999 [==============================] - 1s 60us/step - loss: 0.0039 - val_loss: 0.0059\n",
            "Epoch 119/200\n",
            "11999/11999 [==============================] - 1s 59us/step - loss: 0.0039 - val_loss: 0.0060\n",
            "Epoch 120/200\n",
            "11999/11999 [==============================] - 1s 60us/step - loss: 0.0039 - val_loss: 0.0059\n",
            "Epoch 121/200\n",
            "11999/11999 [==============================] - 1s 61us/step - loss: 0.0038 - val_loss: 0.0059\n",
            "Epoch 122/200\n",
            "11999/11999 [==============================] - 1s 59us/step - loss: 0.0038 - val_loss: 0.0060\n",
            "Epoch 123/200\n",
            "11999/11999 [==============================] - 1s 62us/step - loss: 0.0039 - val_loss: 0.0060\n",
            "Epoch 124/200\n",
            "11999/11999 [==============================] - 1s 60us/step - loss: 0.0039 - val_loss: 0.0060\n",
            "Epoch 125/200\n",
            "11999/11999 [==============================] - 1s 61us/step - loss: 0.0038 - val_loss: 0.0060\n",
            "Epoch 126/200\n",
            "11999/11999 [==============================] - 1s 61us/step - loss: 0.0038 - val_loss: 0.0059\n",
            "Epoch 127/200\n",
            "11999/11999 [==============================] - 1s 59us/step - loss: 0.0038 - val_loss: 0.0060\n",
            "Epoch 128/200\n",
            "11999/11999 [==============================] - 1s 59us/step - loss: 0.0038 - val_loss: 0.0060\n",
            "Epoch 129/200\n",
            "11999/11999 [==============================] - 1s 61us/step - loss: 0.0037 - val_loss: 0.0059\n",
            "Epoch 130/200\n",
            "11999/11999 [==============================] - 1s 59us/step - loss: 0.0037 - val_loss: 0.0060\n",
            "Epoch 131/200\n",
            "11999/11999 [==============================] - 1s 59us/step - loss: 0.0038 - val_loss: 0.0059\n",
            "Epoch 132/200\n",
            "11999/11999 [==============================] - 1s 61us/step - loss: 0.0037 - val_loss: 0.0060\n",
            "Epoch 133/200\n",
            "11999/11999 [==============================] - 1s 61us/step - loss: 0.0037 - val_loss: 0.0062\n",
            "Epoch 134/200\n",
            "11999/11999 [==============================] - 1s 59us/step - loss: 0.0038 - val_loss: 0.0060\n",
            "Epoch 135/200\n",
            "11999/11999 [==============================] - 1s 61us/step - loss: 0.0037 - val_loss: 0.0059\n",
            "Epoch 136/200\n",
            "11999/11999 [==============================] - 1s 60us/step - loss: 0.0037 - val_loss: 0.0060\n",
            "Epoch 137/200\n",
            "11999/11999 [==============================] - 1s 61us/step - loss: 0.0037 - val_loss: 0.0060\n",
            "Epoch 138/200\n",
            "11999/11999 [==============================] - 1s 60us/step - loss: 0.0037 - val_loss: 0.0059\n",
            "Epoch 139/200\n",
            "11999/11999 [==============================] - 1s 61us/step - loss: 0.0037 - val_loss: 0.0060\n",
            "Epoch 140/200\n",
            "11999/11999 [==============================] - 1s 61us/step - loss: 0.0036 - val_loss: 0.0059\n",
            "Epoch 141/200\n",
            "11999/11999 [==============================] - 1s 60us/step - loss: 0.0036 - val_loss: 0.0059\n",
            "Epoch 142/200\n",
            "11999/11999 [==============================] - 1s 61us/step - loss: 0.0037 - val_loss: 0.0059\n",
            "Epoch 143/200\n",
            "11999/11999 [==============================] - 1s 62us/step - loss: 0.0037 - val_loss: 0.0060\n",
            "Epoch 144/200\n",
            "11999/11999 [==============================] - 1s 61us/step - loss: 0.0037 - val_loss: 0.0060\n",
            "Epoch 145/200\n",
            "11999/11999 [==============================] - 1s 61us/step - loss: 0.0036 - val_loss: 0.0060\n",
            "Epoch 146/200\n",
            "11999/11999 [==============================] - 1s 60us/step - loss: 0.0036 - val_loss: 0.0059\n",
            "Epoch 147/200\n",
            "11999/11999 [==============================] - 1s 59us/step - loss: 0.0036 - val_loss: 0.0059\n",
            "Epoch 148/200\n",
            "11999/11999 [==============================] - 1s 61us/step - loss: 0.0036 - val_loss: 0.0060\n",
            "Epoch 149/200\n",
            "11999/11999 [==============================] - 1s 60us/step - loss: 0.0036 - val_loss: 0.0060\n",
            "Epoch 150/200\n",
            "11999/11999 [==============================] - 1s 60us/step - loss: 0.0036 - val_loss: 0.0060\n",
            "Epoch 151/200\n",
            "11999/11999 [==============================] - 1s 61us/step - loss: 0.0036 - val_loss: 0.0059\n",
            "Epoch 152/200\n",
            "11999/11999 [==============================] - 1s 60us/step - loss: 0.0036 - val_loss: 0.0060\n",
            "Epoch 153/200\n",
            "11999/11999 [==============================] - 1s 61us/step - loss: 0.0036 - val_loss: 0.0059\n",
            "Epoch 154/200\n",
            "11999/11999 [==============================] - 1s 59us/step - loss: 0.0035 - val_loss: 0.0060\n",
            "Epoch 155/200\n",
            "11999/11999 [==============================] - 1s 61us/step - loss: 0.0035 - val_loss: 0.0060\n",
            "Epoch 156/200\n",
            "11999/11999 [==============================] - 1s 60us/step - loss: 0.0035 - val_loss: 0.0060\n",
            "Epoch 157/200\n",
            "11999/11999 [==============================] - 1s 61us/step - loss: 0.0035 - val_loss: 0.0059\n",
            "Epoch 158/200\n",
            "11999/11999 [==============================] - 1s 60us/step - loss: 0.0036 - val_loss: 0.0059\n",
            "Epoch 159/200\n",
            "11999/11999 [==============================] - 1s 61us/step - loss: 0.0035 - val_loss: 0.0059\n",
            "Epoch 160/200\n",
            "11999/11999 [==============================] - 1s 60us/step - loss: 0.0035 - val_loss: 0.0059\n",
            "Epoch 161/200\n",
            "11999/11999 [==============================] - 1s 60us/step - loss: 0.0035 - val_loss: 0.0059\n",
            "Epoch 162/200\n",
            "11999/11999 [==============================] - 1s 60us/step - loss: 0.0035 - val_loss: 0.0060\n",
            "Epoch 163/200\n",
            "11999/11999 [==============================] - 1s 60us/step - loss: 0.0035 - val_loss: 0.0060\n",
            "Epoch 164/200\n",
            "11999/11999 [==============================] - 1s 58us/step - loss: 0.0035 - val_loss: 0.0060\n",
            "Epoch 165/200\n",
            "11999/11999 [==============================] - 1s 60us/step - loss: 0.0035 - val_loss: 0.0060\n",
            "Epoch 166/200\n",
            "11999/11999 [==============================] - 1s 63us/step - loss: 0.0034 - val_loss: 0.0059\n",
            "Epoch 167/200\n",
            "11999/11999 [==============================] - 1s 60us/step - loss: 0.0034 - val_loss: 0.0060\n",
            "Epoch 168/200\n",
            "11999/11999 [==============================] - 1s 60us/step - loss: 0.0035 - val_loss: 0.0059\n",
            "Epoch 169/200\n",
            "11999/11999 [==============================] - 1s 61us/step - loss: 0.0034 - val_loss: 0.0060\n",
            "Epoch 170/200\n",
            "11999/11999 [==============================] - 1s 60us/step - loss: 0.0034 - val_loss: 0.0060\n",
            "Epoch 171/200\n",
            "11999/11999 [==============================] - 1s 60us/step - loss: 0.0034 - val_loss: 0.0059\n",
            "Epoch 172/200\n",
            "11999/11999 [==============================] - 1s 61us/step - loss: 0.0034 - val_loss: 0.0060\n",
            "Epoch 173/200\n",
            "11999/11999 [==============================] - 1s 59us/step - loss: 0.0034 - val_loss: 0.0061\n",
            "Epoch 174/200\n",
            "11999/11999 [==============================] - 1s 60us/step - loss: 0.0034 - val_loss: 0.0060\n",
            "Epoch 175/200\n",
            "11999/11999 [==============================] - 1s 60us/step - loss: 0.0034 - val_loss: 0.0059\n",
            "Epoch 176/200\n",
            "11999/11999 [==============================] - 1s 60us/step - loss: 0.0033 - val_loss: 0.0060\n",
            "Epoch 177/200\n",
            "11999/11999 [==============================] - 1s 61us/step - loss: 0.0034 - val_loss: 0.0061\n",
            "Epoch 178/200\n",
            "11999/11999 [==============================] - 1s 60us/step - loss: 0.0034 - val_loss: 0.0060\n",
            "Epoch 179/200\n",
            "11999/11999 [==============================] - 1s 60us/step - loss: 0.0034 - val_loss: 0.0060\n",
            "Epoch 180/200\n",
            "11999/11999 [==============================] - 1s 61us/step - loss: 0.0034 - val_loss: 0.0060\n",
            "Epoch 181/200\n",
            "11999/11999 [==============================] - 1s 60us/step - loss: 0.0034 - val_loss: 0.0060\n",
            "Epoch 182/200\n",
            "11999/11999 [==============================] - 1s 61us/step - loss: 0.0033 - val_loss: 0.0060\n",
            "Epoch 183/200\n",
            "11999/11999 [==============================] - 1s 59us/step - loss: 0.0033 - val_loss: 0.0060\n",
            "Epoch 184/200\n",
            "11999/11999 [==============================] - 1s 60us/step - loss: 0.0033 - val_loss: 0.0060\n",
            "Epoch 185/200\n",
            "11999/11999 [==============================] - 1s 58us/step - loss: 0.0033 - val_loss: 0.0059\n",
            "Epoch 186/200\n",
            "11999/11999 [==============================] - 1s 60us/step - loss: 0.0033 - val_loss: 0.0060\n",
            "Epoch 187/200\n",
            "11999/11999 [==============================] - 1s 61us/step - loss: 0.0033 - val_loss: 0.0060\n",
            "Epoch 188/200\n",
            "11999/11999 [==============================] - 1s 59us/step - loss: 0.0033 - val_loss: 0.0060\n",
            "Epoch 189/200\n",
            "11999/11999 [==============================] - 1s 59us/step - loss: 0.0033 - val_loss: 0.0060\n",
            "Epoch 190/200\n",
            "11999/11999 [==============================] - 1s 62us/step - loss: 0.0033 - val_loss: 0.0060\n",
            "Epoch 191/200\n",
            "11999/11999 [==============================] - 1s 60us/step - loss: 0.0032 - val_loss: 0.0060\n",
            "Epoch 192/200\n",
            "11999/11999 [==============================] - 1s 58us/step - loss: 0.0032 - val_loss: 0.0060\n",
            "Epoch 193/200\n",
            "11999/11999 [==============================] - 1s 61us/step - loss: 0.0032 - val_loss: 0.0060\n",
            "Epoch 194/200\n",
            "11999/11999 [==============================] - 1s 61us/step - loss: 0.0033 - val_loss: 0.0060\n",
            "Epoch 195/200\n",
            "11999/11999 [==============================] - 1s 60us/step - loss: 0.0033 - val_loss: 0.0060\n",
            "Epoch 196/200\n",
            "11999/11999 [==============================] - 1s 61us/step - loss: 0.0033 - val_loss: 0.0060\n",
            "Epoch 197/200\n",
            "11999/11999 [==============================] - 1s 60us/step - loss: 0.0033 - val_loss: 0.0060\n",
            "Epoch 198/200\n",
            "11999/11999 [==============================] - 1s 60us/step - loss: 0.0032 - val_loss: 0.0060\n",
            "Epoch 199/200\n",
            "11999/11999 [==============================] - 1s 59us/step - loss: 0.0032 - val_loss: 0.0060\n",
            "Epoch 200/200\n",
            "11999/11999 [==============================] - 1s 60us/step - loss: 0.0032 - val_loss: 0.0060\n"
          ],
          "name": "stdout"
        }
      ]
    },
    {
      "cell_type": "code",
      "metadata": {
        "id": "EgQEatLfOCa3",
        "colab_type": "code",
        "outputId": "79fe809e-e0c1-4166-f0d6-fb4e2d5462f6",
        "colab": {
          "base_uri": "https://localhost:8080/",
          "height": 296
        }
      },
      "source": [
        "plt.plot(results.history['loss'])\n",
        "plt.xlabel('Epoch')\n",
        "plt.ylabel('Training Loss')"
      ],
      "execution_count": 114,
      "outputs": [
        {
          "output_type": "execute_result",
          "data": {
            "text/plain": [
              "Text(0, 0.5, 'Training Loss')"
            ]
          },
          "metadata": {
            "tags": []
          },
          "execution_count": 114
        },
        {
          "output_type": "display_data",
          "data": {
            "image/png": "iVBORw0KGgoAAAANSUhEUgAAAYgAAAEGCAYAAAB/+QKOAAAABHNCSVQICAgIfAhkiAAAAAlwSFlz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\n",
            "text/plain": [
              "<Figure size 432x288 with 1 Axes>"
            ]
          },
          "metadata": {
            "tags": []
          }
        }
      ]
    },
    {
      "cell_type": "markdown",
      "metadata": {
        "id": "2VJEZAfpOGgm",
        "colab_type": "text"
      },
      "source": [
        "Let's plot some of the images reconstructed by the autoencoder."
      ]
    },
    {
      "cell_type": "code",
      "metadata": {
        "id": "8YK8ZpAuOF0u",
        "colab_type": "code",
        "outputId": "e0e07612-57f6-404f-ef27-ebaaac63f8d6",
        "colab": {
          "base_uri": "https://localhost:8080/",
          "height": 232
        }
      },
      "source": [
        "# Display a sample reconstructed image per digit after the data preprocessing step\n",
        "for i in np.unique(yTrain,return_index=True)[1]:\n",
        "  ax = plt.subplot(2,5,yTrain[i]+1)\n",
        "  img = ae.predict(xTrain[i].reshape((1,-1)))\n",
        "  ax.imshow(img.reshape(28,28))\n",
        "plt.tight_layout()"
      ],
      "execution_count": 115,
      "outputs": [
        {
          "output_type": "display_data",
          "data": {
            "image/png": "iVBORw0KGgoAAAANSUhEUgAAAakAAADXCAYAAACgc65eAAAABHNCSVQICAgIfAhkiAAAAAlwSFlz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\nAAAAAElFTkSuQmCC\n",
            "text/plain": [
              "<Figure size 432x288 with 10 Axes>"
            ]
          },
          "metadata": {
            "tags": []
          }
        }
      ]
    },
    {
      "cell_type": "markdown",
      "metadata": {
        "id": "I0W92jLNxjk0",
        "colab_type": "text"
      },
      "source": [
        "The models can be saved in the desired file directories. For this aim,\n",
        " the path variable should be modified accordingly."
      ]
    },
    {
      "cell_type": "code",
      "metadata": {
        "id": "oVgAvGGG4s2b",
        "colab_type": "code",
        "colab": {}
      },
      "source": [
        "# Saving the models\n",
        "path = \"sample_data\" # for me! change it if needed for you!\n",
        "decoder.save(path+\"/symSimple_dec.h5\")\n",
        "encoder.save(path+\"/symSimple_enc.h5\")\n",
        "ae.save(path+\"/symSimple_ae.h5\")"
      ],
      "execution_count": 0,
      "outputs": []
    },
    {
      "cell_type": "markdown",
      "metadata": {
        "id": "TIWj-kH03tRH",
        "colab_type": "text"
      },
      "source": [
        "Now let's find the clusters in the hidden space by applying K-means algorithm as it's typically used in deep clustering methods for initialisation of the clusters. Also, the evaluation of the quality of this initial clustering step on the output of the encoder can be done by means of the ground-truth labels. "
      ]
    },
    {
      "cell_type": "code",
      "metadata": {
        "id": "QRLHa1IJU8Vh",
        "colab_type": "code",
        "colab": {}
      },
      "source": [
        "from sklearn.metrics import accuracy_score\n",
        "from sklearn.cluster import KMeans\n",
        "# Map the data to the feature (i.e., hidden) space\n",
        "mapped_data = encoder.predict(xTrain)\n",
        "# K-means with 10 clusters\n",
        "km = KMeans(n_clusters=k) # k is 10 for MNIST\n",
        "km.fit(mapped_data)\n",
        "# Map the test data to the feature space\n",
        "mapped_data = encoder.predict(xTest)\n",
        "# idx stores the cluster membership of the test data\n",
        "idx = km.predict(mapped_data)"
      ],
      "execution_count": 0,
      "outputs": []
    },
    {
      "cell_type": "code",
      "metadata": {
        "id": "QtEFF_6t6OeU",
        "colab_type": "code",
        "outputId": "9b224537-26f5-43c9-ff60-837432394231",
        "colab": {
          "base_uri": "https://localhost:8080/",
          "height": 34
        }
      },
      "source": [
        "# Matching the labels of the identified clusters\n",
        "from scipy.stats import mode\n",
        "labels = np.zeros_like(idx)\n",
        "for i in range(k):\n",
        "  mask = (idx == i)\n",
        "  labels[mask] = mode(yTest[mask])[0]\n",
        "acc = accuracy_score(yTest, labels)\n",
        "print(\"The accuracy of clustering is \", acc)  "
      ],
      "execution_count": 117,
      "outputs": [
        {
          "output_type": "stream",
          "text": [
            "The accuracy of clustering is  0.8371\n"
          ],
          "name": "stdout"
        }
      ]
    },
    {
      "cell_type": "markdown",
      "metadata": {
        "id": "NuYGvcYk7R2z",
        "colab_type": "text"
      },
      "source": [
        "Different tools, such as PCA, can be used to visualise the clusters. Here, the aim is to preserve the structure of the clusters, thus tSNE can be used. We choose a subset of the data as performing this calculations on the whole dataset is expensive."
      ]
    },
    {
      "cell_type": "code",
      "metadata": {
        "id": "cZdHatRjYj3Y",
        "colab_type": "code",
        "colab": {}
      },
      "source": [
        "from sklearn.manifold import TSNE\n",
        "# Choosing a sample of the data at random\n",
        "ix = np.random.permutation(range(len(yTest)))\n",
        "ix = ix[:1000]\n",
        "# Creating a dataset that includes the samples and the cluster centers \n",
        "data = np.append(km.cluster_centers_,mapped_data[ix],axis=0)\n",
        "# Applying tSNE to project the data to a 2D data representation\n",
        "tsne = TSNE(n_components=2)\n",
        "z = tsne.fit_transform(data)"
      ],
      "execution_count": 0,
      "outputs": []
    },
    {
      "cell_type": "code",
      "metadata": {
        "id": "yrVm9owM9uEd",
        "colab_type": "code",
        "outputId": "ca3cb5c0-57ab-4da9-c259-24147e8c035c",
        "colab": {
          "base_uri": "https://localhost:8080/",
          "height": 244
        }
      },
      "source": [
        "# Plot the ground truth data vs the predicted labels\n",
        "cn = len(km.cluster_centers_)\n",
        "f = plt.figure(figsize=(10,3))\n",
        "ax1 = f.add_subplot(121)\n",
        "ax1.title.set_text(\"Ground truth labels\")\n",
        "ax1.scatter(z[cn:,0],z[cn:,1],c=yTest[ix])\n",
        "ax1.scatter(z[:cn,0],z[:cn,1],c='r',marker='+')\n",
        "# Predictions\n",
        "ax2 = f.add_subplot(122)\n",
        "ax2.title.set_text(\"Predicted labels\")\n",
        "ax2.scatter(z[cn:,0],z[cn:,1],c=labels[ix])\n",
        "ax2.scatter(z[:cn,0],z[:cn,1],c='r',marker='+')\n"
      ],
      "execution_count": 119,
      "outputs": [
        {
          "output_type": "execute_result",
          "data": {
            "text/plain": [
              "<matplotlib.collections.PathCollection at 0x7f53d0a274e0>"
            ]
          },
          "metadata": {
            "tags": []
          },
          "execution_count": 119
        },
        {
          "output_type": "display_data",
          "data": {
            "image/png": "iVBORw0KGgoAAAANSUhEUgAAAlgAAADSCAYAAACW0r5LAAAABHNCSVQICAgIfAhkiAAAAAlwSFlz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\naZqmaZqWYP8PhH6fw53Rwb8AAAAASUVORK5CYII=\n",
            "text/plain": [
              "<Figure size 720x216 with 2 Axes>"
            ]
          },
          "metadata": {
            "tags": []
          }
        }
      ]
    },
    {
      "cell_type": "code",
      "metadata": {
        "id": "r-G_AyEPhMOT",
        "colab_type": "code",
        "colab": {}
      },
      "source": [
        "# Save the embedings of the test set\n",
        "path = \"sample_data\"\n",
        "np.savetxt(\"/mapped_data.csv\",mapped_data,fmt=\"%10.5f\")\n",
        "np.savetxt(\"/mapped_data_labels.csv\",yTest,fmt=\"%s\")"
      ],
      "execution_count": 0,
      "outputs": []
    },
    {
      "cell_type": "markdown",
      "metadata": {
        "id": "eiU0BlhJ_qLM",
        "colab_type": "text"
      },
      "source": [
        "# Convolutional Autoencoder\n",
        "\n",
        "Convolution is a specialised kind of a linear operation. The convolutional process involves progressively focusing on overlapping tile shape regions and sequentially shifting them. This process is shown in Figure 2. In practice, the tiles are defined using kernels. A kernel is a marix with a size smaller than the size of the input image, and is convolved with the input volume to obtain what is called the *activation maps*. Activation maps indicate regions where features specific to the kernel have been detected in the input.\n",
        "\n",
        "<figure>\n",
        "<center>\n",
        "<img src='http://deeplearning.net/software/theano/_images/no_padding_no_strides.gif' width=\"250\"/>\n",
        "<figcaption>Figure 2. An example of the convolution process.</figcaption></center>\n",
        "</figure>\n",
        "\n",
        "A convolutional neural networks consist of at least one convolutional layer and it might also include the traditional fully connected layers. Convolutional neural networks are usually used to process image and video data. They are also widely used in natural language processing. In this section, a convolutional autoencoder that consists of convolutional and fully connected layers is trained to model the encoder and initialise the clusters in the feature space.\n",
        "\n",
        "The MNIST dataset that was preprocessed so far should be reshaped to images of size 28-by-28. Also new parameters are introduced for the convolution operations inclusing the number of kernels and their sizes as well as if the original image should be padded or not."
      ]
    },
    {
      "cell_type": "code",
      "metadata": {
        "id": "aA0wKgMJ2Lpo",
        "colab_type": "code",
        "colab": {}
      },
      "source": [
        "# Reshape the data in image forma for the convolution layers\n",
        "x_train = xTrain.reshape((-1,imgSize[0],imgSize[1],1))\n",
        "y_train = yTrain\n",
        "x_test = xTest.reshape((-1,imgSize[0],imgSize[1],1))\n",
        "y_test = yTest"
      ],
      "execution_count": 0,
      "outputs": []
    },
    {
      "cell_type": "code",
      "metadata": {
        "id": "lcuOHQXT0zJW",
        "colab_type": "code",
        "colab": {}
      },
      "source": [
        "# Setting parameters\n",
        "n_kernels = [32,64,128]\n",
        "kernel_size = [5,5,3]\n",
        "dense_units = [10]\n",
        "padding = ['same','same','valid']\n",
        "# Uncomment or change the following lines if the parameters should be reinitialised\n",
        "#optimizer = 'adam'\n",
        "#loss= 'mse'\n",
        "#activation = 'relu'\n",
        "#batch_size = 256\n",
        "#n_epochs = 200\n",
        "#k = 10 # number of clusters"
      ],
      "execution_count": 0,
      "outputs": []
    },
    {
      "cell_type": "markdown",
      "metadata": {
        "id": "B-pxwDzQnLHV",
        "colab_type": "text"
      },
      "source": [
        "The following code snippets build and summarise the structure of the convolutional autoencoder and its corresponding encoder for data embedding. This structure is chosen based on the related literature and can be changed to see how it affects the results."
      ]
    },
    {
      "cell_type": "code",
      "metadata": {
        "id": "uFEEkM2w5bUw",
        "colab_type": "code",
        "colab": {}
      },
      "source": [
        "# Building the encoder part of the convolutional autoencoder\n",
        "cae = Sequential()\n",
        "cae.add(InputLayer(input_shape=x_train.shape[1:]))\n",
        "for i in range(len(n_kernels)):\n",
        "  cae.add(Conv2D(n_kernels[i], kernel_size[i],\n",
        "                   strides=2, padding=padding[i],\n",
        "                   activation=activation, name='conv'+str(i+1)))\n",
        "l_shape = cae.get_output_shape_at(-1)[1:]\n",
        "cae.add(Flatten())\n",
        "for i in range(len(dense_units)):\n",
        "  actv = activation if i+1 < len(dense_units) else None\n",
        "  name = 'dense'+str(i+1) if i+1 < len(dense_units) else 'dense'+str(i+1)+'-embedding'\n",
        "  cae.add(Dense(units=dense_units[i], activation=actv, name=name))\n",
        "conv_encoder = Model(inputs=cae.input, outputs=cae.get_layer(name).output)"
      ],
      "execution_count": 0,
      "outputs": []
    },
    {
      "cell_type": "code",
      "metadata": {
        "id": "u_B3fZzOnSmM",
        "colab_type": "code",
        "outputId": "d9d8300b-adbc-4664-ed2e-5c28926db0e0",
        "colab": {
          "base_uri": "https://localhost:8080/",
          "height": 372
        }
      },
      "source": [
        "conv_encoder.summary()"
      ],
      "execution_count": 0,
      "outputs": [
        {
          "output_type": "stream",
          "text": [
            "Model: \"model_1\"\n",
            "_________________________________________________________________\n",
            "Layer (type)                 Output Shape              Param #   \n",
            "=================================================================\n",
            "input_2 (InputLayer)         (None, 28, 28, 1)         0         \n",
            "_________________________________________________________________\n",
            "conv1 (Conv2D)               (None, 14, 14, 32)        832       \n",
            "_________________________________________________________________\n",
            "conv2 (Conv2D)               (None, 7, 7, 64)          51264     \n",
            "_________________________________________________________________\n",
            "conv3 (Conv2D)               (None, 3, 3, 128)         73856     \n",
            "_________________________________________________________________\n",
            "flatten_1 (Flatten)          (None, 1152)              0         \n",
            "_________________________________________________________________\n",
            "dense1-embedding (Dense)     (None, 10)                11530     \n",
            "=================================================================\n",
            "Total params: 137,482\n",
            "Trainable params: 137,482\n",
            "Non-trainable params: 0\n",
            "_________________________________________________________________\n"
          ],
          "name": "stdout"
        }
      ]
    },
    {
      "cell_type": "code",
      "metadata": {
        "id": "Uc5g2KCk_d2F",
        "colab_type": "code",
        "colab": {}
      },
      "source": [
        "# Building the decoder part of the convolutional autoencoder\n",
        "cae.add(Dense(units=np.prod(l_shape), \n",
        "              activation=activation, name='dense'+str(len(dense_units)+1)))\n",
        "for i in range(-2,-(len(dense_units)+1),-1):\n",
        "  cae.add(Dense(units=dense_units[i],\n",
        "                activation=activation, name='dense'+str(len(dense_units)-i)))\n",
        "cae.add(Reshape(l_shape))\n",
        "for i in range(-2,-(len(n_kernels)+1),-1):\n",
        "  cae.add(Conv2DTranspose(n_kernels[i], kernel_size[i+1],\n",
        "                   strides=2, padding=padding[i+1],\n",
        "                   activation=activation, name='deconv'+str(-i-1)))\n",
        "cae.add(Conv2DTranspose(x_train.shape[-1], kernel_size[0],\n",
        "                   strides=2, padding=padding[0], name='deconv'+str(len(n_kernels))))"
      ],
      "execution_count": 0,
      "outputs": []
    },
    {
      "cell_type": "code",
      "metadata": {
        "id": "McFlP6lCJEbp",
        "colab_type": "code",
        "outputId": "25d8045a-4798-45a7-d4e1-5cce2a34b484",
        "colab": {
          "base_uri": "https://localhost:8080/",
          "height": 514
        }
      },
      "source": [
        "cae.compile(optimizer=optimizer, loss=loss)\n",
        "cae.summary()"
      ],
      "execution_count": 125,
      "outputs": [
        {
          "output_type": "stream",
          "text": [
            "Model: \"sequential_1\"\n",
            "_________________________________________________________________\n",
            "Layer (type)                 Output Shape              Param #   \n",
            "=================================================================\n",
            "conv1 (Conv2D)               (None, 14, 14, 32)        832       \n",
            "_________________________________________________________________\n",
            "conv2 (Conv2D)               (None, 7, 7, 64)          51264     \n",
            "_________________________________________________________________\n",
            "conv3 (Conv2D)               (None, 3, 3, 128)         73856     \n",
            "_________________________________________________________________\n",
            "flatten_1 (Flatten)          (None, 1152)              0         \n",
            "_________________________________________________________________\n",
            "dense1-embedding (Dense)     (None, 10)                11530     \n",
            "_________________________________________________________________\n",
            "dense2 (Dense)               (None, 1152)              12672     \n",
            "_________________________________________________________________\n",
            "reshape_1 (Reshape)          (None, 3, 3, 128)         0         \n",
            "_________________________________________________________________\n",
            "deconv1 (Conv2DTranspose)    (None, 7, 7, 64)          73792     \n",
            "_________________________________________________________________\n",
            "deconv2 (Conv2DTranspose)    (None, 14, 14, 32)        51232     \n",
            "_________________________________________________________________\n",
            "deconv3 (Conv2DTranspose)    (None, 28, 28, 1)         801       \n",
            "=================================================================\n",
            "Total params: 275,979\n",
            "Trainable params: 275,979\n",
            "Non-trainable params: 0\n",
            "_________________________________________________________________\n"
          ],
          "name": "stdout"
        }
      ]
    },
    {
      "cell_type": "markdown",
      "metadata": {
        "id": "w17xO3gsrCBw",
        "colab_type": "text"
      },
      "source": [
        "By calling the fit method, the training is begun and the network weights of the encoder and decoder are updated. The Mean-Squered_error of the reconstructions is used as the loss fuction and it is optimised using Adam optimizer. A $1$ to $4$ ration is used to divide the data to the validation and training sets. The training progress and history of the training loss are depicted. "
      ]
    },
    {
      "cell_type": "code",
      "metadata": {
        "colab_type": "code",
        "id": "BD1N_C8N0nQZ",
        "outputId": "bc85c25c-27a1-4174-98ff-a9392d13ef27",
        "colab": {
          "base_uri": "https://localhost:8080/",
          "height": 1000
        }
      },
      "source": [
        "# Training the cae using the training data and the predefined parameters\n",
        "results = cae.fit(x=x_train,y=x_train,batch_size=batch_size,\n",
        "       epochs=n_epochs,verbose=1,validation_split=0.8)"
      ],
      "execution_count": 126,
      "outputs": [
        {
          "output_type": "stream",
          "text": [
            "Train on 11999 samples, validate on 48001 samples\n",
            "Epoch 1/200\n",
            "11999/11999 [==============================] - 6s 524us/step - loss: 0.0629 - val_loss: 0.0346\n",
            "Epoch 2/200\n",
            "11999/11999 [==============================] - 1s 102us/step - loss: 0.0306 - val_loss: 0.0293\n",
            "Epoch 3/200\n",
            "11999/11999 [==============================] - 1s 101us/step - loss: 0.0291 - val_loss: 0.0287\n",
            "Epoch 4/200\n",
            "11999/11999 [==============================] - 1s 101us/step - loss: 0.0267 - val_loss: 0.0245\n",
            "Epoch 5/200\n",
            "11999/11999 [==============================] - 1s 101us/step - loss: 0.0213 - val_loss: 0.0189\n",
            "Epoch 6/200\n",
            "11999/11999 [==============================] - 1s 103us/step - loss: 0.0163 - val_loss: 0.0146\n",
            "Epoch 7/200\n",
            "11999/11999 [==============================] - 1s 101us/step - loss: 0.0128 - val_loss: 0.0121\n",
            "Epoch 8/200\n",
            "11999/11999 [==============================] - 1s 101us/step - loss: 0.0112 - val_loss: 0.0110\n",
            "Epoch 9/200\n",
            "11999/11999 [==============================] - 1s 103us/step - loss: 0.0102 - val_loss: 0.0102\n",
            "Epoch 10/200\n",
            "11999/11999 [==============================] - 1s 101us/step - loss: 0.0095 - val_loss: 0.0096\n",
            "Epoch 11/200\n",
            "11999/11999 [==============================] - 1s 102us/step - loss: 0.0090 - val_loss: 0.0091\n",
            "Epoch 12/200\n",
            "11999/11999 [==============================] - 1s 102us/step - loss: 0.0086 - val_loss: 0.0088\n",
            "Epoch 13/200\n",
            "11999/11999 [==============================] - 1s 102us/step - loss: 0.0083 - val_loss: 0.0085\n",
            "Epoch 14/200\n",
            "11999/11999 [==============================] - 1s 103us/step - loss: 0.0080 - val_loss: 0.0082\n",
            "Epoch 15/200\n",
            "11999/11999 [==============================] - 1s 103us/step - loss: 0.0077 - val_loss: 0.0082\n",
            "Epoch 16/200\n",
            "11999/11999 [==============================] - 1s 102us/step - loss: 0.0076 - val_loss: 0.0079\n",
            "Epoch 17/200\n",
            "11999/11999 [==============================] - 1s 102us/step - loss: 0.0074 - val_loss: 0.0077\n",
            "Epoch 18/200\n",
            "11999/11999 [==============================] - 1s 102us/step - loss: 0.0072 - val_loss: 0.0076\n",
            "Epoch 19/200\n",
            "11999/11999 [==============================] - 1s 103us/step - loss: 0.0070 - val_loss: 0.0074\n",
            "Epoch 20/200\n",
            "11999/11999 [==============================] - 1s 101us/step - loss: 0.0069 - val_loss: 0.0073\n",
            "Epoch 21/200\n",
            "11999/11999 [==============================] - 1s 103us/step - loss: 0.0068 - val_loss: 0.0072\n",
            "Epoch 22/200\n",
            "11999/11999 [==============================] - 1s 101us/step - loss: 0.0067 - val_loss: 0.0071\n",
            "Epoch 23/200\n",
            "11999/11999 [==============================] - 1s 102us/step - loss: 0.0066 - val_loss: 0.0071\n",
            "Epoch 24/200\n",
            "11999/11999 [==============================] - 1s 103us/step - loss: 0.0065 - val_loss: 0.0070\n",
            "Epoch 25/200\n",
            "11999/11999 [==============================] - 1s 101us/step - loss: 0.0064 - val_loss: 0.0069\n",
            "Epoch 26/200\n",
            "11999/11999 [==============================] - 1s 101us/step - loss: 0.0063 - val_loss: 0.0068\n",
            "Epoch 27/200\n",
            "11999/11999 [==============================] - 1s 103us/step - loss: 0.0062 - val_loss: 0.0068\n",
            "Epoch 28/200\n",
            "11999/11999 [==============================] - 1s 103us/step - loss: 0.0061 - val_loss: 0.0067\n",
            "Epoch 29/200\n",
            "11999/11999 [==============================] - 1s 101us/step - loss: 0.0061 - val_loss: 0.0067\n",
            "Epoch 30/200\n",
            "11999/11999 [==============================] - 1s 103us/step - loss: 0.0060 - val_loss: 0.0066\n",
            "Epoch 31/200\n",
            "11999/11999 [==============================] - 1s 104us/step - loss: 0.0059 - val_loss: 0.0065\n",
            "Epoch 32/200\n",
            "11999/11999 [==============================] - 1s 103us/step - loss: 0.0059 - val_loss: 0.0064\n",
            "Epoch 33/200\n",
            "11999/11999 [==============================] - 1s 101us/step - loss: 0.0059 - val_loss: 0.0064\n",
            "Epoch 34/200\n",
            "11999/11999 [==============================] - 1s 101us/step - loss: 0.0057 - val_loss: 0.0064\n",
            "Epoch 35/200\n",
            "11999/11999 [==============================] - 1s 103us/step - loss: 0.0057 - val_loss: 0.0064\n",
            "Epoch 36/200\n",
            "11999/11999 [==============================] - 1s 103us/step - loss: 0.0057 - val_loss: 0.0063\n",
            "Epoch 37/200\n",
            "11999/11999 [==============================] - 1s 101us/step - loss: 0.0056 - val_loss: 0.0063\n",
            "Epoch 38/200\n",
            "11999/11999 [==============================] - 1s 102us/step - loss: 0.0056 - val_loss: 0.0062\n",
            "Epoch 39/200\n",
            "11999/11999 [==============================] - 1s 102us/step - loss: 0.0055 - val_loss: 0.0061\n",
            "Epoch 40/200\n",
            "11999/11999 [==============================] - 1s 102us/step - loss: 0.0055 - val_loss: 0.0061\n",
            "Epoch 41/200\n",
            "11999/11999 [==============================] - 1s 101us/step - loss: 0.0054 - val_loss: 0.0062\n",
            "Epoch 42/200\n",
            "11999/11999 [==============================] - 1s 104us/step - loss: 0.0054 - val_loss: 0.0061\n",
            "Epoch 43/200\n",
            "11999/11999 [==============================] - 1s 103us/step - loss: 0.0053 - val_loss: 0.0060\n",
            "Epoch 44/200\n",
            "11999/11999 [==============================] - 1s 102us/step - loss: 0.0053 - val_loss: 0.0060\n",
            "Epoch 45/200\n",
            "11999/11999 [==============================] - 1s 105us/step - loss: 0.0053 - val_loss: 0.0059\n",
            "Epoch 46/200\n",
            "11999/11999 [==============================] - 1s 104us/step - loss: 0.0052 - val_loss: 0.0060\n",
            "Epoch 47/200\n",
            "11999/11999 [==============================] - 1s 104us/step - loss: 0.0052 - val_loss: 0.0060\n",
            "Epoch 48/200\n",
            "11999/11999 [==============================] - 1s 103us/step - loss: 0.0052 - val_loss: 0.0060\n",
            "Epoch 49/200\n",
            "11999/11999 [==============================] - 1s 101us/step - loss: 0.0051 - val_loss: 0.0058\n",
            "Epoch 50/200\n",
            "11999/11999 [==============================] - 1s 102us/step - loss: 0.0051 - val_loss: 0.0058\n",
            "Epoch 51/200\n",
            "11999/11999 [==============================] - 1s 101us/step - loss: 0.0051 - val_loss: 0.0058\n",
            "Epoch 52/200\n",
            "11999/11999 [==============================] - 1s 102us/step - loss: 0.0051 - val_loss: 0.0060\n",
            "Epoch 53/200\n",
            "11999/11999 [==============================] - 1s 103us/step - loss: 0.0051 - val_loss: 0.0058\n",
            "Epoch 54/200\n",
            "11999/11999 [==============================] - 1s 103us/step - loss: 0.0050 - val_loss: 0.0058\n",
            "Epoch 55/200\n",
            "11999/11999 [==============================] - 1s 101us/step - loss: 0.0050 - val_loss: 0.0057\n",
            "Epoch 56/200\n",
            "11999/11999 [==============================] - 1s 101us/step - loss: 0.0050 - val_loss: 0.0057\n",
            "Epoch 57/200\n",
            "11999/11999 [==============================] - 1s 101us/step - loss: 0.0049 - val_loss: 0.0057\n",
            "Epoch 58/200\n",
            "11999/11999 [==============================] - 1s 101us/step - loss: 0.0049 - val_loss: 0.0056\n",
            "Epoch 59/200\n",
            "11999/11999 [==============================] - 1s 101us/step - loss: 0.0049 - val_loss: 0.0057\n",
            "Epoch 60/200\n",
            "11999/11999 [==============================] - 1s 101us/step - loss: 0.0048 - val_loss: 0.0057\n",
            "Epoch 61/200\n",
            "11999/11999 [==============================] - 1s 100us/step - loss: 0.0048 - val_loss: 0.0057\n",
            "Epoch 62/200\n",
            "11999/11999 [==============================] - 1s 101us/step - loss: 0.0048 - val_loss: 0.0056\n",
            "Epoch 63/200\n",
            "11999/11999 [==============================] - 1s 101us/step - loss: 0.0048 - val_loss: 0.0056\n",
            "Epoch 64/200\n",
            "11999/11999 [==============================] - 1s 100us/step - loss: 0.0048 - val_loss: 0.0055\n",
            "Epoch 65/200\n",
            "11999/11999 [==============================] - 1s 102us/step - loss: 0.0047 - val_loss: 0.0055\n",
            "Epoch 66/200\n",
            "11999/11999 [==============================] - 1s 100us/step - loss: 0.0047 - val_loss: 0.0055\n",
            "Epoch 67/200\n",
            "11999/11999 [==============================] - 1s 101us/step - loss: 0.0047 - val_loss: 0.0055\n",
            "Epoch 68/200\n",
            "11999/11999 [==============================] - 1s 101us/step - loss: 0.0047 - val_loss: 0.0055\n",
            "Epoch 69/200\n",
            "11999/11999 [==============================] - 1s 100us/step - loss: 0.0046 - val_loss: 0.0055\n",
            "Epoch 70/200\n",
            "11999/11999 [==============================] - 1s 102us/step - loss: 0.0046 - val_loss: 0.0055\n",
            "Epoch 71/200\n",
            "11999/11999 [==============================] - 1s 102us/step - loss: 0.0046 - val_loss: 0.0055\n",
            "Epoch 72/200\n",
            "11999/11999 [==============================] - 1s 102us/step - loss: 0.0046 - val_loss: 0.0054\n",
            "Epoch 73/200\n",
            "11999/11999 [==============================] - 1s 101us/step - loss: 0.0046 - val_loss: 0.0054\n",
            "Epoch 74/200\n",
            "11999/11999 [==============================] - 1s 99us/step - loss: 0.0046 - val_loss: 0.0054\n",
            "Epoch 75/200\n",
            "11999/11999 [==============================] - 1s 99us/step - loss: 0.0045 - val_loss: 0.0054\n",
            "Epoch 76/200\n",
            "11999/11999 [==============================] - 1s 100us/step - loss: 0.0045 - val_loss: 0.0055\n",
            "Epoch 77/200\n",
            "11999/11999 [==============================] - 1s 102us/step - loss: 0.0045 - val_loss: 0.0054\n",
            "Epoch 78/200\n",
            "11999/11999 [==============================] - 1s 99us/step - loss: 0.0045 - val_loss: 0.0054\n",
            "Epoch 79/200\n",
            "11999/11999 [==============================] - 1s 101us/step - loss: 0.0045 - val_loss: 0.0054\n",
            "Epoch 80/200\n",
            "11999/11999 [==============================] - 1s 101us/step - loss: 0.0045 - val_loss: 0.0054\n",
            "Epoch 81/200\n",
            "11999/11999 [==============================] - 1s 102us/step - loss: 0.0045 - val_loss: 0.0054\n",
            "Epoch 82/200\n",
            "11999/11999 [==============================] - 1s 100us/step - loss: 0.0044 - val_loss: 0.0053\n",
            "Epoch 83/200\n",
            "11999/11999 [==============================] - 1s 99us/step - loss: 0.0044 - val_loss: 0.0053\n",
            "Epoch 84/200\n",
            "11999/11999 [==============================] - 1s 100us/step - loss: 0.0044 - val_loss: 0.0053\n",
            "Epoch 85/200\n",
            "11999/11999 [==============================] - 1s 100us/step - loss: 0.0044 - val_loss: 0.0054\n",
            "Epoch 86/200\n",
            "11999/11999 [==============================] - 1s 101us/step - loss: 0.0044 - val_loss: 0.0053\n",
            "Epoch 87/200\n",
            "11999/11999 [==============================] - 1s 101us/step - loss: 0.0044 - val_loss: 0.0054\n",
            "Epoch 88/200\n",
            "11999/11999 [==============================] - 1s 99us/step - loss: 0.0044 - val_loss: 0.0053\n",
            "Epoch 89/200\n",
            "11999/11999 [==============================] - 1s 99us/step - loss: 0.0043 - val_loss: 0.0053\n",
            "Epoch 90/200\n",
            "11999/11999 [==============================] - 1s 99us/step - loss: 0.0043 - val_loss: 0.0053\n",
            "Epoch 91/200\n",
            "11999/11999 [==============================] - 1s 100us/step - loss: 0.0043 - val_loss: 0.0052\n",
            "Epoch 92/200\n",
            "11999/11999 [==============================] - 1s 100us/step - loss: 0.0043 - val_loss: 0.0053\n",
            "Epoch 93/200\n",
            "11999/11999 [==============================] - 1s 99us/step - loss: 0.0043 - val_loss: 0.0053\n",
            "Epoch 94/200\n",
            "11999/11999 [==============================] - 1s 101us/step - loss: 0.0044 - val_loss: 0.0053\n",
            "Epoch 95/200\n",
            "11999/11999 [==============================] - 1s 102us/step - loss: 0.0043 - val_loss: 0.0052\n",
            "Epoch 96/200\n",
            "11999/11999 [==============================] - 1s 101us/step - loss: 0.0042 - val_loss: 0.0052\n",
            "Epoch 97/200\n",
            "11999/11999 [==============================] - 1s 100us/step - loss: 0.0042 - val_loss: 0.0052\n",
            "Epoch 98/200\n",
            "11999/11999 [==============================] - 1s 102us/step - loss: 0.0042 - val_loss: 0.0052\n",
            "Epoch 99/200\n",
            "11999/11999 [==============================] - 1s 100us/step - loss: 0.0042 - val_loss: 0.0052\n",
            "Epoch 100/200\n",
            "11999/11999 [==============================] - 1s 101us/step - loss: 0.0042 - val_loss: 0.0052\n",
            "Epoch 101/200\n",
            "11999/11999 [==============================] - 1s 100us/step - loss: 0.0042 - val_loss: 0.0052\n",
            "Epoch 102/200\n",
            "11999/11999 [==============================] - 1s 100us/step - loss: 0.0042 - val_loss: 0.0053\n",
            "Epoch 103/200\n",
            "11999/11999 [==============================] - 1s 101us/step - loss: 0.0042 - val_loss: 0.0052\n",
            "Epoch 104/200\n",
            "11999/11999 [==============================] - 1s 100us/step - loss: 0.0041 - val_loss: 0.0052\n",
            "Epoch 105/200\n",
            "11999/11999 [==============================] - 1s 101us/step - loss: 0.0041 - val_loss: 0.0051\n",
            "Epoch 106/200\n",
            "11999/11999 [==============================] - 1s 101us/step - loss: 0.0041 - val_loss: 0.0052\n",
            "Epoch 107/200\n",
            "11999/11999 [==============================] - 1s 100us/step - loss: 0.0041 - val_loss: 0.0052\n",
            "Epoch 108/200\n",
            "11999/11999 [==============================] - 1s 99us/step - loss: 0.0041 - val_loss: 0.0051\n",
            "Epoch 109/200\n",
            "11999/11999 [==============================] - 1s 100us/step - loss: 0.0041 - val_loss: 0.0052\n",
            "Epoch 110/200\n",
            "11999/11999 [==============================] - 1s 101us/step - loss: 0.0041 - val_loss: 0.0051\n",
            "Epoch 111/200\n",
            "11999/11999 [==============================] - 1s 99us/step - loss: 0.0041 - val_loss: 0.0051\n",
            "Epoch 112/200\n",
            "11999/11999 [==============================] - 1s 100us/step - loss: 0.0041 - val_loss: 0.0052\n",
            "Epoch 113/200\n",
            "11999/11999 [==============================] - 1s 101us/step - loss: 0.0041 - val_loss: 0.0051\n",
            "Epoch 114/200\n",
            "11999/11999 [==============================] - 1s 100us/step - loss: 0.0041 - val_loss: 0.0051\n",
            "Epoch 115/200\n",
            "11999/11999 [==============================] - 1s 100us/step - loss: 0.0040 - val_loss: 0.0051\n",
            "Epoch 116/200\n",
            "11999/11999 [==============================] - 1s 101us/step - loss: 0.0041 - val_loss: 0.0051\n",
            "Epoch 117/200\n",
            "11999/11999 [==============================] - 1s 102us/step - loss: 0.0040 - val_loss: 0.0051\n",
            "Epoch 118/200\n",
            "11999/11999 [==============================] - 1s 100us/step - loss: 0.0040 - val_loss: 0.0051\n",
            "Epoch 119/200\n",
            "11999/11999 [==============================] - 1s 101us/step - loss: 0.0040 - val_loss: 0.0051\n",
            "Epoch 120/200\n",
            "11999/11999 [==============================] - 1s 100us/step - loss: 0.0040 - val_loss: 0.0052\n",
            "Epoch 121/200\n",
            "11999/11999 [==============================] - 1s 99us/step - loss: 0.0040 - val_loss: 0.0051\n",
            "Epoch 122/200\n",
            "11999/11999 [==============================] - 1s 101us/step - loss: 0.0040 - val_loss: 0.0052\n",
            "Epoch 123/200\n",
            "11999/11999 [==============================] - 1s 101us/step - loss: 0.0040 - val_loss: 0.0051\n",
            "Epoch 124/200\n",
            "11999/11999 [==============================] - 1s 99us/step - loss: 0.0040 - val_loss: 0.0050\n",
            "Epoch 125/200\n",
            "11999/11999 [==============================] - 1s 101us/step - loss: 0.0039 - val_loss: 0.0051\n",
            "Epoch 126/200\n",
            "11999/11999 [==============================] - 1s 99us/step - loss: 0.0039 - val_loss: 0.0051\n",
            "Epoch 127/200\n",
            "11999/11999 [==============================] - 1s 98us/step - loss: 0.0040 - val_loss: 0.0051\n",
            "Epoch 128/200\n",
            "11999/11999 [==============================] - 1s 99us/step - loss: 0.0039 - val_loss: 0.0051\n",
            "Epoch 129/200\n",
            "11999/11999 [==============================] - 1s 100us/step - loss: 0.0039 - val_loss: 0.0050\n",
            "Epoch 130/200\n",
            "11999/11999 [==============================] - 1s 99us/step - loss: 0.0039 - val_loss: 0.0050\n",
            "Epoch 131/200\n",
            "11999/11999 [==============================] - 1s 102us/step - loss: 0.0039 - val_loss: 0.0050\n",
            "Epoch 132/200\n",
            "11999/11999 [==============================] - 1s 99us/step - loss: 0.0039 - val_loss: 0.0051\n",
            "Epoch 133/200\n",
            "11999/11999 [==============================] - 1s 98us/step - loss: 0.0039 - val_loss: 0.0051\n",
            "Epoch 134/200\n",
            "11999/11999 [==============================] - 1s 99us/step - loss: 0.0039 - val_loss: 0.0050\n",
            "Epoch 135/200\n",
            "11999/11999 [==============================] - 1s 99us/step - loss: 0.0039 - val_loss: 0.0051\n",
            "Epoch 136/200\n",
            "11999/11999 [==============================] - 1s 99us/step - loss: 0.0038 - val_loss: 0.0050\n",
            "Epoch 137/200\n",
            "11999/11999 [==============================] - 1s 99us/step - loss: 0.0039 - val_loss: 0.0050\n",
            "Epoch 138/200\n",
            "11999/11999 [==============================] - 1s 101us/step - loss: 0.0039 - val_loss: 0.0050\n",
            "Epoch 139/200\n",
            "11999/11999 [==============================] - 1s 99us/step - loss: 0.0039 - val_loss: 0.0051\n",
            "Epoch 140/200\n",
            "11999/11999 [==============================] - 1s 99us/step - loss: 0.0039 - val_loss: 0.0050\n",
            "Epoch 141/200\n",
            "11999/11999 [==============================] - 1s 99us/step - loss: 0.0038 - val_loss: 0.0050\n",
            "Epoch 142/200\n",
            "11999/11999 [==============================] - 1s 100us/step - loss: 0.0038 - val_loss: 0.0050\n",
            "Epoch 143/200\n",
            "11999/11999 [==============================] - 1s 98us/step - loss: 0.0038 - val_loss: 0.0050\n",
            "Epoch 144/200\n",
            "11999/11999 [==============================] - 1s 98us/step - loss: 0.0038 - val_loss: 0.0050\n",
            "Epoch 145/200\n",
            "11999/11999 [==============================] - 1s 101us/step - loss: 0.0038 - val_loss: 0.0050\n",
            "Epoch 146/200\n",
            "11999/11999 [==============================] - 1s 99us/step - loss: 0.0038 - val_loss: 0.0050\n",
            "Epoch 147/200\n",
            "11999/11999 [==============================] - 1s 98us/step - loss: 0.0038 - val_loss: 0.0050\n",
            "Epoch 148/200\n",
            "11999/11999 [==============================] - 1s 99us/step - loss: 0.0038 - val_loss: 0.0050\n",
            "Epoch 149/200\n",
            "11999/11999 [==============================] - 1s 98us/step - loss: 0.0038 - val_loss: 0.0050\n",
            "Epoch 150/200\n",
            "11999/11999 [==============================] - 1s 98us/step - loss: 0.0037 - val_loss: 0.0049\n",
            "Epoch 151/200\n",
            "11999/11999 [==============================] - 1s 98us/step - loss: 0.0038 - val_loss: 0.0050\n",
            "Epoch 152/200\n",
            "11999/11999 [==============================] - 1s 100us/step - loss: 0.0038 - val_loss: 0.0050\n",
            "Epoch 153/200\n",
            "11999/11999 [==============================] - 1s 99us/step - loss: 0.0038 - val_loss: 0.0050\n",
            "Epoch 154/200\n",
            "11999/11999 [==============================] - 1s 99us/step - loss: 0.0037 - val_loss: 0.0049\n",
            "Epoch 155/200\n",
            "11999/11999 [==============================] - 1s 99us/step - loss: 0.0037 - val_loss: 0.0050\n",
            "Epoch 156/200\n",
            "11999/11999 [==============================] - 1s 98us/step - loss: 0.0037 - val_loss: 0.0050\n",
            "Epoch 157/200\n",
            "11999/11999 [==============================] - 1s 98us/step - loss: 0.0037 - val_loss: 0.0049\n",
            "Epoch 158/200\n",
            "11999/11999 [==============================] - 1s 99us/step - loss: 0.0037 - val_loss: 0.0049\n",
            "Epoch 159/200\n",
            "11999/11999 [==============================] - 1s 100us/step - loss: 0.0037 - val_loss: 0.0050\n",
            "Epoch 160/200\n",
            "11999/11999 [==============================] - 1s 98us/step - loss: 0.0037 - val_loss: 0.0049\n",
            "Epoch 161/200\n",
            "11999/11999 [==============================] - 1s 98us/step - loss: 0.0037 - val_loss: 0.0049\n",
            "Epoch 162/200\n",
            "11999/11999 [==============================] - 1s 99us/step - loss: 0.0037 - val_loss: 0.0050\n",
            "Epoch 163/200\n",
            "11999/11999 [==============================] - 1s 100us/step - loss: 0.0037 - val_loss: 0.0049\n",
            "Epoch 164/200\n",
            "11999/11999 [==============================] - 1s 97us/step - loss: 0.0037 - val_loss: 0.0050\n",
            "Epoch 165/200\n",
            "11999/11999 [==============================] - 1s 98us/step - loss: 0.0037 - val_loss: 0.0049\n",
            "Epoch 166/200\n",
            "11999/11999 [==============================] - 1s 99us/step - loss: 0.0036 - val_loss: 0.0049\n",
            "Epoch 167/200\n",
            "11999/11999 [==============================] - 1s 100us/step - loss: 0.0037 - val_loss: 0.0049\n",
            "Epoch 168/200\n",
            "11999/11999 [==============================] - 1s 99us/step - loss: 0.0037 - val_loss: 0.0050\n",
            "Epoch 169/200\n",
            "11999/11999 [==============================] - 1s 99us/step - loss: 0.0037 - val_loss: 0.0049\n",
            "Epoch 170/200\n",
            "11999/11999 [==============================] - 1s 100us/step - loss: 0.0036 - val_loss: 0.0050\n",
            "Epoch 171/200\n",
            "11999/11999 [==============================] - 1s 98us/step - loss: 0.0036 - val_loss: 0.0050\n",
            "Epoch 172/200\n",
            "11999/11999 [==============================] - 1s 98us/step - loss: 0.0036 - val_loss: 0.0049\n",
            "Epoch 173/200\n",
            "11999/11999 [==============================] - 1s 99us/step - loss: 0.0036 - val_loss: 0.0049\n",
            "Epoch 174/200\n",
            "11999/11999 [==============================] - 1s 99us/step - loss: 0.0036 - val_loss: 0.0049\n",
            "Epoch 175/200\n",
            "11999/11999 [==============================] - 1s 101us/step - loss: 0.0036 - val_loss: 0.0049\n",
            "Epoch 176/200\n",
            "11999/11999 [==============================] - 1s 99us/step - loss: 0.0036 - val_loss: 0.0049\n",
            "Epoch 177/200\n",
            "11999/11999 [==============================] - 1s 100us/step - loss: 0.0036 - val_loss: 0.0049\n",
            "Epoch 178/200\n",
            "11999/11999 [==============================] - 1s 101us/step - loss: 0.0036 - val_loss: 0.0049\n",
            "Epoch 179/200\n",
            "11999/11999 [==============================] - 1s 100us/step - loss: 0.0036 - val_loss: 0.0049\n",
            "Epoch 180/200\n",
            "11999/11999 [==============================] - 1s 100us/step - loss: 0.0036 - val_loss: 0.0049\n",
            "Epoch 181/200\n",
            "11999/11999 [==============================] - 1s 101us/step - loss: 0.0036 - val_loss: 0.0049\n",
            "Epoch 182/200\n",
            "11999/11999 [==============================] - 1s 100us/step - loss: 0.0036 - val_loss: 0.0050\n",
            "Epoch 183/200\n",
            "11999/11999 [==============================] - 1s 101us/step - loss: 0.0036 - val_loss: 0.0049\n",
            "Epoch 184/200\n",
            "11999/11999 [==============================] - 1s 99us/step - loss: 0.0036 - val_loss: 0.0050\n",
            "Epoch 185/200\n",
            "11999/11999 [==============================] - 1s 98us/step - loss: 0.0036 - val_loss: 0.0049\n",
            "Epoch 186/200\n",
            "11999/11999 [==============================] - 1s 99us/step - loss: 0.0036 - val_loss: 0.0049\n",
            "Epoch 187/200\n",
            "11999/11999 [==============================] - 1s 98us/step - loss: 0.0036 - val_loss: 0.0050\n",
            "Epoch 188/200\n",
            "11999/11999 [==============================] - 1s 98us/step - loss: 0.0036 - val_loss: 0.0049\n",
            "Epoch 189/200\n",
            "11999/11999 [==============================] - 1s 98us/step - loss: 0.0035 - val_loss: 0.0049\n",
            "Epoch 190/200\n",
            "11999/11999 [==============================] - 1s 99us/step - loss: 0.0036 - val_loss: 0.0049\n",
            "Epoch 191/200\n",
            "11999/11999 [==============================] - 1s 99us/step - loss: 0.0035 - val_loss: 0.0049\n",
            "Epoch 192/200\n",
            "11999/11999 [==============================] - 1s 101us/step - loss: 0.0035 - val_loss: 0.0049\n",
            "Epoch 193/200\n",
            "11999/11999 [==============================] - 1s 99us/step - loss: 0.0035 - val_loss: 0.0049\n",
            "Epoch 194/200\n",
            "11999/11999 [==============================] - 1s 97us/step - loss: 0.0035 - val_loss: 0.0049\n",
            "Epoch 195/200\n",
            "11999/11999 [==============================] - 1s 101us/step - loss: 0.0035 - val_loss: 0.0049\n",
            "Epoch 196/200\n",
            "11999/11999 [==============================] - 1s 99us/step - loss: 0.0035 - val_loss: 0.0049\n",
            "Epoch 197/200\n",
            "11999/11999 [==============================] - 1s 98us/step - loss: 0.0035 - val_loss: 0.0049\n",
            "Epoch 198/200\n",
            "11999/11999 [==============================] - 1s 99us/step - loss: 0.0035 - val_loss: 0.0049\n",
            "Epoch 199/200\n",
            "11999/11999 [==============================] - 1s 100us/step - loss: 0.0035 - val_loss: 0.0049\n",
            "Epoch 200/200\n",
            "11999/11999 [==============================] - 1s 101us/step - loss: 0.0035 - val_loss: 0.0050\n"
          ],
          "name": "stdout"
        }
      ]
    },
    {
      "cell_type": "code",
      "metadata": {
        "id": "szEem10KagI9",
        "colab_type": "code",
        "colab": {
          "base_uri": "https://localhost:8080/",
          "height": 296
        },
        "outputId": "19518446-6467-4334-eb3a-c4875494a0d2"
      },
      "source": [
        "plt.plot(results.history['loss'])\n",
        "plt.xlabel('Epoch')\n",
        "plt.ylabel('Training Loss')"
      ],
      "execution_count": 127,
      "outputs": [
        {
          "output_type": "execute_result",
          "data": {
            "text/plain": [
              "Text(0, 0.5, 'Training Loss')"
            ]
          },
          "metadata": {
            "tags": []
          },
          "execution_count": 127
        },
        {
          "output_type": "display_data",
          "data": {
            "image/png": "iVBORw0KGgoAAAANSUhEUgAAAYgAAAEGCAYAAAB/+QKOAAAABHNCSVQICAgIfAhkiAAAAAlwSFlz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\nzMysKgeEmZlV5YAwM7Oq/j+bbhfU+Mi9aAAAAABJRU5ErkJggg==\n",
            "text/plain": [
              "<Figure size 432x288 with 1 Axes>"
            ]
          },
          "metadata": {
            "tags": []
          }
        }
      ]
    },
    {
      "cell_type": "code",
      "metadata": {
        "id": "2Tek7HaZag5P",
        "colab_type": "code",
        "colab": {
          "base_uri": "https://localhost:8080/",
          "height": 232
        },
        "outputId": "e290710f-0a5d-4f74-d45b-86c5b900e5c0"
      },
      "source": [
        "# Display a sample reconstructed image per digit after the data preprocessing step\n",
        "for i in np.unique(yTrain,return_index=True)[1]:\n",
        "  ax = plt.subplot(2,5,yTrain[i]+1)\n",
        "  img = cae.predict(x_train[i].reshape(1,28,28,1))\n",
        "  ax.imshow(img.reshape(28,28))\n",
        "plt.tight_layout()"
      ],
      "execution_count": 134,
      "outputs": [
        {
          "output_type": "display_data",
          "data": {
            "image/png": "iVBORw0KGgoAAAANSUhEUgAAAakAAADXCAYAAACgc65eAAAABHNCSVQICAgIfAhkiAAAAAlwSFlz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\nLCwsLCzKFv8flpVvfRirhaAAAAAASUVORK5CYII=\n",
            "text/plain": [
              "<Figure size 432x288 with 10 Axes>"
            ]
          },
          "metadata": {
            "tags": []
          }
        }
      ]
    },
    {
      "cell_type": "markdown",
      "metadata": {
        "id": "lTUHyYXarGZn",
        "colab_type": "text"
      },
      "source": [
        "The models can be saved in the desired file directories. For this aim,\n",
        " the path variable should be modified accordingly."
      ]
    },
    {
      "cell_type": "code",
      "metadata": {
        "colab_type": "code",
        "id": "A76sZsMVV0qk",
        "colab": {}
      },
      "source": [
        "# Saving the models\n",
        "path = \"sample_data\" # change this path to save models in a target directory!\n",
        "conv_encoder.save(path+\"/conv_enc.h5\")\n",
        "cae.save(path+\"/conv_ae.h5\")"
      ],
      "execution_count": 0,
      "outputs": []
    },
    {
      "cell_type": "markdown",
      "metadata": {
        "id": "FOMQWVSCrK-g",
        "colab_type": "text"
      },
      "source": [
        "Similar to what was done for the simple autoencoder scenario, the encoder is used to map the data to the feature space, perform the clustering and evaluate the quality of it using the ground truth. "
      ]
    },
    {
      "cell_type": "code",
      "metadata": {
        "colab_type": "code",
        "id": "VygZMrGJV0qr",
        "colab": {}
      },
      "source": [
        "# Map data to the feature space\n",
        "mapped_data = conv_encoder.predict(x_train)\n",
        "# K-means with 10 clusters\n",
        "km = KMeans(n_clusters=k) # k is 10 for MNIST\n",
        "km.fit(mapped_data)\n",
        "# Map the test data to the feature space\n",
        "mapped_data = conv_encoder.predict(x_test)\n",
        "# idx stores the cluster membership of the test data\n",
        "idx = km.predict(mapped_data)"
      ],
      "execution_count": 0,
      "outputs": []
    },
    {
      "cell_type": "code",
      "metadata": {
        "colab_type": "code",
        "outputId": "84c1948b-8760-4f17-ad0c-d328f32a2692",
        "id": "Od6w9WbYV0qt",
        "colab": {
          "base_uri": "https://localhost:8080/",
          "height": 34
        }
      },
      "source": [
        "# Match the clustering membership to the predicted labels\n",
        "labels = np.zeros_like(idx)\n",
        "for i in range(k):\n",
        "  mask = (idx == i)\n",
        "  labels[mask] = mode(y_test[mask])[0]\n",
        "acc = accuracy_score(y_test, labels)\n",
        "print(\"The accuracy of clustering is \", acc)  "
      ],
      "execution_count": 136,
      "outputs": [
        {
          "output_type": "stream",
          "text": [
            "The accuracy of clustering is  0.8862\n"
          ],
          "name": "stdout"
        }
      ]
    },
    {
      "cell_type": "markdown",
      "metadata": {
        "id": "FSrZYi8Xskl4",
        "colab_type": "text"
      },
      "source": [
        "It can be observed that the accuracy is significantly increased when the convolutional autoencoder is used instead of the simple one. This is because the convolution operations make it possible to create more expressive features, which results in a better quality of the clustering. Note that the result will be different though if the initial preprocessing on the images is not performed.\n",
        "\n",
        "To comapre the results visually, again tSNE is used embed the data in a 2D representation."
      ]
    },
    {
      "cell_type": "code",
      "metadata": {
        "colab_type": "code",
        "id": "crwyHNPIV0qy",
        "colab": {}
      },
      "source": [
        "# Map the sample data using the convolutional encoder\n",
        "data = np.append(km.cluster_centers_,mapped_data[ix],axis=0)\n",
        "tsne = TSNE(n_components=2)\n",
        "conv_z = tsne.fit_transform(data)"
      ],
      "execution_count": 0,
      "outputs": []
    },
    {
      "cell_type": "code",
      "metadata": {
        "colab_type": "code",
        "outputId": "b4d64506-13c5-4e63-df15-0cdd7dac76b2",
        "id": "wndvr9NxV0q2",
        "colab": {
          "base_uri": "https://localhost:8080/",
          "height": 462
        }
      },
      "source": [
        "# Plot the ground truth data vs the predicted clusters\n",
        "cn = len(km.cluster_centers_)\n",
        "f = plt.figure(figsize=(10,7))\n",
        "\n",
        "# Plotting old results for comparison\n",
        "ax1 = f.add_subplot(221)\n",
        "ax1.title.set_text(\"Simple: Ground truth labels\")\n",
        "ax1.scatter(z[cn:,0],z[cn:,1],c=y_test[ix])\n",
        "ax1.scatter(z[:cn,0],z[:cn,1],c='r',marker='+')\n",
        "# Predictions\n",
        "ax2 = f.add_subplot(222)\n",
        "ax2.title.set_text(\"Predicted labels\")\n",
        "ax2.scatter(z[cn:,0],z[cn:,1],c=labels[ix])\n",
        "ax2.scatter(z[:cn,0],z[:cn,1],c='r',marker='+')\n",
        "\n",
        "# Plotting new results\n",
        "ax1 = f.add_subplot(223)\n",
        "ax1.title.set_text(\"Convolutional: Ground truth labels\")\n",
        "ax1.scatter(conv_z[cn:,0],conv_z[cn:,1],c=y_test[ix])\n",
        "ax1.scatter(conv_z[:cn,0],conv_z[:cn,1],c='r',marker='+')\n",
        "# Predictions\n",
        "ax2 = f.add_subplot(224)\n",
        "ax2.title.set_text(\"Predicted labels\")\n",
        "ax2.scatter(conv_z[cn:,0],conv_z[cn:,1],c=labels[ix])\n",
        "ax2.scatter(conv_z[:cn,0],conv_z[:cn,1],c='r',marker='+')\n"
      ],
      "execution_count": 138,
      "outputs": [
        {
          "output_type": "execute_result",
          "data": {
            "text/plain": [
              "<matplotlib.collections.PathCollection at 0x7f53dc8c0cf8>"
            ]
          },
          "metadata": {
            "tags": []
          },
          "execution_count": 138
        },
        {
          "output_type": "display_data",
          "data": {
            "image/png": "iVBORw0KGgoAAAANSUhEUgAAAlgAAAGrCAYAAAAciOn2AAAABHNCSVQICAgIfAhkiAAAAAlwSFlz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\n9Bgz27mJSU/FoTqZGHd0w/X9w5/lp6JvyHJtpNxXitdo
